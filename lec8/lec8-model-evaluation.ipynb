{
 "cells": [
  {
   "cell_type": "code",
   "execution_count": 3,
   "metadata": {},
   "outputs": [],
   "source": [
    "import seaborn as sns\n",
    "import numpy as np\n",
    "import matplotlib.pyplot as plt\n",
    "import pandas as pd\n",
    "\n",
    "%matplotlib inline\n",
    "\n",
    "plt.rcParams['figure.figsize'] = (4, 4)\n",
    "plt.rcParams['figure.dpi'] = 150\n",
    "plt.rcParams['lines.linewidth'] = 3\n",
    "sns.set()"
   ]
  },
  {
   "cell_type": "code",
   "execution_count": 4,
   "metadata": {},
   "outputs": [],
   "source": [
    "df = sns.load_dataset(\"titanic\")\n",
    "df = df[[\"age\", \"fare\", \"pclass\", \"sex\", \"survived\"]]\n",
    "df = df.dropna()\n",
    "df['sex'] = df['sex'].replace(\"male\", 0)\n",
    "df['sex'] = df['sex'].replace(\"female\", 1)\n",
    "np.random.seed(23)\n",
    "df_train, df_test = np.split(df, [600])"
   ]
  },
  {
   "cell_type": "code",
   "execution_count": 5,
   "metadata": {},
   "outputs": [
    {
     "data": {
      "text/plain": [
       "GridSearchCV(cv=10, error_score=nan,\n",
       "             estimator=DecisionTreeClassifier(ccp_alpha=0.0, class_weight=None,\n",
       "                                              criterion='gini', max_depth=None,\n",
       "                                              max_features=None,\n",
       "                                              max_leaf_nodes=None,\n",
       "                                              min_impurity_decrease=0.0,\n",
       "                                              min_impurity_split=None,\n",
       "                                              min_samples_leaf=1,\n",
       "                                              min_samples_split=2,\n",
       "                                              min_weight_fraction_leaf=0.0,\n",
       "                                              presort='deprecated',\n",
       "                                              random_state=None,\n",
       "                                              splitter='best'),\n",
       "             iid='deprecated', n_jobs=None,\n",
       "             param_grid={'min_impurity_decrease': [0, 0.01, 0.02, 0.05, 0.1]},\n",
       "             pre_dispatch='2*n_jobs', refit=True, return_train_score=False,\n",
       "             scoring=None, verbose=0)"
      ]
     },
     "execution_count": 5,
     "metadata": {},
     "output_type": "execute_result"
    }
   ],
   "source": [
    "from sklearn.tree import DecisionTreeClassifier\n",
    "from sklearn.model_selection import GridSearchCV\n",
    "\n",
    "decision_tree = DecisionTreeClassifier()\n",
    "parameters = {'min_impurity_decrease': [0, 0.01, 0.02, 0.05, 0.1]}\n",
    "\n",
    "cv_model_finder = GridSearchCV(decision_tree, parameters, cv=10)\n",
    "cv_model_finder.fit(df_train[[\"age\", \"fare\", \"pclass\", \"sex\"]], df_train[\"survived\"])"
   ]
  },
  {
   "cell_type": "markdown",
   "metadata": {},
   "source": [
    "Model is 4D so we can't visualize it. However, we can assess its accuracy."
   ]
  },
  {
   "cell_type": "code",
   "execution_count": 6,
   "metadata": {},
   "outputs": [],
   "source": [
    "random_forest_predictions = cv_model_finder.best_estimator_.predict(df_train[[\"age\", \"fare\", \"pclass\", \"sex\"]])"
   ]
  },
  {
   "cell_type": "code",
   "execution_count": 7,
   "metadata": {},
   "outputs": [
    {
     "data": {
      "text/plain": [
       "0.7916666666666666"
      ]
     },
     "execution_count": 7,
     "metadata": {},
     "output_type": "execute_result"
    }
   ],
   "source": [
    "from sklearn.metrics import accuracy_score\n",
    "accuracy_score(df_train[\"survived\"], random_forest_predictions)"
   ]
  },
  {
   "cell_type": "code",
   "execution_count": 8,
   "metadata": {},
   "outputs": [],
   "source": [
    "from sklearn.metrics import confusion_matrix"
   ]
  },
  {
   "cell_type": "code",
   "execution_count": 19,
   "metadata": {},
   "outputs": [],
   "source": [
    "cm_rf = confusion_matrix(df_train[\"survived\"], random_forest_predictions)"
   ]
  },
  {
   "cell_type": "code",
   "execution_count": 51,
   "metadata": {},
   "outputs": [
    {
     "data": {
      "text/plain": [
       "array([[349,   7],\n",
       "       [118, 126]])"
      ]
     },
     "execution_count": 51,
     "metadata": {},
     "output_type": "execute_result"
    }
   ],
   "source": [
    "cm_rf"
   ]
  },
  {
   "cell_type": "code",
   "execution_count": 53,
   "metadata": {
    "scrolled": true
   },
   "outputs": [
    {
     "data": {
      "image/png": "[encoded data removed]",
      "text/plain": [
       "<Figure size 432x288 with 2 Axes>"
      ]
     },
     "metadata": {},
     "output_type": "display_data"
    }
   ],
   "source": [
    "sns.heatmap(cm_rf, annot=True, fmt = \"d\", cmap = \"Blues\", annot_kws={\"size\": 16})\n",
    "plt.ylabel('True')\n",
    "plt.xlabel('Predicted');"
   ]
  },
  {
   "cell_type": "markdown",
   "metadata": {},
   "source": [
    "Above, we see four different values. \n",
    "\n",
    "1. Top left: True negatives. Model correctly predicts person died.\n",
    "2. Top right: False negatives: Model predicts person would survive, but the person died.\n",
    "3. Bottom left: False positives: Model predicts person would die, but the person survived.\n",
    "4. Bottom right: True positive: Model correctly predicts the person survived.\n",
    "\n",
    "The model has a strikingly low number of false negatives."
   ]
  },
  {
   "cell_type": "markdown",
   "metadata": {},
   "source": [
    "Let's compare this to a Logistic Regression model."
   ]
  },
  {
   "cell_type": "code",
   "execution_count": null,
   "metadata": {},
   "outputs": [],
   "source": [
    "from sklearn.linear_model import LogisticRegressionCV\n",
    "logistic_regression_model = Pipeline([        \n",
    "    ('scale', StandardScaler()),        \n",
    "    ('poly', PolynomialFeatures(degree=2)),\n",
    "    ('model', LogisticRegressionCV(Cs = 10**np.linspace(-7, 5, 100)))\n",
    "])  \n",
    "logistic_regression_model.fit(df_train[[\"fare\", \"age\", \"pclass\",  \"sex\"]], df_train[\"survived\"])"
   ]
  },
  {
   "cell_type": "code",
   "execution_count": null,
   "metadata": {},
   "outputs": [],
   "source": []
  },
  {
   "cell_type": "code",
   "execution_count": null,
   "metadata": {},
   "outputs": [],
   "source": []
  },
  {
   "cell_type": "code",
   "execution_count": null,
   "metadata": {},
   "outputs": [],
   "source": []
  },
  {
   "cell_type": "code",
   "execution_count": null,
   "metadata": {},
   "outputs": [],
   "source": []
  },
  {
   "cell_type": "markdown",
   "metadata": {},
   "source": [
    "### Depcrecated"
   ]
  },
  {
   "cell_type": "markdown",
   "metadata": {},
   "source": [
    "Two key measures derived from these numbers:\n",
    "\n",
    "**True positive rate:** 126/(126+118) = 51% [also called the \"recall\" or \"sensitivity\" or \"probability of detection\"]\n",
    "\n",
    "Out of the 244 who survived in our training set, our model is able to correctly identify 51% of them. Or in other words, for a given person who survived, our model identifies them correctly 51% of the time. Our model's sensitivity is quite poor (about as bad as guessing).\n",
    "\n",
    "**True negative rate:** 349/(349+7) = 98% [also called the \"specificity\"]\n",
    "\n",
    "Out of the 356 who died in our training set, our model is able to correctly identify 98% of them. Or in other words, for a given person who died, our model identifies them correctly 98% of the time.\n",
    "\n",
    "\n",
    "\n",
    "\n",
    "no almost always right when it predicts that someone would survive, but when #it predicts someone would die, the odds are actually 50/50.\n",
    "\n",
    "no Our model has very high specificity. If the model predicts you will survive, you can feel pretty confident you actually would. However, if it predicts you will die, you don't get very much information at all."
   ]
  },
  {
   "cell_type": "markdown",
   "metadata": {},
   "source": [
    "#### Logistic Regression Model"
   ]
  },
  {
   "cell_type": "code",
   "execution_count": 34,
   "metadata": {},
   "outputs": [
    {
     "data": {
      "text/plain": [
       "GridSearchCV(cv=10, error_score=nan,\n",
       "             estimator=Pipeline(memory=None,\n",
       "                                steps=[('scale',\n",
       "                                        StandardScaler(copy=True,\n",
       "                                                       with_mean=True,\n",
       "                                                       with_std=True)),\n",
       "                                       ('poly',\n",
       "                                        PolynomialFeatures(degree=2,\n",
       "                                                           include_bias=True,\n",
       "                                                           interaction_only=False,\n",
       "                                                           order='C')),\n",
       "                                       ('model',\n",
       "                                        LogisticRegression(C=1.0,\n",
       "                                                           class_weight=None,\n",
       "                                                           dual=False,\n",
       "                                                           fit_intercept=True,\n",
       "                                                           intercept_scaling=1,\n",
       "                                                           l1_ratio=None,\n",
       "                                                           max_ite...\n",
       "       4.97702356e+02, 6.57933225e+02, 8.69749003e+02, 1.14975700e+03,\n",
       "       1.51991108e+03, 2.00923300e+03, 2.65608778e+03, 3.51119173e+03,\n",
       "       4.64158883e+03, 6.13590727e+03, 8.11130831e+03, 1.07226722e+04,\n",
       "       1.41747416e+04, 1.87381742e+04, 2.47707636e+04, 3.27454916e+04,\n",
       "       4.32876128e+04, 5.72236766e+04, 7.56463328e+04, 1.00000000e+05])},\n",
       "             pre_dispatch='2*n_jobs', refit=True, return_train_score=False,\n",
       "             scoring=None, verbose=0)"
      ]
     },
     "execution_count": 34,
     "metadata": {},
     "output_type": "execute_result"
    }
   ],
   "source": [
    "from sklearn.linear_model import LogisticRegression\n",
    "from sklearn.pipeline import Pipeline\n",
    "from sklearn.preprocessing import PolynomialFeatures\n",
    "from sklearn.preprocessing import StandardScaler\n",
    "\n",
    "logistic_regression_model_core = Pipeline([        \n",
    "    ('scale', StandardScaler()),        \n",
    "    ('poly', PolynomialFeatures(degree=2)),\n",
    "    ('model', LogisticRegression())\n",
    "])  \n",
    "\n",
    "params = {\n",
    "    \"model__C\": 10**np.linspace(-7, 5, 100)\n",
    "}\n",
    "\n",
    "gridsearcher = GridSearchCV(estimator = logistic_regression_model_core,\n",
    "             param_grid = params,\n",
    "             cv = 10)\n",
    "\n",
    "gridsearcher.fit(df_train[[\"fare\", \"age\", \"pclass\",  \"sex\"]], df_train[\"survived\"])"
   ]
  },
  {
   "cell_type": "code",
   "execution_count": 35,
   "metadata": {},
   "outputs": [],
   "source": [
    "logistic_regression_predictions_dr = gridsearcher.best_estimator_.predict(df_train[[\"age\", \"fare\", \"pclass\", \"sex\"]])"
   ]
  },
  {
   "cell_type": "code",
   "execution_count": 36,
   "metadata": {},
   "outputs": [
    {
     "data": {
      "text/plain": [
       "Pipeline(memory=None,\n",
       "         steps=[('scale',\n",
       "                 StandardScaler(copy=True, with_mean=True, with_std=True)),\n",
       "                ('poly',\n",
       "                 PolynomialFeatures(degree=2, include_bias=True,\n",
       "                                    interaction_only=False, order='C')),\n",
       "                ('model',\n",
       "                 LogisticRegressionCV(Cs=array([1.00000000e-07, 1.32194115e-07, 1.74752840e-07, 2.31012970e-07,\n",
       "       3.05385551e-07, 4.03701726e-07, 5.33669923e-07, 7.05480231e-07,\n",
       "       9.326033...\n",
       "       1.41747416e+04, 1.87381742e+04, 2.47707636e+04, 3.27454916e+04,\n",
       "       4.32876128e+04, 5.72236766e+04, 7.56463328e+04, 1.00000000e+05]),\n",
       "                                      class_weight=None, cv=None, dual=False,\n",
       "                                      fit_intercept=True, intercept_scaling=1.0,\n",
       "                                      l1_ratios=None, max_iter=100,\n",
       "                                      multi_class='auto', n_jobs=None,\n",
       "                                      penalty='l2', random_state=None,\n",
       "                                      refit=True, scoring=None, solver='lbfgs',\n",
       "                                      tol=0.0001, verbose=0))],\n",
       "         verbose=False)"
      ]
     },
     "execution_count": 36,
     "metadata": {},
     "output_type": "execute_result"
    }
   ],
   "source": [
    "from sklearn.linear_model import LogisticRegressionCV\n",
    "logistic_regression_model = Pipeline([        \n",
    "    ('scale', StandardScaler()),        \n",
    "    ('poly', PolynomialFeatures(degree=2)),\n",
    "    ('model', LogisticRegressionCV(Cs = 10**np.linspace(-7, 5, 100)))\n",
    "])  \n",
    "logistic_regression_model.fit(df_train[[\"fare\", \"age\", \"pclass\",  \"sex\"]], df_train[\"survived\"])"
   ]
  },
  {
   "cell_type": "code",
   "execution_count": 37,
   "metadata": {},
   "outputs": [],
   "source": [
    "logistic_regression_predictions = logistic_regression_model.predict(df_train[[\"age\", \"fare\", \"pclass\", \"sex\"]])"
   ]
  },
  {
   "cell_type": "code",
   "execution_count": 38,
   "metadata": {
    "scrolled": true
   },
   "outputs": [
    {
     "data": {
      "text/plain": [
       "0.7983333333333333"
      ]
     },
     "execution_count": 38,
     "metadata": {},
     "output_type": "execute_result"
    }
   ],
   "source": [
    "from sklearn.metrics import accuracy_score\n",
    "accuracy_score(df_train[\"survived\"], logistic_regression_predictions)"
   ]
  },
  {
   "cell_type": "code",
   "execution_count": 39,
   "metadata": {},
   "outputs": [],
   "source": [
    "cm_lr = confusion_matrix(df_train[\"survived\"], logistic_regression_predictions)"
   ]
  },
  {
   "cell_type": "code",
   "execution_count": 40,
   "metadata": {},
   "outputs": [
    {
     "data": {
      "text/plain": [
       "Text(0.5, 12.5, 'True')"
      ]
     },
     "execution_count": 40,
     "metadata": {},
     "output_type": "execute_result"
    },
    {
     "data": {
      "image/png": "[encoded data removed]",
      "text/plain": [
       "<Figure size 432x288 with 2 Axes>"
      ]
     },
     "metadata": {},
     "output_type": "display_data"
    }
   ],
   "source": [
    "sns.heatmap(cm_lr, annot=True, fmt = \"d\", cmap = \"Blues\", annot_kws={\"size\": 16})\n",
    "plt.ylabel('Predicted')\n",
    "plt.xlabel('True')"
   ]
  },
  {
   "cell_type": "markdown",
   "metadata": {},
   "source": [
    "While the two predictors have similar accuracy, they have quite different confusion matrices.\n",
    "\n",
    "We can compute specificity (true negative rate) an recall (true positive rate) as:\n",
    "1. 313/(313+43) = 88% specificity\n",
    "2. 166/(166+78) = 68% recall"
   ]
  },
  {
   "cell_type": "code",
   "execution_count": null,
   "metadata": {},
   "outputs": [],
   "source": []
  },
  {
   "cell_type": "code",
   "execution_count": null,
   "metadata": {},
   "outputs": [],
   "source": []
  },
  {
   "cell_type": "code",
   "execution_count": null,
   "metadata": {},
   "outputs": [],
   "source": []
  },
  {
   "cell_type": "code",
   "execution_count": null,
   "metadata": {},
   "outputs": [],
   "source": []
  },
  {
   "cell_type": "code",
   "execution_count": null,
   "metadata": {},
   "outputs": [],
   "source": []
  },
  {
   "cell_type": "code",
   "execution_count": null,
   "metadata": {},
   "outputs": [],
   "source": []
  },
  {
   "cell_type": "code",
   "execution_count": null,
   "metadata": {},
   "outputs": [],
   "source": []
  },
  {
   "cell_type": "markdown",
   "metadata": {},
   "source": [
    "Quick check to see how things work if you do gridsearch (which is better)"
   ]
  },
  {
   "cell_type": "code",
   "execution_count": 42,
   "metadata": {
    "scrolled": true
   },
   "outputs": [
    {
     "data": {
      "text/plain": [
       "Text(0.5, 12.5, 'True')"
      ]
     },
     "execution_count": 42,
     "metadata": {},
     "output_type": "execute_result"
    },
    {
     "data": {
      "image/png": "[encoded data removed]",
      "text/plain": [
       "<Figure size 432x288 with 2 Axes>"
      ]
     },
     "metadata": {},
     "output_type": "display_data"
    }
   ],
   "source": [
    "cm_lr_dr = confusion_matrix(df_train[\"survived\"], logistic_regression_predictions_dr)\n",
    "sns.heatmap(cm_lr_dr, annot=True, fmt = \"d\", cmap = \"Blues\", annot_kws={\"size\": 16})\n",
    "plt.ylabel('Predicted')\n",
    "plt.xlabel('True')"
   ]
  },
  {
   "cell_type": "markdown",
   "metadata": {},
   "source": [
    "Just a quick check to see if doing it right really matters on the test set"
   ]
  },
  {
   "cell_type": "code",
   "execution_count": 47,
   "metadata": {},
   "outputs": [
    {
     "data": {
      "text/plain": [
       "Text(0.5, 12.5, 'True')"
      ]
     },
     "execution_count": 47,
     "metadata": {},
     "output_type": "execute_result"
    },
    {
     "data": {
      "image/png": "[encoded data removed]",
      "text/plain": [
       "<Figure size 432x288 with 2 Axes>"
      ]
     },
     "metadata": {},
     "output_type": "display_data"
    }
   ],
   "source": [
    "logistic_regression_predictions_dr = gridsearcher.best_estimator_.predict(df_test[[\"age\", \"fare\", \"pclass\", \"sex\"]])\n",
    "cm_lr_dr = confusion_matrix(df_test[\"survived\"], logistic_regression_predictions_dr)\n",
    "sns.heatmap(cm_lr_dr, annot=True, fmt = \"d\", cmap = \"Blues\", annot_kws={\"size\": 16})\n",
    "plt.ylabel('Predicted')\n",
    "plt.xlabel('True')"
   ]
  },
  {
   "cell_type": "code",
   "execution_count": 48,
   "metadata": {},
   "outputs": [
    {
     "data": {
      "text/plain": [
       "Text(0.5, 12.5, 'True')"
      ]
     },
     "execution_count": 48,
     "metadata": {},
     "output_type": "execute_result"
    },
    {
     "data": {
      "image/png": "[encoded data removed]",
      "text/plain": [
       "<Figure size 432x288 with 2 Axes>"
      ]
     },
     "metadata": {},
     "output_type": "display_data"
    }
   ],
   "source": [
    "logistic_regression_predictions = logistic_regression_model.predict(df_test[[\"age\", \"fare\", \"pclass\", \"sex\"]])\n",
    "cm_lr = confusion_matrix(df_test[\"survived\"], logistic_regression_predictions)\n",
    "sns.heatmap(cm_lr, annot=True, fmt = \"d\", cmap = \"Blues\", annot_kws={\"size\": 16})\n",
    "plt.ylabel('Predicted')\n",
    "plt.xlabel('True')"
   ]
  },
  {
   "cell_type": "markdown",
   "metadata": {},
   "source": [
    "#### Or alternately, a logistic regression model"
   ]
  },
  {
   "cell_type": "code",
   "execution_count": 15,
   "metadata": {},
   "outputs": [],
   "source": [
    "from sklearn.linear_model import LogisticRegression\n",
    "from sklearn.pipeline import Pipeline\n",
    "from sklearn.preprocessing import PolynomialFeatures\n",
    "from sklearn.preprocessing import StandardScaler"
   ]
  },
  {
   "cell_type": "code",
   "execution_count": 16,
   "metadata": {},
   "outputs": [],
   "source": [
    "tiny_c_model_fit_intercept_false = Pipeline([        \n",
    "    ('scale', StandardScaler()),        \n",
    "    ('poly', PolynomialFeatures(degree=2)),\n",
    "    ('model', LogisticRegression(fit_intercept = False, C = 1e-8))\n",
    "])   \n",
    "tiny_c_model_fit_intercept_false.fit(df_train[[\"fare\", \"age\", \"pclass\",  \"sex\"]], \n",
    "                                df_train[\"survived\"]);"
   ]
  },
  {
   "cell_type": "code",
   "execution_count": 18,
   "metadata": {},
   "outputs": [],
   "source": [
    "tiny_c_model_fit_intercept_true = Pipeline([        \n",
    "    ('scale', StandardScaler()),        \n",
    "    ('poly', PolynomialFeatures(degree=2)),\n",
    "    ('model', LogisticRegression(fit_intercept = True, C = 1e-8))\n",
    "])   \n",
    "tiny_c_model_fit_intercept_true.fit(df_train[[\"fare\", \"age\", \"pclass\",  \"sex\"]], \n",
    "                                df_train[\"survived\"]);"
   ]
  },
  {
   "cell_type": "code",
   "execution_count": 20,
   "metadata": {},
   "outputs": [
    {
     "data": {
      "text/plain": [
       "0.6883333333333334"
      ]
     },
     "execution_count": 20,
     "metadata": {},
     "output_type": "execute_result"
    }
   ],
   "source": [
    "from sklearn.metrics import accuracy_score\n",
    "accuracy_score(df_train[\"survived\"], \n",
    "               tiny_c_model_fit_intercept_false.predict(df_train[[\"age\", \"fare\", \"pclass\", \"sex\"]]))"
   ]
  },
  {
   "cell_type": "code",
   "execution_count": 21,
   "metadata": {},
   "outputs": [
    {
     "data": {
      "text/plain": [
       "0.5933333333333334"
      ]
     },
     "execution_count": 21,
     "metadata": {},
     "output_type": "execute_result"
    }
   ],
   "source": [
    "from sklearn.metrics import accuracy_score\n",
    "accuracy_score(df_train[\"survived\"], \n",
    "               tiny_c_model_fit_intercept_true.predict(df_train[[\"age\", \"fare\", \"pclass\", \"sex\"]]))"
   ]
  },
  {
   "cell_type": "code",
   "execution_count": null,
   "metadata": {},
   "outputs": [],
   "source": []
  },
  {
   "cell_type": "code",
   "execution_count": null,
   "metadata": {},
   "outputs": [],
   "source": []
  },
  {
   "cell_type": "code",
   "execution_count": null,
   "metadata": {},
   "outputs": [],
   "source": [
    "from sklearn.model_selection import GridSearchCV\n",
    "parameters = {'min_impurity_decrease': [0, 0.01, 0.02, 0.05, 0.1]}\n",
    "mindwg_decision_tree = tree.DecisionTreeClassifier()\n",
    "cv_model_finder = GridSearchCV(mindwg_decision_tree, parameters, cv=10)\n",
    "cv_model_finder.fit(train_iris_data[[\"sepal_length\", \"sepal_width\"]], train_iris_data[\"species\"])"
   ]
  },
  {
   "cell_type": "code",
   "execution_count": null,
   "metadata": {},
   "outputs": [],
   "source": [
    "p1a_df = df[[\"survived\", \"age\"]].copy()\n",
    "p1a_df = p1a_df.dropna() # drop entries with missing data\n",
    "p1a_df = p1a_df.sort_values(\"age\") # sort data by age, which will make it easier to plot the data nicely"
   ]
  },
  {
   "cell_type": "code",
   "execution_count": null,
   "metadata": {},
   "outputs": [],
   "source": []
  },
  {
   "cell_type": "code",
   "execution_count": null,
   "metadata": {},
   "outputs": [],
   "source": [
    "from sklearn.metrics import confusion_matrix"
   ]
  },
  {
   "cell_type": "code",
   "execution_count": null,
   "metadata": {},
   "outputs": [],
   "source": [
    "cm = confusion_matrix(training_reality, training_predictions)"
   ]
  },
  {
   "cell_type": "code",
   "execution_count": null,
   "metadata": {},
   "outputs": [],
   "source": [
    "sns.heatmap(cm, annot=True, fmt = \"d\", cmap = \"Blues\", annot_kws={\"size\": 16})\n",
    "plt.ylabel('Predicted')\n",
    "plt.xlabel('True')"
   ]
  },
  {
   "cell_type": "code",
   "execution_count": null,
   "metadata": {},
   "outputs": [],
   "source": [
    "cm_test = confusion_matrix(test_reality, test_predictions)"
   ]
  },
  {
   "cell_type": "code",
   "execution_count": null,
   "metadata": {},
   "outputs": [],
   "source": [
    "sns.heatmap(cm_test, annot=True, fmt = \"d\", cmap = \"Blues\", annot_kws={\"size\": 16})\n",
    "plt.ylabel('Predicted')\n",
    "plt.xlabel('True')"
   ]
  },
  {
   "cell_type": "code",
   "execution_count": null,
   "metadata": {},
   "outputs": [],
   "source": [
    "cm_test = confusion_matrix(test_reality, test_predictions)"
   ]
  },
  {
   "cell_type": "code",
   "execution_count": null,
   "metadata": {},
   "outputs": [],
   "source": [
    "# precision recall"
   ]
  },
  {
   "cell_type": "code",
   "execution_count": null,
   "metadata": {},
   "outputs": [],
   "source": [
    "training_predictions = p3c_model.predict_proba(p3_train[[\"fare\", \"age\", \"pclass\",  \"sex\"]])[:, 1]"
   ]
  },
  {
   "cell_type": "code",
   "execution_count": null,
   "metadata": {},
   "outputs": [],
   "source": [
    "def compute_TPR_FPR(y_obs, y_hat):\n",
    "    TP = sum((y_obs == y_hat) & (y_obs == 1))\n",
    "    FN = sum((y_obs != y_hat) & (y_obs == 1))\n",
    "    TPR = TP / (TP + FN)\n",
    "    \n",
    "    TN = sum((y_obs == y_hat) & (y_obs == 0))\n",
    "    FP = sum((y_obs != y_hat) & (y_obs == 0))\n",
    "    FPR = FP / (FP + TN)\n",
    "       \n",
    "    return TPR, FPR"
   ]
  },
  {
   "cell_type": "code",
   "execution_count": null,
   "metadata": {},
   "outputs": [],
   "source": [
    "def compute_model_TPR_FPR(ps, y_obs, threshold):    \n",
    "    y_hat = ps > threshold    \n",
    "    return compute_TPR_FPR(y_obs, y_hat)"
   ]
  },
  {
   "cell_type": "code",
   "execution_count": null,
   "metadata": {},
   "outputs": [],
   "source": [
    "compute_model_TPR_FPR(training_predictions, p3_train[\"survived\"], 0.5)"
   ]
  },
  {
   "cell_type": "code",
   "execution_count": null,
   "metadata": {},
   "outputs": [],
   "source": [
    "def print_model_TPR_FPR(ps, y_obs, threshold):\n",
    "    TPR, FPR = compute_model_TPR_FPR(ps, y_obs, threshold)\n",
    "    print(f'TPR: {TPR * 100:.1f}%, FPR: {FPR * 100:.1f}%')"
   ]
  },
  {
   "cell_type": "code",
   "execution_count": null,
   "metadata": {},
   "outputs": [],
   "source": [
    "print_model_TPR_FPR(training_predictions, p3_train[\"survived\"], 0.5)"
   ]
  },
  {
   "cell_type": "code",
   "execution_count": null,
   "metadata": {},
   "outputs": [],
   "source": [
    "thresholds = np.linspace(0, 1, 101)\n",
    "TPRs_best_model = []\n",
    "FPRs_best_model = []\n",
    "for threshold in thresholds:\n",
    "    TPR, FPR = compute_model_TPR_FPR(training_predictions, p3_train[\"survived\"], threshold)\n",
    "    TPRs_best_model.append(TPR)\n",
    "    FPRs_best_model.append(FPR)\n",
    "\n",
    "plt.plot(FPRs_best_model, TPRs_best_model)\n",
    "plt.xlabel('False Positive Rate')\n",
    "plt.ylabel('True Positive Rate')\n",
    "plt.title('ROC Curve for Training Data');"
   ]
  },
  {
   "cell_type": "code",
   "execution_count": null,
   "metadata": {},
   "outputs": [],
   "source": [
    "test_predictions = p3c_model.predict_proba(p3_test[[\"fare\", \"age\", \"pclass\",  \"sex\"]])[:, 1]"
   ]
  },
  {
   "cell_type": "code",
   "execution_count": null,
   "metadata": {},
   "outputs": [],
   "source": [
    "thresholds = np.linspace(0, 1, 101)\n",
    "TPRs_best_model = []\n",
    "FPRs_best_model = []\n",
    "for threshold in thresholds:\n",
    "    TPR, FPR = compute_model_TPR_FPR(test_predictions, p3_test[\"survived\"], threshold)\n",
    "    TPRs_best_model.append(TPR)\n",
    "    FPRs_best_model.append(FPR)\n",
    "\n",
    "plt.plot(FPRs_best_model, TPRs_best_model)\n",
    "plt.xlabel('False Positive Rate')\n",
    "plt.ylabel('True Positive Rate')\n",
    "plt.title('ROC Curve for Training Data');"
   ]
  },
  {
   "cell_type": "code",
   "execution_count": null,
   "metadata": {},
   "outputs": [],
   "source": []
  }
 ],
 "metadata": {
  "kernelspec": {
   "display_name": "Python 3",
   "language": "python",
   "name": "python3"
  },
  "language_info": {
   "codemirror_mode": {
    "name": "ipython",
    "version": 3
   },
   "file_extension": ".py",
   "mimetype": "text/x-python",
   "name": "python",
   "nbconvert_exporter": "python",
   "pygments_lexer": "ipython3",
   "version": "3.6.6"
  }
 },
 "nbformat": 4,
 "nbformat_minor": 2
}
