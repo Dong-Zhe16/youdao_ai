{
 "cells": [
  {
   "cell_type": "code",
   "execution_count": 7,
   "metadata": {},
   "outputs": [],
   "source": [
    "import seaborn as sns\n",
    "import numpy as np\n",
    "import matplotlib.pyplot as plt\n",
    "import pandas as pd\n",
    "\n",
    "%matplotlib inline\n",
    "\n",
    "plt.rcParams['figure.figsize'] = (4, 4)\n",
    "plt.rcParams['figure.dpi'] = 150\n",
    "plt.rcParams['lines.linewidth'] = 3\n",
    "sns.set()"
   ]
  },
  {
   "cell_type": "code",
   "execution_count": 8,
   "metadata": {},
   "outputs": [],
   "source": [
    "df = sns.load_dataset(\"titanic\")\n",
    "df = df[[\"age\", \"fare\", \"pclass\", \"sex\", \"survived\"]]\n",
    "df = df.dropna()\n",
    "df['sex'] = df['sex'].replace(\"male\", 0)\n",
    "df['sex'] = df['sex'].replace(\"female\", 1)\n",
    "np.random.seed(23)\n",
    "df_train, df_test = np.split(df, [600])"
   ]
  },
  {
   "cell_type": "code",
   "execution_count": 10,
   "metadata": {},
   "outputs": [
    {
     "data": {
      "text/plain": [
       "GridSearchCV(cv=10, error_score=nan,\n",
       "             estimator=DecisionTreeClassifier(ccp_alpha=0.0, class_weight=None,\n",
       "                                              criterion='gini', max_depth=None,\n",
       "                                              max_features=None,\n",
       "                                              max_leaf_nodes=None,\n",
       "                                              min_impurity_decrease=0.0,\n",
       "                                              min_impurity_split=None,\n",
       "                                              min_samples_leaf=1,\n",
       "                                              min_samples_split=2,\n",
       "                                              min_weight_fraction_leaf=0.0,\n",
       "                                              presort='deprecated',\n",
       "                                              random_state=None,\n",
       "                                              splitter='best'),\n",
       "             iid='deprecated', n_jobs=None,\n",
       "             param_grid={'min_impurity_decrease': [0, 0.01, 0.02, 0.05, 0.1]},\n",
       "             pre_dispatch='2*n_jobs', refit=True, return_train_score=False,\n",
       "             scoring=None, verbose=0)"
      ]
     },
     "execution_count": 10,
     "metadata": {},
     "output_type": "execute_result"
    }
   ],
   "source": [
    "from sklearn.tree import DecisionTreeClassifier\n",
    "from sklearn.model_selection import GridSearchCV\n",
    "\n",
    "decision_tree = DecisionTreeClassifier()\n",
    "parameters = {'min_impurity_decrease': [0, 0.01, 0.02, 0.05, 0.1]}\n",
    "\n",
    "cv_model_finder = GridSearchCV(decision_tree, parameters, cv=10)\n",
    "cv_model_finder.fit(df_train[[\"age\", \"fare\", \"pclass\", \"sex\"]], df_train[\"survived\"])"
   ]
  },
  {
   "cell_type": "markdown",
   "metadata": {},
   "source": [
    "Model is 4D so we can't visualize it. However, we can assess its accuracy."
   ]
  },
  {
   "cell_type": "code",
   "execution_count": 13,
   "metadata": {},
   "outputs": [
    {
     "data": {
      "text/plain": [
       "0.7916666666666666"
      ]
     },
     "execution_count": 13,
     "metadata": {},
     "output_type": "execute_result"
    }
   ],
   "source": [
    "from sklearn.metrics import accuracy_score\n",
    "accuracy_score(df_train[\"survived\"], \n",
    "               cv_model_finder.best_estimator_.predict(df_train[[\"age\", \"fare\", \"pclass\", \"sex\"]]))"
   ]
  },
  {
   "cell_type": "code",
   "execution_count": 15,
   "metadata": {},
   "outputs": [],
   "source": [
    "from sklearn.linear_model import LogisticRegression\n",
    "from sklearn.pipeline import Pipeline\n",
    "from sklearn.preprocessing import PolynomialFeatures\n",
    "from sklearn.preprocessing import StandardScaler"
   ]
  },
  {
   "cell_type": "code",
   "execution_count": 16,
   "metadata": {},
   "outputs": [],
   "source": [
    "tiny_c_model_fit_intercept_false = Pipeline([        \n",
    "    ('scale', StandardScaler()),        \n",
    "    ('poly', PolynomialFeatures(degree=2)),\n",
    "    ('model', LogisticRegression(fit_intercept = False, C = 1e-8))\n",
    "])   \n",
    "tiny_c_model_fit_intercept_false.fit(df_train[[\"fare\", \"age\", \"pclass\",  \"sex\"]], \n",
    "                                df_train[\"survived\"]);"
   ]
  },
  {
   "cell_type": "code",
   "execution_count": 18,
   "metadata": {},
   "outputs": [],
   "source": [
    "tiny_c_model_fit_intercept_true = Pipeline([        \n",
    "    ('scale', StandardScaler()),        \n",
    "    ('poly', PolynomialFeatures(degree=2)),\n",
    "    ('model', LogisticRegression(fit_intercept = True, C = 1e-8))\n",
    "])   \n",
    "tiny_c_model_fit_intercept_true.fit(df_train[[\"fare\", \"age\", \"pclass\",  \"sex\"]], \n",
    "                                df_train[\"survived\"]);"
   ]
  },
  {
   "cell_type": "code",
   "execution_count": 20,
   "metadata": {},
   "outputs": [
    {
     "data": {
      "text/plain": [
       "0.6883333333333334"
      ]
     },
     "execution_count": 20,
     "metadata": {},
     "output_type": "execute_result"
    }
   ],
   "source": [
    "from sklearn.metrics import accuracy_score\n",
    "accuracy_score(df_train[\"survived\"], \n",
    "               tiny_c_model_fit_intercept_false.predict(df_train[[\"age\", \"fare\", \"pclass\", \"sex\"]]))"
   ]
  },
  {
   "cell_type": "code",
   "execution_count": 21,
   "metadata": {},
   "outputs": [
    {
     "data": {
      "text/plain": [
       "0.5933333333333334"
      ]
     },
     "execution_count": 21,
     "metadata": {},
     "output_type": "execute_result"
    }
   ],
   "source": [
    "from sklearn.metrics import accuracy_score\n",
    "accuracy_score(df_train[\"survived\"], \n",
    "               tiny_c_model_fit_intercept_true.predict(df_train[[\"age\", \"fare\", \"pclass\", \"sex\"]]))"
   ]
  },
  {
   "cell_type": "code",
   "execution_count": null,
   "metadata": {},
   "outputs": [],
   "source": []
  },
  {
   "cell_type": "code",
   "execution_count": null,
   "metadata": {},
   "outputs": [],
   "source": []
  },
  {
   "cell_type": "code",
   "execution_count": null,
   "metadata": {},
   "outputs": [],
   "source": [
    "from sklearn.model_selection import GridSearchCV\n",
    "parameters = {'min_impurity_decrease': [0, 0.01, 0.02, 0.05, 0.1]}\n",
    "mindwg_decision_tree = tree.DecisionTreeClassifier()\n",
    "cv_model_finder = GridSearchCV(mindwg_decision_tree, parameters, cv=10)\n",
    "cv_model_finder.fit(train_iris_data[[\"sepal_length\", \"sepal_width\"]], train_iris_data[\"species\"])"
   ]
  },
  {
   "cell_type": "code",
   "execution_count": null,
   "metadata": {},
   "outputs": [],
   "source": [
    "p1a_df = df[[\"survived\", \"age\"]].copy()\n",
    "p1a_df = p1a_df.dropna() # drop entries with missing data\n",
    "p1a_df = p1a_df.sort_values(\"age\") # sort data by age, which will make it easier to plot the data nicely"
   ]
  },
  {
   "cell_type": "code",
   "execution_count": null,
   "metadata": {},
   "outputs": [],
   "source": []
  },
  {
   "cell_type": "code",
   "execution_count": null,
   "metadata": {},
   "outputs": [],
   "source": [
    "from sklearn.metrics import confusion_matrix"
   ]
  },
  {
   "cell_type": "code",
   "execution_count": null,
   "metadata": {},
   "outputs": [],
   "source": [
    "cm = confusion_matrix(training_reality, training_predictions)"
   ]
  },
  {
   "cell_type": "code",
   "execution_count": null,
   "metadata": {},
   "outputs": [],
   "source": [
    "sns.heatmap(cm, annot=True, fmt = \"d\", cmap = \"Blues\", annot_kws={\"size\": 16})\n",
    "plt.ylabel('Predicted')\n",
    "plt.xlabel('True')"
   ]
  },
  {
   "cell_type": "code",
   "execution_count": null,
   "metadata": {},
   "outputs": [],
   "source": [
    "cm_test = confusion_matrix(test_reality, test_predictions)"
   ]
  },
  {
   "cell_type": "code",
   "execution_count": null,
   "metadata": {},
   "outputs": [],
   "source": [
    "sns.heatmap(cm_test, annot=True, fmt = \"d\", cmap = \"Blues\", annot_kws={\"size\": 16})\n",
    "plt.ylabel('Predicted')\n",
    "plt.xlabel('True')"
   ]
  },
  {
   "cell_type": "code",
   "execution_count": null,
   "metadata": {},
   "outputs": [],
   "source": [
    "cm_test = confusion_matrix(test_reality, test_predictions)"
   ]
  },
  {
   "cell_type": "code",
   "execution_count": null,
   "metadata": {},
   "outputs": [],
   "source": [
    "# precision recall"
   ]
  },
  {
   "cell_type": "code",
   "execution_count": null,
   "metadata": {},
   "outputs": [],
   "source": [
    "training_predictions = p3c_model.predict_proba(p3_train[[\"fare\", \"age\", \"pclass\",  \"sex\"]])[:, 1]"
   ]
  },
  {
   "cell_type": "code",
   "execution_count": null,
   "metadata": {},
   "outputs": [],
   "source": [
    "def compute_TPR_FPR(y_obs, y_hat):\n",
    "    TP = sum((y_obs == y_hat) & (y_obs == 1))\n",
    "    FN = sum((y_obs != y_hat) & (y_obs == 1))\n",
    "    TPR = TP / (TP + FN)\n",
    "    \n",
    "    TN = sum((y_obs == y_hat) & (y_obs == 0))\n",
    "    FP = sum((y_obs != y_hat) & (y_obs == 0))\n",
    "    FPR = FP / (FP + TN)\n",
    "       \n",
    "    return TPR, FPR"
   ]
  },
  {
   "cell_type": "code",
   "execution_count": null,
   "metadata": {},
   "outputs": [],
   "source": [
    "def compute_model_TPR_FPR(ps, y_obs, threshold):    \n",
    "    y_hat = ps > threshold    \n",
    "    return compute_TPR_FPR(y_obs, y_hat)"
   ]
  },
  {
   "cell_type": "code",
   "execution_count": null,
   "metadata": {},
   "outputs": [],
   "source": [
    "compute_model_TPR_FPR(training_predictions, p3_train[\"survived\"], 0.5)"
   ]
  },
  {
   "cell_type": "code",
   "execution_count": null,
   "metadata": {},
   "outputs": [],
   "source": [
    "def print_model_TPR_FPR(ps, y_obs, threshold):\n",
    "    TPR, FPR = compute_model_TPR_FPR(ps, y_obs, threshold)\n",
    "    print(f'TPR: {TPR * 100:.1f}%, FPR: {FPR * 100:.1f}%')"
   ]
  },
  {
   "cell_type": "code",
   "execution_count": null,
   "metadata": {},
   "outputs": [],
   "source": [
    "print_model_TPR_FPR(training_predictions, p3_train[\"survived\"], 0.5)"
   ]
  },
  {
   "cell_type": "code",
   "execution_count": null,
   "metadata": {},
   "outputs": [],
   "source": [
    "thresholds = np.linspace(0, 1, 101)\n",
    "TPRs_best_model = []\n",
    "FPRs_best_model = []\n",
    "for threshold in thresholds:\n",
    "    TPR, FPR = compute_model_TPR_FPR(training_predictions, p3_train[\"survived\"], threshold)\n",
    "    TPRs_best_model.append(TPR)\n",
    "    FPRs_best_model.append(FPR)\n",
    "\n",
    "plt.plot(FPRs_best_model, TPRs_best_model)\n",
    "plt.xlabel('False Positive Rate')\n",
    "plt.ylabel('True Positive Rate')\n",
    "plt.title('ROC Curve for Training Data');"
   ]
  },
  {
   "cell_type": "code",
   "execution_count": null,
   "metadata": {},
   "outputs": [],
   "source": [
    "test_predictions = p3c_model.predict_proba(p3_test[[\"fare\", \"age\", \"pclass\",  \"sex\"]])[:, 1]"
   ]
  },
  {
   "cell_type": "code",
   "execution_count": null,
   "metadata": {},
   "outputs": [],
   "source": [
    "thresholds = np.linspace(0, 1, 101)\n",
    "TPRs_best_model = []\n",
    "FPRs_best_model = []\n",
    "for threshold in thresholds:\n",
    "    TPR, FPR = compute_model_TPR_FPR(test_predictions, p3_test[\"survived\"], threshold)\n",
    "    TPRs_best_model.append(TPR)\n",
    "    FPRs_best_model.append(FPR)\n",
    "\n",
    "plt.plot(FPRs_best_model, TPRs_best_model)\n",
    "plt.xlabel('False Positive Rate')\n",
    "plt.ylabel('True Positive Rate')\n",
    "plt.title('ROC Curve for Training Data');"
   ]
  },
  {
   "cell_type": "code",
   "execution_count": null,
   "metadata": {},
   "outputs": [],
   "source": []
  }
 ],
 "metadata": {
  "kernelspec": {
   "display_name": "Python 3",
   "language": "python",
   "name": "python3"
  },
  "language_info": {
   "codemirror_mode": {
    "name": "ipython",
    "version": 3
   },
   "file_extension": ".py",
   "mimetype": "text/x-python",
   "name": "python",
   "nbconvert_exporter": "python",
   "pygments_lexer": "ipython3",
   "version": "3.6.4"
  }
 },
 "nbformat": 4,
 "nbformat_minor": 2
}
