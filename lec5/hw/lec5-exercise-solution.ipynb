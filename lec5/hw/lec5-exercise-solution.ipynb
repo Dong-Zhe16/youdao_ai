{
 "cells": [
  {
   "cell_type": "code",
   "execution_count": 67,
   "metadata": {},
   "outputs": [],
   "source": [
    "## import requests\n",
    "import os\n",
    "import pandas as pd\n",
    "import seaborn as sns\n",
    "import matplotlib.pyplot as plt\n",
    "import numpy as np\n",
    "\n",
    "%matplotlib inline\n",
    "\n",
    "plt.rcParams['figure.figsize'] = (4, 4)\n",
    "plt.rcParams['figure.dpi'] = 150\n",
    "plt.rcParams['lines.linewidth'] = 3\n",
    "sns.set()"
   ]
  },
  {
   "cell_type": "markdown",
   "metadata": {},
   "source": [
    "On this homework, we'll be looking at the Titanic dataset, which records the survival status of the passengers of the ship \"Titanic\", which sunk on its first voyage, in 1912."
   ]
  },
  {
   "cell_type": "code",
   "execution_count": 68,
   "metadata": {
    "scrolled": true
   },
   "outputs": [],
   "source": [
    "df = sns.load_dataset(\"titanic\")"
   ]
  },
  {
   "cell_type": "code",
   "execution_count": 69,
   "metadata": {},
   "outputs": [
    {
     "data": {
      "text/html": [
       "<div>\n",
       "<style scoped>\n",
       "    .dataframe tbody tr th:only-of-type {\n",
       "        vertical-align: middle;\n",
       "    }\n",
       "\n",
       "    .dataframe tbody tr th {\n",
       "        vertical-align: top;\n",
       "    }\n",
       "\n",
       "    .dataframe thead th {\n",
       "        text-align: right;\n",
       "    }\n",
       "</style>\n",
       "<table border=\"1\" class=\"dataframe\">\n",
       "  <thead>\n",
       "    <tr style=\"text-align: right;\">\n",
       "      <th></th>\n",
       "      <th>survived</th>\n",
       "      <th>pclass</th>\n",
       "      <th>sex</th>\n",
       "      <th>age</th>\n",
       "      <th>sibsp</th>\n",
       "      <th>parch</th>\n",
       "      <th>fare</th>\n",
       "      <th>embarked</th>\n",
       "      <th>class</th>\n",
       "      <th>who</th>\n",
       "      <th>adult_male</th>\n",
       "      <th>deck</th>\n",
       "      <th>embark_town</th>\n",
       "      <th>alive</th>\n",
       "      <th>alone</th>\n",
       "    </tr>\n",
       "  </thead>\n",
       "  <tbody>\n",
       "    <tr>\n",
       "      <td>0</td>\n",
       "      <td>0</td>\n",
       "      <td>3</td>\n",
       "      <td>male</td>\n",
       "      <td>22.0</td>\n",
       "      <td>1</td>\n",
       "      <td>0</td>\n",
       "      <td>7.2500</td>\n",
       "      <td>S</td>\n",
       "      <td>Third</td>\n",
       "      <td>man</td>\n",
       "      <td>True</td>\n",
       "      <td>NaN</td>\n",
       "      <td>Southampton</td>\n",
       "      <td>no</td>\n",
       "      <td>False</td>\n",
       "    </tr>\n",
       "    <tr>\n",
       "      <td>1</td>\n",
       "      <td>1</td>\n",
       "      <td>1</td>\n",
       "      <td>female</td>\n",
       "      <td>38.0</td>\n",
       "      <td>1</td>\n",
       "      <td>0</td>\n",
       "      <td>71.2833</td>\n",
       "      <td>C</td>\n",
       "      <td>First</td>\n",
       "      <td>woman</td>\n",
       "      <td>False</td>\n",
       "      <td>C</td>\n",
       "      <td>Cherbourg</td>\n",
       "      <td>yes</td>\n",
       "      <td>False</td>\n",
       "    </tr>\n",
       "    <tr>\n",
       "      <td>2</td>\n",
       "      <td>1</td>\n",
       "      <td>3</td>\n",
       "      <td>female</td>\n",
       "      <td>26.0</td>\n",
       "      <td>0</td>\n",
       "      <td>0</td>\n",
       "      <td>7.9250</td>\n",
       "      <td>S</td>\n",
       "      <td>Third</td>\n",
       "      <td>woman</td>\n",
       "      <td>False</td>\n",
       "      <td>NaN</td>\n",
       "      <td>Southampton</td>\n",
       "      <td>yes</td>\n",
       "      <td>True</td>\n",
       "    </tr>\n",
       "    <tr>\n",
       "      <td>3</td>\n",
       "      <td>1</td>\n",
       "      <td>1</td>\n",
       "      <td>female</td>\n",
       "      <td>35.0</td>\n",
       "      <td>1</td>\n",
       "      <td>0</td>\n",
       "      <td>53.1000</td>\n",
       "      <td>S</td>\n",
       "      <td>First</td>\n",
       "      <td>woman</td>\n",
       "      <td>False</td>\n",
       "      <td>C</td>\n",
       "      <td>Southampton</td>\n",
       "      <td>yes</td>\n",
       "      <td>False</td>\n",
       "    </tr>\n",
       "    <tr>\n",
       "      <td>4</td>\n",
       "      <td>0</td>\n",
       "      <td>3</td>\n",
       "      <td>male</td>\n",
       "      <td>35.0</td>\n",
       "      <td>0</td>\n",
       "      <td>0</td>\n",
       "      <td>8.0500</td>\n",
       "      <td>S</td>\n",
       "      <td>Third</td>\n",
       "      <td>man</td>\n",
       "      <td>True</td>\n",
       "      <td>NaN</td>\n",
       "      <td>Southampton</td>\n",
       "      <td>no</td>\n",
       "      <td>True</td>\n",
       "    </tr>\n",
       "  </tbody>\n",
       "</table>\n",
       "</div>"
      ],
      "text/plain": [
       "   survived  pclass     sex   age  sibsp  parch     fare embarked  class  \\\n",
       "0         0       3    male  22.0      1      0   7.2500        S  Third   \n",
       "1         1       1  female  38.0      1      0  71.2833        C  First   \n",
       "2         1       3  female  26.0      0      0   7.9250        S  Third   \n",
       "3         1       1  female  35.0      1      0  53.1000        S  First   \n",
       "4         0       3    male  35.0      0      0   8.0500        S  Third   \n",
       "\n",
       "     who  adult_male deck  embark_town alive  alone  \n",
       "0    man        True  NaN  Southampton    no  False  \n",
       "1  woman       False    C    Cherbourg   yes  False  \n",
       "2  woman       False  NaN  Southampton   yes   True  \n",
       "3  woman       False    C  Southampton   yes  False  \n",
       "4    man        True  NaN  Southampton    no   True  "
      ]
     },
     "execution_count": 69,
     "metadata": {},
     "output_type": "execute_result"
    }
   ],
   "source": [
    "df.head(5)"
   ]
  },
  {
   "cell_type": "markdown",
   "metadata": {},
   "source": [
    "For example, the first passenger listed  was a male, age 22, who did not survive."
   ]
  },
  {
   "cell_type": "markdown",
   "metadata": {},
   "source": [
    "### Part 1: One Dimensional Logistic Regression"
   ]
  },
  {
   "cell_type": "markdown",
   "metadata": {},
   "source": [
    "In this first part of the homework, we'll build a classifier that predicts whether or not someone survived based only on their age."
   ]
  },
  {
   "cell_type": "code",
   "execution_count": 70,
   "metadata": {},
   "outputs": [],
   "source": [
    "p1a_df = df[[\"survived\", \"age\"]].copy()\n",
    "p1a_df = p1a_df.dropna() # drop entries with missing data\n",
    "p1a_df = p1a_df.sort_values(\"age\") # sort data by age, which will make it easier to plot the data nicely"
   ]
  },
  {
   "cell_type": "markdown",
   "metadata": {},
   "source": [
    "Create a plot of the data in `p1a_df` showing survival on the y-axis and age on the x-axis.\n",
    "\n",
    "You should add jitter to the y-axis to spread the points out. \n",
    "\n",
    "Does it look like older or younger people were more likely to survive?"
   ]
  },
  {
   "cell_type": "code",
   "execution_count": 71,
   "metadata": {
    "scrolled": true
   },
   "outputs": [
    {
     "data": {
      "text/plain": [
       "Text(0,0.5,'survived')"
      ]
     },
     "execution_count": 71,
     "metadata": {},
     "output_type": "execute_result"
    },
    {
     "data": {
      "image/png": "[encoded data removed]",
      "text/plain": [
       "<Figure size 600x600 with 1 Axes>"
      ]
     },
     "metadata": {},
     "output_type": "display_data"
    }
   ],
   "source": [
    "plt.plot(p1a_df[\"age\"], p1a_df[\"survived\"] + np.random.uniform(-0.05, 0.05, len(p1a_df[\"survived\"])), 'o')\n",
    "plt.xlabel(\"age\")\n",
    "plt.ylabel(\"survived\") "
   ]
  },
  {
   "cell_type": "markdown",
   "metadata": {},
   "source": [
    "Train a logistic regression model `p1a_model` that tries to predict \"survived\" from \"age\"."
   ]
  },
  {
   "cell_type": "code",
   "execution_count": 72,
   "metadata": {},
   "outputs": [],
   "source": [
    "from sklearn.linear_model import LogisticRegression"
   ]
  },
  {
   "cell_type": "code",
   "execution_count": 73,
   "metadata": {
    "scrolled": true
   },
   "outputs": [
    {
     "data": {
      "text/plain": [
       "LogisticRegression(C=1.0, class_weight=None, dual=False, fit_intercept=True,\n",
       "                   intercept_scaling=1, l1_ratio=None, max_iter=100,\n",
       "                   multi_class='auto', n_jobs=None, penalty='l2',\n",
       "                   random_state=None, solver='lbfgs', tol=0.0001, verbose=0,\n",
       "                   warm_start=False)"
      ]
     },
     "execution_count": 73,
     "metadata": {},
     "output_type": "execute_result"
    }
   ],
   "source": [
    "p1a_model = LogisticRegression()\n",
    "p1a_model.fit(p1a_df[[\"age\"]], p1a_df[\"survived\"])"
   ]
  },
  {
   "cell_type": "markdown",
   "metadata": {},
   "source": [
    "Now create a plot showing the jittered data overlaid with the probability of survival predicted by your model. "
   ]
  },
  {
   "cell_type": "code",
   "execution_count": 74,
   "metadata": {
    "scrolled": false
   },
   "outputs": [
    {
     "data": {
      "text/plain": [
       "[<matplotlib.lines.Line2D at 0x7f152602b3c8>]"
      ]
     },
     "execution_count": 74,
     "metadata": {},
     "output_type": "execute_result"
    },
    {
     "data": {
      "image/png": "[encoded data removed]",
      "text/plain": [
       "<Figure size 600x600 with 1 Axes>"
      ]
     },
     "metadata": {},
     "output_type": "display_data"
    }
   ],
   "source": [
    "plt.plot(p1a_df[\"age\"], p1a_df[\"survived\"] + np.random.uniform(-0.05, 0.05, len(p1a_df[\"survived\"])), 'o')\n",
    "plt.xlabel(\"age\")\n",
    "plt.ylabel(\"survived\") \n",
    "plt.plot(p1a_df[[\"age\"]], p1a_model.predict_proba(p1a_df[[\"age\"]])[:, 1])"
   ]
  },
  {
   "cell_type": "markdown",
   "metadata": {},
   "source": [
    "If done correctly, you should see that the probability is around 45% for 0 year olds and around 35% for a person who is 80.\n",
    "\n",
    "In other words, younger people tended to survive, but not by much."
   ]
  },
  {
   "cell_type": "markdown",
   "metadata": {},
   "source": [
    "**Note:** You might ask why we don't see the S-shaped curve. The reason is that we are too zoomed in. If we look at people between -300 and 300 years old, we'll see the S. Of course, in the real world, a negative age is impossible, but the mathematical model does indeed have the S."
   ]
  },
  {
   "cell_type": "code",
   "execution_count": 75,
   "metadata": {},
   "outputs": [
    {
     "data": {
      "text/plain": [
       "[<matplotlib.lines.Line2D at 0x7f152604e390>]"
      ]
     },
     "execution_count": 75,
     "metadata": {},
     "output_type": "execute_result"
    },
    {
     "data": {
      "image/png": "[encoded data removed]",
      "text/plain": [
       "<Figure size 600x600 with 1 Axes>"
      ]
     },
     "metadata": {},
     "output_type": "display_data"
    }
   ],
   "source": [
    "plt.plot(p1a_df[\"age\"], p1a_df[\"survived\"] + np.random.uniform(-0.05, 0.05, len(p1a_df[\"survived\"])), 'o')\n",
    "plt.xlabel(\"age\")\n",
    "plt.ylabel(\"survived\") \n",
    "xdata = np.linspace(-300, 300, 100).reshape(-1, 1)\n",
    "plt.plot(xdata, p1a_model.predict_proba(xdata)[:, 1])"
   ]
  },
  {
   "cell_type": "markdown",
   "metadata": {},
   "source": [
    "#### P1B"
   ]
  },
  {
   "cell_type": "markdown",
   "metadata": {},
   "source": [
    "In this part, we'll build another 1D model called `p1b_model` that tries to predict whether or not someone survived based on how much they paid for their ticket.\n",
    "\n",
    "You'll need to start by creating a new dataframe called `p1b_df` that has \"survived\" and \"fare\" data. \n",
    "\n",
    "Once you've created your model, plot the model's predictions vs. the data just like you did at the end of p1a. \n",
    "\n",
    "You should see that the chance of survival for someone who paid a very low price was around 30%, but those who paid \\$200 had a 90% chance of survival."
   ]
  },
  {
   "cell_type": "code",
   "execution_count": 76,
   "metadata": {},
   "outputs": [],
   "source": [
    "p1b_df = df[[\"survived\", \"fare\"]].copy()\n",
    "p1b_df = p1b_df.dropna() # drop entries with missing data\n",
    "p1b_df = p1b_df.sort_values(\"fare\") # sort data by age, which will make it easier to plot the data nicely"
   ]
  },
  {
   "cell_type": "code",
   "execution_count": 77,
   "metadata": {
    "scrolled": true
   },
   "outputs": [
    {
     "data": {
      "text/plain": [
       "LogisticRegression(C=1.0, class_weight=None, dual=False, fit_intercept=True,\n",
       "                   intercept_scaling=1, l1_ratio=None, max_iter=100,\n",
       "                   multi_class='auto', n_jobs=None, penalty='l2',\n",
       "                   random_state=None, solver='lbfgs', tol=0.0001, verbose=0,\n",
       "                   warm_start=False)"
      ]
     },
     "execution_count": 77,
     "metadata": {},
     "output_type": "execute_result"
    }
   ],
   "source": [
    "p1b_model = LogisticRegression()\n",
    "p1b_model.fit(p1b_df[[\"fare\"]], p1b_df[\"survived\"])"
   ]
  },
  {
   "cell_type": "code",
   "execution_count": 78,
   "metadata": {},
   "outputs": [
    {
     "data": {
      "text/plain": [
       "[<matplotlib.lines.Line2D at 0x7f1525f52588>]"
      ]
     },
     "execution_count": 78,
     "metadata": {},
     "output_type": "execute_result"
    },
    {
     "data": {
      "image/png": "[encoded data removed]",
      "text/plain": [
       "<Figure size 600x600 with 1 Axes>"
      ]
     },
     "metadata": {},
     "output_type": "display_data"
    }
   ],
   "source": [
    "plt.plot(p1b_df[\"fare\"], p1b_df[\"survived\"] + np.random.uniform(-0.05, 0.05, len(p1b_df[\"survived\"])), 'o')\n",
    "plt.xlabel(\"fare\")\n",
    "plt.ylabel(\"survived\") \n",
    "plt.plot(p1b_df[[\"fare\"]], p1b_model.predict_proba(p1b_df[[\"fare\"]])[:, 1])"
   ]
  },
  {
   "cell_type": "markdown",
   "metadata": {},
   "source": [
    "### P2: Two Dimensional Logistic Regression "
   ]
  },
  {
   "cell_type": "markdown",
   "metadata": {},
   "source": [
    "In this part, we'll build a model that gives a survival prediction probability based on both age AND fare."
   ]
  },
  {
   "cell_type": "code",
   "execution_count": 79,
   "metadata": {},
   "outputs": [],
   "source": [
    "p2a_df = df[[\"survived\", \"fare\", \"age\"]].copy()\n",
    "p2a_df = p2a_df.dropna() "
   ]
  },
  {
   "cell_type": "markdown",
   "metadata": {},
   "source": [
    "#### P2A: Training the Model"
   ]
  },
  {
   "cell_type": "code",
   "execution_count": 80,
   "metadata": {},
   "outputs": [
    {
     "data": {
      "text/plain": [
       "LogisticRegression(C=1.0, class_weight=None, dual=False, fit_intercept=True,\n",
       "                   intercept_scaling=1, l1_ratio=None, max_iter=100,\n",
       "                   multi_class='auto', n_jobs=None, penalty='l2',\n",
       "                   random_state=None, solver='lbfgs', tol=0.0001, verbose=0,\n",
       "                   warm_start=False)"
      ]
     },
     "execution_count": 80,
     "metadata": {},
     "output_type": "execute_result"
    }
   ],
   "source": [
    "p2a_model = LogisticRegression()\n",
    "p2a_model.fit(p2a_df[[\"fare\", \"age\"]], p2a_df[\"survived\"])"
   ]
  },
  {
   "cell_type": "markdown",
   "metadata": {},
   "source": [
    "Below, we can visualize the predictions on a contour plot, with fare on the x-axis and age on the y-axis:"
   ]
  },
  {
   "cell_type": "code",
   "execution_count": 81,
   "metadata": {},
   "outputs": [],
   "source": [
    "xx, yy = np.meshgrid(np.linspace(0, 550, 20),\n",
    "                     np.linspace(0, 80, 20))\n",
    "\n",
    "p_survive = p2a_model.predict_proba(np.c_[xx.ravel(), yy.ravel()])[:, 1]\n",
    "p_survive = p_survive.reshape(xx.shape)"
   ]
  },
  {
   "cell_type": "code",
   "execution_count": 82,
   "metadata": {},
   "outputs": [
    {
     "data": {
      "text/plain": [
       "<matplotlib.colorbar.Colorbar at 0x7f1525ee2438>"
      ]
     },
     "execution_count": 82,
     "metadata": {},
     "output_type": "execute_result"
    },
    {
     "data": {
      "image/png": "[encoded data removed]",
      "text/plain": [
       "<Figure size 600x600 with 2 Axes>"
      ]
     },
     "metadata": {},
     "output_type": "display_data"
    }
   ],
   "source": [
    "plt.contourf(xx, yy, p_survive)\n",
    "plt.xlabel(\"fare\")\n",
    "plt.ylabel(\"age\")\n",
    "plt.colorbar()"
   ]
  },
  {
   "cell_type": "markdown",
   "metadata": {},
   "source": [
    "If you have plotly installed, the code below makes a nicer looking plot:"
   ]
  },
  {
   "cell_type": "code",
   "execution_count": 83,
   "metadata": {},
   "outputs": [
    {
     "data": {
      "application/vnd.plotly.v1+json": {
       "config": {
        "linkText": "Export to plot.ly",
        "plotlyServerURL": "https://plot.ly",
        "showLink": false
       },
       "data": [
        {
         "colorscale": [
          [
           0,
           "#440154"
          ],
          [
           0.1111111111111111,
           "#482878"
          ],
          [
           0.2222222222222222,
           "#3e4989"
          ],
          [
           0.3333333333333333,
           "#31688e"
          ],
          [
           0.4444444444444444,
           "#26828e"
          ],
          [
           0.5555555555555556,
           "#1f9e89"
          ],
          [
           0.6666666666666666,
           "#35b779"
          ],
          [
           0.7777777777777778,
           "#6ece58"
          ],
          [
           0.8888888888888888,
           "#b5de2b"
          ],
          [
           1,
           "#fde725"
          ]
         ],
         "type": "contour",
         "x": [
          0,
          28.94736842105263,
          57.89473684210526,
          86.84210526315789,
          115.78947368421052,
          144.73684210526315,
          173.68421052631578,
          202.6315789473684,
          231.57894736842104,
          260.52631578947364,
          289.4736842105263,
          318.42105263157896,
          347.36842105263156,
          376.31578947368416,
          405.2631578947368,
          434.2105263157895,
          463.1578947368421,
          492.1052631578947,
          521.0526315789473,
          550
         ],
         "y": [
          0,
          4.2105263157894735,
          8.421052631578947,
          12.631578947368421,
          16.842105263157894,
          21.052631578947366,
          25.263157894736842,
          29.473684210526315,
          33.68421052631579,
          37.89473684210526,
          42.10526315789473,
          46.315789473684205,
          50.526315789473685,
          54.73684210526316,
          58.94736842105263,
          63.1578947368421,
          67.36842105263158,
          71.57894736842105,
          75.78947368421052,
          80
         ],
         "z": [
          [
           0.39721853760763903,
           0.5206160162404514,
           0.6415481276380379,
           0.7468096502977895,
           0.8293811521441354,
           0.8890256180746274,
           0.9295898230784031,
           0.9560595369726679,
           0.9728687647613933,
           0.9833596179686585,
           0.9898363445311107,
           0.9938080893319404,
           0.9962336646730252,
           0.9977112505343428,
           0.9986099676776469,
           0.999156086456869,
           0.9994877550188596,
           0.9996891142519667,
           0.9998113357895626,
           0.9998855126882789
          ],
          [
           0.37963925600918025,
           0.5021248067276726,
           0.6243558598552371,
           0.7325614075408965,
           0.8186512428150438,
           0.8815107652947007,
           0.9245888535231382,
           0.95284323951352,
           0.9708453275460918,
           0.982104192371816,
           0.9890641183829773,
           0.993335601308403,
           0.9959455106523531,
           0.9975358637376545,
           0.9985033462372574,
           0.999091316551502,
           0.9994484264428312,
           0.9996652402334663,
           0.9997968456887746,
           0.9998767189419016
          ],
          [
           0.36237026424182506,
           0.4836277830889674,
           0.6068443319713119,
           0.7178143180288035,
           0.8074032457027853,
           0.873559404507696,
           0.9192635336740916,
           0.9494039785386128,
           0.9686758420194788,
           0.9807559053440584,
           0.9882339165711075,
           0.9928273192137029,
           0.9956354071879225,
           0.9973470727933008,
           0.9983885596723577,
           0.9990215804590166,
           0.9994060801353642,
           0.9996395335055398,
           0.9997812429387946,
           0.999867249839387
          ],
          [
           0.3454493782577424,
           0.46517551171939986,
           0.5890537725530568,
           0.7025841929428887,
           0.7956317622145663,
           0.8651560803153617,
           0.9135972975936139,
           0.9457281705659896,
           0.9663505140827949,
           0.9793081773009447,
           0.9873414962824136,
           0.992280572585267,
           0.9953016976654054,
           0.9971438589571983,
           0.9982649847951173,
           0.9989464981762434,
           0.9993604848281673,
           0.9996118534841067,
           0.9997644421416344,
           0.999857053527964
          ],
          [
           0.3289110421019013,
           0.4468180709674354,
           0.5710272501202034,
           0.6868906226915475,
           0.7833338771221553,
           0.8562861459257604,
           0.907573377593002,
           0.9418016846327228,
           0.9638590073476004,
           0.9777540074685567,
           0.9863823214495389,
           0.9916924982348407,
           0.9949426028711859,
           0.996925126962218,
           0.9981319511886431,
           0.9988656607464997,
           0.9993113915749657,
           0.999582048817927,
           0.9997463513510385,
           0.999846074175969
          ],
          [
           0.31278611780408455,
           0.42860451085080487,
           0.5528102884844766,
           0.6707570176423753,
           0.7705094172016475,
           0.8469359795032841,
           0.9011749052969135,
           0.9376098638861547,
           0.9611904309719551,
           0.9760859539831918,
           0.9853515452032077,
           0.9910600273705807,
           0.994556212305623,
           0.9966896994139408,
           0.9979887376809582,
           0.9987786280732394,
           0.9992585324074807,
           0.9995499565666404,
           0.9997268715713552,
           0.9998342516678941
          ],
          [
           0.29710174185639676,
           0.4105823363343567,
           0.5344504289266583,
           0.6542105909624772,
           0.7571611976897088,
           0.8370932157675364,
           0.8943850286929872,
           0.9331375556962831,
           0.9583333303573008,
           0.9742961142178017,
           0.9842439917150696,
           0.9903798720242084,
           0.9941404749426512,
           0.9964363107989529,
           0.9978345685642424,
           0.9986849265717509,
           0.999201618890385,
           0.9995154013164825,
           0.999705896218214,
           0.9998215212761163
          ],
          [
           0.2818812469951729,
           0.3927970255430965,
           0.5159967475949675,
           0.6372822790983838,
           0.743295249877805,
           0.8267469908503632,
           0.8871870459852121,
           0.9283691513878723,
           0.9552756813333816,
           0.9723761055795062,
           0.9830541374887695,
           0.989648510773616,
           0.9936931894105759,
           0.9961636010826266,
           0.9976686095423064,
           0.9985840466474116,
           0.9991403405678273,
           0.9994781942290256,
           0.9996833105381245,
           0.9998078133075433
          ],
          [
           0.2671441462662647,
           0.375291592941931,
           0.4974993381872445,
           0.6200065969074159,
           0.728921022761552,
           0.8158881977349866,
           0.8795645568563836,
           0.9232886367323992,
           0.9520048885313266,
           0.9703170470656926,
           0.9817760921749944,
           0.9888621737568282,
           0.993211993569589,
           0.9958701088725731,
           0.997489963388348,
           0.998475439988271,
           0.9990743632936075,
           0.9994381320179472,
           0.9996589909838982,
           0.9997930527232622
          ],
          [
           0.252906174878153,
           0.35810620582837627,
           0.4790087713132543,
           0.6024214261971316,
           0.7140515514560358,
           0.8045097488703293,
           0.8715016314669746,
           0.9178796543624902,
           0.9485077887199236,
           0.9681095419141269,
           0.9804035790071534,
           0.9880168269799335,
           0.9926943534626219,
           0.9955542641233136,
           0.9972976652941233,
           0.9983585166589728,
           0.9990033274365334,
           0.9993949958484752,
           0.9996328045425609,
           0.9997771587291454
          ],
          [
           0.23917938417545748,
           0.34127786055050824,
           0.4605755428445038,
           0.5845677383804453,
           0.6987035851229949,
           0.7926068417982404,
           0.8629829971692261,
           0.9121255792693606,
           0.9447706599555764,
           0.9657436617352607,
           0.9789299149783843,
           0.9871081559297632,
           0.9921375516177329,
           0.995214380357194,
           0.9970906778907378,
           0.998232641982223,
           0.9989268459519218,
           0.9993485501537714,
           0.9996046080121848,
           0.9997600443352099
          ],
          [
           0.22597228121304824,
           0.32484012278415,
           0.4422495239933339,
           0.5664892540339842,
           0.682897667469292,
           0.7801772228787053,
           0.8539942424923418,
           0.9060096085106022,
           0.9407792374705332,
           0.9632089325725272,
           0.9773479909081191,
           0.986131548511869,
           0.9915386746824241,
           0.9948486463762072,
           0.9968678859203494,
           0.9980971331931847,
           0.9988445023095959,
           0.9992985413621093,
           0.9995742472238023,
           0.9997416158813587
          ],
          [
           0.21329000687619698,
           0.3088229340869499,
           0.4240794257946623,
           0.5482320442635871,
           0.6666581634955598,
           0.767221443481689,
           0.8445220374558504,
           0.8995148661845653,
           0.9365187372941632,
           0.9604943233987204,
           0.9756502515777427,
           0.9850820773459781,
           0.9908946003731663,
           0.994455117439225,
           0.9966280905371798,
           0.9979512558513226,
           0.9987558482680866,
           0.9992446965282654,
           0.999541556204284,
           0.9997217725269645
          ],
          [
           0.2011345452571319,
           0.293252484893336,
           0.4061122900967443,
           0.5298440808306704,
           0.6500132271131874,
           0.7537431023729428,
           0.8345543686953216,
           0.8926245246112618,
           0.9319738886652734,
           0.9575882376232417,
           0.9738286761502843,
           0.9839544814648316,
           0.9902019837271286,
           0.9940317058792427,
           0.9963700032153818,
           0.9977942199933388,
           0.9986604014840781,
           0.9991867218620832,
           0.9995063562757607,
           0.9997004057015562
          ],
          [
           0.1895049570325319,
           0.27815115221222875,
           0.3883930181355637,
           0.5113747438699772,
           0.6329947055039981,
           0.739749067498112,
           0.8240807872435776,
           0.8853219424907515,
           0.9271289763459206,
           0.9544785082554723,
           0.9718747591288248,
           0.9827431474783862,
           0.9894572426477769,
           0.9935761711356198,
           0.9960922392405005,
           0.9976251760099375,
           0.998557642945422,
           0.9991243011466746,
           0.9994684550868546,
           0.9996773985136733
          ],
          [
           0.17839762985075025,
           0.26353749861118647,
           0.3709639463318199,
           0.4928742976303788,
           0.6156379776477781,
           0.7252496700103774,
           0.8130926661122009,
           0.8775908205811769,
           0.9219678939844593,
           0.9511523974429895,
           0.9697794921526629,
           0.9814420902840818,
           0.9886565427417977,
           0.9930861091770798,
           0.9957933107605517,
           0.9974432102282451,
           0.9984470142153054,
           0.9990570940382074,
           0.9994276455706329,
           0.999652625114732
          ],
          [
           0.1678065391876689,
           0.24942632766910172,
           0.35386447719263875,
           0.4743933459049897,
           0.597981726245386,
           0.7102588632370403,
           0.8015834640789321,
           0.8694153751434416,
           0.9164742096924915,
           0.9475966011785247,
           0.9675333469793987,
           0.9800449334255261,
           0.9877957814518621,
           0.9925589412924207,
           0.9954716193721181,
           0.9972473401807819,
           0.9983279144743878,
           0.9989847342386701,
           0.9993837048238439,
           0.9996259500145133
          ],
          [
           0.1577235137202335,
           0.23582878998675816,
           0.3371307712200906,
           0.455982279612784,
           0.5800676442562989,
           0.6947943393819428,
           0.7895489913290569,
           0.8607805290326928,
           0.9106312449911121,
           0.9437972600449009,
           0.9651262600550686,
           0.9785448892268406,
           0.9868705714982903,
           0.9919919022276328,
           0.9951254482163834,
           0.9970365095409606,
           0.9981996973469068,
           0.9989068275324284,
           0.9993363929015903,
           0.9995972273446373
          ],
          [
           0.14813849995227638,
           0.22275253307244383,
           0.32079550363093434,
           0.43769072930387276,
           0.5619400793676989,
           0.6788775971485271,
           0.7769876718519416,
           0.8516721198749024,
           0.9044221682398578,
           0.9397399769405582,
           0.9625476191332669,
           0.9769347388583579,
           0.9858762236528908,
           0.991382027650462,
           0.9947529535597023,
           0.996809582704182,
           0.998061667495923,
           0.9988229496767658,
           0.9992854515211982,
           0.9995663000661152
          ],
          [
           0.13903982156703215,
           0.2102018879622022,
           0.30488768758225804,
           0.41956703516598776,
           0.5436456218218275,
           0.6625339541670519,
           0.7639007967923716,
           0.8420771242491846,
           0.897830103580053,
           0.9354098427970383,
           0.9597862524676279,
           0.9752068125216582,
           0.9848077288803799,
           0.9907261409265502,
           0.9943521558332156,
           0.9965653389927017,
           0.997913076972009,
           0.9987326441359522,
           0.9992306026685807,
           0.9995329991167909
          ]
         ]
        }
       ],
       "layout": {
        "template": {
         "data": {
          "bar": [
           {
            "error_x": {
             "color": "#2a3f5f"
            },
            "error_y": {
             "color": "#2a3f5f"
            },
            "marker": {
             "line": {
              "color": "#E5ECF6",
              "width": 0.5
             }
            },
            "type": "bar"
           }
          ],
          "barpolar": [
           {
            "marker": {
             "line": {
              "color": "#E5ECF6",
              "width": 0.5
             }
            },
            "type": "barpolar"
           }
          ],
          "carpet": [
           {
            "aaxis": {
             "endlinecolor": "#2a3f5f",
             "gridcolor": "white",
             "linecolor": "white",
             "minorgridcolor": "white",
             "startlinecolor": "#2a3f5f"
            },
            "baxis": {
             "endlinecolor": "#2a3f5f",
             "gridcolor": "white",
             "linecolor": "white",
             "minorgridcolor": "white",
             "startlinecolor": "#2a3f5f"
            },
            "type": "carpet"
           }
          ],
          "choropleth": [
           {
            "colorbar": {
             "outlinewidth": 0,
             "ticks": ""
            },
            "type": "choropleth"
           }
          ],
          "contour": [
           {
            "colorbar": {
             "outlinewidth": 0,
             "ticks": ""
            },
            "colorscale": [
             [
              0,
              "#0d0887"
             ],
             [
              0.1111111111111111,
              "#46039f"
             ],
             [
              0.2222222222222222,
              "#7201a8"
             ],
             [
              0.3333333333333333,
              "#9c179e"
             ],
             [
              0.4444444444444444,
              "#bd3786"
             ],
             [
              0.5555555555555556,
              "#d8576b"
             ],
             [
              0.6666666666666666,
              "#ed7953"
             ],
             [
              0.7777777777777778,
              "#fb9f3a"
             ],
             [
              0.8888888888888888,
              "#fdca26"
             ],
             [
              1,
              "#f0f921"
             ]
            ],
            "type": "contour"
           }
          ],
          "contourcarpet": [
           {
            "colorbar": {
             "outlinewidth": 0,
             "ticks": ""
            },
            "type": "contourcarpet"
           }
          ],
          "heatmap": [
           {
            "colorbar": {
             "outlinewidth": 0,
             "ticks": ""
            },
            "colorscale": [
             [
              0,
              "#0d0887"
             ],
             [
              0.1111111111111111,
              "#46039f"
             ],
             [
              0.2222222222222222,
              "#7201a8"
             ],
             [
              0.3333333333333333,
              "#9c179e"
             ],
             [
              0.4444444444444444,
              "#bd3786"
             ],
             [
              0.5555555555555556,
              "#d8576b"
             ],
             [
              0.6666666666666666,
              "#ed7953"
             ],
             [
              0.7777777777777778,
              "#fb9f3a"
             ],
             [
              0.8888888888888888,
              "#fdca26"
             ],
             [
              1,
              "#f0f921"
             ]
            ],
            "type": "heatmap"
           }
          ],
          "heatmapgl": [
           {
            "colorbar": {
             "outlinewidth": 0,
             "ticks": ""
            },
            "colorscale": [
             [
              0,
              "#0d0887"
             ],
             [
              0.1111111111111111,
              "#46039f"
             ],
             [
              0.2222222222222222,
              "#7201a8"
             ],
             [
              0.3333333333333333,
              "#9c179e"
             ],
             [
              0.4444444444444444,
              "#bd3786"
             ],
             [
              0.5555555555555556,
              "#d8576b"
             ],
             [
              0.6666666666666666,
              "#ed7953"
             ],
             [
              0.7777777777777778,
              "#fb9f3a"
             ],
             [
              0.8888888888888888,
              "#fdca26"
             ],
             [
              1,
              "#f0f921"
             ]
            ],
            "type": "heatmapgl"
           }
          ],
          "histogram": [
           {
            "marker": {
             "colorbar": {
              "outlinewidth": 0,
              "ticks": ""
             }
            },
            "type": "histogram"
           }
          ],
          "histogram2d": [
           {
            "colorbar": {
             "outlinewidth": 0,
             "ticks": ""
            },
            "colorscale": [
             [
              0,
              "#0d0887"
             ],
             [
              0.1111111111111111,
              "#46039f"
             ],
             [
              0.2222222222222222,
              "#7201a8"
             ],
             [
              0.3333333333333333,
              "#9c179e"
             ],
             [
              0.4444444444444444,
              "#bd3786"
             ],
             [
              0.5555555555555556,
              "#d8576b"
             ],
             [
              0.6666666666666666,
              "#ed7953"
             ],
             [
              0.7777777777777778,
              "#fb9f3a"
             ],
             [
              0.8888888888888888,
              "#fdca26"
             ],
             [
              1,
              "#f0f921"
             ]
            ],
            "type": "histogram2d"
           }
          ],
          "histogram2dcontour": [
           {
            "colorbar": {
             "outlinewidth": 0,
             "ticks": ""
            },
            "colorscale": [
             [
              0,
              "#0d0887"
             ],
             [
              0.1111111111111111,
              "#46039f"
             ],
             [
              0.2222222222222222,
              "#7201a8"
             ],
             [
              0.3333333333333333,
              "#9c179e"
             ],
             [
              0.4444444444444444,
              "#bd3786"
             ],
             [
              0.5555555555555556,
              "#d8576b"
             ],
             [
              0.6666666666666666,
              "#ed7953"
             ],
             [
              0.7777777777777778,
              "#fb9f3a"
             ],
             [
              0.8888888888888888,
              "#fdca26"
             ],
             [
              1,
              "#f0f921"
             ]
            ],
            "type": "histogram2dcontour"
           }
          ],
          "mesh3d": [
           {
            "colorbar": {
             "outlinewidth": 0,
             "ticks": ""
            },
            "type": "mesh3d"
           }
          ],
          "parcoords": [
           {
            "line": {
             "colorbar": {
              "outlinewidth": 0,
              "ticks": ""
             }
            },
            "type": "parcoords"
           }
          ],
          "scatter": [
           {
            "marker": {
             "colorbar": {
              "outlinewidth": 0,
              "ticks": ""
             }
            },
            "type": "scatter"
           }
          ],
          "scatter3d": [
           {
            "line": {
             "colorbar": {
              "outlinewidth": 0,
              "ticks": ""
             }
            },
            "marker": {
             "colorbar": {
              "outlinewidth": 0,
              "ticks": ""
             }
            },
            "type": "scatter3d"
           }
          ],
          "scattercarpet": [
           {
            "marker": {
             "colorbar": {
              "outlinewidth": 0,
              "ticks": ""
             }
            },
            "type": "scattercarpet"
           }
          ],
          "scattergeo": [
           {
            "marker": {
             "colorbar": {
              "outlinewidth": 0,
              "ticks": ""
             }
            },
            "type": "scattergeo"
           }
          ],
          "scattergl": [
           {
            "marker": {
             "colorbar": {
              "outlinewidth": 0,
              "ticks": ""
             }
            },
            "type": "scattergl"
           }
          ],
          "scattermapbox": [
           {
            "marker": {
             "colorbar": {
              "outlinewidth": 0,
              "ticks": ""
             }
            },
            "type": "scattermapbox"
           }
          ],
          "scatterpolar": [
           {
            "marker": {
             "colorbar": {
              "outlinewidth": 0,
              "ticks": ""
             }
            },
            "type": "scatterpolar"
           }
          ],
          "scatterpolargl": [
           {
            "marker": {
             "colorbar": {
              "outlinewidth": 0,
              "ticks": ""
             }
            },
            "type": "scatterpolargl"
           }
          ],
          "scatterternary": [
           {
            "marker": {
             "colorbar": {
              "outlinewidth": 0,
              "ticks": ""
             }
            },
            "type": "scatterternary"
           }
          ],
          "surface": [
           {
            "colorbar": {
             "outlinewidth": 0,
             "ticks": ""
            },
            "colorscale": [
             [
              0,
              "#0d0887"
             ],
             [
              0.1111111111111111,
              "#46039f"
             ],
             [
              0.2222222222222222,
              "#7201a8"
             ],
             [
              0.3333333333333333,
              "#9c179e"
             ],
             [
              0.4444444444444444,
              "#bd3786"
             ],
             [
              0.5555555555555556,
              "#d8576b"
             ],
             [
              0.6666666666666666,
              "#ed7953"
             ],
             [
              0.7777777777777778,
              "#fb9f3a"
             ],
             [
              0.8888888888888888,
              "#fdca26"
             ],
             [
              1,
              "#f0f921"
             ]
            ],
            "type": "surface"
           }
          ],
          "table": [
           {
            "cells": {
             "fill": {
              "color": "#EBF0F8"
             },
             "line": {
              "color": "white"
             }
            },
            "header": {
             "fill": {
              "color": "#C8D4E3"
             },
             "line": {
              "color": "white"
             }
            },
            "type": "table"
           }
          ]
         },
         "layout": {
          "annotationdefaults": {
           "arrowcolor": "#2a3f5f",
           "arrowhead": 0,
           "arrowwidth": 1
          },
          "colorscale": {
           "diverging": [
            [
             0,
             "#8e0152"
            ],
            [
             0.1,
             "#c51b7d"
            ],
            [
             0.2,
             "#de77ae"
            ],
            [
             0.3,
             "#f1b6da"
            ],
            [
             0.4,
             "#fde0ef"
            ],
            [
             0.5,
             "#f7f7f7"
            ],
            [
             0.6,
             "#e6f5d0"
            ],
            [
             0.7,
             "#b8e186"
            ],
            [
             0.8,
             "#7fbc41"
            ],
            [
             0.9,
             "#4d9221"
            ],
            [
             1,
             "#276419"
            ]
           ],
           "sequential": [
            [
             0,
             "#0d0887"
            ],
            [
             0.1111111111111111,
             "#46039f"
            ],
            [
             0.2222222222222222,
             "#7201a8"
            ],
            [
             0.3333333333333333,
             "#9c179e"
            ],
            [
             0.4444444444444444,
             "#bd3786"
            ],
            [
             0.5555555555555556,
             "#d8576b"
            ],
            [
             0.6666666666666666,
             "#ed7953"
            ],
            [
             0.7777777777777778,
             "#fb9f3a"
            ],
            [
             0.8888888888888888,
             "#fdca26"
            ],
            [
             1,
             "#f0f921"
            ]
           ],
           "sequentialminus": [
            [
             0,
             "#0d0887"
            ],
            [
             0.1111111111111111,
             "#46039f"
            ],
            [
             0.2222222222222222,
             "#7201a8"
            ],
            [
             0.3333333333333333,
             "#9c179e"
            ],
            [
             0.4444444444444444,
             "#bd3786"
            ],
            [
             0.5555555555555556,
             "#d8576b"
            ],
            [
             0.6666666666666666,
             "#ed7953"
            ],
            [
             0.7777777777777778,
             "#fb9f3a"
            ],
            [
             0.8888888888888888,
             "#fdca26"
            ],
            [
             1,
             "#f0f921"
            ]
           ]
          },
          "colorway": [
           "#636efa",
           "#EF553B",
           "#00cc96",
           "#ab63fa",
           "#FFA15A",
           "#19d3f3",
           "#FF6692",
           "#B6E880",
           "#FF97FF",
           "#FECB52"
          ],
          "font": {
           "color": "#2a3f5f"
          },
          "geo": {
           "bgcolor": "white",
           "lakecolor": "white",
           "landcolor": "#E5ECF6",
           "showlakes": true,
           "showland": true,
           "subunitcolor": "white"
          },
          "hoverlabel": {
           "align": "left"
          },
          "hovermode": "closest",
          "mapbox": {
           "style": "light"
          },
          "paper_bgcolor": "white",
          "plot_bgcolor": "#E5ECF6",
          "polar": {
           "angularaxis": {
            "gridcolor": "white",
            "linecolor": "white",
            "ticks": ""
           },
           "bgcolor": "#E5ECF6",
           "radialaxis": {
            "gridcolor": "white",
            "linecolor": "white",
            "ticks": ""
           }
          },
          "scene": {
           "xaxis": {
            "backgroundcolor": "#E5ECF6",
            "gridcolor": "white",
            "gridwidth": 2,
            "linecolor": "white",
            "showbackground": true,
            "ticks": "",
            "zerolinecolor": "white"
           },
           "yaxis": {
            "backgroundcolor": "#E5ECF6",
            "gridcolor": "white",
            "gridwidth": 2,
            "linecolor": "white",
            "showbackground": true,
            "ticks": "",
            "zerolinecolor": "white"
           },
           "zaxis": {
            "backgroundcolor": "#E5ECF6",
            "gridcolor": "white",
            "gridwidth": 2,
            "linecolor": "white",
            "showbackground": true,
            "ticks": "",
            "zerolinecolor": "white"
           }
          },
          "shapedefaults": {
           "line": {
            "color": "#2a3f5f"
           }
          },
          "ternary": {
           "aaxis": {
            "gridcolor": "white",
            "linecolor": "white",
            "ticks": ""
           },
           "baxis": {
            "gridcolor": "white",
            "linecolor": "white",
            "ticks": ""
           },
           "bgcolor": "#E5ECF6",
           "caxis": {
            "gridcolor": "white",
            "linecolor": "white",
            "ticks": ""
           }
          },
          "title": {
           "x": 0.05
          },
          "xaxis": {
           "automargin": true,
           "gridcolor": "white",
           "linecolor": "white",
           "ticks": "",
           "zerolinecolor": "white",
           "zerolinewidth": 2
          },
          "yaxis": {
           "automargin": true,
           "gridcolor": "white",
           "linecolor": "white",
           "ticks": "",
           "zerolinecolor": "white",
           "zerolinewidth": 2
          }
         }
        },
        "xaxis": {
         "title": {
          "text": "fare"
         }
        },
        "yaxis": {
         "title": {
          "text": "age"
         }
        }
       }
      },
      "text/html": [
       "<div>\n",
       "        \n",
       "        \n",
       "            <div id=\"64c113e1-a55b-4f9d-8ecc-7132fd0d8143\" class=\"plotly-graph-div\" style=\"height:525px; width:100%;\"></div>\n",
       "            <script type=\"text/javascript\">\n",
       "                require([\"plotly\"], function(Plotly) {\n",
       "                    window.PLOTLYENV=window.PLOTLYENV || {};\n",
       "                    \n",
       "                if (document.getElementById(\"64c113e1-a55b-4f9d-8ecc-7132fd0d8143\")) {\n",
       "                    Plotly.newPlot(\n",
       "                        '64c113e1-a55b-4f9d-8ecc-7132fd0d8143',\n",
       "                        [{\"colorscale\": [[0.0, \"#440154\"], [0.1111111111111111, \"#482878\"], [0.2222222222222222, \"#3e4989\"], [0.3333333333333333, \"#31688e\"], [0.4444444444444444, \"#26828e\"], [0.5555555555555556, \"#1f9e89\"], [0.6666666666666666, \"#35b779\"], [0.7777777777777778, \"#6ece58\"], [0.8888888888888888, \"#b5de2b\"], [1.0, \"#fde725\"]], \"type\": \"contour\", \"x\": [0.0, 28.94736842105263, 57.89473684210526, 86.84210526315789, 115.78947368421052, 144.73684210526315, 173.68421052631578, 202.6315789473684, 231.57894736842104, 260.52631578947364, 289.4736842105263, 318.42105263157896, 347.36842105263156, 376.31578947368416, 405.2631578947368, 434.2105263157895, 463.1578947368421, 492.1052631578947, 521.0526315789473, 550.0], \"y\": [0.0, 4.2105263157894735, 8.421052631578947, 12.631578947368421, 16.842105263157894, 21.052631578947366, 25.263157894736842, 29.473684210526315, 33.68421052631579, 37.89473684210526, 42.10526315789473, 46.315789473684205, 50.526315789473685, 54.73684210526316, 58.94736842105263, 63.1578947368421, 67.36842105263158, 71.57894736842105, 75.78947368421052, 80.0], \"z\": [[0.39721853760763903, 0.5206160162404514, 0.6415481276380379, 0.7468096502977895, 0.8293811521441354, 0.8890256180746274, 0.9295898230784031, 0.9560595369726679, 0.9728687647613933, 0.9833596179686585, 0.9898363445311107, 0.9938080893319404, 0.9962336646730252, 0.9977112505343428, 0.9986099676776469, 0.999156086456869, 0.9994877550188596, 0.9996891142519667, 0.9998113357895626, 0.9998855126882789], [0.37963925600918025, 0.5021248067276726, 0.6243558598552371, 0.7325614075408965, 0.8186512428150438, 0.8815107652947007, 0.9245888535231382, 0.95284323951352, 0.9708453275460918, 0.982104192371816, 0.9890641183829773, 0.993335601308403, 0.9959455106523531, 0.9975358637376545, 0.9985033462372574, 0.999091316551502, 0.9994484264428312, 0.9996652402334663, 0.9997968456887746, 0.9998767189419016], [0.36237026424182506, 0.4836277830889674, 0.6068443319713119, 0.7178143180288035, 0.8074032457027853, 0.873559404507696, 0.9192635336740916, 0.9494039785386128, 0.9686758420194788, 0.9807559053440584, 0.9882339165711075, 0.9928273192137029, 0.9956354071879225, 0.9973470727933008, 0.9983885596723577, 0.9990215804590166, 0.9994060801353642, 0.9996395335055398, 0.9997812429387946, 0.999867249839387], [0.3454493782577424, 0.46517551171939986, 0.5890537725530568, 0.7025841929428887, 0.7956317622145663, 0.8651560803153617, 0.9135972975936139, 0.9457281705659896, 0.9663505140827949, 0.9793081773009447, 0.9873414962824136, 0.992280572585267, 0.9953016976654054, 0.9971438589571983, 0.9982649847951173, 0.9989464981762434, 0.9993604848281673, 0.9996118534841067, 0.9997644421416344, 0.999857053527964], [0.3289110421019013, 0.4468180709674354, 0.5710272501202034, 0.6868906226915475, 0.7833338771221553, 0.8562861459257604, 0.907573377593002, 0.9418016846327228, 0.9638590073476004, 0.9777540074685567, 0.9863823214495389, 0.9916924982348407, 0.9949426028711859, 0.996925126962218, 0.9981319511886431, 0.9988656607464997, 0.9993113915749657, 0.999582048817927, 0.9997463513510385, 0.999846074175969], [0.31278611780408455, 0.42860451085080487, 0.5528102884844766, 0.6707570176423753, 0.7705094172016475, 0.8469359795032841, 0.9011749052969135, 0.9376098638861547, 0.9611904309719551, 0.9760859539831918, 0.9853515452032077, 0.9910600273705807, 0.994556212305623, 0.9966896994139408, 0.9979887376809582, 0.9987786280732394, 0.9992585324074807, 0.9995499565666404, 0.9997268715713552, 0.9998342516678941], [0.29710174185639676, 0.4105823363343567, 0.5344504289266583, 0.6542105909624772, 0.7571611976897088, 0.8370932157675364, 0.8943850286929872, 0.9331375556962831, 0.9583333303573008, 0.9742961142178017, 0.9842439917150696, 0.9903798720242084, 0.9941404749426512, 0.9964363107989529, 0.9978345685642424, 0.9986849265717509, 0.999201618890385, 0.9995154013164825, 0.999705896218214, 0.9998215212761163], [0.2818812469951729, 0.3927970255430965, 0.5159967475949675, 0.6372822790983838, 0.743295249877805, 0.8267469908503632, 0.8871870459852121, 0.9283691513878723, 0.9552756813333816, 0.9723761055795062, 0.9830541374887695, 0.989648510773616, 0.9936931894105759, 0.9961636010826266, 0.9976686095423064, 0.9985840466474116, 0.9991403405678273, 0.9994781942290256, 0.9996833105381245, 0.9998078133075433], [0.2671441462662647, 0.375291592941931, 0.4974993381872445, 0.6200065969074159, 0.728921022761552, 0.8158881977349866, 0.8795645568563836, 0.9232886367323992, 0.9520048885313266, 0.9703170470656926, 0.9817760921749944, 0.9888621737568282, 0.993211993569589, 0.9958701088725731, 0.997489963388348, 0.998475439988271, 0.9990743632936075, 0.9994381320179472, 0.9996589909838982, 0.9997930527232622], [0.252906174878153, 0.35810620582837627, 0.4790087713132543, 0.6024214261971316, 0.7140515514560358, 0.8045097488703293, 0.8715016314669746, 0.9178796543624902, 0.9485077887199236, 0.9681095419141269, 0.9804035790071534, 0.9880168269799335, 0.9926943534626219, 0.9955542641233136, 0.9972976652941233, 0.9983585166589728, 0.9990033274365334, 0.9993949958484752, 0.9996328045425609, 0.9997771587291454], [0.23917938417545748, 0.34127786055050824, 0.4605755428445038, 0.5845677383804453, 0.6987035851229949, 0.7926068417982404, 0.8629829971692261, 0.9121255792693606, 0.9447706599555764, 0.9657436617352607, 0.9789299149783843, 0.9871081559297632, 0.9921375516177329, 0.995214380357194, 0.9970906778907378, 0.998232641982223, 0.9989268459519218, 0.9993485501537714, 0.9996046080121848, 0.9997600443352099], [0.22597228121304824, 0.32484012278415, 0.4422495239933339, 0.5664892540339842, 0.682897667469292, 0.7801772228787053, 0.8539942424923418, 0.9060096085106022, 0.9407792374705332, 0.9632089325725272, 0.9773479909081191, 0.986131548511869, 0.9915386746824241, 0.9948486463762072, 0.9968678859203494, 0.9980971331931847, 0.9988445023095959, 0.9992985413621093, 0.9995742472238023, 0.9997416158813587], [0.21329000687619698, 0.3088229340869499, 0.4240794257946623, 0.5482320442635871, 0.6666581634955598, 0.767221443481689, 0.8445220374558504, 0.8995148661845653, 0.9365187372941632, 0.9604943233987204, 0.9756502515777427, 0.9850820773459781, 0.9908946003731663, 0.994455117439225, 0.9966280905371798, 0.9979512558513226, 0.9987558482680866, 0.9992446965282654, 0.999541556204284, 0.9997217725269645], [0.2011345452571319, 0.293252484893336, 0.4061122900967443, 0.5298440808306704, 0.6500132271131874, 0.7537431023729428, 0.8345543686953216, 0.8926245246112618, 0.9319738886652734, 0.9575882376232417, 0.9738286761502843, 0.9839544814648316, 0.9902019837271286, 0.9940317058792427, 0.9963700032153818, 0.9977942199933388, 0.9986604014840781, 0.9991867218620832, 0.9995063562757607, 0.9997004057015562], [0.1895049570325319, 0.27815115221222875, 0.3883930181355637, 0.5113747438699772, 0.6329947055039981, 0.739749067498112, 0.8240807872435776, 0.8853219424907515, 0.9271289763459206, 0.9544785082554723, 0.9718747591288248, 0.9827431474783862, 0.9894572426477769, 0.9935761711356198, 0.9960922392405005, 0.9976251760099375, 0.998557642945422, 0.9991243011466746, 0.9994684550868546, 0.9996773985136733], [0.17839762985075025, 0.26353749861118647, 0.3709639463318199, 0.4928742976303788, 0.6156379776477781, 0.7252496700103774, 0.8130926661122009, 0.8775908205811769, 0.9219678939844593, 0.9511523974429895, 0.9697794921526629, 0.9814420902840818, 0.9886565427417977, 0.9930861091770798, 0.9957933107605517, 0.9974432102282451, 0.9984470142153054, 0.9990570940382074, 0.9994276455706329, 0.999652625114732], [0.1678065391876689, 0.24942632766910172, 0.35386447719263875, 0.4743933459049897, 0.597981726245386, 0.7102588632370403, 0.8015834640789321, 0.8694153751434416, 0.9164742096924915, 0.9475966011785247, 0.9675333469793987, 0.9800449334255261, 0.9877957814518621, 0.9925589412924207, 0.9954716193721181, 0.9972473401807819, 0.9983279144743878, 0.9989847342386701, 0.9993837048238439, 0.9996259500145133], [0.1577235137202335, 0.23582878998675816, 0.3371307712200906, 0.455982279612784, 0.5800676442562989, 0.6947943393819428, 0.7895489913290569, 0.8607805290326928, 0.9106312449911121, 0.9437972600449009, 0.9651262600550686, 0.9785448892268406, 0.9868705714982903, 0.9919919022276328, 0.9951254482163834, 0.9970365095409606, 0.9981996973469068, 0.9989068275324284, 0.9993363929015903, 0.9995972273446373], [0.14813849995227638, 0.22275253307244383, 0.32079550363093434, 0.43769072930387276, 0.5619400793676989, 0.6788775971485271, 0.7769876718519416, 0.8516721198749024, 0.9044221682398578, 0.9397399769405582, 0.9625476191332669, 0.9769347388583579, 0.9858762236528908, 0.991382027650462, 0.9947529535597023, 0.996809582704182, 0.998061667495923, 0.9988229496767658, 0.9992854515211982, 0.9995663000661152], [0.13903982156703215, 0.2102018879622022, 0.30488768758225804, 0.41956703516598776, 0.5436456218218275, 0.6625339541670519, 0.7639007967923716, 0.8420771242491846, 0.897830103580053, 0.9354098427970383, 0.9597862524676279, 0.9752068125216582, 0.9848077288803799, 0.9907261409265502, 0.9943521558332156, 0.9965653389927017, 0.997913076972009, 0.9987326441359522, 0.9992306026685807, 0.9995329991167909]]}],\n",
       "                        {\"template\": {\"data\": {\"bar\": [{\"error_x\": {\"color\": \"#2a3f5f\"}, \"error_y\": {\"color\": \"#2a3f5f\"}, \"marker\": {\"line\": {\"color\": \"#E5ECF6\", \"width\": 0.5}}, \"type\": \"bar\"}], \"barpolar\": [{\"marker\": {\"line\": {\"color\": \"#E5ECF6\", \"width\": 0.5}}, \"type\": \"barpolar\"}], \"carpet\": [{\"aaxis\": {\"endlinecolor\": \"#2a3f5f\", \"gridcolor\": \"white\", \"linecolor\": \"white\", \"minorgridcolor\": \"white\", \"startlinecolor\": \"#2a3f5f\"}, \"baxis\": {\"endlinecolor\": \"#2a3f5f\", \"gridcolor\": \"white\", \"linecolor\": \"white\", \"minorgridcolor\": \"white\", \"startlinecolor\": \"#2a3f5f\"}, \"type\": \"carpet\"}], \"choropleth\": [{\"colorbar\": {\"outlinewidth\": 0, \"ticks\": \"\"}, \"type\": \"choropleth\"}], \"contour\": [{\"colorbar\": {\"outlinewidth\": 0, \"ticks\": \"\"}, \"colorscale\": [[0.0, \"#0d0887\"], [0.1111111111111111, \"#46039f\"], [0.2222222222222222, \"#7201a8\"], [0.3333333333333333, \"#9c179e\"], [0.4444444444444444, \"#bd3786\"], [0.5555555555555556, \"#d8576b\"], [0.6666666666666666, \"#ed7953\"], [0.7777777777777778, \"#fb9f3a\"], [0.8888888888888888, \"#fdca26\"], [1.0, \"#f0f921\"]], \"type\": \"contour\"}], \"contourcarpet\": [{\"colorbar\": {\"outlinewidth\": 0, \"ticks\": \"\"}, \"type\": \"contourcarpet\"}], \"heatmap\": [{\"colorbar\": {\"outlinewidth\": 0, \"ticks\": \"\"}, \"colorscale\": [[0.0, \"#0d0887\"], [0.1111111111111111, \"#46039f\"], [0.2222222222222222, \"#7201a8\"], [0.3333333333333333, \"#9c179e\"], [0.4444444444444444, \"#bd3786\"], [0.5555555555555556, \"#d8576b\"], [0.6666666666666666, \"#ed7953\"], [0.7777777777777778, \"#fb9f3a\"], [0.8888888888888888, \"#fdca26\"], [1.0, \"#f0f921\"]], \"type\": \"heatmap\"}], \"heatmapgl\": [{\"colorbar\": {\"outlinewidth\": 0, \"ticks\": \"\"}, \"colorscale\": [[0.0, \"#0d0887\"], [0.1111111111111111, \"#46039f\"], [0.2222222222222222, \"#7201a8\"], [0.3333333333333333, \"#9c179e\"], [0.4444444444444444, \"#bd3786\"], [0.5555555555555556, \"#d8576b\"], [0.6666666666666666, \"#ed7953\"], [0.7777777777777778, \"#fb9f3a\"], [0.8888888888888888, \"#fdca26\"], [1.0, \"#f0f921\"]], \"type\": \"heatmapgl\"}], \"histogram\": [{\"marker\": {\"colorbar\": {\"outlinewidth\": 0, \"ticks\": \"\"}}, \"type\": \"histogram\"}], \"histogram2d\": [{\"colorbar\": {\"outlinewidth\": 0, \"ticks\": \"\"}, \"colorscale\": [[0.0, \"#0d0887\"], [0.1111111111111111, \"#46039f\"], [0.2222222222222222, \"#7201a8\"], [0.3333333333333333, \"#9c179e\"], [0.4444444444444444, \"#bd3786\"], [0.5555555555555556, \"#d8576b\"], [0.6666666666666666, \"#ed7953\"], [0.7777777777777778, \"#fb9f3a\"], [0.8888888888888888, \"#fdca26\"], [1.0, \"#f0f921\"]], \"type\": \"histogram2d\"}], \"histogram2dcontour\": [{\"colorbar\": {\"outlinewidth\": 0, \"ticks\": \"\"}, \"colorscale\": [[0.0, \"#0d0887\"], [0.1111111111111111, \"#46039f\"], [0.2222222222222222, \"#7201a8\"], [0.3333333333333333, \"#9c179e\"], [0.4444444444444444, \"#bd3786\"], [0.5555555555555556, \"#d8576b\"], [0.6666666666666666, \"#ed7953\"], [0.7777777777777778, \"#fb9f3a\"], [0.8888888888888888, \"#fdca26\"], [1.0, \"#f0f921\"]], \"type\": \"histogram2dcontour\"}], \"mesh3d\": [{\"colorbar\": {\"outlinewidth\": 0, \"ticks\": \"\"}, \"type\": \"mesh3d\"}], \"parcoords\": [{\"line\": {\"colorbar\": {\"outlinewidth\": 0, \"ticks\": \"\"}}, \"type\": \"parcoords\"}], \"scatter\": [{\"marker\": {\"colorbar\": {\"outlinewidth\": 0, \"ticks\": \"\"}}, \"type\": \"scatter\"}], \"scatter3d\": [{\"line\": {\"colorbar\": {\"outlinewidth\": 0, \"ticks\": \"\"}}, \"marker\": {\"colorbar\": {\"outlinewidth\": 0, \"ticks\": \"\"}}, \"type\": \"scatter3d\"}], \"scattercarpet\": [{\"marker\": {\"colorbar\": {\"outlinewidth\": 0, \"ticks\": \"\"}}, \"type\": \"scattercarpet\"}], \"scattergeo\": [{\"marker\": {\"colorbar\": {\"outlinewidth\": 0, \"ticks\": \"\"}}, \"type\": \"scattergeo\"}], \"scattergl\": [{\"marker\": {\"colorbar\": {\"outlinewidth\": 0, \"ticks\": \"\"}}, \"type\": \"scattergl\"}], \"scattermapbox\": [{\"marker\": {\"colorbar\": {\"outlinewidth\": 0, \"ticks\": \"\"}}, \"type\": \"scattermapbox\"}], \"scatterpolar\": [{\"marker\": {\"colorbar\": {\"outlinewidth\": 0, \"ticks\": \"\"}}, \"type\": \"scatterpolar\"}], \"scatterpolargl\": [{\"marker\": {\"colorbar\": {\"outlinewidth\": 0, \"ticks\": \"\"}}, \"type\": \"scatterpolargl\"}], \"scatterternary\": [{\"marker\": {\"colorbar\": {\"outlinewidth\": 0, \"ticks\": \"\"}}, \"type\": \"scatterternary\"}], \"surface\": [{\"colorbar\": {\"outlinewidth\": 0, \"ticks\": \"\"}, \"colorscale\": [[0.0, \"#0d0887\"], [0.1111111111111111, \"#46039f\"], [0.2222222222222222, \"#7201a8\"], [0.3333333333333333, \"#9c179e\"], [0.4444444444444444, \"#bd3786\"], [0.5555555555555556, \"#d8576b\"], [0.6666666666666666, \"#ed7953\"], [0.7777777777777778, \"#fb9f3a\"], [0.8888888888888888, \"#fdca26\"], [1.0, \"#f0f921\"]], \"type\": \"surface\"}], \"table\": [{\"cells\": {\"fill\": {\"color\": \"#EBF0F8\"}, \"line\": {\"color\": \"white\"}}, \"header\": {\"fill\": {\"color\": \"#C8D4E3\"}, \"line\": {\"color\": \"white\"}}, \"type\": \"table\"}]}, \"layout\": {\"annotationdefaults\": {\"arrowcolor\": \"#2a3f5f\", \"arrowhead\": 0, \"arrowwidth\": 1}, \"colorscale\": {\"diverging\": [[0, \"#8e0152\"], [0.1, \"#c51b7d\"], [0.2, \"#de77ae\"], [0.3, \"#f1b6da\"], [0.4, \"#fde0ef\"], [0.5, \"#f7f7f7\"], [0.6, \"#e6f5d0\"], [0.7, \"#b8e186\"], [0.8, \"#7fbc41\"], [0.9, \"#4d9221\"], [1, \"#276419\"]], \"sequential\": [[0.0, \"#0d0887\"], [0.1111111111111111, \"#46039f\"], [0.2222222222222222, \"#7201a8\"], [0.3333333333333333, \"#9c179e\"], [0.4444444444444444, \"#bd3786\"], [0.5555555555555556, \"#d8576b\"], [0.6666666666666666, \"#ed7953\"], [0.7777777777777778, \"#fb9f3a\"], [0.8888888888888888, \"#fdca26\"], [1.0, \"#f0f921\"]], \"sequentialminus\": [[0.0, \"#0d0887\"], [0.1111111111111111, \"#46039f\"], [0.2222222222222222, \"#7201a8\"], [0.3333333333333333, \"#9c179e\"], [0.4444444444444444, \"#bd3786\"], [0.5555555555555556, \"#d8576b\"], [0.6666666666666666, \"#ed7953\"], [0.7777777777777778, \"#fb9f3a\"], [0.8888888888888888, \"#fdca26\"], [1.0, \"#f0f921\"]]}, \"colorway\": [\"#636efa\", \"#EF553B\", \"#00cc96\", \"#ab63fa\", \"#FFA15A\", \"#19d3f3\", \"#FF6692\", \"#B6E880\", \"#FF97FF\", \"#FECB52\"], \"font\": {\"color\": \"#2a3f5f\"}, \"geo\": {\"bgcolor\": \"white\", \"lakecolor\": \"white\", \"landcolor\": \"#E5ECF6\", \"showlakes\": true, \"showland\": true, \"subunitcolor\": \"white\"}, \"hoverlabel\": {\"align\": \"left\"}, \"hovermode\": \"closest\", \"mapbox\": {\"style\": \"light\"}, \"paper_bgcolor\": \"white\", \"plot_bgcolor\": \"#E5ECF6\", \"polar\": {\"angularaxis\": {\"gridcolor\": \"white\", \"linecolor\": \"white\", \"ticks\": \"\"}, \"bgcolor\": \"#E5ECF6\", \"radialaxis\": {\"gridcolor\": \"white\", \"linecolor\": \"white\", \"ticks\": \"\"}}, \"scene\": {\"xaxis\": {\"backgroundcolor\": \"#E5ECF6\", \"gridcolor\": \"white\", \"gridwidth\": 2, \"linecolor\": \"white\", \"showbackground\": true, \"ticks\": \"\", \"zerolinecolor\": \"white\"}, \"yaxis\": {\"backgroundcolor\": \"#E5ECF6\", \"gridcolor\": \"white\", \"gridwidth\": 2, \"linecolor\": \"white\", \"showbackground\": true, \"ticks\": \"\", \"zerolinecolor\": \"white\"}, \"zaxis\": {\"backgroundcolor\": \"#E5ECF6\", \"gridcolor\": \"white\", \"gridwidth\": 2, \"linecolor\": \"white\", \"showbackground\": true, \"ticks\": \"\", \"zerolinecolor\": \"white\"}}, \"shapedefaults\": {\"line\": {\"color\": \"#2a3f5f\"}}, \"ternary\": {\"aaxis\": {\"gridcolor\": \"white\", \"linecolor\": \"white\", \"ticks\": \"\"}, \"baxis\": {\"gridcolor\": \"white\", \"linecolor\": \"white\", \"ticks\": \"\"}, \"bgcolor\": \"#E5ECF6\", \"caxis\": {\"gridcolor\": \"white\", \"linecolor\": \"white\", \"ticks\": \"\"}}, \"title\": {\"x\": 0.05}, \"xaxis\": {\"automargin\": true, \"gridcolor\": \"white\", \"linecolor\": \"white\", \"ticks\": \"\", \"zerolinecolor\": \"white\", \"zerolinewidth\": 2}, \"yaxis\": {\"automargin\": true, \"gridcolor\": \"white\", \"linecolor\": \"white\", \"ticks\": \"\", \"zerolinecolor\": \"white\", \"zerolinewidth\": 2}}}, \"xaxis\": {\"title\": {\"text\": \"fare\"}}, \"yaxis\": {\"title\": {\"text\": \"age\"}}},\n",
       "                        {\"responsive\": true}\n",
       "                    ).then(function(){\n",
       "                            \n",
       "var gd = document.getElementById('64c113e1-a55b-4f9d-8ecc-7132fd0d8143');\n",
       "var x = new MutationObserver(function (mutations, observer) {{\n",
       "        var display = window.getComputedStyle(gd).display;\n",
       "        if (!display || display === 'none') {{\n",
       "            console.log([gd, 'removed!']);\n",
       "            Plotly.purge(gd);\n",
       "            observer.disconnect();\n",
       "        }}\n",
       "}});\n",
       "\n",
       "// Listen for the removal of the full notebook cells\n",
       "var notebookContainer = gd.closest('#notebook-container');\n",
       "if (notebookContainer) {{\n",
       "    x.observe(notebookContainer, {childList: true});\n",
       "}}\n",
       "\n",
       "// Listen for the clearing of the current output cell\n",
       "var outputEl = gd.closest('.output');\n",
       "if (outputEl) {{\n",
       "    x.observe(outputEl, {childList: true});\n",
       "}}\n",
       "\n",
       "                        })\n",
       "                };\n",
       "                });\n",
       "            </script>\n",
       "        </div>"
      ]
     },
     "metadata": {},
     "output_type": "display_data"
    }
   ],
   "source": [
    "import plotly\n",
    "import plotly.graph_objs as go\n",
    "\n",
    "contour = go.Contour(x = xx[0, :], y = yy[:, 0], z = p_survive, colorscale='Viridis')\n",
    "contour_fig = go.Figure(data=[contour])\n",
    "\n",
    "contour_fig.update_layout(xaxis_title='fare',\n",
    "                    yaxis_title='age')\n",
    "\n",
    "plotly.offline.iplot(contour_fig)"
   ]
  },
  {
   "cell_type": "markdown",
   "metadata": {},
   "source": [
    "#### P2B: Using the Model"
   ]
  },
  {
   "cell_type": "markdown",
   "metadata": {},
   "source": [
    "Below, compute the probability of someone surviving if they paid \\$50 for a ticket and were 35 years old according to your model."
   ]
  },
  {
   "cell_type": "code",
   "execution_count": 84,
   "metadata": {},
   "outputs": [
    {
     "data": {
      "text/plain": [
       "array([[0.54224409, 0.45775591]])"
      ]
     },
     "execution_count": 84,
     "metadata": {},
     "output_type": "execute_result"
    }
   ],
   "source": [
    "p_survive_50_dollars_35_years_old = p2a_model.predict_proba([[50, 35]])\n",
    "p_survive_50_dollars_35_years_old"
   ]
  },
  {
   "cell_type": "markdown",
   "metadata": {},
   "source": [
    "Optional: Use the coefficient and intercept below to compute the same probability using the algebraic equation that defines logistic regression."
   ]
  },
  {
   "cell_type": "code",
   "execution_count": 85,
   "metadata": {
    "scrolled": true
   },
   "outputs": [
    {
     "data": {
      "text/plain": [
       "array([[ 0.01725818, -0.01757775]])"
      ]
     },
     "execution_count": 85,
     "metadata": {},
     "output_type": "execute_result"
    }
   ],
   "source": [
    "p2a_model.coef_"
   ]
  },
  {
   "cell_type": "code",
   "execution_count": 86,
   "metadata": {},
   "outputs": [
    {
     "data": {
      "text/plain": [
       "array([-0.41706811])"
      ]
     },
     "execution_count": 86,
     "metadata": {},
     "output_type": "execute_result"
    }
   ],
   "source": [
    "p2a_model.intercept_"
   ]
  },
  {
   "cell_type": "code",
   "execution_count": 87,
   "metadata": {},
   "outputs": [
    {
     "data": {
      "text/plain": [
       "0.4577261630612461"
      ]
     },
     "execution_count": 87,
     "metadata": {},
     "output_type": "execute_result"
    }
   ],
   "source": [
    "p_survive_50_dollars_35_years_old_computed_manually = 1 / (1 + np.exp(0.417 - 0.0172 * 50 + 0.0175 * 35))\n",
    "p_survive_50_dollars_35_years_old_computed_manually"
   ]
  },
  {
   "cell_type": "markdown",
   "metadata": {},
   "source": [
    "#### P2C: Visualizing the Decision Regions"
   ]
  },
  {
   "cell_type": "markdown",
   "metadata": {},
   "source": [
    "Below, create a plot showing the decision regions of your model.\n",
    "\n",
    "Hint: The code will be very similar to the code from P2A, except that it should be using `predict` instead of `predict_proba`.\n",
    "\n",
    "Note: To make your decision boundaries look better, when you call plt.contourf, assign `cmap = sns_cmap`. See the hw5 lecture if you are confused."
   ]
  },
  {
   "cell_type": "code",
   "execution_count": 88,
   "metadata": {},
   "outputs": [
    {
     "data": {
      "image/png": "[encoded data removed]",
      "text/plain": [
       "<Figure size 600x600 with 1 Axes>"
      ]
     },
     "metadata": {},
     "output_type": "display_data"
    }
   ],
   "source": [
    "from matplotlib.colors import ListedColormap\n",
    "# this will make the decision boundary plot look nicer\n",
    "\n",
    "sns_cmap = ListedColormap(np.array(sns.color_palette())[0:2, :])\n",
    "\n",
    "\n",
    "xx, yy = np.meshgrid(np.linspace(0, 550, 20),\n",
    "                     np.linspace(0, 80, 20))\n",
    "\n",
    "survival_predictions = p2a_model.predict(np.c_[xx.ravel(), yy.ravel()])\n",
    "survival_predictions = survival_predictions.reshape(xx.shape)\n",
    "\n",
    "plt.contourf(xx, yy, survival_predictions, cmap=sns_cmap)\n",
    "plt.xlabel(\"fare\")\n",
    "plt.ylabel(\"age\");"
   ]
  },
  {
   "cell_type": "markdown",
   "metadata": {},
   "source": [
    "Now create the same plot, but with the original data overlaid in the same colors. Use the `sns.scatterplot` command similar to what you saw in the lecture 5 notebook."
   ]
  },
  {
   "cell_type": "code",
   "execution_count": 89,
   "metadata": {},
   "outputs": [
    {
     "data": {
      "image/png": "[encoded data removed]",
      "text/plain": [
       "<Figure size 600x600 with 1 Axes>"
      ]
     },
     "metadata": {},
     "output_type": "display_data"
    }
   ],
   "source": [
    "from matplotlib.colors import ListedColormap\n",
    "# this will make the decision boundary plot look nicer\n",
    "\n",
    "sns_cmap = ListedColormap(np.array(sns.color_palette())[0:2, :])\n",
    "\n",
    "\n",
    "xx, yy = np.meshgrid(np.linspace(0, 550, 20),\n",
    "                     np.linspace(0, 80, 20))\n",
    "\n",
    "survival_predictions = p2a_model.predict(np.c_[xx.ravel(), yy.ravel()])\n",
    "survival_predictions = survival_predictions.reshape(xx.shape)\n",
    "\n",
    "plt.contourf(xx, yy, survival_predictions, cmap=sns_cmap)\n",
    "plt.xlabel(\"fare\")\n",
    "plt.ylabel(\"age\")\n",
    "sns.scatterplot(data = p2a_df, x = \"fare\", y=\"age\", hue=\"survived\", s = 20, edgecolor = \"black\", linewidth = 0.5)\n",
    "plt.xlim([0, 550])\n",
    "plt.ylim([0, 80]);"
   ]
  },
  {
   "cell_type": "markdown",
   "metadata": {},
   "source": [
    "#### P2C: Assessing Our Classifier"
   ]
  },
  {
   "cell_type": "markdown",
   "metadata": {},
   "source": [
    "Compute the accuracy of your classifier. You should get a value near 65%."
   ]
  },
  {
   "cell_type": "code",
   "execution_count": 90,
   "metadata": {},
   "outputs": [],
   "source": [
    "survival_predictions = p2a_model.predict(p2a_df[[\"fare\", \"age\"]])"
   ]
  },
  {
   "cell_type": "code",
   "execution_count": 91,
   "metadata": {},
   "outputs": [
    {
     "data": {
      "text/plain": [
       "0      0\n",
       "1      1\n",
       "2      1\n",
       "3      1\n",
       "4      0\n",
       "      ..\n",
       "885    0\n",
       "886    0\n",
       "887    1\n",
       "889    1\n",
       "890    0\n",
       "Name: survived, Length: 714, dtype: int64"
      ]
     },
     "execution_count": 91,
     "metadata": {},
     "output_type": "execute_result"
    }
   ],
   "source": [
    "p2a_df[\"survived\"]"
   ]
  },
  {
   "cell_type": "code",
   "execution_count": 92,
   "metadata": {},
   "outputs": [
    {
     "name": "stdout",
     "output_type": "stream",
     "text": [
      "0.6568627450980392\n"
     ]
    }
   ],
   "source": [
    "num_correct = sum(survival_predictions == p2a_df[\"survived\"])\n",
    "num_total = len(survival_predictions)\n",
    "accuracy = num_correct / num_total\n",
    "print(accuracy)"
   ]
  },
  {
   "cell_type": "markdown",
   "metadata": {},
   "source": [
    "### Part 3: Multidimensional Classification"
   ]
  },
  {
   "cell_type": "markdown",
   "metadata": {},
   "source": [
    "In this part, we'll use the `age`, `fare`, `pclass`, and `sex` of each passenger to build a logistic regression model. We'll also practice using a training set that is separate from the test set."
   ]
  },
  {
   "cell_type": "code",
   "execution_count": 93,
   "metadata": {},
   "outputs": [],
   "source": [
    "p3_df = df[[\"age\", \"fare\", \"pclass\", \"sex\", \"survived\"]].copy()\n",
    "p3_df = p3_df.dropna()"
   ]
  },
  {
   "cell_type": "markdown",
   "metadata": {},
   "source": [
    "The `pclass` indicates the class of the passenger, and can be 1, 2, or 3."
   ]
  },
  {
   "cell_type": "code",
   "execution_count": 94,
   "metadata": {},
   "outputs": [
    {
     "data": {
      "text/plain": [
       "3    355\n",
       "1    186\n",
       "2    173\n",
       "Name: pclass, dtype: int64"
      ]
     },
     "execution_count": 94,
     "metadata": {},
     "output_type": "execute_result"
    }
   ],
   "source": [
    "p3_df['pclass'].value_counts()"
   ]
  },
  {
   "cell_type": "markdown",
   "metadata": {},
   "source": [
    "`sex` refers to whether the passenger was male or female."
   ]
  },
  {
   "cell_type": "code",
   "execution_count": 95,
   "metadata": {},
   "outputs": [
    {
     "data": {
      "text/plain": [
       "male      453\n",
       "female    261\n",
       "Name: sex, dtype: int64"
      ]
     },
     "execution_count": 95,
     "metadata": {},
     "output_type": "execute_result"
    }
   ],
   "source": [
    "p3_df['sex'].value_counts()"
   ]
  },
  {
   "cell_type": "markdown",
   "metadata": {},
   "source": [
    "To use the sex, we'll need to replace \"male\" with 0, and \"female\" with 1."
   ]
  },
  {
   "cell_type": "code",
   "execution_count": 96,
   "metadata": {},
   "outputs": [],
   "source": [
    "p3_df['sex'] = p3_df['sex'].replace(\"male\", 0)\n",
    "p3_df['sex'] = p3_df['sex'].replace(\"female\", 1)"
   ]
  },
  {
   "cell_type": "code",
   "execution_count": 97,
   "metadata": {},
   "outputs": [
    {
     "data": {
      "text/html": [
       "<div>\n",
       "<style scoped>\n",
       "    .dataframe tbody tr th:only-of-type {\n",
       "        vertical-align: middle;\n",
       "    }\n",
       "\n",
       "    .dataframe tbody tr th {\n",
       "        vertical-align: top;\n",
       "    }\n",
       "\n",
       "    .dataframe thead th {\n",
       "        text-align: right;\n",
       "    }\n",
       "</style>\n",
       "<table border=\"1\" class=\"dataframe\">\n",
       "  <thead>\n",
       "    <tr style=\"text-align: right;\">\n",
       "      <th></th>\n",
       "      <th>age</th>\n",
       "      <th>fare</th>\n",
       "      <th>pclass</th>\n",
       "      <th>sex</th>\n",
       "      <th>survived</th>\n",
       "    </tr>\n",
       "  </thead>\n",
       "  <tbody>\n",
       "    <tr>\n",
       "      <td>0</td>\n",
       "      <td>22.0</td>\n",
       "      <td>7.2500</td>\n",
       "      <td>3</td>\n",
       "      <td>0</td>\n",
       "      <td>0</td>\n",
       "    </tr>\n",
       "    <tr>\n",
       "      <td>1</td>\n",
       "      <td>38.0</td>\n",
       "      <td>71.2833</td>\n",
       "      <td>1</td>\n",
       "      <td>1</td>\n",
       "      <td>1</td>\n",
       "    </tr>\n",
       "    <tr>\n",
       "      <td>2</td>\n",
       "      <td>26.0</td>\n",
       "      <td>7.9250</td>\n",
       "      <td>3</td>\n",
       "      <td>1</td>\n",
       "      <td>1</td>\n",
       "    </tr>\n",
       "    <tr>\n",
       "      <td>3</td>\n",
       "      <td>35.0</td>\n",
       "      <td>53.1000</td>\n",
       "      <td>1</td>\n",
       "      <td>1</td>\n",
       "      <td>1</td>\n",
       "    </tr>\n",
       "    <tr>\n",
       "      <td>4</td>\n",
       "      <td>35.0</td>\n",
       "      <td>8.0500</td>\n",
       "      <td>3</td>\n",
       "      <td>0</td>\n",
       "      <td>0</td>\n",
       "    </tr>\n",
       "  </tbody>\n",
       "</table>\n",
       "</div>"
      ],
      "text/plain": [
       "    age     fare  pclass  sex  survived\n",
       "0  22.0   7.2500       3    0         0\n",
       "1  38.0  71.2833       1    1         1\n",
       "2  26.0   7.9250       3    1         1\n",
       "3  35.0  53.1000       1    1         1\n",
       "4  35.0   8.0500       3    0         0"
      ]
     },
     "execution_count": 97,
     "metadata": {},
     "output_type": "execute_result"
    }
   ],
   "source": [
    "p3_df.head(5)"
   ]
  },
  {
   "cell_type": "markdown",
   "metadata": {},
   "source": [
    "#### P3A: Splitting Our Data into a Training and a Test Set"
   ]
  },
  {
   "cell_type": "markdown",
   "metadata": {},
   "source": [
    "Before splitting our data, let's shuffle it to avoid any issues when splitting into a training and test set."
   ]
  },
  {
   "cell_type": "code",
   "execution_count": 98,
   "metadata": {},
   "outputs": [],
   "source": [
    "np.random.seed(100) # sets the random seed for consistency every time you run the notebook\n",
    "p3_df = p3_df.sample(frac=1) # shuffles the data"
   ]
  },
  {
   "cell_type": "markdown",
   "metadata": {},
   "source": [
    "There are 714 people in our dataset."
   ]
  },
  {
   "cell_type": "code",
   "execution_count": 99,
   "metadata": {},
   "outputs": [
    {
     "data": {
      "text/plain": [
       "714"
      ]
     },
     "execution_count": 99,
     "metadata": {},
     "output_type": "execute_result"
    }
   ],
   "source": [
    "len(p3_df)"
   ]
  },
  {
   "cell_type": "markdown",
   "metadata": {},
   "source": [
    "Split the data into a training set of 600 people, and a test set of 114."
   ]
  },
  {
   "cell_type": "code",
   "execution_count": 100,
   "metadata": {},
   "outputs": [],
   "source": [
    "p3_train, p3_test = np.split(p3_df, [600])"
   ]
  },
  {
   "cell_type": "markdown",
   "metadata": {},
   "source": [
    "#### P3B: Training and Assessing a 4 Feature Model"
   ]
  },
  {
   "cell_type": "markdown",
   "metadata": {},
   "source": [
    "Fit a model `p3b_model` that uses all four of our features to predict survival. Make sure to ONLY use the training data."
   ]
  },
  {
   "cell_type": "code",
   "execution_count": 116,
   "metadata": {},
   "outputs": [
    {
     "data": {
      "text/plain": [
       "LogisticRegression(C=1.0, class_weight=None, dual=False, fit_intercept=True,\n",
       "                   intercept_scaling=1, l1_ratio=None, max_iter=100,\n",
       "                   multi_class='auto', n_jobs=None, penalty='l2',\n",
       "                   random_state=None, solver='lbfgs', tol=0.0001, verbose=0,\n",
       "                   warm_start=False)"
      ]
     },
     "execution_count": 116,
     "metadata": {},
     "output_type": "execute_result"
    }
   ],
   "source": [
    "p3b_model = LogisticRegression()\n",
    "p3b_model.fit(p3_train[[\"fare\", \"age\", \"pclass\",  \"sex\"]], p3_train[\"survived\"])"
   ]
  },
  {
   "cell_type": "code",
   "execution_count": 117,
   "metadata": {},
   "outputs": [
    {
     "data": {
      "text/plain": [
       "array([[ 1.13700252e-03, -3.59973150e-02, -1.14443309e+00,\n",
       "         2.40443620e+00]])"
      ]
     },
     "execution_count": 117,
     "metadata": {},
     "output_type": "execute_result"
    }
   ],
   "source": [
    "p3b_model.coef_"
   ]
  },
  {
   "cell_type": "markdown",
   "metadata": {},
   "source": [
    "In the cell below, compute the training set accuracy. You should get something close to 80%. This is great! This is significantly better than what we got with just the fare and age."
   ]
  },
  {
   "cell_type": "code",
   "execution_count": 118,
   "metadata": {},
   "outputs": [
    {
     "name": "stdout",
     "output_type": "stream",
     "text": [
      "0.795\n"
     ]
    }
   ],
   "source": [
    "training_predictions = p3b_model.predict(p3_train[[\"fare\", \"age\", \"pclass\",  \"sex\"]])\n",
    "training_reality = p3_train[\"survived\"]\n",
    "training_accuracy = sum(training_predictions == training_reality) / len(training_reality)\n",
    "print(training_accuracy)"
   ]
  },
  {
   "cell_type": "markdown",
   "metadata": {},
   "source": [
    "Now compute the accuracy on the test set. You'll see that it is very close to your training accuracy. This is amazing news! It means that our model is not overfitting. Even without ever seeing the test data, our model was able to get around 79% of the passengers correct."
   ]
  },
  {
   "cell_type": "code",
   "execution_count": 119,
   "metadata": {},
   "outputs": [
    {
     "name": "stdout",
     "output_type": "stream",
     "text": [
      "0.7807017543859649\n"
     ]
    }
   ],
   "source": [
    "test_predictions = p3b_model.predict(p3_test[[\"fare\", \"age\", \"pclass\",  \"sex\"]])\n",
    "test_reality = p3_test[\"survived\"]\n",
    "test_accuracy = sum(test_predictions == test_reality) / len(test_reality)\n",
    "print(test_accuracy)"
   ]
  },
  {
   "cell_type": "markdown",
   "metadata": {},
   "source": [
    "#### P3C: Going Polynomial"
   ]
  },
  {
   "cell_type": "code",
   "execution_count": 120,
   "metadata": {},
   "outputs": [],
   "source": [
    "from sklearn.preprocessing import PolynomialFeatures\n",
    "from sklearn.preprocessing import StandardScaler\n",
    "from sklearn.pipeline import Pipeline"
   ]
  },
  {
   "cell_type": "markdown",
   "metadata": {},
   "source": [
    "It is possible that there is interaction between our terms. For example, the age of a passenger might have an effect that depends on the class of that passenger.\n",
    "\n",
    "To capture these effects, create a new model `p3c_model` that has 16 features, corresponding to a degree 2 polynomial of our original 4 features.\n",
    "\n",
    "Use the sklearn pipeline feature. Make sure to use a StandardScaler like in HW4. That is, your pipeline should have 3 steps: `StandardScaler`, `PolynomialFeatures`, and `LogisticRegression`. \n",
    "\n",
    "For this problem, make sure to set `penalty = 'none'`. This will disable regularization. We'll discuss regularization in lecture 6.\n",
    "\n",
    "**Note:** Because the `PolynomialFeatures` step already creates an intercept, it is slightly better practice to set `fit_intercept = False` in `LogisticRegression`, but this is not necessary."
   ]
  },
  {
   "cell_type": "code",
   "execution_count": 124,
   "metadata": {},
   "outputs": [
    {
     "data": {
      "text/plain": [
       "Pipeline(memory=None,\n",
       "         steps=[('scale',\n",
       "                 StandardScaler(copy=True, with_mean=True, with_std=True)),\n",
       "                ('poly',\n",
       "                 PolynomialFeatures(degree=2, include_bias=True,\n",
       "                                    interaction_only=False, order='C')),\n",
       "                ('model',\n",
       "                 LogisticRegression(C=1.0, class_weight=None, dual=False,\n",
       "                                    fit_intercept=False, intercept_scaling=1,\n",
       "                                    l1_ratio=None, max_iter=100,\n",
       "                                    multi_class='auto', n_jobs=None,\n",
       "                                    penalty='none', random_state=None,\n",
       "                                    solver='lbfgs', tol=0.0001, verbose=0,\n",
       "                                    warm_start=False))],\n",
       "         verbose=False)"
      ]
     },
     "execution_count": 124,
     "metadata": {},
     "output_type": "execute_result"
    }
   ],
   "source": [
    "p3c_model = Pipeline([        \n",
    "    ('scale', StandardScaler()),        \n",
    "    ('poly', PolynomialFeatures(degree=2)),\n",
    "    ('model', LogisticRegression(fit_intercept=False, penalty = 'none'))\n",
    "])   \n",
    "p3c_model.fit(p3_train[[\"fare\", \"age\", \"pclass\",  \"sex\"]], p3_train[\"survived\"])"
   ]
  },
  {
   "cell_type": "markdown",
   "metadata": {},
   "source": [
    "Compute the training accuracy of your model below. It should be around 82%. It's an improvement over what we had before, implying the polynomial features do actually help, at least somewhat."
   ]
  },
  {
   "cell_type": "code",
   "execution_count": 125,
   "metadata": {},
   "outputs": [
    {
     "name": "stdout",
     "output_type": "stream",
     "text": [
      "0.8316666666666667\n"
     ]
    }
   ],
   "source": [
    "training_predictions = p3c_model.predict(p3_train[[\"fare\", \"age\", \"pclass\",  \"sex\"]])\n",
    "training_reality = p3_train[\"survived\"]\n",
    "training_accuracy = sum(training_predictions == training_reality) / len(training_reality)\n",
    "print(training_accuracy)"
   ]
  },
  {
   "cell_type": "markdown",
   "metadata": {},
   "source": [
    "Compute the test accuracy of your model below. You'll see it is somewhat lower (77%) than the training accuracy and also slightly lower than when we fit a model without polynomial features. This implies that there is potentially overfitting happening here."
   ]
  },
  {
   "cell_type": "code",
   "execution_count": 123,
   "metadata": {
    "scrolled": true
   },
   "outputs": [
    {
     "name": "stdout",
     "output_type": "stream",
     "text": [
      "0.7719298245614035\n"
     ]
    }
   ],
   "source": [
    "test_predictions = p3c_model.predict(p3_test[[\"fare\", \"age\", \"pclass\",  \"sex\"]])\n",
    "test_reality = p3_test[\"survived\"]\n",
    "test_accuracy = sum(test_predictions == test_reality) / len(test_reality)\n",
    "print(test_accuracy)"
   ]
  },
  {
   "cell_type": "markdown",
   "metadata": {},
   "source": [
    "One quick note: We used the test set twice in this homework, once for p3b_model, and once for p3c_model. **In the real world, it would be absolutely inappropriate to pick p3c_model over p3b_model because of its test set performance.** You should never use the test set to pick a model, as this means you are effectively fitting your model to the test data."
   ]
  },
  {
   "cell_type": "markdown",
   "metadata": {},
   "source": [
    "#### Conclusion"
   ]
  },
  {
   "cell_type": "markdown",
   "metadata": {},
   "source": [
    "In this homework, you built a classifier that was able to predict deaths on the Titanic with fairly decent accuracy. "
   ]
  },
  {
   "cell_type": "markdown",
   "metadata": {},
   "source": [
    "#### Optional P3D: High Degee Polynomial Model"
   ]
  },
  {
   "cell_type": "markdown",
   "metadata": {},
   "source": [
    "Optionally, try fitting a degree 5 polynomial just like in p3c_model. Then compute the training and test accuracy. You should see that the training error is lower, but the test error is higher. This is a warning that we are overfitting. Note: You may need to set the `max_iter` in the `LogisticRegression` object to a larger number, e.g. 10000 or even 100000.\n",
    "\n",
    "Again, make sure to set `penalty = 'none'`.\n",
    "\n",
    "In the next lecture we will talk about regularization in the context of Logistic Regression."
   ]
  },
  {
   "cell_type": "code",
   "execution_count": 132,
   "metadata": {},
   "outputs": [
    {
     "data": {
      "text/plain": [
       "Pipeline(memory=None,\n",
       "         steps=[('scale',\n",
       "                 StandardScaler(copy=True, with_mean=True, with_std=True)),\n",
       "                ('poly',\n",
       "                 PolynomialFeatures(degree=5, include_bias=True,\n",
       "                                    interaction_only=False, order='C')),\n",
       "                ('model',\n",
       "                 LogisticRegression(C=1.0, class_weight=None, dual=False,\n",
       "                                    fit_intercept=False, intercept_scaling=1,\n",
       "                                    l1_ratio=None, max_iter=100000,\n",
       "                                    multi_class='auto', n_jobs=None,\n",
       "                                    penalty='l2', random_state=None,\n",
       "                                    solver='lbfgs', tol=0.0001, verbose=0,\n",
       "                                    warm_start=False))],\n",
       "         verbose=False)"
      ]
     },
     "execution_count": 132,
     "metadata": {},
     "output_type": "execute_result"
    }
   ],
   "source": [
    "p3d_model = Pipeline([        \n",
    "    ('scale', StandardScaler()),        \n",
    "    ('poly', PolynomialFeatures(degree=5)),\n",
    "    ('model', LogisticRegression(fit_intercept=False, max_iter = 100000, penalty = 'none'))\n",
    "])   \n",
    "p3d_model.fit(p3_train[[\"fare\", \"age\", \"pclass\",  \"sex\"]], p3_train[\"survived\"])"
   ]
  },
  {
   "cell_type": "markdown",
   "metadata": {},
   "source": [
    "Now create a plot showing the jittered data overlaid with the probability of survival predicted by your model. "
   ]
  },
  {
   "cell_type": "code",
   "execution_count": 133,
   "metadata": {},
   "outputs": [
    {
     "name": "stdout",
     "output_type": "stream",
     "text": [
      "0.85\n"
     ]
    }
   ],
   "source": [
    "training_predictions = p3d_model.predict(p3_train[[\"fare\", \"age\", \"pclass\",  \"sex\"]])\n",
    "training_reality = p3_train[\"survived\"]\n",
    "training_accuracy = sum(training_predictions == training_reality) / len(training_reality)\n",
    "print(training_accuracy)"
   ]
  },
  {
   "cell_type": "code",
   "execution_count": 134,
   "metadata": {},
   "outputs": [
    {
     "name": "stdout",
     "output_type": "stream",
     "text": [
      "0.8421052631578947\n"
     ]
    }
   ],
   "source": [
    "test_predictions = p3d_model.predict(p3_test[[\"fare\", \"age\", \"pclass\",  \"sex\"]])\n",
    "test_reality = p3_test[\"survived\"]\n",
    "test_accuracy = sum(test_predictions == test_reality) / len(test_reality)\n",
    "print(test_accuracy)"
   ]
  }
 ],
 "metadata": {
  "kernelspec": {
   "display_name": "Python 3",
   "language": "python",
   "name": "python3"
  },
  "language_info": {
   "codemirror_mode": {
    "name": "ipython",
    "version": 3
   },
   "file_extension": ".py",
   "mimetype": "text/x-python",
   "name": "python",
   "nbconvert_exporter": "python",
   "pygments_lexer": "ipython3",
   "version": "3.6.4"
  }
 },
 "nbformat": 4,
 "nbformat_minor": 2
}
