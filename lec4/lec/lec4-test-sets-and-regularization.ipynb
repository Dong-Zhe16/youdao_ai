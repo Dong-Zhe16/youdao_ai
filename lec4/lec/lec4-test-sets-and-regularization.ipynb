{
 "cells": [
  {
   "cell_type": "code",
   "execution_count": 188,
   "metadata": {},
   "outputs": [],
   "source": [
    "import seaborn as sns\n",
    "import pandas as pd\n",
    "sns.set(font_scale=1.5)\n",
    "import matplotlib.pyplot as plt\n",
    "import numpy as np\n",
    "from sklearn import linear_model\n",
    "from sklearn.metrics import mean_squared_error\n",
    "from sklearn.metrics import mean_absolute_error\n",
    "from sklearn.linear_model import LinearRegression\n",
    "from sklearn.preprocessing import PolynomialFeatures\n",
    "from sklearn.preprocessing import StandardScaler\n",
    "\n",
    "from sklearn.pipeline import Pipeline"
   ]
  },
  {
   "cell_type": "markdown",
   "metadata": {},
   "source": [
    "## The Training, Validation, Test Split"
   ]
  },
  {
   "cell_type": "code",
   "execution_count": 189,
   "metadata": {},
   "outputs": [
    {
     "data": {
      "text/html": [
       "<div>\n",
       "<style scoped>\n",
       "    .dataframe tbody tr th:only-of-type {\n",
       "        vertical-align: middle;\n",
       "    }\n",
       "\n",
       "    .dataframe tbody tr th {\n",
       "        vertical-align: top;\n",
       "    }\n",
       "\n",
       "    .dataframe thead th {\n",
       "        text-align: right;\n",
       "    }\n",
       "</style>\n",
       "<table border=\"1\" class=\"dataframe\">\n",
       "  <thead>\n",
       "    <tr style=\"text-align: right;\">\n",
       "      <th></th>\n",
       "      <th>carat</th>\n",
       "      <th>cut</th>\n",
       "      <th>color</th>\n",
       "      <th>clarity</th>\n",
       "      <th>depth</th>\n",
       "      <th>table</th>\n",
       "      <th>price</th>\n",
       "      <th>x</th>\n",
       "      <th>y</th>\n",
       "      <th>z</th>\n",
       "    </tr>\n",
       "  </thead>\n",
       "  <tbody>\n",
       "    <tr>\n",
       "      <td>0</td>\n",
       "      <td>1.00</td>\n",
       "      <td>Ideal</td>\n",
       "      <td>E</td>\n",
       "      <td>I1</td>\n",
       "      <td>61.8</td>\n",
       "      <td>56.0</td>\n",
       "      <td>3520</td>\n",
       "      <td>6.38</td>\n",
       "      <td>6.43</td>\n",
       "      <td>3.96</td>\n",
       "    </tr>\n",
       "    <tr>\n",
       "      <td>1</td>\n",
       "      <td>2.18</td>\n",
       "      <td>Ideal</td>\n",
       "      <td>I</td>\n",
       "      <td>SI2</td>\n",
       "      <td>62.5</td>\n",
       "      <td>55.0</td>\n",
       "      <td>15706</td>\n",
       "      <td>8.31</td>\n",
       "      <td>8.34</td>\n",
       "      <td>5.20</td>\n",
       "    </tr>\n",
       "    <tr>\n",
       "      <td>2</td>\n",
       "      <td>0.53</td>\n",
       "      <td>Ideal</td>\n",
       "      <td>H</td>\n",
       "      <td>SI1</td>\n",
       "      <td>62.2</td>\n",
       "      <td>54.0</td>\n",
       "      <td>1205</td>\n",
       "      <td>5.18</td>\n",
       "      <td>5.23</td>\n",
       "      <td>3.24</td>\n",
       "    </tr>\n",
       "    <tr>\n",
       "      <td>3</td>\n",
       "      <td>0.30</td>\n",
       "      <td>Ideal</td>\n",
       "      <td>G</td>\n",
       "      <td>VS1</td>\n",
       "      <td>61.5</td>\n",
       "      <td>57.0</td>\n",
       "      <td>605</td>\n",
       "      <td>4.31</td>\n",
       "      <td>4.34</td>\n",
       "      <td>2.66</td>\n",
       "    </tr>\n",
       "    <tr>\n",
       "      <td>4</td>\n",
       "      <td>0.76</td>\n",
       "      <td>Premium</td>\n",
       "      <td>E</td>\n",
       "      <td>SI1</td>\n",
       "      <td>58.3</td>\n",
       "      <td>62.0</td>\n",
       "      <td>2937</td>\n",
       "      <td>6.12</td>\n",
       "      <td>5.95</td>\n",
       "      <td>3.52</td>\n",
       "    </tr>\n",
       "  </tbody>\n",
       "</table>\n",
       "</div>"
      ],
      "text/plain": [
       "   carat      cut color clarity  depth  table  price     x     y     z\n",
       "0   1.00    Ideal     E      I1   61.8   56.0   3520  6.38  6.43  3.96\n",
       "1   2.18    Ideal     I     SI2   62.5   55.0  15706  8.31  8.34  5.20\n",
       "2   0.53    Ideal     H     SI1   62.2   54.0   1205  5.18  5.23  3.24\n",
       "3   0.30    Ideal     G     VS1   61.5   57.0    605  4.31  4.34  2.66\n",
       "4   0.76  Premium     E     SI1   58.3   62.0   2937  6.12  5.95  3.52"
      ]
     },
     "execution_count": 189,
     "metadata": {},
     "output_type": "execute_result"
    }
   ],
   "source": [
    "diamond_data = pd.read_csv(\"diamond_data.csv\")\n",
    "diamond_data.head()"
   ]
  },
  {
   "cell_type": "code",
   "execution_count": 190,
   "metadata": {},
   "outputs": [
    {
     "data": {
      "text/plain": [
       "2000"
      ]
     },
     "execution_count": 190,
     "metadata": {},
     "output_type": "execute_result"
    }
   ],
   "source": [
    "len(diamond_data)"
   ]
  },
  {
   "cell_type": "code",
   "execution_count": 191,
   "metadata": {},
   "outputs": [
    {
     "data": {
      "text/html": [
       "<div>\n",
       "<style scoped>\n",
       "    .dataframe tbody tr th:only-of-type {\n",
       "        vertical-align: middle;\n",
       "    }\n",
       "\n",
       "    .dataframe tbody tr th {\n",
       "        vertical-align: top;\n",
       "    }\n",
       "\n",
       "    .dataframe thead th {\n",
       "        text-align: right;\n",
       "    }\n",
       "</style>\n",
       "<table border=\"1\" class=\"dataframe\">\n",
       "  <thead>\n",
       "    <tr style=\"text-align: right;\">\n",
       "      <th></th>\n",
       "      <th>carat</th>\n",
       "      <th>cut</th>\n",
       "      <th>color</th>\n",
       "      <th>clarity</th>\n",
       "      <th>depth</th>\n",
       "      <th>table</th>\n",
       "      <th>price</th>\n",
       "      <th>x</th>\n",
       "      <th>y</th>\n",
       "      <th>z</th>\n",
       "    </tr>\n",
       "  </thead>\n",
       "  <tbody>\n",
       "    <tr>\n",
       "      <td>305</td>\n",
       "      <td>0.59</td>\n",
       "      <td>Ideal</td>\n",
       "      <td>E</td>\n",
       "      <td>VVS1</td>\n",
       "      <td>62.0</td>\n",
       "      <td>56.0</td>\n",
       "      <td>2829</td>\n",
       "      <td>5.36</td>\n",
       "      <td>5.38</td>\n",
       "      <td>3.33</td>\n",
       "    </tr>\n",
       "    <tr>\n",
       "      <td>1051</td>\n",
       "      <td>1.23</td>\n",
       "      <td>Ideal</td>\n",
       "      <td>H</td>\n",
       "      <td>SI2</td>\n",
       "      <td>60.6</td>\n",
       "      <td>57.0</td>\n",
       "      <td>5951</td>\n",
       "      <td>6.98</td>\n",
       "      <td>6.94</td>\n",
       "      <td>4.22</td>\n",
       "    </tr>\n",
       "    <tr>\n",
       "      <td>790</td>\n",
       "      <td>1.00</td>\n",
       "      <td>Good</td>\n",
       "      <td>E</td>\n",
       "      <td>SI1</td>\n",
       "      <td>59.8</td>\n",
       "      <td>65.0</td>\n",
       "      <td>4213</td>\n",
       "      <td>6.56</td>\n",
       "      <td>6.45</td>\n",
       "      <td>3.89</td>\n",
       "    </tr>\n",
       "    <tr>\n",
       "      <td>1385</td>\n",
       "      <td>0.58</td>\n",
       "      <td>Ideal</td>\n",
       "      <td>F</td>\n",
       "      <td>VVS1</td>\n",
       "      <td>61.6</td>\n",
       "      <td>57.0</td>\n",
       "      <td>2728</td>\n",
       "      <td>5.33</td>\n",
       "      <td>5.38</td>\n",
       "      <td>3.30</td>\n",
       "    </tr>\n",
       "    <tr>\n",
       "      <td>32</td>\n",
       "      <td>1.00</td>\n",
       "      <td>Premium</td>\n",
       "      <td>F</td>\n",
       "      <td>VS1</td>\n",
       "      <td>59.2</td>\n",
       "      <td>60.0</td>\n",
       "      <td>7056</td>\n",
       "      <td>6.53</td>\n",
       "      <td>6.48</td>\n",
       "      <td>3.58</td>\n",
       "    </tr>\n",
       "  </tbody>\n",
       "</table>\n",
       "</div>"
      ],
      "text/plain": [
       "      carat      cut color clarity  depth  table  price     x     y     z\n",
       "305    0.59    Ideal     E    VVS1   62.0   56.0   2829  5.36  5.38  3.33\n",
       "1051   1.23    Ideal     H     SI2   60.6   57.0   5951  6.98  6.94  4.22\n",
       "790    1.00     Good     E     SI1   59.8   65.0   4213  6.56  6.45  3.89\n",
       "1385   0.58    Ideal     F    VVS1   61.6   57.0   2728  5.33  5.38  3.30\n",
       "32     1.00  Premium     F     VS1   59.2   60.0   7056  6.53  6.48  3.58"
      ]
     },
     "execution_count": 191,
     "metadata": {},
     "output_type": "execute_result"
    }
   ],
   "source": [
    "from sklearn.utils import shuffle\n",
    "np.random.seed(31415)\n",
    "diamond_data = shuffle(diamond_data)\n",
    "diamond_data.head()"
   ]
  },
  {
   "cell_type": "code",
   "execution_count": 192,
   "metadata": {},
   "outputs": [],
   "source": [
    "#split our 2000 rows into 1500 for training, 300 for validation, 200 for test\n",
    "diamond_training_data, diamond_validation_data, diamond_test_data = np.split(diamond_data, [1500, 1800])"
   ]
  },
  {
   "cell_type": "code",
   "execution_count": 193,
   "metadata": {},
   "outputs": [
    {
     "data": {
      "text/plain": [
       "1500"
      ]
     },
     "execution_count": 193,
     "metadata": {},
     "output_type": "execute_result"
    }
   ],
   "source": [
    "len(diamond_training_data)"
   ]
  },
  {
   "cell_type": "code",
   "execution_count": 194,
   "metadata": {},
   "outputs": [
    {
     "data": {
      "text/plain": [
       "300"
      ]
     },
     "execution_count": 194,
     "metadata": {},
     "output_type": "execute_result"
    }
   ],
   "source": [
    "len(diamond_validation_data)"
   ]
  },
  {
   "cell_type": "code",
   "execution_count": 195,
   "metadata": {
    "scrolled": true
   },
   "outputs": [
    {
     "data": {
      "text/plain": [
       "200"
      ]
     },
     "execution_count": 195,
     "metadata": {},
     "output_type": "execute_result"
    }
   ],
   "source": [
    "len(diamond_test_data)"
   ]
  },
  {
   "cell_type": "code",
   "execution_count": 196,
   "metadata": {},
   "outputs": [],
   "source": [
    "numeric_diamond_training_data = diamond_training_data[[\"carat\", \"depth\", \"table\", \"x\", \"y\", \"z\"]]\n",
    "numeric_diamond_validation_data = diamond_validation_data[[\"carat\", \"depth\", \"table\", \"x\", \"y\", \"z\"]]\n",
    "numeric_diamond_test_data = diamond_test_data[[\"carat\", \"depth\", \"table\", \"x\", \"y\", \"z\"]]"
   ]
  },
  {
   "cell_type": "code",
   "execution_count": 197,
   "metadata": {},
   "outputs": [],
   "source": [
    "def get_training_and_validation_mse(degree):\n",
    "    diamond_poly_model = Pipeline([\n",
    "        ('poly', PolynomialFeatures(degree=degree)),\n",
    "        ('model', LinearRegression(fit_intercept=False))\n",
    "    ])\n",
    "    \n",
    "    diamond_poly_model.fit(numeric_diamond_training_data, diamond_training_data[[\"price\"]])    \n",
    "    \n",
    "    training_error = mean_squared_error(diamond_poly_model.predict(numeric_diamond_training_data), diamond_training_data[[\"price\"]])\n",
    "    validation_error = mean_squared_error(diamond_poly_model.predict(numeric_diamond_validation_data), diamond_validation_data[[\"price\"]])\n",
    "    return training_error, validation_error"
   ]
  },
  {
   "cell_type": "code",
   "execution_count": 198,
   "metadata": {},
   "outputs": [
    {
     "data": {
      "text/plain": [
       "Text(0, 0.5, 'MSE')"
      ]
     },
     "execution_count": 198,
     "metadata": {},
     "output_type": "execute_result"
    },
    {
     "data": {
      "image/png": "[encoded data removed]",
      "text/plain": [
       "<Figure size 432x288 with 1 Axes>"
      ]
     },
     "metadata": {},
     "output_type": "display_data"
    }
   ],
   "source": [
    "mses = np.array([get_training_and_validation_mse(i) for i in range(5)])\n",
    "plt.plot(mses[:, 0])\n",
    "plt.plot(mses[:, 1])\n",
    "plt.legend([\"training\", \"validation\"])\n",
    "plt.xlabel('Polynomial Degree')\n",
    "plt.ylabel('MSE')"
   ]
  },
  {
   "cell_type": "markdown",
   "metadata": {},
   "source": [
    "Since degree 2 minimizes the validation error, let's use that."
   ]
  },
  {
   "cell_type": "code",
   "execution_count": 199,
   "metadata": {},
   "outputs": [
    {
     "data": {
      "text/plain": [
       "Pipeline(memory=None,\n",
       "     steps=[('poly', PolynomialFeatures(degree=2, include_bias=True, interaction_only=False)), ('model', LinearRegression(copy_X=True, fit_intercept=False, n_jobs=1, normalize=False))])"
      ]
     },
     "execution_count": 199,
     "metadata": {},
     "output_type": "execute_result"
    }
   ],
   "source": [
    "diamond_poly_model = Pipeline([\n",
    "    ('poly', PolynomialFeatures(degree=2)),\n",
    "    ('model', LinearRegression(fit_intercept=False))\n",
    "])\n",
    "diamond_poly_model.fit(numeric_diamond_training_data, diamond_training_data[[\"price\"]])"
   ]
  },
  {
   "cell_type": "code",
   "execution_count": 200,
   "metadata": {},
   "outputs": [
    {
     "data": {
      "text/plain": [
       "array([[ 2.29766455e+06,  3.35320272e+05, -6.62243156e+04,\n",
       "        -6.82227646e+03,  6.08277962e+03, -5.94485402e+05,\n",
       "         8.47670814e+05, -2.05236443e+04, -6.99580511e+03,\n",
       "         6.55499307e+02, -4.45258200e+04,  1.03428008e+04,\n",
       "         8.24633682e+04,  4.39339352e+02,  1.41588443e+02,\n",
       "        -1.13506746e+03,  9.67521617e+03, -1.12268561e+04,\n",
       "        -7.43790781e+00,  7.86308380e+02,  4.87110546e+02,\n",
       "        -2.51975928e+03, -2.61284705e+04,  2.72537740e+04,\n",
       "         5.53925598e+04,  2.91780854e+04, -1.48611781e+05,\n",
       "         6.46259519e+04]])"
      ]
     },
     "execution_count": 200,
     "metadata": {},
     "output_type": "execute_result"
    }
   ],
   "source": [
    "diamond_poly_model.named_steps[\"model\"].coef_"
   ]
  },
  {
   "cell_type": "code",
   "execution_count": 201,
   "metadata": {},
   "outputs": [
    {
     "data": {
      "text/plain": [
       "1943708.2353207907"
      ]
     },
     "execution_count": 201,
     "metadata": {},
     "output_type": "execute_result"
    }
   ],
   "source": [
    "mean_squared_error(diamond_poly_model.predict(numeric_diamond_training_data), diamond_training_data[[\"price\"]])"
   ]
  },
  {
   "cell_type": "code",
   "execution_count": 202,
   "metadata": {},
   "outputs": [
    {
     "data": {
      "text/plain": [
       "2628700.273572883"
      ]
     },
     "execution_count": 202,
     "metadata": {},
     "output_type": "execute_result"
    }
   ],
   "source": [
    "mean_squared_error(diamond_poly_model.predict(numeric_diamond_test_data), diamond_test_data[[\"price\"]])"
   ]
  },
  {
   "cell_type": "markdown",
   "metadata": {},
   "source": [
    "## Regularization"
   ]
  },
  {
   "cell_type": "code",
   "execution_count": 203,
   "metadata": {},
   "outputs": [
    {
     "data": {
      "text/plain": [
       "LinearRegression(copy_X=True, fit_intercept=True, n_jobs=1, normalize=False)"
      ]
     },
     "execution_count": 203,
     "metadata": {},
     "output_type": "execute_result"
    }
   ],
   "source": [
    "diamond_linear_model = linear_model.LinearRegression()\n",
    "diamond_linear_model.fit(numeric_diamond_training_data, diamond_training_data[[\"price\"]])"
   ]
  },
  {
   "cell_type": "code",
   "execution_count": 204,
   "metadata": {
    "scrolled": true
   },
   "outputs": [
    {
     "data": {
      "text/plain": [
       "array([[  9653.44335538,    673.21040001,    -49.59434766,\n",
       "         -1509.97271414,   9535.89018689, -14263.30237321]])"
      ]
     },
     "execution_count": 204,
     "metadata": {},
     "output_type": "execute_result"
    }
   ],
   "source": [
    "diamond_linear_model.coef_"
   ]
  },
  {
   "cell_type": "code",
   "execution_count": 205,
   "metadata": {},
   "outputs": [
    {
     "data": {
      "text/plain": [
       "Ridge(alpha=100, copy_X=True, fit_intercept=True, max_iter=None,\n",
       "   normalize=False, random_state=None, solver='auto', tol=0.001)"
      ]
     },
     "execution_count": 205,
     "metadata": {},
     "output_type": "execute_result"
    }
   ],
   "source": [
    "diamond_linear_ridge_model = linear_model.Ridge(alpha=100)\n",
    "diamond_linear_ridge_model.fit(numeric_diamond_training_data, diamond_training_data[[\"price\"]])"
   ]
  },
  {
   "cell_type": "code",
   "execution_count": 206,
   "metadata": {
    "scrolled": true
   },
   "outputs": [
    {
     "data": {
      "text/plain": [
       "array([[1538.21623224,  -66.53501142,  -60.12187676,  971.65087145,\n",
       "        1164.96768562,  634.13061712]])"
      ]
     },
     "execution_count": 206,
     "metadata": {},
     "output_type": "execute_result"
    }
   ],
   "source": [
    "diamond_linear_ridge_model.coef_"
   ]
  },
  {
   "cell_type": "code",
   "execution_count": 207,
   "metadata": {},
   "outputs": [
    {
     "data": {
      "text/plain": [
       "2613827.2912406116"
      ]
     },
     "execution_count": 207,
     "metadata": {},
     "output_type": "execute_result"
    }
   ],
   "source": [
    "mean_squared_error(diamond_linear_model.predict(numeric_diamond_training_data), diamond_training_data[[\"price\"]])"
   ]
  },
  {
   "cell_type": "code",
   "execution_count": 208,
   "metadata": {},
   "outputs": [
    {
     "data": {
      "text/plain": [
       "3302279.7114102263"
      ]
     },
     "execution_count": 208,
     "metadata": {},
     "output_type": "execute_result"
    }
   ],
   "source": [
    "mean_squared_error(diamond_linear_ridge_model.predict(numeric_diamond_training_data), diamond_training_data[[\"price\"]])"
   ]
  },
  {
   "cell_type": "code",
   "execution_count": 209,
   "metadata": {
    "scrolled": true
   },
   "outputs": [
    {
     "data": {
      "text/plain": [
       "Ridge(alpha=100, copy_X=True, fit_intercept=True, max_iter=None,\n",
       "   normalize=False, random_state=None, solver='auto', tol=0.001)"
      ]
     },
     "execution_count": 209,
     "metadata": {},
     "output_type": "execute_result"
    }
   ],
   "source": [
    "ss = StandardScaler()\n",
    "ss.fit(numeric_diamond_training_data)\n",
    "scaled_numeric_diamond_training_data = ss.transform(numeric_diamond_training_data)\n",
    "scaled_diamond_linear_ridge_model = linear_model.Ridge(alpha=100)\n",
    "scaled_diamond_linear_ridge_model.fit(scaled_numeric_diamond_training_data, diamond_training_data[[\"price\"]])"
   ]
  },
  {
   "cell_type": "code",
   "execution_count": 210,
   "metadata": {},
   "outputs": [
    {
     "data": {
      "text/plain": [
       "array([[2002.28388458, -167.16663868, -128.86708803,  452.59707128,\n",
       "         640.49293435,  469.80118953]])"
      ]
     },
     "execution_count": 210,
     "metadata": {},
     "output_type": "execute_result"
    }
   ],
   "source": [
    "scaled_diamond_linear_ridge_model.coef_"
   ]
  },
  {
   "cell_type": "code",
   "execution_count": 211,
   "metadata": {},
   "outputs": [
    {
     "data": {
      "text/plain": [
       "Pipeline(memory=None,\n",
       "     steps=[('scale', StandardScaler(copy=True, with_mean=True, with_std=True)), ('model', Ridge(alpha=100, copy_X=True, fit_intercept=True, max_iter=None,\n",
       "   normalize=False, random_state=None, solver='auto', tol=0.001))])"
      ]
     },
     "execution_count": 211,
     "metadata": {},
     "output_type": "execute_result"
    }
   ],
   "source": [
    "scaled_diamond_linear_ridge_model_pipeline = Pipeline([\n",
    "        ('scale', StandardScaler()),\n",
    "        ('model', linear_model.Ridge(alpha=100))\n",
    "    ])\n",
    "\n",
    "scaled_diamond_linear_ridge_model_pipeline.fit(numeric_diamond_training_data, diamond_training_data[[\"price\"]])"
   ]
  },
  {
   "cell_type": "code",
   "execution_count": 212,
   "metadata": {},
   "outputs": [
    {
     "data": {
      "text/plain": [
       "array([[2002.28388458, -167.16663868, -128.86708803,  452.59707128,\n",
       "         640.49293435,  469.80118953]])"
      ]
     },
     "execution_count": 212,
     "metadata": {},
     "output_type": "execute_result"
    }
   ],
   "source": [
    "scaled_diamond_linear_ridge_model_pipeline.named_steps[\"model\"].coef_"
   ]
  },
  {
   "cell_type": "code",
   "execution_count": 213,
   "metadata": {},
   "outputs": [
    {
     "data": {
      "text/plain": [
       "2975938.762509778"
      ]
     },
     "execution_count": 213,
     "metadata": {},
     "output_type": "execute_result"
    }
   ],
   "source": [
    "mean_squared_error(scaled_diamond_linear_ridge_model_pipeline.predict(numeric_diamond_training_data), diamond_training_data[[\"price\"]])"
   ]
  },
  {
   "cell_type": "code",
   "execution_count": 214,
   "metadata": {},
   "outputs": [
    {
     "data": {
      "text/plain": [
       "2613827.2912406116"
      ]
     },
     "execution_count": 214,
     "metadata": {},
     "output_type": "execute_result"
    }
   ],
   "source": [
    "mean_squared_error(diamond_linear_model.predict(numeric_diamond_training_data), diamond_training_data[[\"price\"]])"
   ]
  },
  {
   "cell_type": "markdown",
   "metadata": {},
   "source": [
    "Where things get interesting is when we look at how test and validation error vary as a function of alpha. First let's consider a linear regression model that uses features up to polynomial degree 4."
   ]
  },
  {
   "cell_type": "code",
   "execution_count": 215,
   "metadata": {},
   "outputs": [
    {
     "data": {
      "text/plain": [
       "73971430.55503131"
      ]
     },
     "execution_count": 215,
     "metadata": {},
     "output_type": "execute_result"
    }
   ],
   "source": [
    "#uses scaling to avoid numerical error\n",
    "degree_4_linear_regression_model = Pipeline([        \n",
    "    ('scale', StandardScaler()),        \n",
    "    ('poly', PolynomialFeatures(degree=4)),\n",
    "    ('model', linear_model.LinearRegression(fit_intercept=False))\n",
    "])   \n",
    "\n",
    "degree_4_linear_regression_model.fit(numeric_diamond_training_data, diamond_training_data[[\"price\"]])\n",
    "mean_squared_error(degree_4_linear_regression_model.predict(numeric_diamond_validation_data), diamond_validation_data[[\"price\"]])"
   ]
  },
  {
   "cell_type": "code",
   "execution_count": 216,
   "metadata": {},
   "outputs": [
    {
     "name": "stderr",
     "output_type": "stream",
     "text": [
      "/home/hug/miniconda2/envs/data100/lib/python3.6/site-packages/sklearn/linear_model/ridge.py:112: LinAlgWarning: Ill-conditioned matrix (rcond=3.24477e-19): result may not be accurate.\n",
      "  overwrite_a=True).T\n"
     ]
    },
    {
     "data": {
      "text/plain": [
       "77254300.1957586"
      ]
     },
     "execution_count": 216,
     "metadata": {},
     "output_type": "execute_result"
    }
   ],
   "source": [
    "degree_4_ridge_regression_model = Pipeline([        \n",
    "    ('scale', StandardScaler()),    \n",
    "    ('poly', PolynomialFeatures(degree = 4)),\n",
    "    ('model', linear_model.Ridge(alpha = 0, fit_intercept=False))\n",
    "])   \n",
    "\n",
    "degree_4_ridge_regression_model.fit(numeric_diamond_training_data, diamond_training_data[[\"price\"]])\n",
    "mean_squared_error(degree_4_ridge_regression_model.predict(numeric_diamond_validation_data), diamond_validation_data[[\"price\"]])"
   ]
  },
  {
   "cell_type": "code",
   "execution_count": 217,
   "metadata": {},
   "outputs": [],
   "source": [
    "def get_diamond_ridge_training_and_validation_mse_error(alpha):\n",
    "    model = Pipeline([\n",
    "        ('scale', StandardScaler()),\n",
    "        ('poly', PolynomialFeatures(degree=4)),\n",
    "        ('model', linear_model.Ridge(alpha=alpha, fit_intercept=False))\n",
    "    ])    \n",
    "    \n",
    "    model.fit(numeric_diamond_training_data, diamond_training_data[[\"price\"]])\n",
    "    \n",
    "    training_mse = mean_squared_error(model.predict(numeric_diamond_training_data), diamond_training_data['price'])\n",
    "    validation_mse = mean_squared_error(model.predict(numeric_diamond_validation_data), diamond_validation_data['price'])\n",
    "\n",
    "    return training_mse, validation_mse"
   ]
  },
  {
   "cell_type": "code",
   "execution_count": 218,
   "metadata": {},
   "outputs": [
    {
     "data": {
      "text/plain": [
       "Text(0, 0.5, 'MSE')"
      ]
     },
     "execution_count": 218,
     "metadata": {},
     "output_type": "execute_result"
    },
    {
     "data": {
      "image/png": "[encoded data removed]",
      "text/plain": [
       "<Figure size 432x288 with 1 Axes>"
      ]
     },
     "metadata": {},
     "output_type": "display_data"
    }
   ],
   "source": [
    "alphas = 10**np.linspace(-3, 3, 100) #between 10^-3 and 10^3\n",
    "mses = np.array([get_diamond_ridge_training_and_validation_mse_error(alpha) for alpha in alphas])\n",
    "plt.plot(alphas, mses[:, 0])\n",
    "plt.plot(alphas, mses[:, 1])\n",
    "plt.legend([\"training\", \"validation\"])\n",
    "plt.xlabel(r'$\\alpha$')\n",
    "plt.ylabel('MSE')"
   ]
  },
  {
   "cell_type": "code",
   "execution_count": 219,
   "metadata": {},
   "outputs": [
    {
     "data": {
      "text/plain": [
       "(1764477.5366211906, 3289825.0053150794)"
      ]
     },
     "execution_count": 219,
     "metadata": {},
     "output_type": "execute_result"
    }
   ],
   "source": [
    "get_diamond_ridge_training_and_validation_mse_error(10**-1)"
   ]
  },
  {
   "cell_type": "code",
   "execution_count": 220,
   "metadata": {},
   "outputs": [
    {
     "data": {
      "text/plain": [
       "Text(0, 0.5, 'MSE')"
      ]
     },
     "execution_count": 220,
     "metadata": {},
     "output_type": "execute_result"
    },
    {
     "data": {
      "image/png": "[encoded data removed]",
      "text/plain": [
       "<Figure size 432x288 with 1 Axes>"
      ]
     },
     "metadata": {},
     "output_type": "display_data"
    }
   ],
   "source": [
    "alphas = 10**np.linspace(-3, 3, 100)\n",
    "mses = np.array([get_diamond_ridge_training_and_validation_mse_error(alpha) for alpha in alphas])\n",
    "plt.semilogx(alphas, mses[:, 0])\n",
    "plt.semilogx(alphas, mses[:, 1])\n",
    "plt.legend([\"training\", \"validation\"])\n",
    "plt.xlabel(r'$\\alpha$')\n",
    "plt.ylabel('MSE')"
   ]
  },
  {
   "cell_type": "code",
   "execution_count": 221,
   "metadata": {},
   "outputs": [
    {
     "data": {
      "text/plain": [
       "Text(0, 0.5, 'MSE')"
      ]
     },
     "execution_count": 221,
     "metadata": {},
     "output_type": "execute_result"
    },
    {
     "data": {
      "image/png": "[encoded data removed]",
      "text/plain": [
       "<Figure size 432x288 with 1 Axes>"
      ]
     },
     "metadata": {},
     "output_type": "display_data"
    }
   ],
   "source": [
    "alphas = 10**np.linspace(3, -3, 100)\n",
    "mses = np.array([get_diamond_ridge_training_and_validation_mse_error(alpha) for alpha in alphas])\n",
    "plt.semilogx(1/alphas, mses[:, 0])\n",
    "plt.semilogx(1/alphas, mses[:, 1])\n",
    "plt.legend([\"training\", \"validation\"])\n",
    "plt.xlabel(r'$1/\\alpha$')\n",
    "plt.ylabel('MSE')"
   ]
  },
  {
   "cell_type": "code",
   "execution_count": 222,
   "metadata": {},
   "outputs": [
    {
     "data": {
      "text/plain": [
       "Pipeline(memory=None,\n",
       "     steps=[('scale', StandardScaler(copy=True, with_mean=True, with_std=True)), ('poly', PolynomialFeatures(degree=4, include_bias=True, interaction_only=False)), ('model', Ridge(alpha=80, copy_X=True, fit_intercept=False, max_iter=None,\n",
       "   normalize=False, random_state=None, solver='auto', tol=0.001))])"
      ]
     },
     "execution_count": 222,
     "metadata": {},
     "output_type": "execute_result"
    }
   ],
   "source": [
    "model = Pipeline([\n",
    "    ('scale', StandardScaler()),\n",
    "    ('poly', PolynomialFeatures(degree=4)),\n",
    "    ('model', linear_model.Ridge(alpha=80, fit_intercept=False))\n",
    "])    \n",
    "model.fit(numeric_diamond_training_data, diamond_training_data[[\"price\"]])"
   ]
  },
  {
   "cell_type": "code",
   "execution_count": 223,
   "metadata": {},
   "outputs": [
    {
     "data": {
      "text/plain": [
       "array([[ 2.36469810e+03,  3.76581618e+02, -3.93184606e+01,\n",
       "        -8.34490681e+01,  7.80066072e+02,  8.73613642e+02,\n",
       "         8.07287029e+02,  1.87340493e+01, -2.25599036e+01,\n",
       "         1.87428381e+01,  7.67516514e+01,  1.24308490e+02,\n",
       "         9.77483311e+01,  8.60740849e+01,  9.38257553e+01,\n",
       "        -3.11674130e+01, -1.38036048e+01,  9.23653647e+00,\n",
       "         2.07485875e+02, -1.81756617e+01, -1.93084998e+01,\n",
       "        -2.29393305e+01,  2.08432969e+02,  2.63271571e+02,\n",
       "         2.27595848e+02,  3.23217003e+02,  2.86271109e+02,\n",
       "         2.60748458e+02, -7.18023990e+01, -2.16381687e+01,\n",
       "        -7.68920784e+00, -6.71191680e+01, -2.25764668e+01,\n",
       "        -3.44936522e+01,  3.85224542e+01, -5.94485977e+01,\n",
       "        -1.87907586e+00, -3.47048538e+01,  1.96110607e+00,\n",
       "         1.47211387e+01, -6.71541534e+00,  8.13400137e-01,\n",
       "        -1.86536167e+01, -6.30616658e+01, -1.01521694e+01,\n",
       "        -2.79207332e+01,  4.59086387e+01,  2.11562133e+01,\n",
       "         9.00846746e+00,  1.14808923e+00,  4.98228870e+01,\n",
       "        -7.38124956e+01,  7.53058852e+01, -3.96647946e+01,\n",
       "         2.43560857e+01,  1.31373307e+01, -2.41596402e+00,\n",
       "         3.74322946e+01,  1.94531243e+01, -1.27091828e+01,\n",
       "         1.45701577e+01, -4.73063488e+01,  1.40563534e-01,\n",
       "         9.09590465e+00,  1.00145707e+01, -3.40270086e+01,\n",
       "         6.84715911e+01,  3.49461055e+00, -2.03840827e+01,\n",
       "        -1.32280277e+01, -2.62585044e+01, -5.15549076e+00,\n",
       "        -2.12443857e+01, -2.19104875e+01, -4.85802850e+01,\n",
       "         1.26944439e+01, -1.09351293e+01,  7.77136373e+01,\n",
       "         4.68637810e+01,  2.94286132e+01,  1.47224365e+02,\n",
       "         1.08459741e+02,  8.58839792e+01,  6.86261778e+01,\n",
       "         9.66921064e+01,  2.64299068e+01,  1.12417297e+02,\n",
       "        -1.59807540e+01, -2.01496768e+01,  4.58513276e+01,\n",
       "        -2.48275949e+01, -3.27197097e+01,  1.68737559e+01,\n",
       "        -2.33645223e+01,  1.29841895e+01,  6.98171204e+01,\n",
       "         5.64939153e+01,  2.78948868e+01,  2.73362867e+01,\n",
       "        -7.20143085e+01, -6.18610772e+01, -2.37468811e+01,\n",
       "        -4.83944326e+01, -1.79825938e+01,  2.62102276e+01,\n",
       "        -6.64537719e+01, -2.24157330e+01, -6.43449800e+01,\n",
       "         4.35382151e+01, -3.66255724e+01,  2.35476334e+01,\n",
       "         3.05194379e+01, -4.05397626e+01, -1.66459277e+01,\n",
       "         4.17677981e+01, -8.59040771e+00,  1.96765152e+01,\n",
       "        -5.76497117e+01, -1.43725336e+01,  4.43889873e+00,\n",
       "        -5.63779491e+01, -8.31356730e+01,  5.58978922e+01,\n",
       "        -6.89381842e+00,  4.34044449e+00, -5.07126427e+00,\n",
       "         1.37708286e+00, -1.39322177e+01, -1.86037139e+01,\n",
       "        -1.38862970e+01, -1.01817675e+02, -7.62814062e+01,\n",
       "        -5.29392359e+01, -4.77619874e+01, -3.36579167e+01,\n",
       "        -7.17982248e+00, -1.56451691e+01, -1.07850213e+01,\n",
       "         8.52520707e+00,  3.60827211e+01, -1.14843282e+01,\n",
       "        -1.89251240e+01, -1.91650802e+01, -1.43856538e+00,\n",
       "         9.32667964e+01, -7.04131988e+01,  1.00339709e+01,\n",
       "         5.60528292e+01, -9.34128828e+00, -1.06041202e+02,\n",
       "         1.18525649e+01, -7.57228929e+01,  1.27681790e+02,\n",
       "         4.02279173e+01, -2.52475292e+00, -1.63352646e+01,\n",
       "        -1.22694421e+01,  2.56696813e+01,  8.97342776e+00,\n",
       "         5.50133847e+01, -7.29189386e+00,  3.08206140e+01,\n",
       "        -7.18053103e+01, -2.67896899e+01, -1.02667459e+01,\n",
       "         6.53110840e+01,  8.47922175e+00,  3.27484894e+01,\n",
       "        -4.82908860e+01, -7.20965977e+00,  3.56100311e+00,\n",
       "        -1.04791460e+02, -4.70951690e+01, -1.98551331e+01,\n",
       "        -7.34409109e+00, -1.20363213e+01,  3.29074679e+01,\n",
       "        -1.08232212e+01,  1.55851838e+01, -1.53019804e+02,\n",
       "        -1.64148767e+01, -9.00797759e+01,  1.20662484e+02,\n",
       "         5.05568191e+01, -1.37091749e+01, -2.26306946e+01,\n",
       "        -1.99559233e+01, -1.44162850e+01, -1.63692365e+01,\n",
       "        -2.08949998e+01, -1.07940264e+01, -1.12796529e+01,\n",
       "        -2.65439981e+01, -2.61037713e+01, -1.98501410e+01,\n",
       "        -1.00889505e+02, -6.05325891e+01, -4.79098289e+01,\n",
       "        -1.72025073e+01, -1.49226837e+01,  2.69114608e-01,\n",
       "         2.97044748e+01,  2.14323722e+01,  2.84385493e+01,\n",
       "         4.22101176e+01,  8.08092693e+01,  6.17820112e+01,\n",
       "         6.04100736e+01,  6.82059310e+01,  8.17539050e+01]])"
      ]
     },
     "execution_count": 223,
     "metadata": {},
     "output_type": "execute_result"
    }
   ],
   "source": [
    "model.named_steps['model'].coef_"
   ]
  },
  {
   "cell_type": "code",
   "execution_count": 224,
   "metadata": {},
   "outputs": [
    {
     "data": {
      "text/plain": [
       "2447469.810322093"
      ]
     },
     "execution_count": 224,
     "metadata": {},
     "output_type": "execute_result"
    }
   ],
   "source": [
    "mean_squared_error(model.predict(numeric_diamond_validation_data), diamond_validation_data[[\"price\"]])"
   ]
  },
  {
   "cell_type": "code",
   "execution_count": 225,
   "metadata": {},
   "outputs": [
    {
     "data": {
      "text/plain": [
       "Pipeline(memory=None,\n",
       "     steps=[('scale', StandardScaler(copy=True, with_mean=True, with_std=True)), ('poly', PolynomialFeatures(degree=3, include_bias=True, interaction_only=False)), ('model', Ridge(alpha=80, copy_X=True, fit_intercept=False, max_iter=None,\n",
       "   normalize=False, random_state=None, solver='auto', tol=0.001))])"
      ]
     },
     "execution_count": 225,
     "metadata": {},
     "output_type": "execute_result"
    }
   ],
   "source": [
    "model = Pipeline([\n",
    "    ('scale', StandardScaler()),\n",
    "    ('poly', PolynomialFeatures(degree=3)),\n",
    "    ('model', linear_model.Ridge(alpha=80, fit_intercept=False))\n",
    "])    \n",
    "model.fit(numeric_diamond_training_data, diamond_training_data[[\"price\"]])"
   ]
  },
  {
   "cell_type": "code",
   "execution_count": 226,
   "metadata": {},
   "outputs": [
    {
     "data": {
      "text/plain": [
       "array([[ 2.50017721e+03,  4.26877667e+02,  1.58464984e+01,\n",
       "        -8.28079580e+01,  8.51393899e+02,  9.39829492e+02,\n",
       "         8.80982073e+02,  1.79479078e+01, -6.43642391e+01,\n",
       "         3.89343478e+00,  7.75421889e+00,  1.63098047e+02,\n",
       "         8.20393744e+01, -1.77261417e+01,  5.09784380e+01,\n",
       "        -2.55672908e+01, -2.72254599e+01, -9.52870918e-01,\n",
       "         7.94644798e+01, -5.37329358e+01, -4.81209296e+01,\n",
       "        -6.58805120e+01,  7.57094958e+01,  2.26822787e+02,\n",
       "         1.44950836e+02,  3.83210152e+02,  2.97017318e+02,\n",
       "         2.25878798e+02,  8.31657366e+01,  2.81502611e+02,\n",
       "         1.89244245e+02, -3.13253964e+02, -6.16633513e+01,\n",
       "        -4.33783182e+01, -1.56851785e+02, -1.87429318e+02,\n",
       "         4.17361649e+00, -2.18812557e+01,  1.29338816e+00,\n",
       "        -1.20715567e+02,  8.78890956e+01,  9.93524724e+01,\n",
       "         1.37287901e+01, -3.36312490e+02, -1.28395840e+02,\n",
       "        -1.80431847e+02,  7.87695974e+01,  2.20906488e+01,\n",
       "        -1.80372957e+01,  7.52274204e+00,  3.15125714e+01,\n",
       "        -1.46484525e+00,  1.62428454e+02, -1.04046284e+02,\n",
       "         1.84547115e+01,  2.48876192e+01, -2.13662158e+01,\n",
       "         6.27284219e+01, -1.92120942e+01, -5.96384087e+01,\n",
       "        -2.19673003e+01, -1.01598499e+02, -3.79638312e+01,\n",
       "        -5.76934622e+01, -2.11183361e+01, -5.62135994e+01,\n",
       "         1.12042701e+02,  2.48762277e+01, -4.42987288e+01,\n",
       "        -2.76682951e+01, -7.36300088e+01, -9.83436702e+00,\n",
       "        -6.42054178e+01, -8.96856079e+01, -1.80592491e+02,\n",
       "        -6.45263193e+00, -7.79966730e+01,  1.68481706e+02,\n",
       "         8.97331886e+01,  2.89264996e+01,  3.45089212e+02,\n",
       "         2.58479153e+02,  1.93871394e+02,  1.30331295e+02]])"
      ]
     },
     "execution_count": 226,
     "metadata": {},
     "output_type": "execute_result"
    }
   ],
   "source": [
    "model.named_steps['model'].coef_"
   ]
  },
  {
   "cell_type": "code",
   "execution_count": 227,
   "metadata": {},
   "outputs": [
    {
     "data": {
      "text/plain": [
       "Pipeline(memory=None,\n",
       "     steps=[('scale', StandardScaler(copy=True, with_mean=True, with_std=True)), ('poly', PolynomialFeatures(degree=3, include_bias=True, interaction_only=False)), ('model', Lasso(alpha=80, copy_X=True, fit_intercept=False, max_iter=1000,\n",
       "   normalize=False, positive=False, precompute=False, random_state=None,\n",
       "   selection='cyclic', tol=0.0001, warm_start=False))])"
      ]
     },
     "execution_count": 227,
     "metadata": {},
     "output_type": "execute_result"
    }
   ],
   "source": [
    "model = Pipeline([\n",
    "    ('scale', StandardScaler()),\n",
    "    ('poly', PolynomialFeatures(degree=3)),\n",
    "    ('model', linear_model.Lasso(alpha=80, fit_intercept=False))\n",
    "])    \n",
    "model.fit(numeric_diamond_training_data, diamond_training_data[[\"price\"]])"
   ]
  },
  {
   "cell_type": "code",
   "execution_count": 228,
   "metadata": {},
   "outputs": [
    {
     "data": {
      "text/plain": [
       "array([2827.94850771,    0.        ,    0.        ,   -0.        ,\n",
       "          0.        , 2602.64945042,  471.03559313,    0.        ,\n",
       "          0.        ,   -0.        ,    0.        ,    0.        ,\n",
       "          0.        ,  -40.82715454,    0.        ,    0.        ,\n",
       "          0.        ,    0.        ,    0.        ,   -0.        ,\n",
       "         -0.        ,   -0.        ,    0.        ,    0.        ,\n",
       "          0.        , 1279.94096822,    0.        ,    0.        ,\n",
       "       -164.44344008,  104.65103891,   56.02802995,   -0.        ,\n",
       "         -0.        ,   -0.        ,   -0.        ,   -0.        ,\n",
       "          0.        ,    0.        ,    0.        ,    0.        ,\n",
       "          0.        ,    0.        ,    0.        ,   -0.        ,\n",
       "          0.        ,    0.        ,    0.        ,    0.        ,\n",
       "          0.        ,   -8.80341513,   -0.        ,   -0.        ,\n",
       "         -0.        ,  -25.27143356,    0.        ,   -0.        ,\n",
       "         -0.        ,   -0.        ,    0.        ,    0.        ,\n",
       "          0.        ,    0.        ,    0.        ,    0.        ,\n",
       "        -15.5232513 ,   -0.        ,    0.        ,    0.        ,\n",
       "          0.        ,    0.        ,    0.        ,    0.        ,\n",
       "          0.        ,    0.        ,    0.        ,    0.        ,\n",
       "          0.        ,    0.        ,    0.        ,    0.        ,\n",
       "        221.38990353,    0.        ,    0.        ,    0.        ])"
      ]
     },
     "execution_count": 228,
     "metadata": {},
     "output_type": "execute_result"
    }
   ],
   "source": [
    "model.named_steps['model'].coef_"
   ]
  },
  {
   "cell_type": "code",
   "execution_count": 229,
   "metadata": {},
   "outputs": [
    {
     "data": {
      "text/plain": [
       "Pipeline(memory=None,\n",
       "     steps=[('scale', StandardScaler(copy=True, with_mean=True, with_std=True)), ('poly', PolynomialFeatures(degree=4, include_bias=True, interaction_only=False)), ('model', Ridge(alpha=80, copy_X=True, fit_intercept=False, max_iter=None,\n",
       "   normalize=False, random_state=None, solver='auto', tol=0.001))])"
      ]
     },
     "execution_count": 229,
     "metadata": {},
     "output_type": "execute_result"
    }
   ],
   "source": [
    "ridge_alpha_80 = Pipeline([\n",
    "    ('scale', StandardScaler()),\n",
    "    ('poly', PolynomialFeatures(degree=4)),\n",
    "    ('model', linear_model.Ridge(alpha=80, fit_intercept=False))\n",
    "])    \n",
    "ridge_alpha_80.fit(numeric_diamond_training_data, diamond_training_data[[\"price\"]])"
   ]
  },
  {
   "cell_type": "markdown",
   "metadata": {},
   "source": [
    "## Cross Validation Demo"
   ]
  },
  {
   "cell_type": "markdown",
   "metadata": {},
   "source": [
    "With the linear_model.Ridge model, we had to pick a particular alpha."
   ]
  },
  {
   "cell_type": "code",
   "execution_count": 230,
   "metadata": {},
   "outputs": [
    {
     "data": {
      "text/plain": [
       "Pipeline(memory=None,\n",
       "     steps=[('scale', StandardScaler(copy=True, with_mean=True, with_std=True)), ('poly', PolynomialFeatures(degree=4, include_bias=True, interaction_only=False)), ('model', Ridge(alpha=0.1, copy_X=True, fit_intercept=False, max_iter=None,\n",
       "   normalize=False, random_state=None, solver='auto', tol=0.001))])"
      ]
     },
     "execution_count": 230,
     "metadata": {},
     "output_type": "execute_result"
    }
   ],
   "source": [
    "ridge_model = Pipeline([\n",
    "    ('scale', StandardScaler()),\n",
    "    ('poly', PolynomialFeatures(degree=4)),\n",
    "    ('model', linear_model.Ridge(alpha=0.1, fit_intercept=False))\n",
    "])    \n",
    "ridge_model.fit(numeric_diamond_training_data, diamond_training_data[[\"price\"]])"
   ]
  },
  {
   "cell_type": "markdown",
   "metadata": {},
   "source": [
    "With the linear_model.RidgeCV model, we give a list of alphas and it will automatically find the best one. \n",
    "This is done without use of a pre-determined validation set!"
   ]
  },
  {
   "cell_type": "code",
   "execution_count": 231,
   "metadata": {},
   "outputs": [
    {
     "data": {
      "text/plain": [
       "Pipeline(memory=None,\n",
       "     steps=[('scale', StandardScaler(copy=True, with_mean=True, with_std=True)), ('poly', PolynomialFeatures(degree=4, include_bias=True, interaction_only=False)), ('model', RidgeCV(alphas=[0.01, 0.1, 1, 10, 100], cv=None, fit_intercept=False,\n",
       "    gcv_mode=None, normalize=False, scoring=None, store_cv_values=False))])"
      ]
     },
     "execution_count": 231,
     "metadata": {},
     "output_type": "execute_result"
    }
   ],
   "source": [
    "cv_model = Pipeline([\n",
    "    ('scale', StandardScaler()),\n",
    "    ('poly', PolynomialFeatures(degree=4)),\n",
    "    ('model', linear_model.RidgeCV(alphas=[0.01, 0.1, 1, 10, 100], fit_intercept=False))\n",
    "])    \n",
    "cv_model.fit(numeric_diamond_training_data, diamond_training_data[[\"price\"]])"
   ]
  },
  {
   "cell_type": "code",
   "execution_count": 232,
   "metadata": {},
   "outputs": [
    {
     "data": {
      "text/plain": [
       "100.0"
      ]
     },
     "execution_count": 232,
     "metadata": {},
     "output_type": "execute_result"
    }
   ],
   "source": [
    "cv_model.named_steps['model'].alpha_"
   ]
  },
  {
   "cell_type": "code",
   "execution_count": 233,
   "metadata": {},
   "outputs": [
    {
     "data": {
      "text/plain": [
       "Pipeline(memory=None,\n",
       "     steps=[('scale', StandardScaler(copy=True, with_mean=True, with_std=True)), ('poly', PolynomialFeatures(degree=4, include_bias=True, interaction_only=False)), ('model', RidgeCV(alphas=array([1.00000e+03, 8.69749e+02, ..., 1.14976e-03, 1.00000e-03]),\n",
       "    cv=None, fit_intercept=False, gcv_mode=None, normalize=False,\n",
       "    scoring=None, store_cv_values=False))])"
      ]
     },
     "execution_count": 233,
     "metadata": {},
     "output_type": "execute_result"
    }
   ],
   "source": [
    "cv_model = Pipeline([\n",
    "    ('scale', StandardScaler()),\n",
    "    ('poly', PolynomialFeatures(degree=4)),\n",
    "    ('model', linear_model.RidgeCV(alphas=10**np.linspace(3, -3, 100), fit_intercept=False))\n",
    "])    \n",
    "cv_model.fit(numeric_diamond_training_data, diamond_training_data[[\"price\"]])"
   ]
  },
  {
   "cell_type": "code",
   "execution_count": 234,
   "metadata": {},
   "outputs": [
    {
     "data": {
      "text/plain": [
       "187.3817422860383"
      ]
     },
     "execution_count": 234,
     "metadata": {},
     "output_type": "execute_result"
    }
   ],
   "source": [
    "cv_model.named_steps['model'].alpha_"
   ]
  },
  {
   "cell_type": "markdown",
   "metadata": {},
   "source": [
    "Earlier, from our graph, we saw that an alpha of around 80 minimized the error on a special validation set."
   ]
  },
  {
   "cell_type": "code",
   "execution_count": 235,
   "metadata": {},
   "outputs": [
    {
     "data": {
      "text/plain": [
       "2447469.810322093"
      ]
     },
     "execution_count": 235,
     "metadata": {},
     "output_type": "execute_result"
    }
   ],
   "source": [
    "mean_squared_error(ridge_alpha_80.predict(numeric_diamond_validation_data), diamond_validation_data[[\"price\"]])"
   ]
  },
  {
   "cell_type": "markdown",
   "metadata": {},
   "source": [
    "Interestingly, even though our cv_model never even got to see the numeric_diamond_validation_data, the alpha it picks is still pretty good on this unseen data."
   ]
  },
  {
   "cell_type": "code",
   "execution_count": 236,
   "metadata": {},
   "outputs": [
    {
     "data": {
      "text/plain": [
       "3072021.442605327"
      ]
     },
     "execution_count": 236,
     "metadata": {},
     "output_type": "execute_result"
    }
   ],
   "source": [
    "mean_squared_error(cv_model.predict(numeric_diamond_validation_data), diamond_validation_data[[\"price\"]])"
   ]
  }
 ],
 "metadata": {
  "kernelspec": {
   "display_name": "Python 3",
   "language": "python",
   "name": "python3"
  },
  "language_info": {
   "codemirror_mode": {
    "name": "ipython",
    "version": 3
   },
   "file_extension": ".py",
   "mimetype": "text/x-python",
   "name": "python",
   "nbconvert_exporter": "python",
   "pygments_lexer": "ipython3",
   "version": "3.6.6"
  }
 },
 "nbformat": 4,
 "nbformat_minor": 2
}
