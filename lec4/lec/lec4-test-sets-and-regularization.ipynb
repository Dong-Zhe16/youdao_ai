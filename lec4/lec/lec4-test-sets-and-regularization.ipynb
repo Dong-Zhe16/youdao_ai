{
 "cells": [
  {
   "cell_type": "code",
   "execution_count": 439,
   "metadata": {},
   "outputs": [],
   "source": [
    "import seaborn as sns\n",
    "import pandas as pd\n",
    "sns.set(font_scale=1.5)\n",
    "import matplotlib.pyplot as plt\n",
    "import numpy as np\n",
    "from sklearn import linear_model\n",
    "from sklearn.metrics import mean_squared_error\n",
    "from sklearn.metrics import mean_absolute_error\n",
    "from sklearn.linear_model import LinearRegression\n",
    "from sklearn.preprocessing import PolynomialFeatures\n",
    "from sklearn.preprocessing import StandardScaler\n",
    "\n",
    "from sklearn.pipeline import Pipeline"
   ]
  },
  {
   "cell_type": "markdown",
   "metadata": {},
   "source": [
    "## The Training, Validation, Test Split"
   ]
  },
  {
   "cell_type": "code",
   "execution_count": 440,
   "metadata": {},
   "outputs": [
    {
     "data": {
      "text/html": [
       "<div>\n",
       "<style scoped>\n",
       "    .dataframe tbody tr th:only-of-type {\n",
       "        vertical-align: middle;\n",
       "    }\n",
       "\n",
       "    .dataframe tbody tr th {\n",
       "        vertical-align: top;\n",
       "    }\n",
       "\n",
       "    .dataframe thead th {\n",
       "        text-align: right;\n",
       "    }\n",
       "</style>\n",
       "<table border=\"1\" class=\"dataframe\">\n",
       "  <thead>\n",
       "    <tr style=\"text-align: right;\">\n",
       "      <th></th>\n",
       "      <th>carat</th>\n",
       "      <th>cut</th>\n",
       "      <th>color</th>\n",
       "      <th>clarity</th>\n",
       "      <th>depth</th>\n",
       "      <th>table</th>\n",
       "      <th>price</th>\n",
       "      <th>x</th>\n",
       "      <th>y</th>\n",
       "      <th>z</th>\n",
       "    </tr>\n",
       "  </thead>\n",
       "  <tbody>\n",
       "    <tr>\n",
       "      <th>0</th>\n",
       "      <td>1.00</td>\n",
       "      <td>Ideal</td>\n",
       "      <td>E</td>\n",
       "      <td>I1</td>\n",
       "      <td>61.8</td>\n",
       "      <td>56.0</td>\n",
       "      <td>3520</td>\n",
       "      <td>6.38</td>\n",
       "      <td>6.43</td>\n",
       "      <td>3.96</td>\n",
       "    </tr>\n",
       "    <tr>\n",
       "      <th>1</th>\n",
       "      <td>2.18</td>\n",
       "      <td>Ideal</td>\n",
       "      <td>I</td>\n",
       "      <td>SI2</td>\n",
       "      <td>62.5</td>\n",
       "      <td>55.0</td>\n",
       "      <td>15706</td>\n",
       "      <td>8.31</td>\n",
       "      <td>8.34</td>\n",
       "      <td>5.20</td>\n",
       "    </tr>\n",
       "    <tr>\n",
       "      <th>2</th>\n",
       "      <td>0.53</td>\n",
       "      <td>Ideal</td>\n",
       "      <td>H</td>\n",
       "      <td>SI1</td>\n",
       "      <td>62.2</td>\n",
       "      <td>54.0</td>\n",
       "      <td>1205</td>\n",
       "      <td>5.18</td>\n",
       "      <td>5.23</td>\n",
       "      <td>3.24</td>\n",
       "    </tr>\n",
       "    <tr>\n",
       "      <th>3</th>\n",
       "      <td>0.30</td>\n",
       "      <td>Ideal</td>\n",
       "      <td>G</td>\n",
       "      <td>VS1</td>\n",
       "      <td>61.5</td>\n",
       "      <td>57.0</td>\n",
       "      <td>605</td>\n",
       "      <td>4.31</td>\n",
       "      <td>4.34</td>\n",
       "      <td>2.66</td>\n",
       "    </tr>\n",
       "    <tr>\n",
       "      <th>4</th>\n",
       "      <td>0.76</td>\n",
       "      <td>Premium</td>\n",
       "      <td>E</td>\n",
       "      <td>SI1</td>\n",
       "      <td>58.3</td>\n",
       "      <td>62.0</td>\n",
       "      <td>2937</td>\n",
       "      <td>6.12</td>\n",
       "      <td>5.95</td>\n",
       "      <td>3.52</td>\n",
       "    </tr>\n",
       "  </tbody>\n",
       "</table>\n",
       "</div>"
      ],
      "text/plain": [
       "   carat      cut color clarity  depth  table  price     x     y     z\n",
       "0   1.00    Ideal     E      I1   61.8   56.0   3520  6.38  6.43  3.96\n",
       "1   2.18    Ideal     I     SI2   62.5   55.0  15706  8.31  8.34  5.20\n",
       "2   0.53    Ideal     H     SI1   62.2   54.0   1205  5.18  5.23  3.24\n",
       "3   0.30    Ideal     G     VS1   61.5   57.0    605  4.31  4.34  2.66\n",
       "4   0.76  Premium     E     SI1   58.3   62.0   2937  6.12  5.95  3.52"
      ]
     },
     "execution_count": 440,
     "metadata": {},
     "output_type": "execute_result"
    }
   ],
   "source": [
    "diamond_data = pd.read_csv(\"diamond_data.csv\")\n",
    "diamond_data.head()"
   ]
  },
  {
   "cell_type": "code",
   "execution_count": 441,
   "metadata": {},
   "outputs": [
    {
     "data": {
      "text/plain": [
       "2000"
      ]
     },
     "execution_count": 441,
     "metadata": {},
     "output_type": "execute_result"
    }
   ],
   "source": [
    "len(diamond_data)"
   ]
  },
  {
   "cell_type": "code",
   "execution_count": 442,
   "metadata": {},
   "outputs": [
    {
     "data": {
      "text/html": [
       "<div>\n",
       "<style scoped>\n",
       "    .dataframe tbody tr th:only-of-type {\n",
       "        vertical-align: middle;\n",
       "    }\n",
       "\n",
       "    .dataframe tbody tr th {\n",
       "        vertical-align: top;\n",
       "    }\n",
       "\n",
       "    .dataframe thead th {\n",
       "        text-align: right;\n",
       "    }\n",
       "</style>\n",
       "<table border=\"1\" class=\"dataframe\">\n",
       "  <thead>\n",
       "    <tr style=\"text-align: right;\">\n",
       "      <th></th>\n",
       "      <th>carat</th>\n",
       "      <th>cut</th>\n",
       "      <th>color</th>\n",
       "      <th>clarity</th>\n",
       "      <th>depth</th>\n",
       "      <th>table</th>\n",
       "      <th>price</th>\n",
       "      <th>x</th>\n",
       "      <th>y</th>\n",
       "      <th>z</th>\n",
       "    </tr>\n",
       "  </thead>\n",
       "  <tbody>\n",
       "    <tr>\n",
       "      <th>585</th>\n",
       "      <td>2.01</td>\n",
       "      <td>Very Good</td>\n",
       "      <td>H</td>\n",
       "      <td>VS2</td>\n",
       "      <td>60.7</td>\n",
       "      <td>56.0</td>\n",
       "      <td>18561</td>\n",
       "      <td>8.08</td>\n",
       "      <td>8.17</td>\n",
       "      <td>4.93</td>\n",
       "    </tr>\n",
       "    <tr>\n",
       "      <th>435</th>\n",
       "      <td>0.57</td>\n",
       "      <td>Ideal</td>\n",
       "      <td>E</td>\n",
       "      <td>VS1</td>\n",
       "      <td>61.3</td>\n",
       "      <td>57.0</td>\n",
       "      <td>2110</td>\n",
       "      <td>5.34</td>\n",
       "      <td>5.37</td>\n",
       "      <td>3.28</td>\n",
       "    </tr>\n",
       "    <tr>\n",
       "      <th>403</th>\n",
       "      <td>1.08</td>\n",
       "      <td>Ideal</td>\n",
       "      <td>D</td>\n",
       "      <td>SI2</td>\n",
       "      <td>60.2</td>\n",
       "      <td>57.0</td>\n",
       "      <td>5247</td>\n",
       "      <td>6.63</td>\n",
       "      <td>6.67</td>\n",
       "      <td>4.00</td>\n",
       "    </tr>\n",
       "    <tr>\n",
       "      <th>1871</th>\n",
       "      <td>0.90</td>\n",
       "      <td>Very Good</td>\n",
       "      <td>E</td>\n",
       "      <td>SI2</td>\n",
       "      <td>59.5</td>\n",
       "      <td>61.0</td>\n",
       "      <td>3139</td>\n",
       "      <td>6.24</td>\n",
       "      <td>6.30</td>\n",
       "      <td>3.73</td>\n",
       "    </tr>\n",
       "    <tr>\n",
       "      <th>1528</th>\n",
       "      <td>0.41</td>\n",
       "      <td>Premium</td>\n",
       "      <td>D</td>\n",
       "      <td>SI2</td>\n",
       "      <td>62.0</td>\n",
       "      <td>58.0</td>\n",
       "      <td>876</td>\n",
       "      <td>4.78</td>\n",
       "      <td>4.74</td>\n",
       "      <td>2.95</td>\n",
       "    </tr>\n",
       "  </tbody>\n",
       "</table>\n",
       "</div>"
      ],
      "text/plain": [
       "      carat        cut color clarity  depth  table  price     x     y     z\n",
       "585    2.01  Very Good     H     VS2   60.7   56.0  18561  8.08  8.17  4.93\n",
       "435    0.57      Ideal     E     VS1   61.3   57.0   2110  5.34  5.37  3.28\n",
       "403    1.08      Ideal     D     SI2   60.2   57.0   5247  6.63  6.67  4.00\n",
       "1871   0.90  Very Good     E     SI2   59.5   61.0   3139  6.24  6.30  3.73\n",
       "1528   0.41    Premium     D     SI2   62.0   58.0    876  4.78  4.74  2.95"
      ]
     },
     "execution_count": 442,
     "metadata": {},
     "output_type": "execute_result"
    }
   ],
   "source": [
    "from sklearn.utils import shuffle\n",
    "diamond_data = shuffle(diamond_data)\n",
    "diamond_data.head()"
   ]
  },
  {
   "cell_type": "code",
   "execution_count": 443,
   "metadata": {},
   "outputs": [],
   "source": [
    "#split our 2000 rows into 1500 for training, 300 for validation, 200 for test\n",
    "diamond_training_data, diamond_validation_data, diamond_test_data = np.split(diamond_data, [1500, 1800])"
   ]
  },
  {
   "cell_type": "code",
   "execution_count": 444,
   "metadata": {},
   "outputs": [
    {
     "data": {
      "text/plain": [
       "1500"
      ]
     },
     "execution_count": 444,
     "metadata": {},
     "output_type": "execute_result"
    }
   ],
   "source": [
    "len(diamond_training_data)"
   ]
  },
  {
   "cell_type": "code",
   "execution_count": 445,
   "metadata": {},
   "outputs": [
    {
     "data": {
      "text/plain": [
       "300"
      ]
     },
     "execution_count": 445,
     "metadata": {},
     "output_type": "execute_result"
    }
   ],
   "source": [
    "len(diamond_validation_data)"
   ]
  },
  {
   "cell_type": "code",
   "execution_count": 446,
   "metadata": {
    "scrolled": true
   },
   "outputs": [
    {
     "data": {
      "text/plain": [
       "200"
      ]
     },
     "execution_count": 446,
     "metadata": {},
     "output_type": "execute_result"
    }
   ],
   "source": [
    "len(diamond_test_data)"
   ]
  },
  {
   "cell_type": "code",
   "execution_count": 447,
   "metadata": {},
   "outputs": [],
   "source": [
    "numeric_diamond_training_data = diamond_training_data[[\"carat\", \"depth\", \"table\", \"x\", \"y\", \"z\"]]\n",
    "numeric_diamond_validation_data = diamond_validation_data[[\"carat\", \"depth\", \"table\", \"x\", \"y\", \"z\"]]\n",
    "numeric_diamond_test_data = diamond_test_data[[\"carat\", \"depth\", \"table\", \"x\", \"y\", \"z\"]]"
   ]
  },
  {
   "cell_type": "code",
   "execution_count": 448,
   "metadata": {},
   "outputs": [],
   "source": [
    "def get_training_and_validation_mse(degree):\n",
    "    diamond_poly_model = Pipeline([\n",
    "        ('poly', PolynomialFeatures(degree=degree)),\n",
    "        ('model', LinearRegression(fit_intercept=False))\n",
    "    ])\n",
    "    \n",
    "    diamond_poly_model.fit(numeric_diamond_training_data, diamond_training_data[[\"price\"]])    \n",
    "    \n",
    "    training_error = mean_squared_error(diamond_poly_model.predict(numeric_diamond_training_data), diamond_training_data[[\"price\"]])\n",
    "    validation_error = mean_squared_error(diamond_poly_model.predict(numeric_diamond_validation_data), diamond_validation_data[[\"price\"]])\n",
    "    return training_error, validation_error"
   ]
  },
  {
   "cell_type": "code",
   "execution_count": 449,
   "metadata": {},
   "outputs": [
    {
     "data": {
      "text/plain": [
       "Text(0,0.5,'MSE')"
      ]
     },
     "execution_count": 449,
     "metadata": {},
     "output_type": "execute_result"
    },
    {
     "data": {
      "image/png": "[encoded data removed]",
      "text/plain": [
       "<Figure size 432x288 with 1 Axes>"
      ]
     },
     "metadata": {},
     "output_type": "display_data"
    }
   ],
   "source": [
    "mses = np.array([get_training_and_validation_mse(i) for i in range(5)])\n",
    "plt.plot(mses[:, 0])\n",
    "plt.plot(mses[:, 1])\n",
    "plt.legend([\"training\", \"validation\"])\n",
    "plt.xlabel('Polynomial Degree')\n",
    "plt.ylabel('MSE')"
   ]
  },
  {
   "cell_type": "markdown",
   "metadata": {},
   "source": [
    "Since degree 2 minimizes the validation error, let's use that."
   ]
  },
  {
   "cell_type": "code",
   "execution_count": 272,
   "metadata": {},
   "outputs": [
    {
     "data": {
      "text/plain": [
       "Pipeline(memory=None,\n",
       "         steps=[('poly',\n",
       "                 PolynomialFeatures(degree=2, include_bias=True,\n",
       "                                    interaction_only=False, order='C')),\n",
       "                ('model',\n",
       "                 LinearRegression(copy_X=True, fit_intercept=False, n_jobs=None,\n",
       "                                  normalize=False))],\n",
       "         verbose=False)"
      ]
     },
     "execution_count": 272,
     "metadata": {},
     "output_type": "execute_result"
    }
   ],
   "source": [
    "diamond_poly_model = Pipeline([\n",
    "    ('poly', PolynomialFeatures(degree=2)),\n",
    "    ('model', LinearRegression(fit_intercept=False))\n",
    "])\n",
    "diamond_poly_model.fit(numeric_diamond_training_data, diamond_training_data[[\"price\"]])"
   ]
  },
  {
   "cell_type": "code",
   "execution_count": 273,
   "metadata": {},
   "outputs": [
    {
     "data": {
      "text/plain": [
       "array([[ 2.16473463e+06,  2.19376407e+05, -7.10831150e+04,\n",
       "        -2.74321399e+02, -6.52264062e+04, -6.01000496e+05,\n",
       "         1.07000681e+06, -1.58188390e+04, -4.57986417e+03,\n",
       "         4.22137034e+02, -2.28727891e+04,  1.11999754e+04,\n",
       "         3.87251936e+04,  5.58691825e+02,  3.66043527e+01,\n",
       "         7.19290810e+02,  1.04008064e+04, -1.72930116e+04,\n",
       "        -1.07536523e+01,  5.71427940e+02, -2.13419000e+02,\n",
       "        -8.98110220e+02, -2.57177519e+04,  4.57733046e+04,\n",
       "         9.14236420e+03,  2.45407240e+04, -1.64745512e+05,\n",
       "         1.30599812e+05]])"
      ]
     },
     "execution_count": 273,
     "metadata": {},
     "output_type": "execute_result"
    }
   ],
   "source": [
    "diamond_poly_model.named_steps[\"model\"].coef_"
   ]
  },
  {
   "cell_type": "code",
   "execution_count": 274,
   "metadata": {},
   "outputs": [
    {
     "data": {
      "text/plain": [
       "2191491.2634235723"
      ]
     },
     "execution_count": 274,
     "metadata": {},
     "output_type": "execute_result"
    }
   ],
   "source": [
    "mean_squared_error(diamond_poly_model.predict(numeric_diamond_training_data), diamond_training_data[[\"price\"]])"
   ]
  },
  {
   "cell_type": "code",
   "execution_count": 275,
   "metadata": {},
   "outputs": [
    {
     "data": {
      "text/plain": [
       "1779792.5200479438"
      ]
     },
     "execution_count": 275,
     "metadata": {},
     "output_type": "execute_result"
    }
   ],
   "source": [
    "mean_squared_error(diamond_poly_model.predict(numeric_diamond_test_data), diamond_test_data[[\"price\"]])"
   ]
  },
  {
   "cell_type": "markdown",
   "metadata": {},
   "source": [
    "## Regularization"
   ]
  },
  {
   "cell_type": "code",
   "execution_count": 276,
   "metadata": {},
   "outputs": [
    {
     "data": {
      "text/plain": [
       "LinearRegression(copy_X=True, fit_intercept=True, n_jobs=None, normalize=False)"
      ]
     },
     "execution_count": 276,
     "metadata": {},
     "output_type": "execute_result"
    }
   ],
   "source": [
    "diamond_linear_model = linear_model.LinearRegression()\n",
    "diamond_linear_model.fit(numeric_diamond_training_data, diamond_training_data[[\"price\"]])"
   ]
  },
  {
   "cell_type": "code",
   "execution_count": 277,
   "metadata": {
    "scrolled": true
   },
   "outputs": [
    {
     "data": {
      "text/plain": [
       "array([[  9130.10468809,    556.05812527,    -56.72412609,\n",
       "         -2252.21456084,   8911.90954865, -11690.97051116]])"
      ]
     },
     "execution_count": 277,
     "metadata": {},
     "output_type": "execute_result"
    }
   ],
   "source": [
    "diamond_linear_model.coef_"
   ]
  },
  {
   "cell_type": "code",
   "execution_count": 278,
   "metadata": {},
   "outputs": [
    {
     "data": {
      "text/plain": [
       "Ridge(alpha=100, copy_X=True, fit_intercept=True, max_iter=None,\n",
       "      normalize=False, random_state=None, solver='auto', tol=0.001)"
      ]
     },
     "execution_count": 278,
     "metadata": {},
     "output_type": "execute_result"
    }
   ],
   "source": [
    "diamond_linear_ridge_model = linear_model.Ridge(alpha=100)\n",
    "diamond_linear_ridge_model.fit(numeric_diamond_training_data, diamond_training_data[[\"price\"]])"
   ]
  },
  {
   "cell_type": "code",
   "execution_count": 279,
   "metadata": {
    "scrolled": true
   },
   "outputs": [
    {
     "data": {
      "text/plain": [
       "array([[1589.58886258,  -28.12423307,  -69.19071932,  987.58816667,\n",
       "        1166.88775792,  646.85710471]])"
      ]
     },
     "execution_count": 279,
     "metadata": {},
     "output_type": "execute_result"
    }
   ],
   "source": [
    "diamond_linear_ridge_model.coef_"
   ]
  },
  {
   "cell_type": "code",
   "execution_count": 280,
   "metadata": {},
   "outputs": [
    {
     "data": {
      "text/plain": [
       "2870214.4480507374"
      ]
     },
     "execution_count": 280,
     "metadata": {},
     "output_type": "execute_result"
    }
   ],
   "source": [
    "mean_squared_error(diamond_linear_model.predict(numeric_diamond_training_data), diamond_training_data[[\"price\"]])"
   ]
  },
  {
   "cell_type": "code",
   "execution_count": 281,
   "metadata": {},
   "outputs": [
    {
     "data": {
      "text/plain": [
       "3525294.217872296"
      ]
     },
     "execution_count": 281,
     "metadata": {},
     "output_type": "execute_result"
    }
   ],
   "source": [
    "mean_squared_error(diamond_linear_ridge_model.predict(numeric_diamond_training_data), diamond_training_data[[\"price\"]])"
   ]
  },
  {
   "cell_type": "code",
   "execution_count": 282,
   "metadata": {
    "scrolled": true
   },
   "outputs": [
    {
     "data": {
      "text/plain": [
       "Ridge(alpha=100, copy_X=True, fit_intercept=True, max_iter=None,\n",
       "      normalize=False, random_state=None, solver='auto', tol=0.001)"
      ]
     },
     "execution_count": 282,
     "metadata": {},
     "output_type": "execute_result"
    }
   ],
   "source": [
    "ss = StandardScaler()\n",
    "ss.fit(numeric_diamond_training_data)\n",
    "scaled_numeric_diamond_training_data = ss.transform(numeric_diamond_training_data)\n",
    "scaled_diamond_linear_ridge_model = linear_model.Ridge(alpha=100)\n",
    "scaled_diamond_linear_ridge_model.fit(scaled_numeric_diamond_training_data, diamond_training_data[[\"price\"]])"
   ]
  },
  {
   "cell_type": "code",
   "execution_count": 283,
   "metadata": {},
   "outputs": [
    {
     "data": {
      "text/plain": [
       "array([[2027.47354517, -121.19476896, -146.36962903,  488.74118809,\n",
       "         664.69763823,  515.49932686]])"
      ]
     },
     "execution_count": 283,
     "metadata": {},
     "output_type": "execute_result"
    }
   ],
   "source": [
    "scaled_diamond_linear_ridge_model.coef_"
   ]
  },
  {
   "cell_type": "code",
   "execution_count": 284,
   "metadata": {},
   "outputs": [
    {
     "data": {
      "text/plain": [
       "Pipeline(memory=None,\n",
       "         steps=[('scale',\n",
       "                 StandardScaler(copy=True, with_mean=True, with_std=True)),\n",
       "                ('model',\n",
       "                 Ridge(alpha=100, copy_X=True, fit_intercept=True,\n",
       "                       max_iter=None, normalize=False, random_state=None,\n",
       "                       solver='auto', tol=0.001))],\n",
       "         verbose=False)"
      ]
     },
     "execution_count": 284,
     "metadata": {},
     "output_type": "execute_result"
    }
   ],
   "source": [
    "scaled_diamond_linear_ridge_model_pipeline = Pipeline([\n",
    "        ('scale', StandardScaler()),\n",
    "        ('model', linear_model.Ridge(alpha=100))\n",
    "    ])\n",
    "\n",
    "scaled_diamond_linear_ridge_model_pipeline.fit(numeric_diamond_training_data, diamond_training_data[[\"price\"]])"
   ]
  },
  {
   "cell_type": "code",
   "execution_count": 285,
   "metadata": {},
   "outputs": [
    {
     "data": {
      "text/plain": [
       "array([[2027.47354517, -121.19476896, -146.36962903,  488.74118809,\n",
       "         664.69763823,  515.49932686]])"
      ]
     },
     "execution_count": 285,
     "metadata": {},
     "output_type": "execute_result"
    }
   ],
   "source": [
    "scaled_diamond_linear_ridge_model_pipeline.named_steps[\"model\"].coef_"
   ]
  },
  {
   "cell_type": "code",
   "execution_count": 286,
   "metadata": {},
   "outputs": [
    {
     "data": {
      "text/plain": [
       "3206249.5479245973"
      ]
     },
     "execution_count": 286,
     "metadata": {},
     "output_type": "execute_result"
    }
   ],
   "source": [
    "mean_squared_error(scaled_diamond_linear_ridge_model_pipeline.predict(numeric_diamond_training_data), diamond_training_data[[\"price\"]])"
   ]
  },
  {
   "cell_type": "code",
   "execution_count": 287,
   "metadata": {},
   "outputs": [
    {
     "data": {
      "text/plain": [
       "2870214.4480507374"
      ]
     },
     "execution_count": 287,
     "metadata": {},
     "output_type": "execute_result"
    }
   ],
   "source": [
    "mean_squared_error(diamond_linear_model.predict(numeric_diamond_training_data), diamond_training_data[[\"price\"]])"
   ]
  },
  {
   "cell_type": "markdown",
   "metadata": {},
   "source": [
    "Where things get interesting is when we look at how test and validation error vary as a function of alpha. First let's consider a linear regression model that uses features up to polynomial degree 4."
   ]
  },
  {
   "cell_type": "code",
   "execution_count": 288,
   "metadata": {},
   "outputs": [
    {
     "data": {
      "text/plain": [
       "2592274.4844293157"
      ]
     },
     "execution_count": 288,
     "metadata": {},
     "output_type": "execute_result"
    }
   ],
   "source": [
    "#uses scaling to avoid numerical error\n",
    "degree_4_linear_regression_model = Pipeline([        \n",
    "    ('scale', StandardScaler()),        \n",
    "    ('poly', PolynomialFeatures(degree=4)),\n",
    "    ('model', linear_model.LinearRegression(fit_intercept=False))\n",
    "])   \n",
    "\n",
    "degree_4_linear_regression_model.fit(numeric_diamond_training_data, diamond_training_data[[\"price\"]])\n",
    "mean_squared_error(degree_4_linear_regression_model.predict(numeric_diamond_validation_data), diamond_validation_data[[\"price\"]])"
   ]
  },
  {
   "cell_type": "code",
   "execution_count": 289,
   "metadata": {},
   "outputs": [
    {
     "data": {
      "text/plain": [
       "2592274.4843305987"
      ]
     },
     "execution_count": 289,
     "metadata": {},
     "output_type": "execute_result"
    }
   ],
   "source": [
    "degree_4_ridge_regression_model = Pipeline([        \n",
    "    ('scale', StandardScaler()),    \n",
    "    ('poly', PolynomialFeatures(degree = 4)),\n",
    "    ('model', linear_model.Ridge(alpha = 0, fit_intercept=False))\n",
    "])   \n",
    "\n",
    "degree_4_ridge_regression_model.fit(numeric_diamond_training_data, diamond_training_data[[\"price\"]])\n",
    "mean_squared_error(degree_4_ridge_regression_model.predict(numeric_diamond_validation_data), diamond_validation_data[[\"price\"]])"
   ]
  },
  {
   "cell_type": "code",
   "execution_count": 290,
   "metadata": {},
   "outputs": [],
   "source": [
    "def get_diamond_ridge_training_and_validation_mse_error(alpha):\n",
    "    model = Pipeline([\n",
    "        ('scale', StandardScaler()),\n",
    "        ('poly', PolynomialFeatures(degree=4)),\n",
    "        ('model', linear_model.Ridge(alpha=alpha, fit_intercept=False))\n",
    "    ])    \n",
    "    \n",
    "    model.fit(numeric_diamond_training_data, diamond_training_data[[\"price\"]])\n",
    "    \n",
    "    training_mse = mean_squared_error(model.predict(numeric_diamond_training_data), diamond_training_data['price'])\n",
    "    validation_mse = mean_squared_error(model.predict(numeric_diamond_validation_data), diamond_validation_data['price'])\n",
    "\n",
    "    return training_mse, validation_mse"
   ]
  },
  {
   "cell_type": "code",
   "execution_count": 291,
   "metadata": {},
   "outputs": [
    {
     "data": {
      "text/plain": [
       "Text(0,0.5,'MSE')"
      ]
     },
     "execution_count": 291,
     "metadata": {},
     "output_type": "execute_result"
    },
    {
     "data": {
      "image/png": "[encoded data removed]",
      "text/plain": [
       "<Figure size 432x288 with 1 Axes>"
      ]
     },
     "metadata": {},
     "output_type": "display_data"
    }
   ],
   "source": [
    "alphas = 10**np.linspace(-3, 3, 100) #between 10^-3 and 10^3\n",
    "mses = np.array([get_diamond_ridge_training_and_validation_mse_error(alpha) for alpha in alphas])\n",
    "plt.plot(alphas, mses[:, 0])\n",
    "plt.plot(alphas, mses[:, 1])\n",
    "plt.legend([\"training\", \"validation\"])\n",
    "plt.xlabel(r'$\\alpha$')\n",
    "plt.ylabel('MSE')"
   ]
  },
  {
   "cell_type": "code",
   "execution_count": 292,
   "metadata": {},
   "outputs": [
    {
     "data": {
      "text/plain": [
       "(1938349.6626214518, 1785690.1645119858)"
      ]
     },
     "execution_count": 292,
     "metadata": {},
     "output_type": "execute_result"
    }
   ],
   "source": [
    "get_diamond_ridge_training_and_validation_mse_error(10**-1)"
   ]
  },
  {
   "cell_type": "code",
   "execution_count": 293,
   "metadata": {},
   "outputs": [
    {
     "data": {
      "text/plain": [
       "Text(0,0.5,'MSE')"
      ]
     },
     "execution_count": 293,
     "metadata": {},
     "output_type": "execute_result"
    },
    {
     "data": {
      "image/png": "[encoded data removed]",
      "text/plain": [
       "<Figure size 432x288 with 1 Axes>"
      ]
     },
     "metadata": {},
     "output_type": "display_data"
    }
   ],
   "source": [
    "alphas = 10**np.linspace(-3, 3, 100)\n",
    "mses = np.array([get_diamond_ridge_training_and_validation_mse_error(alpha) for alpha in alphas])\n",
    "plt.semilogx(alphas, mses[:, 0])\n",
    "plt.semilogx(alphas, mses[:, 1])\n",
    "plt.legend([\"training\", \"validation\"])\n",
    "plt.xlabel(r'$\\alpha$')\n",
    "plt.ylabel('MSE')"
   ]
  },
  {
   "cell_type": "code",
   "execution_count": 294,
   "metadata": {},
   "outputs": [
    {
     "data": {
      "text/plain": [
       "Text(0,0.5,'MSE')"
      ]
     },
     "execution_count": 294,
     "metadata": {},
     "output_type": "execute_result"
    },
    {
     "data": {
      "image/png": "[encoded data removed]",
      "text/plain": [
       "<Figure size 432x288 with 1 Axes>"
      ]
     },
     "metadata": {},
     "output_type": "display_data"
    }
   ],
   "source": [
    "alphas = 10**np.linspace(3, -3, 100)\n",
    "mses = np.array([get_diamond_ridge_training_and_validation_mse_error(alpha) for alpha in alphas])\n",
    "plt.semilogx(1/alphas, mses[:, 0])\n",
    "plt.semilogx(1/alphas, mses[:, 1])\n",
    "plt.legend([\"training\", \"validation\"])\n",
    "plt.xlabel(r'$1/\\alpha$')\n",
    "plt.ylabel('MSE')"
   ]
  },
  {
   "cell_type": "code",
   "execution_count": 295,
   "metadata": {},
   "outputs": [
    {
     "data": {
      "text/plain": [
       "Pipeline(memory=None,\n",
       "         steps=[('scale',\n",
       "                 StandardScaler(copy=True, with_mean=True, with_std=True)),\n",
       "                ('poly',\n",
       "                 PolynomialFeatures(degree=4, include_bias=True,\n",
       "                                    interaction_only=False, order='C')),\n",
       "                ('model',\n",
       "                 Ridge(alpha=80, copy_X=True, fit_intercept=False,\n",
       "                       max_iter=None, normalize=False, random_state=None,\n",
       "                       solver='auto', tol=0.001))],\n",
       "         verbose=False)"
      ]
     },
     "execution_count": 295,
     "metadata": {},
     "output_type": "execute_result"
    }
   ],
   "source": [
    "model = Pipeline([\n",
    "    ('scale', StandardScaler()),\n",
    "    ('poly', PolynomialFeatures(degree=4)),\n",
    "    ('model', linear_model.Ridge(alpha=80, fit_intercept=False))\n",
    "])    \n",
    "model.fit(numeric_diamond_training_data, diamond_training_data[[\"price\"]])"
   ]
  },
  {
   "cell_type": "code",
   "execution_count": 296,
   "metadata": {},
   "outputs": [
    {
     "data": {
      "text/plain": [
       "array([[ 2.37608739e+03,  3.66437186e+02, -4.58842168e+00,\n",
       "        -9.71077883e+00,  7.85560106e+02,  8.70401182e+02,\n",
       "         8.16268442e+02,  1.71003194e+01,  5.08933261e-02,\n",
       "         3.24971019e+01,  8.63271367e+01,  1.28525490e+02,\n",
       "         1.09568395e+02,  5.75902419e+01,  7.67821295e+01,\n",
       "        -3.56717837e+01, -1.28577234e+01,  1.08311487e+01,\n",
       "         1.52761112e+02,  8.81158267e+00,  1.92607012e+00,\n",
       "         2.02539549e+00,  2.31372135e+02,  2.80241018e+02,\n",
       "         2.49586610e+02,  3.33254371e+02,  3.02365238e+02,\n",
       "         2.83369371e+02, -1.47171667e+02, -1.79715483e+01,\n",
       "         3.25910569e+00, -1.01865270e+02, -6.04650959e+01,\n",
       "        -7.33621523e+01,  3.19812320e+01, -4.58642794e+01,\n",
       "         9.40310877e+00, -2.73029071e+01,  5.73331215e+00,\n",
       "         1.05891162e+00, -1.41976309e+01, -5.46879562e+00,\n",
       "        -1.89390958e+01, -5.96728299e+01, -1.31145757e+01,\n",
       "        -2.65226273e+01,  3.56034771e+01,  1.49765142e+01,\n",
       "         5.88333391e+00, -9.72266305e+00,  3.38235182e+01,\n",
       "        -7.28811268e+01,  9.10380513e+01, -3.32889088e+01,\n",
       "         4.66076348e+01,  5.49348915e+00, -2.71818822e+01,\n",
       "         2.51430357e+01,  1.98898305e+01, -1.18897713e+01,\n",
       "         1.34415394e+01, -4.77695876e+01,  5.88669922e-01,\n",
       "         7.11071538e+00, -2.52001870e+00,  4.09711050e-01,\n",
       "         7.18736222e+01,  2.44030952e+01, -3.92137296e+01,\n",
       "        -3.17283637e+01, -4.13747378e+01, -2.27731032e+01,\n",
       "        -3.82421303e+01, -3.42692033e+01, -9.22030439e+00,\n",
       "         4.33197494e+01,  2.56538412e+01,  9.85642564e+01,\n",
       "         7.40145434e+01,  6.21491817e+01,  1.57176949e+02,\n",
       "         1.24855568e+02,  1.08527375e+02,  9.63927877e+01,\n",
       "         1.97207929e+02,  3.09505629e+01,  1.81700556e+02,\n",
       "        -2.17002843e+01, -2.68247263e+00,  2.97142562e+01,\n",
       "        -8.85633341e+00, -6.64536333e+01,  3.15989548e+01,\n",
       "        -4.05486594e+01,  1.59914427e+01, -1.64446036e+01,\n",
       "         6.46472856e+01,  5.35563374e+01,  4.21026018e+01,\n",
       "        -1.03256552e+02, -7.80208368e+01, -6.02419532e+01,\n",
       "        -5.02671520e+01, -4.45563479e+01, -1.91511505e+01,\n",
       "        -9.74132648e+01, -5.34290805e+01, -8.00088645e+01,\n",
       "         7.49601305e+01, -6.43580359e+01,  4.02453483e+01,\n",
       "         5.36619910e+01, -5.04255925e+01, -1.29193312e+01,\n",
       "         7.43416187e+01, -3.59472404e+00,  3.52219510e+01,\n",
       "        -8.47110895e+01, -2.01509524e+01,  1.15290326e+00,\n",
       "        -1.03670189e+01, -9.00701414e+01,  2.93958377e+01,\n",
       "        -1.20118408e+01, -2.81811700e+01, -1.99252796e+01,\n",
       "        -1.29900919e+01, -8.23906689e+00, -1.94330026e+01,\n",
       "        -1.55666904e+01, -1.18388424e+02, -8.55556797e+01,\n",
       "        -6.96128470e+01, -5.01075071e+01, -4.75829825e+01,\n",
       "        -2.89029455e+01, -1.15196558e+01, -2.30803854e+01,\n",
       "        -1.42437440e+01,  4.26932063e+00, -7.02298634e+00,\n",
       "        -1.17408570e+01, -3.62246978e+01,  7.54015377e+01,\n",
       "         8.09321861e+01, -3.76505343e+01,  4.59792718e+01,\n",
       "        -1.27911951e+01,  1.81761790e+01, -1.27992699e+02,\n",
       "         2.42080828e+01, -9.82517943e+01,  1.71197289e+02,\n",
       "         6.04277887e+01, -3.11923168e+01, -2.89344098e+01,\n",
       "        -3.70107651e+01,  3.00609581e+01, -2.42209644e+01,\n",
       "         7.91107278e+01, -1.77928535e+00,  4.83873890e+01,\n",
       "        -8.54125596e+01, -3.99200753e+01,  7.67174982e-01,\n",
       "         1.03781136e+02,  2.53409053e+01,  5.53365106e+01,\n",
       "        -5.68100351e+01, -1.65317413e+00,  1.09555212e+01,\n",
       "        -1.42181170e+02, -6.26347231e+01, -2.42007107e+01,\n",
       "        -1.67325383e+01, -8.76557401e+00,  6.62972766e+00,\n",
       "        -3.92405493e+01,  7.58000814e+00, -9.52019592e+01,\n",
       "         4.54444321e+00, -4.39250694e+01,  1.10756871e+02,\n",
       "         6.42391309e+01,  1.68847108e+01, -6.81652510e+01,\n",
       "        -4.87840185e+01, -4.01465217e+01, -2.62864595e+01,\n",
       "        -3.23978542e+01, -1.97688482e+01, -3.18706140e-01,\n",
       "        -2.17609173e+01, -2.47457973e+01, -1.46982899e+01,\n",
       "        -8.27851050e+01, -4.24157289e+01, -2.74084676e+01,\n",
       "         7.57097188e-01,  1.82783867e+00,  1.83559175e+01,\n",
       "         4.72794258e+01,  3.36544833e+01,  3.95751318e+01,\n",
       "         5.33921764e+01,  9.76814963e+01,  6.86647741e+01,\n",
       "         6.31824107e+01,  6.98538449e+01,  8.12507022e+01]])"
      ]
     },
     "execution_count": 296,
     "metadata": {},
     "output_type": "execute_result"
    }
   ],
   "source": [
    "model.named_steps['model'].coef_"
   ]
  },
  {
   "cell_type": "code",
   "execution_count": 297,
   "metadata": {},
   "outputs": [
    {
     "data": {
      "text/plain": [
       "1831730.3112350968"
      ]
     },
     "execution_count": 297,
     "metadata": {},
     "output_type": "execute_result"
    }
   ],
   "source": [
    "mean_squared_error(model.predict(numeric_diamond_validation_data), diamond_validation_data[[\"price\"]])"
   ]
  },
  {
   "cell_type": "code",
   "execution_count": 298,
   "metadata": {},
   "outputs": [
    {
     "data": {
      "text/plain": [
       "Pipeline(memory=None,\n",
       "         steps=[('scale',\n",
       "                 StandardScaler(copy=True, with_mean=True, with_std=True)),\n",
       "                ('poly',\n",
       "                 PolynomialFeatures(degree=3, include_bias=True,\n",
       "                                    interaction_only=False, order='C')),\n",
       "                ('model',\n",
       "                 Ridge(alpha=80, copy_X=True, fit_intercept=False,\n",
       "                       max_iter=None, normalize=False, random_state=None,\n",
       "                       solver='auto', tol=0.001))],\n",
       "         verbose=False)"
      ]
     },
     "execution_count": 298,
     "metadata": {},
     "output_type": "execute_result"
    }
   ],
   "source": [
    "model = Pipeline([\n",
    "    ('scale', StandardScaler()),\n",
    "    ('poly', PolynomialFeatures(degree=3)),\n",
    "    ('model', linear_model.Ridge(alpha=80, fit_intercept=False))\n",
    "])    \n",
    "model.fit(numeric_diamond_training_data, diamond_training_data[[\"price\"]])"
   ]
  },
  {
   "cell_type": "code",
   "execution_count": 299,
   "metadata": {},
   "outputs": [
    {
     "data": {
      "text/plain": [
       "array([[ 2.52672287e+03,  4.52815343e+02,  5.96125423e+01,\n",
       "        -3.28600843e+01,  8.98128258e+02,  9.86784211e+02,\n",
       "         9.37612902e+02,  8.31788492e-02, -3.90719101e+01,\n",
       "         4.95722553e+00,  7.23269496e+00,  1.54286555e+02,\n",
       "         8.42478326e+01, -2.75062008e+01,  2.05208991e+01,\n",
       "        -1.91204288e+01, -1.78114746e+01,  1.24108641e+01,\n",
       "         7.62055035e+01, -5.67375167e+01, -5.66667438e+01,\n",
       "        -7.26793087e+01,  9.44040614e+01,  2.40232863e+02,\n",
       "         1.66023608e+02,  3.91170242e+02,  3.12831914e+02,\n",
       "         2.50644507e+02,  1.95075723e+02,  2.06561861e+02,\n",
       "         2.37305117e+02, -3.07332638e+02, -9.33865550e+01,\n",
       "        -8.70087949e+01, -9.99981480e+01, -1.03630082e+02,\n",
       "         1.30126704e+01, -2.15051656e+01,  1.46285919e+01,\n",
       "        -2.38372530e+02,  6.59881237e+01,  6.57028832e+01,\n",
       "         2.15840875e+01, -3.52574694e+02, -1.67355839e+02,\n",
       "        -2.11292263e+02,  1.94814812e+01, -3.15164016e+01,\n",
       "        -6.33618976e+01, -4.90364861e+00,  2.57438239e+01,\n",
       "        -4.85440343e+01,  1.43285195e+02, -8.45460170e+01,\n",
       "         1.84179354e+01,  1.06921812e+01, -4.67315815e+01,\n",
       "         8.48420046e+00, -4.03327039e+00, -4.99725068e+01,\n",
       "        -1.66949956e+01, -9.94197312e+01, -3.59239973e+01,\n",
       "        -4.41033216e+01, -2.73914080e+01, -1.86484661e+01,\n",
       "         1.34116047e+02,  7.78144889e+01, -5.57989091e+01,\n",
       "        -4.79362680e+01, -6.89814173e+01, -3.80284887e+01,\n",
       "        -6.97799288e+01, -8.05284372e+01, -1.54435426e+02,\n",
       "         6.75499665e+00, -5.08147640e+01,  1.70291114e+02,\n",
       "         1.03642898e+02,  5.47276976e+01,  3.36993476e+02,\n",
       "         2.60343672e+02,  2.06185197e+02,  1.56234859e+02]])"
      ]
     },
     "execution_count": 299,
     "metadata": {},
     "output_type": "execute_result"
    }
   ],
   "source": [
    "model.named_steps['model'].coef_"
   ]
  },
  {
   "cell_type": "code",
   "execution_count": 300,
   "metadata": {},
   "outputs": [
    {
     "data": {
      "text/plain": [
       "Pipeline(memory=None,\n",
       "         steps=[('scale',\n",
       "                 StandardScaler(copy=True, with_mean=True, with_std=True)),\n",
       "                ('poly',\n",
       "                 PolynomialFeatures(degree=3, include_bias=True,\n",
       "                                    interaction_only=False, order='C')),\n",
       "                ('model',\n",
       "                 Lasso(alpha=80, copy_X=True, fit_intercept=False,\n",
       "                       max_iter=1000, normalize=False, positive=False,\n",
       "                       precompute=False, random_state=None, selection='cyclic',\n",
       "                       tol=0.0001, warm_start=False))],\n",
       "         verbose=False)"
      ]
     },
     "execution_count": 300,
     "metadata": {},
     "output_type": "execute_result"
    }
   ],
   "source": [
    "model = Pipeline([\n",
    "    ('scale', StandardScaler()),\n",
    "    ('poly', PolynomialFeatures(degree=3)),\n",
    "    ('model', linear_model.Lasso(alpha=80, fit_intercept=False))\n",
    "])    \n",
    "model.fit(numeric_diamond_training_data, diamond_training_data[[\"price\"]])"
   ]
  },
  {
   "cell_type": "code",
   "execution_count": 301,
   "metadata": {},
   "outputs": [
    {
     "data": {
      "text/plain": [
       "array([2854.47148939,    0.        ,    0.        ,   -0.        ,\n",
       "          0.        , 2236.92412925, 1028.38234473,    0.        ,\n",
       "          0.        ,   -0.        ,    0.        ,    0.        ,\n",
       "          0.        ,  -41.31819205,    0.        ,    0.        ,\n",
       "          0.        ,    0.        ,    0.        ,   -0.        ,\n",
       "         -0.        ,   -0.        ,    0.        ,    0.        ,\n",
       "          0.        ,  995.53116862,  264.82338065,   79.52408072,\n",
       "       -163.05833625,   60.44640881,    9.91865103,   -0.        ,\n",
       "         -0.        ,   -0.        ,   -0.        ,   -0.        ,\n",
       "          0.        ,    0.        ,    0.        ,   -0.        ,\n",
       "          0.        ,    0.        ,    0.        ,   -0.        ,\n",
       "          0.        ,    0.        ,    0.        ,    0.        ,\n",
       "          0.        ,  -16.99949205,    0.        ,   -0.        ,\n",
       "         -0.        ,  -12.49524815,    0.        ,   -0.        ,\n",
       "         -0.        ,   -0.        ,    0.        ,    0.        ,\n",
       "          0.        ,    0.        ,    0.        ,    0.        ,\n",
       "        -15.59952472,   -0.        ,   -0.        ,   -0.        ,\n",
       "          0.        ,    0.        ,    0.        ,    0.        ,\n",
       "          0.        ,    0.        ,    0.        ,    0.        ,\n",
       "          0.        ,    0.        ,    0.        ,    0.        ,\n",
       "        166.24731132,    0.        ,    0.        ,    0.        ])"
      ]
     },
     "execution_count": 301,
     "metadata": {},
     "output_type": "execute_result"
    }
   ],
   "source": [
    "model.named_steps['model'].coef_"
   ]
  },
  {
   "cell_type": "code",
   "execution_count": 302,
   "metadata": {},
   "outputs": [
    {
     "data": {
      "text/plain": [
       "Pipeline(memory=None,\n",
       "         steps=[('scale',\n",
       "                 StandardScaler(copy=True, with_mean=True, with_std=True)),\n",
       "                ('poly',\n",
       "                 PolynomialFeatures(degree=4, include_bias=True,\n",
       "                                    interaction_only=False, order='C')),\n",
       "                ('model',\n",
       "                 Ridge(alpha=80, copy_X=True, fit_intercept=False,\n",
       "                       max_iter=None, normalize=False, random_state=None,\n",
       "                       solver='auto', tol=0.001))],\n",
       "         verbose=False)"
      ]
     },
     "execution_count": 302,
     "metadata": {},
     "output_type": "execute_result"
    }
   ],
   "source": [
    "ridge_alpha_80 = Pipeline([\n",
    "    ('scale', StandardScaler()),\n",
    "    ('poly', PolynomialFeatures(degree=4)),\n",
    "    ('model', linear_model.Ridge(alpha=80, fit_intercept=False))\n",
    "])    \n",
    "ridge_alpha_80.fit(numeric_diamond_training_data, diamond_training_data[[\"price\"]])"
   ]
  },
  {
   "cell_type": "markdown",
   "metadata": {},
   "source": [
    "## Cross Validation Demo"
   ]
  },
  {
   "cell_type": "markdown",
   "metadata": {},
   "source": [
    "With the linear_model.Ridge model, we had to pick a particular alpha."
   ]
  },
  {
   "cell_type": "code",
   "execution_count": 303,
   "metadata": {},
   "outputs": [
    {
     "data": {
      "text/plain": [
       "Pipeline(memory=None,\n",
       "         steps=[('scale',\n",
       "                 StandardScaler(copy=True, with_mean=True, with_std=True)),\n",
       "                ('poly',\n",
       "                 PolynomialFeatures(degree=4, include_bias=True,\n",
       "                                    interaction_only=False, order='C')),\n",
       "                ('model',\n",
       "                 Ridge(alpha=0.1, copy_X=True, fit_intercept=False,\n",
       "                       max_iter=None, normalize=False, random_state=None,\n",
       "                       solver='auto', tol=0.001))],\n",
       "         verbose=False)"
      ]
     },
     "execution_count": 303,
     "metadata": {},
     "output_type": "execute_result"
    }
   ],
   "source": [
    "ridge_model = Pipeline([\n",
    "    ('scale', StandardScaler()),\n",
    "    ('poly', PolynomialFeatures(degree=4)),\n",
    "    ('model', linear_model.Ridge(alpha=0.1, fit_intercept=False))\n",
    "])    \n",
    "ridge_model.fit(numeric_diamond_training_data, diamond_training_data[[\"price\"]])"
   ]
  },
  {
   "cell_type": "markdown",
   "metadata": {},
   "source": [
    "With the linear_model.RidgeCV model, we give a list of alphas and it will automatically find the best one. \n",
    "This is done without use of a pre-determined validation set!"
   ]
  },
  {
   "cell_type": "code",
   "execution_count": 304,
   "metadata": {},
   "outputs": [
    {
     "data": {
      "text/plain": [
       "Pipeline(memory=None,\n",
       "         steps=[('scale',\n",
       "                 StandardScaler(copy=True, with_mean=True, with_std=True)),\n",
       "                ('poly',\n",
       "                 PolynomialFeatures(degree=4, include_bias=True,\n",
       "                                    interaction_only=False, order='C')),\n",
       "                ('model',\n",
       "                 RidgeCV(alphas=array([1.e-02, 1.e-01, 1.e+00, 1.e+01, 1.e+02]),\n",
       "                         cv=None, fit_intercept=False, gcv_mode=None,\n",
       "                         normalize=False, scoring=None,\n",
       "                         store_cv_values=False))],\n",
       "         verbose=False)"
      ]
     },
     "execution_count": 304,
     "metadata": {},
     "output_type": "execute_result"
    }
   ],
   "source": [
    "cv_model = Pipeline([\n",
    "    ('scale', StandardScaler()),\n",
    "    ('poly', PolynomialFeatures(degree=4)),\n",
    "    ('model', linear_model.RidgeCV(alphas=[0.01, 0.1, 1, 10, 100], fit_intercept=False))\n",
    "])    \n",
    "cv_model.fit(numeric_diamond_training_data, diamond_training_data[[\"price\"]])"
   ]
  },
  {
   "cell_type": "code",
   "execution_count": 305,
   "metadata": {},
   "outputs": [
    {
     "data": {
      "text/plain": [
       "100.0"
      ]
     },
     "execution_count": 305,
     "metadata": {},
     "output_type": "execute_result"
    }
   ],
   "source": [
    "cv_model.named_steps['model'].alpha_"
   ]
  },
  {
   "cell_type": "code",
   "execution_count": 306,
   "metadata": {},
   "outputs": [
    {
     "data": {
      "text/plain": [
       "Pipeline(memory=None,\n",
       "         steps=[('scale',\n",
       "                 StandardScaler(copy=True, with_mean=True, with_std=True)),\n",
       "                ('poly',\n",
       "                 PolynomialFeatures(degree=4, include_bias=True,\n",
       "                                    interaction_only=False, order='C')),\n",
       "                ('model',\n",
       "                 RidgeCV(alphas=array([1.00000000e+03, 8.69749003e+02, 7.56463328e+02, 6.57933225e+02,\n",
       "       5.72236766e+02, 4.97702356e+02, 4.32876128e+02, 3.76493581e+02,\n",
       "       3.27454916e+02, 2....\n",
       "       8.11130831e-03, 7.05480231e-03, 6.13590727e-03, 5.33669923e-03,\n",
       "       4.64158883e-03, 4.03701726e-03, 3.51119173e-03, 3.05385551e-03,\n",
       "       2.65608778e-03, 2.31012970e-03, 2.00923300e-03, 1.74752840e-03,\n",
       "       1.51991108e-03, 1.32194115e-03, 1.14975700e-03, 1.00000000e-03]),\n",
       "                         cv=None, fit_intercept=False, gcv_mode=None,\n",
       "                         normalize=False, scoring=None,\n",
       "                         store_cv_values=False))],\n",
       "         verbose=False)"
      ]
     },
     "execution_count": 306,
     "metadata": {},
     "output_type": "execute_result"
    }
   ],
   "source": [
    "cv_model = Pipeline([\n",
    "    ('scale', StandardScaler()),\n",
    "    ('poly', PolynomialFeatures(degree=4)),\n",
    "    ('model', linear_model.RidgeCV(alphas=10**np.linspace(3, -3, 100), fit_intercept=False))\n",
    "])    \n",
    "cv_model.fit(numeric_diamond_training_data, diamond_training_data[[\"price\"]])"
   ]
  },
  {
   "cell_type": "code",
   "execution_count": 307,
   "metadata": {},
   "outputs": [
    {
     "data": {
      "text/plain": [
       "123.28467394420659"
      ]
     },
     "execution_count": 307,
     "metadata": {},
     "output_type": "execute_result"
    }
   ],
   "source": [
    "cv_model.named_steps['model'].alpha_"
   ]
  },
  {
   "cell_type": "markdown",
   "metadata": {},
   "source": [
    "Earlier, from our graph, we saw that an alpha of around 80 minimized the error on a special validation set."
   ]
  },
  {
   "cell_type": "code",
   "execution_count": 308,
   "metadata": {},
   "outputs": [
    {
     "data": {
      "text/plain": [
       "1831730.3112350968"
      ]
     },
     "execution_count": 308,
     "metadata": {},
     "output_type": "execute_result"
    }
   ],
   "source": [
    "mean_squared_error(ridge_alpha_80.predict(numeric_diamond_validation_data), diamond_validation_data[[\"price\"]])"
   ]
  },
  {
   "cell_type": "markdown",
   "metadata": {},
   "source": [
    "Interestingly, even though our cv_model never even got to see the numeric_diamond_validation_data, the alpha it picks is still pretty good on this unseen data."
   ]
  },
  {
   "cell_type": "code",
   "execution_count": 309,
   "metadata": {},
   "outputs": [
    {
     "data": {
      "text/plain": [
       "1906176.2029619503"
      ]
     },
     "execution_count": 309,
     "metadata": {},
     "output_type": "execute_result"
    }
   ],
   "source": [
    "mean_squared_error(cv_model.predict(numeric_diamond_validation_data), diamond_validation_data[[\"price\"]])"
   ]
  },
  {
   "cell_type": "code",
   "execution_count": null,
   "metadata": {},
   "outputs": [],
   "source": []
  }
 ],
 "metadata": {
  "kernelspec": {
   "display_name": "Python 3",
   "language": "python",
   "name": "python3"
  },
  "language_info": {
   "codemirror_mode": {
    "name": "ipython",
    "version": 3
   },
   "file_extension": ".py",
   "mimetype": "text/x-python",
   "name": "python",
   "nbconvert_exporter": "python",
   "pygments_lexer": "ipython3",
   "version": "3.6.6"
  }
 },
 "nbformat": 4,
 "nbformat_minor": 2
}
