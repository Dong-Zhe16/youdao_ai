{
 "cells": [
  {
   "cell_type": "code",
   "execution_count": 228,
   "metadata": {},
   "outputs": [],
   "source": [
    "import os\n",
    "import pandas as pd\n",
    "import seaborn as sns\n",
    "import matplotlib.pyplot as plt\n",
    "import numpy as np\n",
    "\n",
    "%matplotlib inline\n",
    "\n",
    "plt.rcParams['figure.figsize'] = (4, 4)\n",
    "plt.rcParams['figure.dpi'] = 150\n",
    "plt.rcParams['lines.linewidth'] = 3\n",
    "sns.set()"
   ]
  },
  {
   "cell_type": "code",
   "execution_count": 229,
   "metadata": {
    "scrolled": true
   },
   "outputs": [],
   "source": [
    "df = sns.load_dataset(\"titanic\")\n",
    "p3_df = df[[\"age\", \"fare\", \"pclass\", \"sex\", \"survived\"]].copy()\n",
    "p3_df = p3_df.dropna()\n",
    "p3_df['sex'] = p3_df['sex'].replace(\"male\", 0)\n",
    "p3_df['sex'] = p3_df['sex'].replace(\"female\", 1)\n",
    "np.random.seed(23)\n",
    "p3_train, p3_validation = np.split(p3_df, [600])"
   ]
  },
  {
   "cell_type": "code",
   "execution_count": 230,
   "metadata": {},
   "outputs": [
    {
     "data": {
      "text/html": [
       "<div>\n",
       "<style scoped>\n",
       "    .dataframe tbody tr th:only-of-type {\n",
       "        vertical-align: middle;\n",
       "    }\n",
       "\n",
       "    .dataframe tbody tr th {\n",
       "        vertical-align: top;\n",
       "    }\n",
       "\n",
       "    .dataframe thead th {\n",
       "        text-align: right;\n",
       "    }\n",
       "</style>\n",
       "<table border=\"1\" class=\"dataframe\">\n",
       "  <thead>\n",
       "    <tr style=\"text-align: right;\">\n",
       "      <th></th>\n",
       "      <th>age</th>\n",
       "      <th>fare</th>\n",
       "      <th>pclass</th>\n",
       "      <th>sex</th>\n",
       "      <th>survived</th>\n",
       "    </tr>\n",
       "  </thead>\n",
       "  <tbody>\n",
       "    <tr>\n",
       "      <td>0</td>\n",
       "      <td>22.0</td>\n",
       "      <td>7.2500</td>\n",
       "      <td>3</td>\n",
       "      <td>0</td>\n",
       "      <td>0</td>\n",
       "    </tr>\n",
       "    <tr>\n",
       "      <td>1</td>\n",
       "      <td>38.0</td>\n",
       "      <td>71.2833</td>\n",
       "      <td>1</td>\n",
       "      <td>1</td>\n",
       "      <td>1</td>\n",
       "    </tr>\n",
       "    <tr>\n",
       "      <td>2</td>\n",
       "      <td>26.0</td>\n",
       "      <td>7.9250</td>\n",
       "      <td>3</td>\n",
       "      <td>1</td>\n",
       "      <td>1</td>\n",
       "    </tr>\n",
       "    <tr>\n",
       "      <td>3</td>\n",
       "      <td>35.0</td>\n",
       "      <td>53.1000</td>\n",
       "      <td>1</td>\n",
       "      <td>1</td>\n",
       "      <td>1</td>\n",
       "    </tr>\n",
       "    <tr>\n",
       "      <td>4</td>\n",
       "      <td>35.0</td>\n",
       "      <td>8.0500</td>\n",
       "      <td>3</td>\n",
       "      <td>0</td>\n",
       "      <td>0</td>\n",
       "    </tr>\n",
       "  </tbody>\n",
       "</table>\n",
       "</div>"
      ],
      "text/plain": [
       "    age     fare  pclass  sex  survived\n",
       "0  22.0   7.2500       3    0         0\n",
       "1  38.0  71.2833       1    1         1\n",
       "2  26.0   7.9250       3    1         1\n",
       "3  35.0  53.1000       1    1         1\n",
       "4  35.0   8.0500       3    0         0"
      ]
     },
     "execution_count": 230,
     "metadata": {},
     "output_type": "execute_result"
    }
   ],
   "source": [
    "p3_df.head(5)"
   ]
  },
  {
   "cell_type": "markdown",
   "metadata": {},
   "source": [
    "#### Regularization vs. No-Regularization"
   ]
  },
  {
   "cell_type": "code",
   "execution_count": 231,
   "metadata": {},
   "outputs": [],
   "source": [
    "from sklearn.preprocessing import PolynomialFeatures\n",
    "from sklearn.preprocessing import StandardScaler\n",
    "from sklearn.pipeline import Pipeline\n",
    "from sklearn.linear_model import LogisticRegression\n",
    "from sklearn.linear_model import LogisticRegressionCV"
   ]
  },
  {
   "cell_type": "markdown",
   "metadata": {},
   "source": [
    "In Homework 5, we had you build a Logistic Regression model with polynomial degree 2."
   ]
  },
  {
   "cell_type": "code",
   "execution_count": 232,
   "metadata": {},
   "outputs": [],
   "source": [
    "p3c_model = Pipeline([        \n",
    "    ('scale', StandardScaler()),        \n",
    "    ('poly', PolynomialFeatures(degree=2)),\n",
    "    ('model', LogisticRegression(fit_intercept=False, penalty = 'none'))\n",
    "])   \n",
    "p3c_model.fit(p3_train[[\"fare\", \"age\", \"pclass\",  \"sex\"]], p3_train[\"survived\"]);"
   ]
  },
  {
   "cell_type": "markdown",
   "metadata": {},
   "source": [
    "The coefficients are given below:"
   ]
  },
  {
   "cell_type": "code",
   "execution_count": 233,
   "metadata": {},
   "outputs": [
    {
     "data": {
      "text/plain": [
       "array([[-1.13102662, -1.49936142, -0.60810606, -1.63412315,  1.65926409,\n",
       "         0.16231128,  0.42236562, -0.1055555 , -0.25525431,  0.24084911,\n",
       "         0.37054654,  0.22395218,  0.70626524, -0.8443333 , -0.18805324]])"
      ]
     },
     "execution_count": 233,
     "metadata": {},
     "output_type": "execute_result"
    }
   ],
   "source": [
    "p3c_model.named_steps['model'].coef_"
   ]
  },
  {
   "cell_type": "markdown",
   "metadata": {},
   "source": [
    "We can regularize the model by simply removing `penalty = 'none'`."
   ]
  },
  {
   "cell_type": "code",
   "execution_count": 234,
   "metadata": {},
   "outputs": [],
   "source": [
    "p3c_model_regularized = Pipeline([        \n",
    "    ('scale', StandardScaler()),        \n",
    "    ('poly', PolynomialFeatures(degree=2)),\n",
    "    ('model', LogisticRegression(fit_intercept=False))\n",
    "])   \n",
    "p3c_model_regularized.fit(p3_train[[\"fare\", \"age\", \"pclass\",  \"sex\"]], p3_train[\"survived\"]);"
   ]
  },
  {
   "cell_type": "markdown",
   "metadata": {},
   "source": [
    "Comparing our coefficients, we see that they are slightly smaller overall in the regularized version."
   ]
  },
  {
   "cell_type": "code",
   "execution_count": 235,
   "metadata": {
    "scrolled": true
   },
   "outputs": [
    {
     "data": {
      "text/plain": [
       "array([[-1.13102662, -1.49936142, -0.60810606, -1.63412315,  1.65926409,\n",
       "         0.16231128,  0.42236562, -0.1055555 , -0.25525431,  0.24084911,\n",
       "         0.37054654,  0.22395218,  0.70626524, -0.8443333 , -0.18805324]])"
      ]
     },
     "execution_count": 235,
     "metadata": {},
     "output_type": "execute_result"
    }
   ],
   "source": [
    "p3c_model.named_steps['model'].coef_"
   ]
  },
  {
   "cell_type": "code",
   "execution_count": 236,
   "metadata": {},
   "outputs": [
    {
     "data": {
      "text/plain": [
       "array([[-0.93868941, -0.95516024, -0.54467238, -1.41258457,  1.49788079,\n",
       "         0.13732684,  0.38516578,  0.11286982, -0.21226869,  0.19729581,\n",
       "         0.32346106,  0.20084613,  0.5685718 , -0.73936734, -0.08743148]])"
      ]
     },
     "execution_count": 236,
     "metadata": {},
     "output_type": "execute_result"
    }
   ],
   "source": [
    "p3c_model_regularized.named_steps['model'].coef_"
   ]
  },
  {
   "cell_type": "markdown",
   "metadata": {},
   "source": [
    "Just as with `LinearRegression`, we can tune the strength of the regularization. Instead of `alpha`, the sklearn authors used the parameter `C`.\n",
    "\n",
    "Note that `alpha` was proportional to regularization strength. For some reason, the authors of sklearn decided to make `C` inversely proportional to regularization strength.\n",
    "\n",
    "1. \"Strong\" regularization (i.e. small coefficients): Large `alpha`, small `C`\n",
    "2. \"Weak\" regularization: Small `alpha`, large `C`\n",
    "\n",
    "For example, if we set `C` = 1e10, we'll see that the coefficients are the same as the unregularized version."
   ]
  },
  {
   "cell_type": "code",
   "execution_count": 237,
   "metadata": {},
   "outputs": [],
   "source": [
    "huge_c_model = Pipeline([        \n",
    "    ('scale', StandardScaler()),        \n",
    "    ('poly', PolynomialFeatures(degree=2)),\n",
    "    ('model', LogisticRegression(fit_intercept=False, C = 1e10))\n",
    "])   \n",
    "huge_c_model.fit(p3_train[[\"fare\", \"age\", \"pclass\",  \"sex\"]], p3_train[\"survived\"]);"
   ]
  },
  {
   "cell_type": "code",
   "execution_count": 238,
   "metadata": {},
   "outputs": [
    {
     "data": {
      "text/plain": [
       "array([[-1.13102662, -1.49936142, -0.60810606, -1.63412315,  1.65926409,\n",
       "         0.16231128,  0.42236562, -0.1055555 , -0.25525431,  0.24084911,\n",
       "         0.37054654,  0.22395218,  0.70626524, -0.8443333 , -0.18805324]])"
      ]
     },
     "execution_count": 238,
     "metadata": {},
     "output_type": "execute_result"
    }
   ],
   "source": [
    "p3c_model.named_steps['model'].coef_"
   ]
  },
  {
   "cell_type": "code",
   "execution_count": 239,
   "metadata": {
    "scrolled": false
   },
   "outputs": [
    {
     "data": {
      "text/plain": [
       "array([[-1.13102662, -1.49936142, -0.60810606, -1.63412315,  1.65926409,\n",
       "         0.16231128,  0.42236562, -0.1055555 , -0.25525431,  0.24084911,\n",
       "         0.37054654,  0.22395218,  0.70626524, -0.8443333 , -0.18805324]])"
      ]
     },
     "execution_count": 239,
     "metadata": {},
     "output_type": "execute_result"
    }
   ],
   "source": [
    "huge_c_model.named_steps['model'].coef_"
   ]
  },
  {
   "cell_type": "markdown",
   "metadata": {},
   "source": [
    "Whereas if we pick a tiny `C`, e.g. 1e-8, the model is strongly regularized and the coefficients are very small."
   ]
  },
  {
   "cell_type": "code",
   "execution_count": 240,
   "metadata": {},
   "outputs": [],
   "source": [
    "tiny_c_model = Pipeline([        \n",
    "    ('scale', StandardScaler()),        \n",
    "    ('poly', PolynomialFeatures(degree=2)),\n",
    "    ('model', LogisticRegression(fit_intercept=False, C = 1e-7))\n",
    "])   \n",
    "tiny_c_model.fit(p3_train[[\"fare\", \"age\", \"pclass\",  \"sex\"]], p3_train[\"survived\"]);"
   ]
  },
  {
   "cell_type": "code",
   "execution_count": 241,
   "metadata": {
    "scrolled": true
   },
   "outputs": [
    {
     "data": {
      "text/plain": [
       "array([[-5.60010955e-06,  7.51111139e-06, -2.65116592e-06,\n",
       "        -1.03234319e-05,  1.56655089e-05,  1.54931392e-05,\n",
       "         1.14096696e-06, -3.34372037e-06,  1.91122677e-06,\n",
       "        -5.34841905e-06,  2.87967040e-06,  1.77226488e-06,\n",
       "        -2.00775812e-06, -3.98826178e-06,  3.30272756e-06]])"
      ]
     },
     "execution_count": 241,
     "metadata": {},
     "output_type": "execute_result"
    }
   ],
   "source": [
    "tiny_c_model.named_steps['model'].coef_"
   ]
  },
  {
   "cell_type": "code",
   "execution_count": 246,
   "metadata": {},
   "outputs": [],
   "source": [
    "def compute_titanic_accuracy(model, data):\n",
    "    y_hat_class = model.predict(data[[\"fare\", \"age\", \"pclass\",  \"sex\"]])\n",
    "    y_obs = data[\"survived\"]\n",
    "    return sum(y_hat_class == y_obs) / len(y_hat_class)"
   ]
  },
  {
   "cell_type": "code",
   "execution_count": 247,
   "metadata": {},
   "outputs": [
    {
     "data": {
      "text/plain": [
       "0.7716666666666666"
      ]
     },
     "execution_count": 247,
     "metadata": {},
     "output_type": "execute_result"
    }
   ],
   "source": [
    "compute_titanic_accuracy(tiny_c_model, p3_train)"
   ]
  },
  {
   "cell_type": "code",
   "execution_count": 248,
   "metadata": {},
   "outputs": [
    {
     "data": {
      "text/plain": [
       "0.8333333333333334"
      ]
     },
     "execution_count": 248,
     "metadata": {},
     "output_type": "execute_result"
    }
   ],
   "source": [
    "compute_titanic_accuracy(huge_c_model, p3_train)"
   ]
  },
  {
   "cell_type": "code",
   "execution_count": 249,
   "metadata": {},
   "outputs": [],
   "source": [
    "def get_train_and_validation_accuracy(C):\n",
    "    c_model = Pipeline([        \n",
    "        ('scale', StandardScaler()),        \n",
    "        ('poly', PolynomialFeatures(degree=2)),\n",
    "        ('model', LogisticRegression(fit_intercept = False, C = C, max_iter=10000))\n",
    "    ])   \n",
    "    c_model.fit(p3_train[[\"fare\", \"age\", \"pclass\",  \"sex\"]], p3_train[\"survived\"])\n",
    "    \n",
    "    training_accuracy = compute_titanic_accuracy(c_model, p3_train)\n",
    "    val_accuracy = compute_titanic_accuracy(c_model, p3_validation)\n",
    "        \n",
    "    return training_accuracy, val_accuracy"
   ]
  },
  {
   "cell_type": "code",
   "execution_count": 250,
   "metadata": {},
   "outputs": [
    {
     "data": {
      "text/plain": [
       "(0.7766666666666666, 0.8070175438596491)"
      ]
     },
     "execution_count": 250,
     "metadata": {},
     "output_type": "execute_result"
    }
   ],
   "source": [
    "get_train_and_validation_accuracy(1e-2)"
   ]
  },
  {
   "cell_type": "code",
   "execution_count": 251,
   "metadata": {},
   "outputs": [],
   "source": [
    "accuracies = [get_train_and_validation_accuracy(C) for C in 10**np.linspace(-7, 5, 100)]"
   ]
  },
  {
   "cell_type": "code",
   "execution_count": 252,
   "metadata": {},
   "outputs": [],
   "source": [
    "#max(np.array(accuracies)[:, 1])"
   ]
  },
  {
   "cell_type": "code",
   "execution_count": 253,
   "metadata": {
    "scrolled": false
   },
   "outputs": [
    {
     "data": {
      "text/plain": [
       "Text(0.5,0,'C')"
      ]
     },
     "execution_count": 253,
     "metadata": {},
     "output_type": "execute_result"
    },
    {
     "data": {
      "image/png": "[encoded data removed]",
      "text/plain": [
       "<Figure size 600x600 with 1 Axes>"
      ]
     },
     "metadata": {},
     "output_type": "display_data"
    }
   ],
   "source": [
    "plt.semilogx(10**np.linspace(-7, 5, 100), accuracies)\n",
    "plt.legend(['train', 'validation'])\n",
    "plt.ylabel('accuracy')\n",
    "plt.xlabel('C')\n",
    "#plt.savefig('training_and_validation_error_vs_C_with_intercept.png', dpi = 300, bbox_inches = 'tight')"
   ]
  },
  {
   "cell_type": "markdown",
   "metadata": {},
   "source": [
    "#### Cross Validation for C Selection"
   ]
  },
  {
   "cell_type": "markdown",
   "metadata": {},
   "source": [
    "Using `LogisticRegressionCV` lets us automatically select the best C. "
   ]
  },
  {
   "cell_type": "code",
   "execution_count": 254,
   "metadata": {},
   "outputs": [
    {
     "data": {
      "text/plain": [
       "Pipeline(memory=None,\n",
       "         steps=[('scale',\n",
       "                 StandardScaler(copy=True, with_mean=True, with_std=True)),\n",
       "                ('poly',\n",
       "                 PolynomialFeatures(degree=2, include_bias=True,\n",
       "                                    interaction_only=False, order='C')),\n",
       "                ('model',\n",
       "                 LogisticRegressionCV(Cs=array([1.00000000e-07, 1.32194115e-07, 1.74752840e-07, 2.31012970e-07,\n",
       "       3.05385551e-07, 4.03701726e-07, 5.33669923e-07, 7.05480231e-07,\n",
       "       9.326033...\n",
       "       1.41747416e+04, 1.87381742e+04, 2.47707636e+04, 3.27454916e+04,\n",
       "       4.32876128e+04, 5.72236766e+04, 7.56463328e+04, 1.00000000e+05]),\n",
       "                                      class_weight=None, cv=3, dual=False,\n",
       "                                      fit_intercept=False,\n",
       "                                      intercept_scaling=1.0, l1_ratios=None,\n",
       "                                      max_iter=100, multi_class='auto',\n",
       "                                      n_jobs=None, penalty='l2',\n",
       "                                      random_state=None, refit=True,\n",
       "                                      scoring=None, solver='lbfgs', tol=0.0001,\n",
       "                                      verbose=0))],\n",
       "         verbose=False)"
      ]
     },
     "execution_count": 254,
     "metadata": {},
     "output_type": "execute_result"
    }
   ],
   "source": [
    "cv_model = Pipeline([        \n",
    "    ('scale', StandardScaler()),        \n",
    "    ('poly', PolynomialFeatures(degree=2)),\n",
    "    ('model', LogisticRegressionCV(fit_intercept=False, Cs = 10**np.linspace(-7, 5, 100), cv = 3))\n",
    "])  \n",
    "cv_model.fit(p3_df[[\"fare\", \"age\", \"pclass\",  \"sex\"]], p3_df[\"survived\"])"
   ]
  },
  {
   "cell_type": "code",
   "execution_count": 255,
   "metadata": {
    "scrolled": true
   },
   "outputs": [
    {
     "data": {
      "text/plain": [
       "array([10.])"
      ]
     },
     "execution_count": 255,
     "metadata": {},
     "output_type": "execute_result"
    }
   ],
   "source": [
    "cv_model.named_steps[\"model\"].C_"
   ]
  },
  {
   "cell_type": "markdown",
   "metadata": {},
   "source": [
    "In HW6, there is an optional exercise that shows an alternate better technique for picking optimal C."
   ]
  },
  {
   "cell_type": "markdown",
   "metadata": {},
   "source": [
    "#### Cross Entropy Loss"
   ]
  },
  {
   "cell_type": "code",
   "execution_count": 256,
   "metadata": {},
   "outputs": [],
   "source": [
    "delta_y = np.linspace(0, 1, 1000)"
   ]
  },
  {
   "cell_type": "code",
   "execution_count": 257,
   "metadata": {},
   "outputs": [
    {
     "data": {
      "text/plain": [
       "Text(0,0.5,'Squared Error')"
      ]
     },
     "execution_count": 257,
     "metadata": {},
     "output_type": "execute_result"
    },
    {
     "data": {
      "image/png": "[encoded data removed]",
      "text/plain": [
       "<Figure size 600x600 with 1 Axes>"
      ]
     },
     "metadata": {},
     "output_type": "display_data"
    }
   ],
   "source": [
    "mse = delta_y**2\n",
    "plt.plot(delta_y, mse)\n",
    "plt.xlabel('$|\\Delta y_i|$')\n",
    "plt.ylabel('Squared Error')\n",
    "#plt.savefig('MSE_vs_delta_y.png', dpi = 300, bbox_inches = \"tight\")"
   ]
  },
  {
   "cell_type": "code",
   "execution_count": 258,
   "metadata": {},
   "outputs": [
    {
     "name": "stderr",
     "output_type": "stream",
     "text": [
      "/home/hug/miniconda3/envs/data100/lib/python3.6/site-packages/ipykernel_launcher.py:1: RuntimeWarning:\n",
      "\n",
      "divide by zero encountered in log\n",
      "\n"
     ]
    },
    {
     "data": {
      "text/plain": [
       "Text(0,0.5,'Cross Entropy Loss')"
      ]
     },
     "execution_count": 258,
     "metadata": {},
     "output_type": "execute_result"
    },
    {
     "data": {
      "image/png": "[encoded data removed]",
      "text/plain": [
       "<Figure size 600x600 with 1 Axes>"
      ]
     },
     "metadata": {},
     "output_type": "display_data"
    }
   ],
   "source": [
    "cross_entropy = -np.log(1 - delta_y)\n",
    "plt.plot(delta_y, cross_entropy)\n",
    "plt.xlabel('$|\\Delta y_i|$')\n",
    "plt.ylabel('Cross Entropy Loss')\n",
    "#plt.savefig('CELoss_vs_delta_y.png', dpi = 300, bbox_inches = \"tight\")"
   ]
  },
  {
   "cell_type": "code",
   "execution_count": 259,
   "metadata": {},
   "outputs": [],
   "source": [
    "from lec5_utils import loss_plot_3d \n",
    "from lec5_utils import loss_contour_plot"
   ]
  },
  {
   "cell_type": "code",
   "execution_count": 260,
   "metadata": {},
   "outputs": [],
   "source": [
    "def sigma(x):\n",
    "    return 1 / (1 + np.exp(-x))"
   ]
  },
  {
   "cell_type": "code",
   "execution_count": 261,
   "metadata": {},
   "outputs": [],
   "source": [
    "from sklearn.metrics import log_loss"
   ]
  },
  {
   "cell_type": "code",
   "execution_count": 262,
   "metadata": {},
   "outputs": [
    {
     "data": {
      "text/plain": [
       "0.6121919007930319"
      ]
     },
     "execution_count": 262,
     "metadata": {},
     "output_type": "execute_result"
    }
   ],
   "source": [
    "log_loss([\"win\", \"lose\", \"win\", \"lose\"], \n",
    "         [0.9, 0.8, 0.6, 0.2])"
   ]
  },
  {
   "cell_type": "code",
   "execution_count": 263,
   "metadata": {},
   "outputs": [
    {
     "data": {
      "text/plain": [
       "0.6121919007930319"
      ]
     },
     "execution_count": 263,
     "metadata": {},
     "output_type": "execute_result"
    }
   ],
   "source": [
    "log_loss([1, 0, 1, 0], \n",
    "         [0.9, 0.8, 0.6, 0.2])"
   ]
  },
  {
   "cell_type": "code",
   "execution_count": 264,
   "metadata": {},
   "outputs": [],
   "source": [
    "def mean_ce_loss(theta0, theta1, x, y_obs):\n",
    "    y_hat = sigma(theta0 + theta1 * x)\n",
    "    return log_loss(y_obs, y_hat)  "
   ]
  },
  {
   "cell_type": "code",
   "execution_count": 265,
   "metadata": {},
   "outputs": [],
   "source": [
    "nba = pd.read_csv(\"nba.csv\")\n",
    "nba[\"WON\"] = nba[\"WL\"]\n",
    "nba[\"WON\"] = nba[\"WON\"].replace(\"W\", 1)\n",
    "nba[\"WON\"] = nba[\"WON\"].replace(\"L\", 0)"
   ]
  },
  {
   "cell_type": "code",
   "execution_count": 266,
   "metadata": {},
   "outputs": [
    {
     "data": {
      "text/plain": [
       "0.5725397505600823"
      ]
     },
     "execution_count": 266,
     "metadata": {},
     "output_type": "execute_result"
    }
   ],
   "source": [
    "mean_ce_loss(theta0 = -11, theta1 = 0.1, \n",
    "         x = nba[\"PTS\"], y_obs = nba[\"WON\"])"
   ]
  },
  {
   "cell_type": "code",
   "execution_count": 267,
   "metadata": {},
   "outputs": [
    {
     "data": {
      "text/html": [
       "        <script type=\"text/javascript\">\n",
       "        window.PlotlyConfig = {MathJaxConfig: 'local'};\n",
       "        if (window.MathJax) {MathJax.Hub.Config({SVG: {font: \"STIX-Web\"}});}\n",
       "        if (typeof require !== 'undefined') {\n",
       "        require.undef(\"plotly\");\n",
       "        requirejs.config({\n",
       "            paths: {\n",
       "                'plotly': ['https://cdn.plot.ly/plotly-latest.min']\n",
       "            }\n",
       "        });\n",
       "        require(['plotly'], function(Plotly) {\n",
       "            window._Plotly = Plotly;\n",
       "        });\n",
       "        }\n",
       "        </script>\n",
       "        "
      ]
     },
     "metadata": {},
     "output_type": "display_data"
    },
    {
     "data": {
      "application/vnd.plotly.v1+json": {
       "config": {
        "linkText": "Export to plot.ly",
        "plotlyServerURL": "https://plot.ly",
        "showLink": false
       },
       "data": [
        {
         "colorscale": [
          [
           0,
           "#440154"
          ],
          [
           0.1111111111111111,
           "#482878"
          ],
          [
           0.2222222222222222,
           "#3e4989"
          ],
          [
           0.3333333333333333,
           "#31688e"
          ],
          [
           0.4444444444444444,
           "#26828e"
          ],
          [
           0.5555555555555556,
           "#1f9e89"
          ],
          [
           0.6666666666666666,
           "#35b779"
          ],
          [
           0.7777777777777778,
           "#6ece58"
          ],
          [
           0.8888888888888888,
           "#b5de2b"
          ],
          [
           1,
           "#fde725"
          ]
         ],
         "type": "surface",
         "x": [
          -11.1,
          -10.871428571428572,
          -10.642857142857142,
          -10.414285714285715,
          -10.185714285714285,
          -9.957142857142857,
          -9.728571428571428,
          -9.5,
          -9.27142857142857,
          -9.042857142857143,
          -8.814285714285713,
          -8.585714285714285,
          -8.357142857142858,
          -8.128571428571428,
          -7.9,
          -7.671428571428571,
          -7.442857142857143,
          -7.2142857142857135,
          -6.985714285714286,
          -6.757142857142857,
          -6.5285714285714285,
          -6.3,
          -6.071428571428571,
          -5.8428571428571425,
          -5.614285714285714,
          -5.385714285714285,
          -5.157142857142857,
          -4.928571428571429,
          -4.7,
          -4.4714285714285715,
          -4.242857142857143,
          -4.014285714285714,
          -3.7857142857142856,
          -3.557142857142857,
          -3.3285714285714283,
          -3.0999999999999996,
          -2.871428571428572,
          -2.6428571428571423,
          -2.4142857142857146,
          -2.185714285714285,
          -1.9571428571428573,
          -1.7285714285714278,
          -1.5,
          -1.2714285714285722,
          -1.0428571428571427,
          -0.814285714285715,
          -0.5857142857142854,
          -0.35714285714285765,
          -0.12857142857142811,
          0.1
         ],
         "y": [
          -0.1,
          -0.08979591836734695,
          -0.07959183673469389,
          -0.06938775510204082,
          -0.059183673469387764,
          -0.048979591836734705,
          -0.03877551020408164,
          -0.02857142857142858,
          -0.018367346938775522,
          -0.008163265306122464,
          0.002040816326530595,
          0.012244897959183654,
          0.022448979591836726,
          0.03265306122448977,
          0.042857142857142844,
          0.05306122448979589,
          0.06326530612244896,
          0.07346938775510203,
          0.08367346938775508,
          0.09387755102040815,
          0.1040816326530612,
          0.11428571428571427,
          0.12448979591836731,
          0.13469387755102039,
          0.14489795918367346,
          0.15510204081632653,
          0.16530612244897955,
          0.17551020408163262,
          0.1857142857142857,
          0.19591836734693877,
          0.20612244897959178,
          0.21632653061224486,
          0.22653061224489793,
          0.236734693877551,
          0.24693877551020407,
          0.2571428571428571,
          0.2673469387755102,
          0.27755102040816326,
          0.28775510204081634,
          0.2979591836734693,
          0.30816326530612237,
          0.31836734693877544,
          0.3285714285714285,
          0.3387755102040816,
          0.34897959183673466,
          0.35918367346938773,
          0.3693877551020408,
          0.3795918367346939,
          0.38979591836734695,
          0.4
         ],
         "z": [
          [
           11.40390243949893,
           11.28961672533508,
           11.175331011202523,
           11.061045297109299,
           10.946759583065505,
           10.832473869083838,
           10.718188155180252,
           10.6039024413748,
           10.489616727692676,
           10.375331014165559,
           10.261045300833251,
           10.146759587745784,
           10.032473874966028,
           9.918188162573006,
           9.803902450666037,
           9.689616739369935,
           9.575331028841576,
           9.461045319278119,
           9.346759610927354,
           9.232473904100699,
           9.118188199189559,
           9.00390249668584,
           8.88961679720777,
           8.775331101532355,
           8.661045410636124,
           8.546759725746387,
           8.432474048405629,
           8.318188380552451,
           8.203902724623285,
           8.08961708368026,
           7.97533146157185,
           7.861045863134829,
           7.746760294448064,
           7.6324747631514755,
           7.518189278846922,
           7.403903853602005,
           7.289618502583277,
           7.17533324485201,
           7.061048104364324,
           6.946763111228122,
           6.8324783032827385,
           6.718193728084191,
           6.603909445400117,
           6.489625530345218,
           6.375342077321595,
           6.261059204970482,
           6.1467770623948175,
           6.03249583697859,
           5.918215764212272,
           5.8039371400384265
          ],
          [
           10.806565456731503,
           10.69227974277476,
           10.577994028902502,
           10.463708315136417,
           10.349422601503775,
           10.235136888038843,
           10.120851174784693,
           10.006565461795454,
           9.892279749139151,
           9.777994036901287,
           9.663708325189317,
           9.549422614138294,
           9.435136903917948,
           9.320851194741604,
           9.206565486877363,
           9.092279780662178,
           8.97799407651953,
           8.863708374981652,
           8.749422676717463,
           8.635136982567653,
           8.520851293588809,
           8.406565611108848,
           8.292279936796705,
           8.177994272749899,
           8.0637086216046,
           7.949422986673956,
           7.835137372121924,
           7.720851783181788,
           7.606566226430747,
           7.492280710135022,
           7.377995244683616,
           7.263709843133419,
           7.149424521894323,
           7.035139301590251,
           6.920854208141265,
           6.806569274123586,
           6.692284540478755,
           6.57800005866171,
           6.463715893340317,
           6.349432125788021,
           6.235148858147413,
           6.120866218788266,
           6.0065843690408105,
           5.892303511656992,
           5.77802390144284,
           5.663745858618416,
           5.549469785604215,
           5.435196188111299,
           5.320925701636357,
           5.206659124743234
          ],
          [
           10.20922847538323,
           10.094942761998041,
           9.98065704884411,
           9.866371335980824,
           9.752085623482824,
           9.637799911443913,
           9.52351419998199,
           9.409228489245226,
           9.29494277941984,
           9.180657070739887,
           9.066371363499508,
           8.952085658068397,
           8.837799954911173,
           8.723514254611786,
           8.60922855790413,
           8.494942865710577,
           8.380657179190361,
           8.266371499800416,
           8.152085829371815,
           8.037800170205857,
           7.923514525194826,
           7.809228897973745,
           7.6949432931111215,
           7.580657716348669,
           7.46637217490258,
           7.3520866778421725,
           7.237801236565782,
           7.123515865398834,
           7.009230582345514,
           6.894945410033466,
           6.78066037690105,
           6.666375518689476,
           6.552090880318085,
           6.437806518241123,
           6.323522503409647,
           6.209238924993858,
           6.094955895061089,
           5.980673554454651,
           5.866392080181715,
           5.752111694697289,
           5.6378326775706595,
           5.52355538014503,
           5.409280243957495,
           5.295007823882468,
           5.1807388172076285,
           5.066474100159608,
           4.952214773782692,
           4.83796222155682,
           4.723718181745106,
           4.609484838214703
          ],
          [
           9.611891498039611,
           9.497605786254384,
           9.383320075111289,
           9.269034364775228,
           9.154748655453451,
           9.040462947406434,
           8.92617724096153,
           8.811891536530174,
           8.69760583462945,
           8.583320135909233,
           8.469034441186283,
           8.354748751487115,
           8.240463068101853,
           8.126177392651924,
           8.01189172717515,
           7.897606074232666,
           7.783320437043316,
           7.6690348196525475,
           7.554749227144696,
           7.440463665909757,
           7.326178143978698,
           7.211892671444845,
           7.097607260993503,
           6.983321928567572,
           6.869036694204086,
           6.754751583085566,
           6.6404666268613575,
           6.52618186530824,
           6.411897348417469,
           6.29761313901767,
           6.183329316071234,
           6.069045978816998,
           5.954763251976556,
           5.84048129229707,
           5.726200296773608,
           5.611920512981888,
           5.497642252062715,
           5.383365905038074,
           5.269091963312838,
           5.15482104443438,
           5.0405539244563435,
           4.9262915785961106,
           4.8120352323057825,
           4.697786425414989,
           4.583547092677358,
           4.4693196648936,
           4.355107195833025,
           4.240913521480387,
           4.126743459754566,
           4.012603060848993
          ],
          [
           9.014554532162633,
           8.900268824922035,
           8.78598311949065,
           8.671697416333085,
           8.557411716033261,
           8.443126019325064,
           8.328840327130829,
           8.21455464060976,
           8.100268961218736,
           7.985983290788786,
           7.871697631621134,
           7.757411986607973,
           7.643126359384224,
           7.528840754518254,
           7.414555177751607,
           7.300269636300268,
           7.185984139233294,
           7.0716986979486975,
           6.957413326771512,
           6.843128043705452,
           6.728842871377584,
           6.614557838225589,
           6.500272979989888,
           6.385988341588939,
           6.271703979476031,
           6.157419964601275,
           6.043136386134091,
           5.928853356141467,
           5.814571015467286,
           5.700289541121027,
           5.586009155563116,
           5.4717301383736086,
           5.357452840915517,
           5.2431777047607095,
           5.128905284842935,
           5.0146362785490926,
           4.900371562269442,
           4.786112237315332,
           4.671859687599291,
           4.557615652080999,
           4.443382315744193,
           4.329162423820786,
           4.214959425165246,
           4.100777652159513,
           3.9866225463632303,
           3.8725009413949203,
           3.758421417328939,
           3.644394744325818,
           3.5304344373941405,
           3.4165574492283675
          ],
          [
           8.417217599610915,
           8.302931905472986,
           8.188646216509074,
           8.074360534047887,
           7.960074859759335,
           7.845789195742185,
           7.7315035446341644,
           7.6172179097503765,
           7.502932295257249,
           7.38864670639117,
           7.274361149733233,
           7.160075633554578,
           7.045790168250391,
           6.931504766885351,
           6.817219445879179,
           6.702934225868173,
           6.588649132788051,
           6.474364199234793,
           6.360079466174975,
           6.245794985095259,
           6.131510820703845,
           6.017227054325556,
           5.902943788168671,
           5.788661150687268,
           5.674379303320289,
           5.560098448960676,
           5.445818842598547,
           5.331540804696216,
           5.2172647379958015,
           5.102991148639707,
           4.988720672709551,
           4.874454109571888,
           4.760192463773886,
           4.645936997676834,
           4.531689297572767,
           4.417451356727457,
           4.303225679666048,
           4.189015413108503,
           4.074824510322838,
           3.9606579373584716,
           3.8465219317263335,
           3.7324243266975516,
           3.6183749576047917,
           3.5043861704702186,
           3.3904734580837848,
           3.2766562544506237,
           3.1629589254407344,
           3.0494120015928514,
           2.936053708347281,
           2.822931859351213
          ],
          [
           7.81988076539271,
           7.705595109609811,
           7.591309468850623,
           7.477023846973277,
           7.362738248826694,
           7.248452680504995,
           7.134167149667299,
           7.019881665939597,
           6.905596241419858,
           6.791310891312828,
           6.677025634727849,
           6.562740495681554,
           6.44845550435805,
           6.3341706986926924,
           6.219886126362573,
           6.105601847288097,
           5.991317936776939,
           5.877034489475256,
           5.762751624333422,
           5.648469490846716,
           5.53418827689824,
           5.419908218615256,
           5.305629612755644,
           5.191352832273621,
           5.077078345880208,
           4.96280674262286,
           4.848538762770805,
           4.734275336621753,
           4.6200176332583185,
           4.5057671218000666,
           4.391525648345485,
           4.277295532610095,
           4.163079689282359,
           4.048881780387655,
           3.93470640653279,
           3.8205593468729795,
           3.7064478600883946,
           3.5923810616832346,
           3.47837039664898,
           3.364430231103331,
           3.250578592077656,
           3.1368380913306617,
           3.023237077049951,
           2.9098110666500974,
           2.7966045245624738,
           2.683673060714795,
           2.5710861377524683,
           2.4589303868406094,
           2.3473136411285807,
           2.2363697994116634
          ],
          [
           7.2225442258472565,
           7.10825868409226,
           6.99397318664367,
           6.879687744879494,
           6.765402373099627,
           6.651117089276199,
           6.536831915996607,
           6.422546881648701,
           6.308262021910321,
           6.193977381621339,
           6.079693017136402,
           5.965408999281827,
           5.851125417071735,
           5.736842382378387,
           5.622560035801659,
           5.508278554045483,
           5.393998159188076,
           5.279719130331952,
           5.16544181824442,
           5.051166663755724,
           4.93689422087868,
           4.822625185860356,
           4.708360433686256,
           4.594101063946101,
           4.479848458457943,
           4.3656043536584574,
           4.251370931533019,
           4.137150933817481,
           4.0229478054019845,
           3.9087658743634313,
           3.794610577918567,
           3.6804887459098166,
           3.566408956313961,
           3.452381980821138,
           3.338421342908592,
           3.2245440161874415,
           3.1107712972989616,
           2.9971298954437975,
           2.883653289878643,
           2.770383417471615,
           2.6573727645827194,
           2.5446869507742798,
           2.4324079053502627,
           2.3206377499385122,
           2.2095035086119172,
           2.0991627670891866,
           1.9898103877429552,
           1.8816863478051848,
           1.7750846909833828,
           1.670363450684572
          ],
          [
           6.625208583332239,
           6.510923385964976,
           6.3966383213436755,
           6.282353423557707,
           6.168068735450564,
           6.0537843108678855,
           5.939500217482708,
           5.8252165403462035,
           5.710933386350123,
           5.596650889835059,
           5.482369219638627,
           5.368088587953206,
           5.253809261457684,
           5.139531575306755,
           5.025255950710984,
           4.910982917028719,
           4.796713139526939,
           4.68244745426429,
           4.568186911921368,
           4.45393283286958,
           4.339686876354836,
           4.22545112740505,
           4.111228205988277,
           3.9970214040964516,
           3.8828348578643914,
           3.768673763623993,
           3.6545446490227502,
           3.540455713105215,
           3.426417252685672,
           3.312442196570589,
           3.1985467743802194,
           3.0847513530454007,
           2.971081481698056,
           2.857569194797235,
           2.7442546340484792,
           2.63118806197923,
           2.5184323537037105,
           2.4060660678415666,
           2.29418721150849,
           2.182917825539161,
           2.0724095208848747,
           1.9628500895032914,
           1.8544712840507926,
           1.7475577974415282,
           1.642457358554346,
           1.5395916727064138,
           1.4394676520866054,
           1.342687984086118,
           1.2499595734346804,
           1.162097803123284
          ],
          [
           6.027875715574193,
           5.913591575156566,
           5.799307838909898,
           5.685024610624564,
           5.570742020743457,
           5.456460233205755,
           5.342179454047777,
           5.227899942211953,
           5.113622023130553,
           4.999346105796212,
           4.885072704213701,
           4.770802464356659,
           4.656536198040698,
           4.542274925485385,
           4.428019928790813,
           4.313772819122598,
           4.199535621111576,
           4.085310878866526,
           3.971101789114917,
           3.8569123683824285,
           3.742747662864465,
           3.6286140118142014,
           3.5145193779712405,
           3.4004737619016683,
           3.2864897212537305,
           3.1725830210142294,
           3.058773447057255,
           2.9450858227968135,
           2.831551277767426,
           2.7182088276003324,
           2.60510733717792,
           2.4923079525844396,
           2.3798871023339667,
           2.267940183180174,
           2.1565860586092036,
           2.045972505480058,
           1.936282740700677,
           1.827743136845358,
           1.7206321808406564,
           1.6152906261470068,
           1.5121326142861822,
           1.4116572710164175,
           1.3144598929439428,
           1.2212413221614058,
           1.1328134826161267,
           1.0500984059992275,
           0.9741175820000176,
           0.905968410299029,
           0.8467852701148187,
           0.7976845832667359
          ],
          [
           5.430551571997554,
           5.316270728881539,
           5.201991136664274,
           5.087713116561162,
           4.9734370722654715,
           4.85916351112237,
           4.744893070736715,
           4.63062655240784,
           4.516364963140987,
           4.402109568432503,
           4.287861958586787,
           4.173624132026356,
           4.05939859993729,
           3.9451885176949664,
           3.8309978498935053,
           3.7168315775235126,
           3.6026959579879096,
           3.488598851313405,
           3.374550129223468,
           3.260562187826459,
           3.1466505896999166,
           3.032834867297481,
           2.9191395270575944,
           2.8055953025359672,
           2.692240715462474,
           2.5791240158914053,
           2.466305586443448,
           2.353860910572093,
           2.241884219816978,
           2.1304929482306725,
           2.0198331303013397,
           1.910085876405811,
           1.8014750388645864,
           1.6942761298826876,
           1.5888264531265928,
           1.4855362414815845,
           1.384900329166793,
           1.2875095026465941,
           1.194060159405804,
           1.1053602753735434,
           1.0223290184267673,
           0.9459868162146418,
           0.8774325722990327,
           0.8178053942253676,
           0.7682300007428287,
           0.7297480337470034,
           0.7032414414934027,
           0.6893579018266821,
           0.6884504208003602,
           0.7005424116089072
          ],
          [
           4.833255318675941,
           4.718984934691498,
           4.604718487237302,
           4.490456987029332,
           4.3762017042240435,
           4.261954234977096,
           4.147716585056065,
           4.033491274864399,
           3.919281471339901,
           3.8050911535736835,
           3.6909253207214503,
           3.5767902529296864,
           3.462693838673018,
           3.3486459852135333,
           3.2346591329861556,
           3.120748899745156,
           3.006934886451746,
           2.8932416843264677,
           2.7797001314095344,
           2.66634887750262,
           2.5532363285449926,
           2.440423055152582,
           2.3279847647286314,
           2.2160159511781883,
           2.104634348853951,
           1.9939863245546767,
           1.8842533377481245,
           1.7756595763494312,
           1.668480821167634,
           1.5630544897522975,
           1.4597906384059867,
           1.359183435258857,
           1.261822235535298,
           1.1684008837766062,
           1.0797232602424203,
           0.9967024622461669,
           0.9203505355312659,
           0.8517556172944293,
           0.7920440641781965,
           0.7423269228214681,
           0.7036330333201958,
           0.6768347532254811,
           0.6625757918757347,
           0.6612125979883046,
           0.6727799466090572,
           0.6969874827927708,
           0.7332479264448375,
           0.7807313539943606,
           0.8384354910170082,
           0.9052604724961089
          ],
          [
           4.236049756516971,
           4.1218131161558125,
           4.007589074421191,
           3.893380864527465,
           3.7791925487413374,
           3.6650292305629577,
           3.5508973209780432,
           3.436804872425387,
           3.322761997488937,
           3.2087813934728753,
           3.094878999107612,
           2.98107481583484,
           2.867393933605192,
           2.7538678100508256,
           2.640535862372005,
           2.5274474432904435,
           2.4146642857436214,
           2.302263515016503,
           2.1903413405020404,
           2.0790175500454047,
           1.968440934183324,
           1.8587957597409466,
           1.7503093835003511,
           1.6432610346481706,
           1.5379916829779043,
           1.4349147283065864,
           1.3345269741752628,
           1.2374189696914684,
           1.1442833181081669,
           1.0559189948928807,
           0.9732291844436031,
           0.8972098030570637,
           0.8289259734411532,
           0.7694745352971261,
           0.719932429953739,
           0.6812934672517909,
           0.6543991649575505,
           0.6398722113186518,
           0.638062565755692,
           0.6490153943090747,
           0.6724667319771577,
           0.7078677144806442,
           0.754432907359958,
           0.8112042801363732,
           0.8771207555820172,
           0.9510840999087832,
           1.032014485624085,
           1.1188922750226051,
           1.2107854859222376,
           1.306864463073216
          ],
          [
           3.6391442356558312,
           3.525018327388148,
           3.4109334141937153,
           3.2968999984936302,
           3.18293126517371,
           3.0690437620342936,
           2.9552582501440243,
           2.8416007649646557,
           2.728103938043901,
           2.6148086394262373,
           2.5017660126025882,
           2.3890399864379543,
           2.27671036126511,
           2.164876577690809,
           2.053662284033614,
           1.9432208175469885,
           1.8337416993784252,
           1.7254582045152198,
           1.6186559935102514,
           1.513682667236072,
           1.4109579122620526,
           1.3109836275984437,
           1.2143530573903147,
           1.1217575128664463,
           1.0339888000632675,
           0.9519350779280349,
           0.8765677128069872,
           0.8089169726582289,
           0.7500353151820988,
           0.7009486715989486,
           0.6625984096204082,
           0.6357791849951292,
           0.6210800004458624,
           0.618836721652059,
           0.6291034832408852,
           0.651647777384916,
           0.6859701025260427,
           0.7313448878288137,
           0.7868761246332429,
           0.851559519647512,
           0.9243432298296261,
           1.0041809598212457,
           1.0900736770627997,
           1.1810986844244702,
           1.2764267580238797,
           1.3753292829902968,
           1.4771778325926486,
           1.5814386139545453,
           1.687663863992604,
           1.7954818091238578
          ],
          [
           3.0432482784085515,
           2.9294915464799027,
           2.8158701055362094,
           2.702418380504227,
           2.5891794547259357,
           2.476207190304721,
           2.363568835384535,
           2.251348212099635,
           2.139649586732775,
           2.0286023256297856,
           1.91836643198444,
           1.8091390330656936,
           1.7011618358165084,
           1.5947294797367382,
           1.4901985768568655,
           1.3879970274911475,
           1.288632930539346,
           1.1927020737394143,
           1.100892619440836,
           1.0139852539675542,
           0.9328468407713156,
           0.8584156415010485,
           0.7916765898800714,
           0.7336260333460013,
           0.6852268118336939,
           0.64735637531753,
           0.6207525151955076,
           0.6059627171182779,
           0.603303637502575,
           0.6128364360275913,
           0.6343616678368112,
           0.6674345432204994,
           0.711398274075604,
           0.765430680814997,
           0.8285977808269148,
           0.8999079243745385,
           0.9783610259392347,
           1.0629891427743556,
           1.15288657700833,
           1.2472293946801591,
           1.3452855028987578,
           1.4464171267812813,
           1.5500777446064742,
           1.6558054111371843,
           1.7632140769395417,
           1.8719841211462733,
           1.9818529403115603,
           2.0926061209373477,
           2.2040694825291833,
           2.316102108311322
          ],
          [
           2.4507941466116514,
           2.338279181507881,
           2.226211525317182,
           2.1147019120977513,
           2.0038872649795088,
           1.8939362473323058,
           1.7850556635932988,
           1.677497673703879,
           1.5715676837356283,
           1.467632628536827,
           1.366129164579615,
           1.2675710447160948,
           1.1725546666835192,
           1.0817615088008896,
           0.9959559481880577,
           0.9159768815812676,
           0.8427217336368129,
           0.7771219323175512,
           0.720109802352247,
           0.6725780380414703,
           0.6353343130332411,
           0.6090549014008958,
           0.5942420914537289,
           0.5911903677882744,
           0.5999656482449529,
           0.6204003356051532,
           0.6521048535402298,
           0.6944941174419107,
           0.7468255081383351,
           0.8082437271643679,
           0.8778275762648788,
           0.954634169619554,
           1.0377371410117369,
           1.1262567554568952,
           1.2193811839740185,
           1.3163793257867034,
           1.416606338585813,
           1.5195034402578456,
           1.6245936279808446,
           1.7314748174337113,
           1.839811637276832,
           1.9493268062277642,
           2.059792729050188,
           2.171023704104571,
           2.28286894891412,
           2.3952065188355314,
           2.5079381084280143,
           2.620984674655776,
           2.7342827954789435,
           2.8477816683191253
          ],
          [
           1.8700067285504998,
           1.761578046093562,
           1.6545613018933534,
           1.549273424249581,
           1.4460916987804013,
           1.3454605992115947,
           1.2478974242934417,
           1.1539957952289868,
           1.0644258851278265,
           0.979930148475685,
           0.9013133579678434,
           0.8294260043085724,
           0.7651406195221692,
           0.7093213488872094,
           0.6627880566549988,
           0.6262772689983502,
           0.6004031405656198,
           0.5856221673321717,
           0.5822053831270434,
           0.5902211885450095,
           0.6095308217742769,
           0.6397969821171693,
           0.6805045424404413,
           0.7309909322332095,
           0.7904828638478842,
           0.8581357164770763,
           0.9330720675690846,
           1.0144164591986617,
           1.1013243477058658,
           1.1930041387324646,
           1.2887321050683567,
           1.387860708134174,
           1.489821332360358,
           1.5941226846824599,
           1.7003461421936763,
           1.808139209395516,
           1.9172080388197343,
           2.027309732539165,
           2.1382449178644642,
           2.2498509011350434,
           2.3619955573086586,
           2.474572008841487,
           2.5874940788940815,
           2.700692463211616,
           2.814111544359231,
           2.927706764799299,
           3.0414424765234283,
           3.155290190960275,
           3.2692271612021537,
           3.3832352376543926
          ],
          [
           1.326094664831831,
           1.2297021720250934,
           1.1370946468302692,
           1.0489260053096616,
           0.9659115552417773,
           0.8888170027696675,
           0.8184418395328328,
           0.7555970293922724,
           0.7010775504610024,
           0.6556310739779134,
           0.6199247705376504,
           0.5945128002159288,
           0.5798073400210875,
           0.576055929970958,
           0.5833274364353102,
           0.6015080821126838,
           0.6303079094215029,
           0.6692769207520313,
           0.7178291714082704,
           0.7752724243476137,
           0.8408406737082071,
           0.9137268916093253,
           0.9931136815694901,
           1.0782000409303236,
           1.1682230517486418,
           1.2624739517804038,
           1.3603086137025746,
           1.461152925705569,
           1.5645038842224677,
           1.669927369426596,
           1.7770535917080954,
           1.8855711074638475,
           1.9952201482043401,
           2.1057858283698403,
           2.2170916246382073,
           2.3289933711181976,
           2.441373898290609,
           2.554138359071345,
           2.6672102288890813,
           2.780527932444329,
           2.894042031986879,
           3.0077129053922556,
           3.1215088429668083,
           3.2354044967592204,
           3.349379623114696,
           3.4634180669121397,
           3.5775069435393885,
           3.6916359817215874,
           3.805796996603056,
           3.919983467924355
          ],
          [
           0.878423201144393,
           0.8096613795190063,
           0.7483404194336558,
           0.695187513262179,
           0.6508810398459524,
           0.6160226086575313,
           0.5911101587469181,
           0.5765142806230705,
           0.5724598318511738,
           0.5790145339267054,
           0.5960855998999416,
           0.6234246453445366,
           0.6606403182759931,
           0.7072173854499162,
           0.7625405313445377,
           0.8259208993689227,
           0.8966234141379131,
           0.9738931168148929,
           1.056979060627456,
           1.1451546957599688,
           1.237734079826478,
           1.334083650000122,
           1.4336296576136636,
           1.5358616684430946,
           1.6403327483125258,
           1.746657070824606,
           1.8545057043228872,
           1.9636012764199755,
           2.073712103852756,
           2.1846462417222203,
           2.296245772898809,
           2.4083815409238434,
           2.5209484354850873,
           2.633861269779525,
           2.74705124139814,
           2.8604629386923466,
           2.97405183849164,
           3.0877822345282495,
           3.2016255357076764,
           3.3155588769477102,
           3.4295639909105056,
           3.5436262953687523,
           3.657734157418503,
           3.7718783018356477,
           3.8860513363452434,
           4.000247371347389,
           4.1144617157187735,
           4.228690633736075,
           4.342931151005553,
           4.457180899630799
          ],
          [
           0.614330308801031,
           0.5899392814414468,
           0.5754788956396008,
           0.5711526819343616,
           0.5770260468540976,
           0.5930234701207443,
           0.6189323166480717,
           0.6544128209790016,
           0.6990132872364011,
           0.7521891995834021,
           0.8133247782762812,
           0.8817555242973546,
           0.9567904273626301,
           1.037732719533636,
           1.1238983000896237,
           1.2146312110597655,
           1.309315793993054,
           1.4073854012052036,
           1.5083277622113596,
           1.6116873058776358,
           1.7170648938061646,
           1.8241155151941482,
           1.9325445216420858,
           2.0421029483893425,
           2.1525823926178353,
           2.2638098204135266,
           2.375642570628989,
           2.4879637298260495,
           2.6006779750565534,
           2.7137079226449057,
           2.8269909801688597,
           2.9404766726068248,
           3.0541243987583044,
           3.1679015673831463,
           3.2817820613897792,
           3.395744980763503,
           3.509773619245798,
           3.623854634992453,
           3.73797738086133,
           3.8521333651822456,
           3.9663158186094565,
           4.080519346847219,
           4.194739652648626,
           4.308973313541461,
           4.423217604284444,
           4.537470355164276,
           4.65172983896747,
           4.765994680870824,
           4.880263786633573,
           4.994536285387823
          ],
          [
           0.592094016413646,
           0.6166207195380359,
           0.6504085438940919,
           0.6930618172218163,
           0.7440997298874154,
           0.802973861883664,
           0.8690867051532297,
           0.9418101860809198,
           1.0205033453887395,
           1.104528502142655,
           1.1932653952466397,
           1.2861229511536194,
           1.382548471431102,
           1.482034173937435,
           1.5841211603480285,
           1.6884010164822112,
           1.7945153676476577,
           1.9021537930800456,
           2.011050540083503,
           2.120980468161902,
           2.231754604872489,
           2.343215622989304,
           2.4552334682548667,
           2.5677012907801235,
           2.680531768497731,
           2.79365386096347,
           2.907009995997672,
           3.0205536681541894,
           3.134247414157253,
           3.2480611236814667,
           3.3619706419743474,
           3.4759566221099814,
           3.5900035878309278,
           3.704099172060043,
           3.8182335006305594,
           3.932398695172095,
           4.046588473186084,
           4.160797827005987,
           4.27502276653445,
           4.389260113380112,
           4.503507336311266,
           4.617762419854412,
           4.732023759439195,
           4.846290077774882,
           4.960560358190199,
           5.074833791517545,
           5.189109733775322,
           5.303387672476447,
           5.417667199788756,
           5.531947991178507
          ],
          [
           0.7947681819988558,
           0.8585534604139435,
           0.9289268526337399,
           1.0053026274473775,
           1.0870912905256622,
           1.173712099974964,
           1.2646039176060586,
           1.3592342022574273,
           1.4571060278939998,
           1.5577630838063252,
           1.6607926957135324,
           1.7658269961185982,
           1.8725424611509724,
           1.9806581042567588,
           2.089932660315365,
           2.200161100358956,
           2.3111707898923464,
           2.4228175528477967,
           2.534981841026827,
           2.647565146597562,
           2.760486740384558,
           2.873680775001826,
           2.98709375997021,
           3.100682394562546,
           3.214411731139412,
           3.328253634992004,
           3.442185504300841,
           3.556189214267217,
           3.6702502516792412,
           3.784357009346625,
           3.8985002134385356,
           4.012672460412064,
           4.126867843706739,
           4.241081653559864,
           4.355310136117326,
           4.469550300449367,
           4.583799764153893,
           4.698056629967225,
           4.812319387240419,
           4.926586833328175,
           5.040858010896562,
           5.155132157955089,
           5.2694086680410885,
           5.383687058504277,
           5.497966945242823,
           5.612248022600694,
           5.726530047339899,
           5.840812825917083,
           5.955096204308005,
           6.069380059978706
          ],
          [
           1.1560189182838656,
           1.2448333644269094,
           1.3375388465108635,
           1.4336550354307553,
           1.5327341076705612,
           1.6343646441303186,
           1.7381740079048122,
           1.843829268196266,
           1.951036806471984,
           2.0595408068495473,
           2.1691208803928492,
           2.27958909241433,
           2.3907866514679905,
           2.5025804846619013,
           2.614859876342645,
           2.7275332961624112,
           2.8405254955366233,
           2.9537749127710473,
           3.0672313980940524,
           3.180854249925463,
           3.294610541369488,
           3.4084737092501216,
           3.5224223752886528,
           3.636439368897283,
           3.750510922538512,
           3.864626013000727,
           3.978775824787394,
           4.092953314814724,
           4.207152860535543,
           4.3213699763365625,
           4.435601085520899,
           4.549843337346787,
           4.664094460455025,
           4.778352645619359,
           4.892616452032421,
           5.00688473249087,
           5.121156573688722,
           5.235431248616616,
           5.349708178613073,
           5.463986903122494,
           5.578267055608964,
           5.692548344382274,
           5.806830537335463,
           5.921113449728847,
           6.035396934598843,
           6.149680874982233,
           6.263965177819785,
           6.378249769029148,
           6.492534589720659,
           6.606819592999302
          ],
          [
           1.6092333223719018,
           1.7116766146118578,
           1.8161337218516513,
           1.922301915491519,
           2.029913353915278,
           2.1387338633251076,
           2.248560963554518,
           2.359221350840034,
           2.4705680523099764,
           2.5824774465727343,
           2.6948463091984634,
           2.8075890001693393,
           2.920634869891528,
           3.0339259256893665,
           3.1474147738323746,
           3.261062833205911,
           3.3748388046923092,
           3.488717373638133,
           3.6026781198675555,
           3.716704609220632,
           3.830783641601963,
           3.9449046323559203,
           4.059059106053715,
           4.173240284192671,
           4.28744275074138,
           4.401662181759142,
           4.515895127455447,
           4.630138836934084,
           4.7443911175567015,
           4.858650222254657,
           4.972914759383872,
           5.0871836206548915,
           5.201455923617871,
           5.315730965719862,
           5.430008187706159,
           5.544287144448338,
           5.65856748165506,
           5.772848917366062,
           5.887131227199392,
           6.001414232590038,
           6.11569779143391,
           6.2299817906815775,
           6.344266140347215,
           6.458550768814512,
           6.572835619132708,
           6.687120646085281,
           6.801405813293171,
           6.915691092391282,
           7.029976460482667,
           7.1442618991311635
          ],
          [
           2.1091054516049104,
           2.2181840233211654,
           2.3282105299084375,
           2.4390242766908514,
           2.550488455985246,
           2.6624875560948857,
           2.774924760566021,
           2.8877194475175867,
           3.0008048639449783,
           3.1141260187607243,
           3.2276378133347934,
           3.3413034100205032,
           3.455092827096286,
           3.568981741611279,
           3.6829504784206737,
           3.7969831629790463,
           3.9110670161722982,
           4.0251917709778935,
           4.139349192591874,
           4.253532685670625,
           4.367736974306077,
           4.481957842307977,
           4.596191923146644,
           4.710436530559457,
           4.824689522270173,
           4.938949190615097,
           5.053214174847817,
           5.16748339099659,
           5.281755975774913,
           5.3960312417548355,
           5.510308641650899,
           5.624587739806304,
           5.738868189445533,
           5.8531497145594695,
           5.967432095490796,
           6.081715157432797,
           6.195998761273034,
           6.3102827962943815,
           6.4245671744620285,
           6.538851825603141,
           6.6531366938643055,
           6.767421735047052,
           6.88170691392594,
           6.99599220187274,
           7.110277577236516,
           7.22456302192198,
           7.3388485214533175,
           7.453134064593375,
           7.567419642561521,
           7.681705249341601
          ],
          [
           2.6305270457277814,
           2.7425944997307163,
           2.855082509713639,
           2.967914766132074,
           3.081027848592488,
           3.19436931598819,
           3.3078960010089524,
           3.4215725136963444,
           3.5353699465527972,
           3.649264766286101,
           3.7632378735742784,
           3.8772738111810745,
           3.99136010123709,
           4.105486693860399,
           4.219645510915198,
           4.333830070455998,
           4.448035179078185,
           4.5622566810050245,
           4.676491254298617,
           4.790736245873179,
           4.904989538330758,
           5.01924944282737,
           5.133514612953092,
           5.247783975745075,
           5.362056676369829,
           5.476332034014829,
           5.590609506532741,
           5.70488866225819,
           5.819169157564409,
           5.933450718938903,
           6.047733128645864,
           6.1620162134952565,
           6.276299835500485,
           6.39058388497719,
           6.504868274544551,
           6.619152934729684,
           6.73343781061923,
           6.8477228572278825,
           6.962008040834896,
           7.076293332536008,
           7.190578710516791,
           7.304864157438889,
           7.419149658831789,
           7.533435203645538,
           7.647720783708472,
           7.7620063920068905,
           7.876292017222771,
           7.990577664639559,
           8.10486332447416,
           8.219148997354646
          ],
          [
           3.161297968249758,
           3.274651380193973,
           3.388185995871306,
           3.5018676411529426,
           3.6156682938070364,
           3.7295650535523874,
           3.8435392649331246,
           3.957575775556938,
           4.071662312398029,
           4.185788960063898,
           4.2999477265083526,
           4.4141321833239004,
           4.528337169230876,
           4.64255854680622,
           4.756793003838307,
           4.87103789173023,
           4.985291094530238,
           5.099550923078868,
           5.213816029815468,
           5.328085340295769,
           5.442357998129151,
           5.556633320934455,
           5.670910765260911,
           5.7851898983134715,
           5.899470375252584,
           6.013751921995608,
           6.1280343199603395,
           6.242317395463444,
           6.356601009914111,
           6.470885053407242,
           6.585169438371409,
           6.699454094502626,
           6.813738967479747,
           6.928024011281658,
           7.0423091933191895,
           7.156594482635762,
           7.27087986034895,
           7.385165305392516,
           7.499450806754479,
           7.613736350200258,
           7.728021930154923,
           7.8423075395883375,
           7.956593165964886,
           8.070878814406957,
           8.1851644687369,
           8.299450136266865,
           8.413735823545831,
           8.528021513047733,
           8.642307188224173,
           8.756592894923541
          ],
          [
           3.6959866052764414,
           3.809881716072279,
           3.923854036378319,
           4.037888632302821,
           4.151973360241018,
           4.266098372921328,
           4.3802557061002565,
           4.494438933990126,
           4.6086428834706075,
           4.72286339792601,
           4.837097143112047,
           4.951341448364507,
           5.065594177058513,
           5.179853621591572,
           5.294118418509242,
           5.408387479726485,
           5.522659937436328,
           5.636935099897368,
           5.751212415884671,
           5.865491446356001,
           5.979771841374347,
           6.094053322773129,
           6.208335668460965,
           6.322618702528676,
           6.436902283927612,
           6.55118630087709,
           6.665470665097446,
           6.779755305295745,
           6.894040163748603,
           7.008325198049198,
           7.12261037218889,
           7.236895655824683,
           7.351181026978808,
           7.465466467493361,
           7.579751963880708,
           7.694037509655033,
           7.808323081453621,
           7.92260868868214,
           8.036894311804703,
           8.151179960829465,
           8.26546561629226,
           8.379751285694507,
           8.49403698641361,
           8.608322676987358,
           8.722608342287447,
           8.836894037176222,
           8.951179761040668,
           9.065465502942317,
           9.179751176380794,
           9.294036827842966
          ],
          [
           4.232293198703071,
           4.346414941939552,
           4.460569489687528,
           4.574750376685124,
           4.6889523802114335,
           4.803171291033348,
           4.917403724008657,
           5.03164696142732,
           5.145898825133462,
           5.26015757154091,
           5.3744218065947695,
           5.48869041667413,
           5.602962512621763,
           5.717237385707372,
           5.831514470437565,
           5.945793316404402,
           6.060073563704259,
           6.17435492747976,
           6.288637180205883,
           6.402920139168167,
           6.517203661037485,
           6.631487631489171,
           6.7457719570192465,
           6.8600565666753015,
           6.974341401854832,
           7.088626416058712,
           7.202911574731973,
           7.3171968436385555,
           7.431482208531534,
           7.545767640034605,
           7.6600531365383,
           7.774338672239942,
           7.888624249347079,
           8.002909834762853,
           8.117195460522414,
           8.23148110561976,
           8.345766779065295,
           8.460052462812985,
           8.5743381157288,
           8.68862377956476,
           8.802909512285934,
           8.917195243499975,
           9.031480952699047,
           9.14576655460591,
           9.260052458035592,
           9.374338156487127,
           9.48862351961254,
           9.602909260384967,
           9.717194895901553,
           9.831481249456068
          ],
          [
           4.769265827269988,
           4.883482374420055,
           4.997712874306606,
           5.1119545391912835,
           5.226205129238044,
           5.340462847693895,
           5.45472625532904,
           5.568994201101788,
           5.683265764497996,
           5.7975402115385934,
           5.911816955368077,
           6.0260955292276375,
           6.140375559654774,
           6.254656750328454,
           6.368938864459472,
           6.483221712977061,
           6.59750514722604,
           6.711789047733369,
           6.826073318848454,
           6.940357882761859,
           7.05464268111963,
           7.168927669501073,
           7.283212810563833,
           7.3974980635536545,
           7.51178340678542,
           7.626068838509812,
           7.740354300941951,
           7.854639827677084,
           7.968925409669582,
           8.083211010487029,
           8.197496611595682,
           8.311782305032303,
           8.426067913824744,
           8.540353556723607,
           8.654639324917124,
           8.768924916346862,
           8.883210684856705,
           8.997496361302892,
           9.111782142272766,
           9.226067459658571,
           9.340353278756554,
           9.454639502529236,
           9.56892457820117,
           9.683210971027657,
           9.797495654072922,
           9.91178266635317,
           10.026067388719484,
           10.140352442020417,
           10.254640802319507,
           10.368922471864703
          ],
          [
           5.306513231092099,
           5.420769567024661,
           5.535031860833987,
           5.6492989105391045,
           5.763569756264855,
           5.877843627789019,
           5.99211991211878,
           6.106398117987445,
           6.220677854427867,
           6.334958811684509,
           6.4492407388916195,
           6.563523440939712,
           6.677806754230241,
           6.792090560789491,
           6.906374754153397,
           7.020659260156922,
           7.134944017700434,
           7.249228966211527,
           7.36351407751406,
           7.4777993027105305,
           7.592084639208631,
           7.706370056432978,
           7.82065553032283,
           7.9349410048283024,
           8.049226590844928,
           8.163512219162815,
           8.277797819836211,
           8.392083411818094,
           8.50636905890835,
           8.6206548515859,
           8.734940412408786,
           8.849226133039751,
           8.963511751820624,
           9.07779748704647,
           9.192083315081407,
           9.306368701314044,
           9.42065435993204,
           9.534940192550742,
           9.64922569148239,
           9.763511786902313,
           9.877798695915674,
           9.992083514657834,
           10.106369558570314,
           10.220655788104756,
           10.334943690245316,
           10.449229724265413,
           10.56351527360086,
           10.67779631202526,
           10.792079654205942,
           10.906364133219924
          ],
          [
           5.843874574359059,
           5.958147705646175,
           6.072423396724378,
           6.186701129912327,
           6.300980486838559,
           6.415261142760274,
           6.529542826237579,
           6.64382533544395,
           6.758108498084573,
           6.872392181642436,
           6.986676278814107,
           7.100960710782457,
           7.21524540814013,
           7.329530300233142,
           7.443815380854749,
           7.55810054755573,
           7.6723858465103145,
           7.786671219589046,
           7.9009566928073705,
           8.01524225765107,
           8.129527743426884,
           8.243813237285446,
           8.358099099659267,
           8.472384612867419,
           8.586670073944754,
           8.700955718106238,
           8.815241812697685,
           8.929527029414299,
           9.043812495131029,
           9.158098414057912,
           9.27238362732057,
           9.386669283722329,
           9.50095448231984,
           9.61524198620991,
           9.72952753189593,
           9.843812059408526,
           9.95809545429086,
           10.072387788156671,
           10.186666823041612,
           10.300955344619304,
           10.41523915489546,
           10.529527913007565,
           10.643816187388548,
           10.758101719710995,
           10.872365156366337,
           10.986650674407718,
           11.100962063841475,
           11.215218905637233,
           11.329463394790926,
           11.443654258227633
          ],
          [
           6.381283502086895,
           6.4955637762452625,
           6.6098451620613075,
           6.7241274344355935,
           6.838410396053741,
           6.952693924139613,
           7.0669778922518045,
           7.181262233144641,
           7.29554686328939,
           7.409831698470101,
           7.524116747661722,
           7.638401863590221,
           7.752687085413345,
           7.866972516784964,
           7.981257815122496,
           8.095543485676005,
           8.209829064552089,
           8.324114449945256,
           8.438400046013301,
           8.552685622825123,
           8.666971647744743,
           8.781257083344865,
           8.895543445886764,
           9.009828028430539,
           9.124113674702366,
           9.238400579676227,
           9.352686339907134,
           9.466971504435811,
           9.581255224797271,
           9.695542654318416,
           9.809831615115398,
           9.924115008557498,
           10.038396026854093,
           10.152682514885996,
           10.266974651764238,
           10.381269951847402,
           10.495525067885248,
           10.609836643241556,
           10.72413023834337,
           10.838389365826858,
           10.952652511515835,
           11.066883897650163,
           11.181081024726389,
           11.2952775100849,
           11.409471617164932,
           11.523664266610721,
           11.637851528199027,
           11.75205478536936,
           11.866222352115095,
           11.980414543394126
          ],
          [
           6.918712456263746,
           7.032995788741297,
           7.147279633426557,
           7.261563888440864,
           7.375848311374012,
           7.490133144406346,
           7.604418154367082,
           7.718703141145096,
           7.832988583842261,
           7.947273605009551,
           8.061559009846404,
           8.175844804623228,
           8.290130369429997,
           8.404416204968394,
           8.518701462963692,
           8.632986419978472,
           8.74727329332248,
           8.861559097755986,
           8.975844994268945,
           9.090131416263212,
           9.20441663035087,
           9.318699008541927,
           9.432983959544972,
           9.547276500568854,
           9.661553383713876,
           9.775836710549989,
           9.890128317622024,
           10.004426245082806,
           10.118697173133233,
           10.232989432025011,
           10.347263086718225,
           10.461558954567339,
           10.575810756108407,
           10.690120465254438,
           10.804312093420206,
           10.918505881294404,
           11.032701212243264,
           11.14688700000656,
           11.261080834956076,
           11.375271512043971,
           11.489455789149618,
           11.603640624221917,
           11.717816146966086,
           11.8320785913641,
           11.946239517452586,
           12.060401616039663,
           12.17465758698427,
           12.288841956429568,
           12.402896292277036,
           12.516949433819635
          ],
          [
           7.4561499877247055,
           7.57043472210039,
           7.684719471731279,
           7.799004608591191,
           7.913289721111041,
           8.02757480953113,
           8.141859993154972,
           8.256145686378526,
           8.370431879319327,
           8.484717555935832,
           8.59900290258333,
           8.713286903516236,
           8.827573463151309,
           8.941858020303961,
           9.056143909756008,
           9.170433340765566,
           9.284713358651475,
           9.39900425984634,
           9.513293100835615,
           9.62757304720528,
           9.741851107872025,
           9.856154576315387,
           9.970414984786094,
           10.084735152972177,
           10.198984124847534,
           10.313313357223054,
           10.427551353103615,
           10.541741466656458,
           10.655938057115407,
           10.770121767646344,
           10.884319996180938,
           10.998513022490497,
           11.112703529531885,
           11.226901483120379,
           11.341072572193927,
           11.455289077070997,
           11.569459725468482,
           11.683671689645466,
           11.797832488561506,
           11.91202369555911,
           12.026314508901732,
           12.140388220472934,
           12.254420507745161,
           12.368345879398376,
           12.482206293497235,
           12.596051092686267,
           12.709883761181384,
           12.823618707074212,
           12.937229744588704,
           13.050798794002775
          ],
          [
           7.9935913817075335,
           8.107877090221146,
           8.222160950103572,
           8.33644777582888,
           8.45073298663392,
           8.565016354337208,
           8.679304972998036,
           8.793589520240815,
           8.907875900543313,
           9.022159756679786,
           9.136443195679147,
           9.250735428309817,
           9.36501940278822,
           9.479303782533432,
           9.593579993969009,
           9.707879100705949,
           9.822162654758547,
           9.93647213965907,
           10.050739302165843,
           10.164973848430293,
           10.27916860233922,
           10.393360936068069,
           10.507549508376256,
           10.6217408847961,
           10.735949024913424,
           10.850122463311116,
           10.96432745979587,
           11.07851309640306,
           11.192700717930371,
           11.306891878212031,
           11.42109384639398,
           11.535244348240239,
           11.649427406665263,
           11.76367314997599,
           11.877889395889381,
           11.991948332882517,
           12.105881494956291,
           12.21977070089175,
           12.333629026144196,
           12.447469664610319,
           12.561306565869955,
           12.674877638298462,
           12.788532671045568,
           12.902152072060069,
           13.015504595366748,
           13.128684667362625,
           13.241880780091103,
           13.35500387663204,
           13.467955495373495,
           13.580841552745744
          ],
          [
           8.53103627336005,
           8.645319593989639,
           8.759607400240212,
           8.873896197363015,
           8.988179280518635,
           9.10246744331101,
           9.216755841592137,
           9.331039392089718,
           9.445305749859097,
           9.559589734075043,
           9.673900170008004,
           9.788167772070478,
           9.902403405984275,
           10.016591571666037,
           10.130786059593206,
           10.244978493308963,
           10.359171831178582,
           10.473374090211353,
           10.587550145533845,
           10.701760392181466,
           10.815965139116923,
           10.930142377683575,
           11.044312094690927,
           11.158540341798759,
           11.272669646941143,
           11.386941187009173,
           11.501076099258539,
           11.61533847021385,
           11.729418721531683,
           11.843386187605882,
           11.957372262106531,
           12.071253926707197,
           12.185163140550594,
           12.298909572747169,
           12.412675921380497,
           12.526272141436559,
           12.639848842478347,
           12.75337520715079,
           12.86673587376286,
           12.980108907198447,
           13.093129912621906,
           13.2062763199202,
           13.319186886147245,
           13.432120166732124,
           13.544763754745302,
           13.657115656273456,
           13.769373487516694,
           13.88136026325952,
           13.99363614956191,
           14.105254879582231
          ],
          [
           9.06846602097227,
           9.182775619860228,
           9.297071462942682,
           9.411325075562058,
           9.525593781299436,
           9.639831163651008,
           9.754022921195741,
           9.8682117732896,
           9.982409268889281,
           10.09659817291286,
           10.210791787918525,
           10.324985321166393,
           10.439171694773572,
           10.55338062105578,
           10.667564440827775,
           10.78178339598998,
           10.895937327750625,
           11.010119668662673,
           11.124377888109331,
           11.23854365157523,
           11.352664727500539,
           11.466846129797247,
           11.58093088707335,
           11.69487428681321,
           11.808892528158315,
           11.922678497184613,
           12.036551886625086,
           12.150355186977043,
           12.26399249058842,
           12.377704110851566,
           12.49122404745129,
           12.60462158563973,
           12.718011568340367,
           12.831363097075089,
           12.944497080967176,
           13.057703644768253,
           13.170404027598396,
           13.283324928304744,
           13.395937092380251,
           13.508560285835921,
           13.620732773974627,
           13.733304788954106,
           13.844836980906484,
           13.956370453628685,
           14.068009922902238,
           14.178451688307005,
           14.288836836712827,
           14.398258854239312,
           14.507500164407091,
           14.6159703380635
          ],
          [
           9.605641367664754,
           9.719833334806227,
           9.834029546945379,
           9.948217889573963,
           10.062410964854811,
           10.176614268657275,
           10.290804683637582,
           10.404979627725908,
           10.519203781443005,
           10.633388692578583,
           10.747567435098443,
           10.86178423391848,
           10.975988525271502,
           11.090089587832846,
           11.204353890499679,
           11.31850588037022,
           11.432410311798641,
           11.54636174100429,
           11.660232340449541,
           11.774165731398634,
           11.887922750405533,
           12.001748414080815,
           12.115434713381054,
           12.22897338018214,
           12.342646950634164,
           12.455988493535623,
           12.569347254890465,
           12.682634597216836,
           12.795757841162585,
           12.908823331450666,
           13.0216869192343,
           13.13461041317184,
           13.247366856150954,
           13.35979854002933,
           13.472016378556887,
           13.584059749362924,
           13.696230774025741,
           13.808110990271244,
           13.919343234434983,
           14.030256448403895,
           14.140349166255374,
           14.250381290970996,
           14.36056320904967,
           14.468870303535434,
           14.57670098315254,
           14.684058167574173,
           14.79027190961557,
           14.89682066489895,
           15.001855645289387,
           15.106210278431671
          ],
          [
           10.142426156157098,
           10.256603032535411,
           10.370798706941494,
           10.485017355393897,
           10.599228928368587,
           10.713386591331455,
           10.82756513268282,
           10.941720742135093,
           11.055896053978318,
           11.169967724925367,
           11.283918440719633,
           11.397843443025154,
           11.511732056808397,
           11.62558680308084,
           11.739391267519537,
           11.853199766360603,
           11.966762850624871,
           12.080430418189591,
           12.193928772651297,
           12.307270089077713,
           12.420612472377297,
           12.53393178332403,
           12.64701433196104,
           12.760235231412025,
           12.872948934544942,
           12.98594202191472,
           13.098521201666566,
           13.210975172304494,
           13.323305787515642,
           13.435498173794253,
           13.547441624795738,
           13.659466442231194,
           13.771150296732822,
           13.88151806394187,
           13.99256409961942,
           14.102323650488733,
           14.212094497087538,
           14.32097798867433,
           14.429581345251098,
           14.536228630522658,
           14.64491411992864,
           14.749229491562064,
           14.855356871458502,
           14.959928068333063,
           15.064312107814953,
           15.16725987502455,
           15.266645817371916,
           15.366711354314216,
           15.464773776192814,
           15.56088027399645
          ],
          [
           10.679199608898092,
           10.793394123627769,
           10.907498022718269,
           11.0214655486402,
           11.135395511575487,
           11.249356631377164,
           11.363201268169089,
           11.47699401778167,
           11.59076639658655,
           11.704467597333803,
           11.81809273636402,
           11.931784555567607,
           12.045209981003158,
           12.158538637255948,
           12.27185374590449,
           12.385203012361991,
           12.498245398680371,
           12.611500602618317,
           12.72425793914525,
           12.837218703236228,
           12.949715850268413,
           13.062310785118779,
           13.174573708691193,
           13.287219848776253,
           13.399050859911304,
           13.511151183608163,
           13.621992361304368,
           13.733031387441306,
           13.84403031202006,
           13.954682219984756,
           14.064125275986335,
           14.173065347990304,
           14.282085720794708,
           14.390640753507869,
           14.497064636201868,
           14.604063942231798,
           14.710285733882944,
           14.814206897886148,
           14.919835194254768,
           15.022694483000823,
           15.123209306977952,
           15.223889486023783,
           15.324167806673358,
           15.421062344871384,
           15.517196883336055,
           15.610797353444248,
           15.70501765058767,
           15.790744630042765,
           15.881226703012155,
           15.963315784748017
          ],
          [
           11.214602699659316,
           11.328406364414887,
           11.44223437561094,
           11.555808353100778,
           11.669543945340672,
           11.783030130782867,
           11.896526540624821,
           12.00987932049761,
           12.123203706594984,
           12.236544478789487,
           12.349553875295282,
           12.462630156865593,
           12.575524126157017,
           12.688244793576125,
           12.801057351576853,
           12.913787344847197,
           13.026173005869852,
           13.138324306951532,
           13.25050835909963,
           13.362000826083765,
           13.474159557424107,
           13.584843209082683,
           13.69643314223913,
           13.806375276778633,
           13.916267716431383,
           14.025850635507858,
           14.133863593634748,
           14.243078501649432,
           14.350271106963689,
           14.457887967266648,
           14.563890423695527,
           14.66967753982731,
           14.774409533058556,
           14.876851993115272,
           14.98104754615712,
           15.080654195751546,
           15.182074290345028,
           15.279926881325881,
           15.3776433473996,
           15.472878930538664,
           15.566686435018482,
           15.659858499163123,
           15.748236735065877,
           15.836690131278495,
           15.919086138616581,
           16.0016655224764,
           16.080415297425656,
           16.157442979004937,
           16.231052294086947,
           16.298596304538282
          ],
          [
           11.747794759132438,
           11.861131051988213,
           11.974565318338193,
           12.087771233106434,
           12.200798120661064,
           12.31390991753361,
           12.426779066720208,
           12.539453963878543,
           12.652276165525484,
           12.764558714244922,
           12.877255612356931,
           12.989639916843952,
           13.101810998965094,
           13.213526565414586,
           13.324977561303657,
           13.436782247688928,
           13.547318417229311,
           13.658192266020368,
           13.768148108904853,
           13.877660896482865,
           13.987205568864512,
           14.09556753777779,
           14.203542068184003,
           14.310918132597845,
           14.417028328252036,
           14.52456960863707,
           14.629335093793632,
           14.732494367561712,
           14.836624277556098,
           14.938412360527762,
           15.038781015354868,
           15.139265436497489,
           15.235624952351314,
           15.334899695537784,
           15.43066929083454,
           15.525142469741443,
           15.615467507715714,
           15.702789206359668,
           15.793610383492279,
           15.875571564907009,
           15.958645451744855,
           16.036564026364115,
           16.111670310478647,
           16.186748487477946,
           16.256474503210796,
           16.325242493246822,
           16.391005366842172,
           16.45035199032139,
           16.51358456234567,
           16.568320539258306
          ],
          [
           12.27807333286747,
           12.390778568858558,
           12.50348380859714,
           12.615979406874015,
           12.728224168021878,
           12.840698033080356,
           12.952770474882962,
           13.065331171289985,
           13.176889086785001,
           13.288045349288767,
           13.399405300034461,
           13.509708506656215,
           13.619762957674544,
           13.730164865760235,
           13.839007552672093,
           13.947890616856254,
           14.056357433627662,
           14.163278375336429,
           14.270715999694293,
           14.376781064482255,
           14.48307449755826,
           14.588234825627238,
           14.693002844589302,
           14.7946348770856,
           14.896529421375954,
           14.997643271251487,
           15.09669356066739,
           15.194927733034099,
           15.292812292616805,
           15.386648192394471,
           15.481524783316585,
           15.572176983955794,
           15.659607769905028,
           15.749689351882106,
           15.831667829653322,
           15.912223154953622,
           15.995415105355441,
           16.069576809229996,
           16.143181673166183,
           16.21595281478276,
           16.282433792130345,
           16.34703812672417,
           16.4112977099765,
           16.469821999669747,
           16.52684761769198,
           16.583035860262353,
           16.633386573111956,
           16.683903630356674,
           16.730022859537446,
           16.772361560561844
          ],
          [
           12.804265288720163,
           12.916310654382116,
           13.028197011073907,
           13.13975007155611,
           13.250287458842266,
           13.36130430365505,
           13.47185610973964,
           13.581539670009933,
           13.691750667401529,
           13.800650001305279,
           13.90843185090373,
           14.016425714779801,
           14.124627244671933,
           14.23074971476898,
           14.336581145296066,
           14.443033273229078,
           14.546997253871211,
           14.650606872916327,
           14.753685230140908,
           14.855785636932362,
           14.955376949765261,
           15.054679162825058,
           15.15221893513185,
           15.248758473695986,
           15.34216005122149,
           15.437828996321871,
           15.52777855708375,
           15.61517840203451,
           15.70512689943785,
           15.788633777462087,
           15.869968599795257,
           15.949017999996945,
           16.027052012466246,
           16.09750200196904,
           16.170824768846824,
           16.23973995166682,
           16.304237283517136,
           16.369008340234597,
           16.430538478832982,
           16.486942151878516,
           16.541461442149043,
           16.59756483117474,
           16.646514124771635,
           16.692718765422725,
           16.739987747005816,
           16.782670961746845,
           16.82284128936412,
           16.863210215351867,
           16.899719218654006,
           16.932543704961404
          ],
          [
           13.323431772241866,
           13.433598530772644,
           13.543364782437711,
           13.652432950890246,
           13.761597057351688,
           13.869889907186296,
           13.97732384065356,
           14.08449666472275,
           14.191315496972852,
           14.297162042824096,
           14.401760363241262,
           14.505530612961735,
           14.608844676000183,
           14.710818386113498,
           14.811672195346306,
           14.912522551942704,
           15.011657488264573,
           15.109056826279737,
           15.205476577470318,
           15.301386271994538,
           15.39424640143314,
           15.48408453617441,
           15.571142406104846,
           15.65969691354387,
           15.743423181323376,
           15.824089393526663,
           15.905416703138876,
           15.98239388010262,
           16.05629269427503,
           16.127763335151993,
           16.199040907662337,
           16.2652884516122,
           16.327793973816455,
           16.387216476954755,
           16.447519777024013,
           16.50362390351347,
           16.556536425630586,
           16.609663947840556,
           16.657986968496793,
           16.703945273956872,
           16.747642057672188,
           16.79150237164454,
           16.830828876017218,
           16.866965820511723,
           16.900616553518233,
           16.935422377360748,
           16.965680860379532,
           16.993876635016296,
           17.023023155536144,
           17.048421498368864
          ],
          [
           13.82962459388658,
           13.938264764776351,
           14.044556047047335,
           14.150629055734068,
           14.255376587512663,
           14.361804541850956,
           14.464645198734841,
           14.56778074877291,
           14.668339177867916,
           14.77148259566967,
           14.870033100085974,
           14.968233517185729,
           15.064978512545036,
           15.163833374478807,
           15.257595574955142,
           15.349887528387635,
           15.440480758478413,
           15.52555937166326,
           15.615751287703679,
           15.700346198541276,
           15.781071132398527,
           15.85895101068454,
           15.941081029317235,
           16.0135552935433,
           16.085079129405447,
           16.152723746812587,
           16.222964342247742,
           16.286174097292665,
           16.348414278599822,
           16.40586160098939,
           16.467179161141026,
           16.520122761138296,
           16.571082811044104,
           16.619804031037464,
           16.66936809005406,
           16.71399645299939,
           16.756640893081293,
           16.79694069997432,
           16.832538431976303,
           16.871775718942825,
           16.90593725323159,
           16.937590534655197,
           16.967160165273466,
           16.99868123736662,
           17.024395542863584,
           17.0482614284911,
           17.069697373157705,
           17.092354359756577,
           17.110685063094277,
           17.128421506157963
          ],
          [
           14.320069063351763,
           14.423629189262112,
           14.525018514613487,
           14.627950052327485,
           14.728839783321826,
           14.828253387071896,
           14.925451026132865,
           15.02113019360019,
           15.119726464496093,
           15.213289599211532,
           15.306017067537828,
           15.395743059128112,
           15.48222192193667,
           15.572666175861448,
           15.656072557501199,
           15.739024107272222,
           15.815876891079611,
           15.892822230822974,
           15.969556268292472,
           16.041388397973837,
           16.11225512855598,
           16.177413148623643,
           16.24343839321472,
           16.30638871999679,
           16.366671410705642,
           16.425101418645927,
           16.479567752515692,
           16.532232356203476,
           16.583074370214355,
           16.630798663875847,
           16.677252391336324,
           16.720898425522492,
           16.765516649631476,
           16.802375973212154,
           16.840003581874132,
           16.875455427743333,
           16.908838905866926,
           16.94275171848608,
           16.969917350100353,
           16.997518826003848,
           17.023684050224958,
           17.04752409752732,
           17.07198424032016,
           17.091698153722476,
           17.109010321186645,
           17.12660063904058,
           17.142842145318316,
           17.160000062354474,
           17.17355612823833,
           17.184869340619972
          ],
          [
           14.784535059288352,
           14.883220328882157,
           14.980986987062206,
           15.075570728695235,
           15.16937615605589,
           15.261850708677569,
           15.352216536757885,
           15.441052023794617,
           15.528594355269947,
           15.613654116598308,
           15.693697290948377,
           15.77082061579253,
           15.848589204634683,
           15.92627373915442,
           16.000872241946265,
           16.07056837893007,
           16.13587079802407,
           16.202672400773483,
           16.26465337088499,
           16.32433931100941,
           16.38447338258283,
           16.44128287445121,
           16.4939097357869,
           16.546507490810964,
           16.59215567452042,
           16.641905771992622,
           16.686865199176655,
           16.729204501642478,
           16.768191446452807,
           16.807704843988358,
           16.846206857494003,
           16.881942781916916,
           16.913034830365483,
           16.943547371847174,
           16.97267416724574,
           16.99878325981138,
           17.02489999808513,
           17.04910633456557,
           17.071102934830343,
           17.090034473898598,
           17.108603266385874,
           17.12513271256973,
           17.142805298046795,
           17.158511705739272,
           17.172009088433413,
           17.183623564488723,
           17.19540503628124,
           17.20518205554703,
           17.21586389042175,
           17.223195502984197
          ],
          [
           15.217379336119656,
           15.308544763424205,
           15.395283712825146,
           15.48392440999923,
           15.568613331129193,
           15.650097238943502,
           15.728238917850026,
           15.805821031899786,
           15.882002069037217,
           15.953874482832576,
           16.026032668789465,
           16.09501731708632,
           16.161032204750782,
           16.22320873929441,
           16.284604962777575,
           16.344238831875472,
           16.400244019390943,
           16.456483224981824,
           16.509037396767233,
           16.558392952549468,
           16.604610629928008,
           16.65035463857916,
           16.69469834928634,
           16.73530998995159,
           16.776272365502873,
           16.814847580569868,
           16.850612893922772,
           16.883039755835153,
           16.91504315466578,
           16.94572585223582,
           16.972428143296074,
           17.000754175526218,
           17.026296218597338,
           17.049028645437183,
           17.069440261497043,
           17.08901192967616,
           17.10776892394823,
           17.124110025561663,
           17.14131005092059,
           17.156546603723182,
           17.17026593886685,
           17.1819460220584,
           17.193595501640544,
           17.203955716576814,
           17.21304393964176,
           17.221693042774177,
           17.228909391136195,
           17.234721280285424,
           17.239376255851706,
           17.243875789386024
          ]
         ]
        }
       ],
       "layout": {
        "autosize": true,
        "height": 700,
        "scene": {
         "aspectmode": "manual",
         "aspectratio": {
          "x": 1,
          "y": 1,
          "z": 0.7
         },
         "camera": {
          "eye": {
           "x": -1.7428,
           "y": 1.0707,
           "z": 0.71
          },
          "up": {
           "x": 0,
           "y": 0,
           "z": 1
          }
         },
         "xaxis": {
          "gridcolor": "rgb(255, 255, 255)",
          "showbackground": true,
          "zerolinecolor": "rgb(255, 255, 255)"
         },
         "yaxis": {
          "gridcolor": "rgb(255, 255, 255)",
          "showbackground": true,
          "zerolinecolor": "rgb(255, 255, 255)"
         },
         "zaxis": {
          "gridcolor": "rgb(255, 255, 255)",
          "showbackground": true,
          "zerolinecolor": "rgb(255, 255, 255)"
         }
        },
        "template": {
         "data": {
          "bar": [
           {
            "error_x": {
             "color": "#2a3f5f"
            },
            "error_y": {
             "color": "#2a3f5f"
            },
            "marker": {
             "line": {
              "color": "#E5ECF6",
              "width": 0.5
             }
            },
            "type": "bar"
           }
          ],
          "barpolar": [
           {
            "marker": {
             "line": {
              "color": "#E5ECF6",
              "width": 0.5
             }
            },
            "type": "barpolar"
           }
          ],
          "carpet": [
           {
            "aaxis": {
             "endlinecolor": "#2a3f5f",
             "gridcolor": "white",
             "linecolor": "white",
             "minorgridcolor": "white",
             "startlinecolor": "#2a3f5f"
            },
            "baxis": {
             "endlinecolor": "#2a3f5f",
             "gridcolor": "white",
             "linecolor": "white",
             "minorgridcolor": "white",
             "startlinecolor": "#2a3f5f"
            },
            "type": "carpet"
           }
          ],
          "choropleth": [
           {
            "colorbar": {
             "outlinewidth": 0,
             "ticks": ""
            },
            "type": "choropleth"
           }
          ],
          "contour": [
           {
            "colorbar": {
             "outlinewidth": 0,
             "ticks": ""
            },
            "colorscale": [
             [
              0,
              "#0d0887"
             ],
             [
              0.1111111111111111,
              "#46039f"
             ],
             [
              0.2222222222222222,
              "#7201a8"
             ],
             [
              0.3333333333333333,
              "#9c179e"
             ],
             [
              0.4444444444444444,
              "#bd3786"
             ],
             [
              0.5555555555555556,
              "#d8576b"
             ],
             [
              0.6666666666666666,
              "#ed7953"
             ],
             [
              0.7777777777777778,
              "#fb9f3a"
             ],
             [
              0.8888888888888888,
              "#fdca26"
             ],
             [
              1,
              "#f0f921"
             ]
            ],
            "type": "contour"
           }
          ],
          "contourcarpet": [
           {
            "colorbar": {
             "outlinewidth": 0,
             "ticks": ""
            },
            "type": "contourcarpet"
           }
          ],
          "heatmap": [
           {
            "colorbar": {
             "outlinewidth": 0,
             "ticks": ""
            },
            "colorscale": [
             [
              0,
              "#0d0887"
             ],
             [
              0.1111111111111111,
              "#46039f"
             ],
             [
              0.2222222222222222,
              "#7201a8"
             ],
             [
              0.3333333333333333,
              "#9c179e"
             ],
             [
              0.4444444444444444,
              "#bd3786"
             ],
             [
              0.5555555555555556,
              "#d8576b"
             ],
             [
              0.6666666666666666,
              "#ed7953"
             ],
             [
              0.7777777777777778,
              "#fb9f3a"
             ],
             [
              0.8888888888888888,
              "#fdca26"
             ],
             [
              1,
              "#f0f921"
             ]
            ],
            "type": "heatmap"
           }
          ],
          "heatmapgl": [
           {
            "colorbar": {
             "outlinewidth": 0,
             "ticks": ""
            },
            "colorscale": [
             [
              0,
              "#0d0887"
             ],
             [
              0.1111111111111111,
              "#46039f"
             ],
             [
              0.2222222222222222,
              "#7201a8"
             ],
             [
              0.3333333333333333,
              "#9c179e"
             ],
             [
              0.4444444444444444,
              "#bd3786"
             ],
             [
              0.5555555555555556,
              "#d8576b"
             ],
             [
              0.6666666666666666,
              "#ed7953"
             ],
             [
              0.7777777777777778,
              "#fb9f3a"
             ],
             [
              0.8888888888888888,
              "#fdca26"
             ],
             [
              1,
              "#f0f921"
             ]
            ],
            "type": "heatmapgl"
           }
          ],
          "histogram": [
           {
            "marker": {
             "colorbar": {
              "outlinewidth": 0,
              "ticks": ""
             }
            },
            "type": "histogram"
           }
          ],
          "histogram2d": [
           {
            "colorbar": {
             "outlinewidth": 0,
             "ticks": ""
            },
            "colorscale": [
             [
              0,
              "#0d0887"
             ],
             [
              0.1111111111111111,
              "#46039f"
             ],
             [
              0.2222222222222222,
              "#7201a8"
             ],
             [
              0.3333333333333333,
              "#9c179e"
             ],
             [
              0.4444444444444444,
              "#bd3786"
             ],
             [
              0.5555555555555556,
              "#d8576b"
             ],
             [
              0.6666666666666666,
              "#ed7953"
             ],
             [
              0.7777777777777778,
              "#fb9f3a"
             ],
             [
              0.8888888888888888,
              "#fdca26"
             ],
             [
              1,
              "#f0f921"
             ]
            ],
            "type": "histogram2d"
           }
          ],
          "histogram2dcontour": [
           {
            "colorbar": {
             "outlinewidth": 0,
             "ticks": ""
            },
            "colorscale": [
             [
              0,
              "#0d0887"
             ],
             [
              0.1111111111111111,
              "#46039f"
             ],
             [
              0.2222222222222222,
              "#7201a8"
             ],
             [
              0.3333333333333333,
              "#9c179e"
             ],
             [
              0.4444444444444444,
              "#bd3786"
             ],
             [
              0.5555555555555556,
              "#d8576b"
             ],
             [
              0.6666666666666666,
              "#ed7953"
             ],
             [
              0.7777777777777778,
              "#fb9f3a"
             ],
             [
              0.8888888888888888,
              "#fdca26"
             ],
             [
              1,
              "#f0f921"
             ]
            ],
            "type": "histogram2dcontour"
           }
          ],
          "mesh3d": [
           {
            "colorbar": {
             "outlinewidth": 0,
             "ticks": ""
            },
            "type": "mesh3d"
           }
          ],
          "parcoords": [
           {
            "line": {
             "colorbar": {
              "outlinewidth": 0,
              "ticks": ""
             }
            },
            "type": "parcoords"
           }
          ],
          "scatter": [
           {
            "marker": {
             "colorbar": {
              "outlinewidth": 0,
              "ticks": ""
             }
            },
            "type": "scatter"
           }
          ],
          "scatter3d": [
           {
            "line": {
             "colorbar": {
              "outlinewidth": 0,
              "ticks": ""
             }
            },
            "marker": {
             "colorbar": {
              "outlinewidth": 0,
              "ticks": ""
             }
            },
            "type": "scatter3d"
           }
          ],
          "scattercarpet": [
           {
            "marker": {
             "colorbar": {
              "outlinewidth": 0,
              "ticks": ""
             }
            },
            "type": "scattercarpet"
           }
          ],
          "scattergeo": [
           {
            "marker": {
             "colorbar": {
              "outlinewidth": 0,
              "ticks": ""
             }
            },
            "type": "scattergeo"
           }
          ],
          "scattergl": [
           {
            "marker": {
             "colorbar": {
              "outlinewidth": 0,
              "ticks": ""
             }
            },
            "type": "scattergl"
           }
          ],
          "scattermapbox": [
           {
            "marker": {
             "colorbar": {
              "outlinewidth": 0,
              "ticks": ""
             }
            },
            "type": "scattermapbox"
           }
          ],
          "scatterpolar": [
           {
            "marker": {
             "colorbar": {
              "outlinewidth": 0,
              "ticks": ""
             }
            },
            "type": "scatterpolar"
           }
          ],
          "scatterpolargl": [
           {
            "marker": {
             "colorbar": {
              "outlinewidth": 0,
              "ticks": ""
             }
            },
            "type": "scatterpolargl"
           }
          ],
          "scatterternary": [
           {
            "marker": {
             "colorbar": {
              "outlinewidth": 0,
              "ticks": ""
             }
            },
            "type": "scatterternary"
           }
          ],
          "surface": [
           {
            "colorbar": {
             "outlinewidth": 0,
             "ticks": ""
            },
            "colorscale": [
             [
              0,
              "#0d0887"
             ],
             [
              0.1111111111111111,
              "#46039f"
             ],
             [
              0.2222222222222222,
              "#7201a8"
             ],
             [
              0.3333333333333333,
              "#9c179e"
             ],
             [
              0.4444444444444444,
              "#bd3786"
             ],
             [
              0.5555555555555556,
              "#d8576b"
             ],
             [
              0.6666666666666666,
              "#ed7953"
             ],
             [
              0.7777777777777778,
              "#fb9f3a"
             ],
             [
              0.8888888888888888,
              "#fdca26"
             ],
             [
              1,
              "#f0f921"
             ]
            ],
            "type": "surface"
           }
          ],
          "table": [
           {
            "cells": {
             "fill": {
              "color": "#EBF0F8"
             },
             "line": {
              "color": "white"
             }
            },
            "header": {
             "fill": {
              "color": "#C8D4E3"
             },
             "line": {
              "color": "white"
             }
            },
            "type": "table"
           }
          ]
         },
         "layout": {
          "annotationdefaults": {
           "arrowcolor": "#2a3f5f",
           "arrowhead": 0,
           "arrowwidth": 1
          },
          "colorscale": {
           "diverging": [
            [
             0,
             "#8e0152"
            ],
            [
             0.1,
             "#c51b7d"
            ],
            [
             0.2,
             "#de77ae"
            ],
            [
             0.3,
             "#f1b6da"
            ],
            [
             0.4,
             "#fde0ef"
            ],
            [
             0.5,
             "#f7f7f7"
            ],
            [
             0.6,
             "#e6f5d0"
            ],
            [
             0.7,
             "#b8e186"
            ],
            [
             0.8,
             "#7fbc41"
            ],
            [
             0.9,
             "#4d9221"
            ],
            [
             1,
             "#276419"
            ]
           ],
           "sequential": [
            [
             0,
             "#0d0887"
            ],
            [
             0.1111111111111111,
             "#46039f"
            ],
            [
             0.2222222222222222,
             "#7201a8"
            ],
            [
             0.3333333333333333,
             "#9c179e"
            ],
            [
             0.4444444444444444,
             "#bd3786"
            ],
            [
             0.5555555555555556,
             "#d8576b"
            ],
            [
             0.6666666666666666,
             "#ed7953"
            ],
            [
             0.7777777777777778,
             "#fb9f3a"
            ],
            [
             0.8888888888888888,
             "#fdca26"
            ],
            [
             1,
             "#f0f921"
            ]
           ],
           "sequentialminus": [
            [
             0,
             "#0d0887"
            ],
            [
             0.1111111111111111,
             "#46039f"
            ],
            [
             0.2222222222222222,
             "#7201a8"
            ],
            [
             0.3333333333333333,
             "#9c179e"
            ],
            [
             0.4444444444444444,
             "#bd3786"
            ],
            [
             0.5555555555555556,
             "#d8576b"
            ],
            [
             0.6666666666666666,
             "#ed7953"
            ],
            [
             0.7777777777777778,
             "#fb9f3a"
            ],
            [
             0.8888888888888888,
             "#fdca26"
            ],
            [
             1,
             "#f0f921"
            ]
           ]
          },
          "colorway": [
           "#636efa",
           "#EF553B",
           "#00cc96",
           "#ab63fa",
           "#FFA15A",
           "#19d3f3",
           "#FF6692",
           "#B6E880",
           "#FF97FF",
           "#FECB52"
          ],
          "font": {
           "color": "#2a3f5f"
          },
          "geo": {
           "bgcolor": "white",
           "lakecolor": "white",
           "landcolor": "#E5ECF6",
           "showlakes": true,
           "showland": true,
           "subunitcolor": "white"
          },
          "hoverlabel": {
           "align": "left"
          },
          "hovermode": "closest",
          "mapbox": {
           "style": "light"
          },
          "paper_bgcolor": "white",
          "plot_bgcolor": "#E5ECF6",
          "polar": {
           "angularaxis": {
            "gridcolor": "white",
            "linecolor": "white",
            "ticks": ""
           },
           "bgcolor": "#E5ECF6",
           "radialaxis": {
            "gridcolor": "white",
            "linecolor": "white",
            "ticks": ""
           }
          },
          "scene": {
           "xaxis": {
            "backgroundcolor": "#E5ECF6",
            "gridcolor": "white",
            "gridwidth": 2,
            "linecolor": "white",
            "showbackground": true,
            "ticks": "",
            "zerolinecolor": "white"
           },
           "yaxis": {
            "backgroundcolor": "#E5ECF6",
            "gridcolor": "white",
            "gridwidth": 2,
            "linecolor": "white",
            "showbackground": true,
            "ticks": "",
            "zerolinecolor": "white"
           },
           "zaxis": {
            "backgroundcolor": "#E5ECF6",
            "gridcolor": "white",
            "gridwidth": 2,
            "linecolor": "white",
            "showbackground": true,
            "ticks": "",
            "zerolinecolor": "white"
           }
          },
          "shapedefaults": {
           "line": {
            "color": "#2a3f5f"
           }
          },
          "ternary": {
           "aaxis": {
            "gridcolor": "white",
            "linecolor": "white",
            "ticks": ""
           },
           "baxis": {
            "gridcolor": "white",
            "linecolor": "white",
            "ticks": ""
           },
           "bgcolor": "#E5ECF6",
           "caxis": {
            "gridcolor": "white",
            "linecolor": "white",
            "ticks": ""
           }
          },
          "title": {
           "x": 0.05
          },
          "xaxis": {
           "automargin": true,
           "gridcolor": "white",
           "linecolor": "white",
           "ticks": "",
           "zerolinecolor": "white",
           "zerolinewidth": 2
          },
          "yaxis": {
           "automargin": true,
           "gridcolor": "white",
           "linecolor": "white",
           "ticks": "",
           "zerolinecolor": "white",
           "zerolinewidth": 2
          }
         }
        },
        "title": {
         "text": "Loss Surface"
        },
        "width": 800
       }
      },
      "text/html": [
       "<div>\n",
       "        \n",
       "        \n",
       "            <div id=\"2af4e02d-b5aa-4796-a1a0-14b44c9a6049\" class=\"plotly-graph-div\" style=\"height:700px; width:800px;\"></div>\n",
       "            <script type=\"text/javascript\">\n",
       "                require([\"plotly\"], function(Plotly) {\n",
       "                    window.PLOTLYENV=window.PLOTLYENV || {};\n",
       "                    \n",
       "                if (document.getElementById(\"2af4e02d-b5aa-4796-a1a0-14b44c9a6049\")) {\n",
       "                    Plotly.newPlot(\n",
       "                        '2af4e02d-b5aa-4796-a1a0-14b44c9a6049',\n",
       "                        [{\"colorscale\": [[0.0, \"#440154\"], [0.1111111111111111, \"#482878\"], [0.2222222222222222, \"#3e4989\"], [0.3333333333333333, \"#31688e\"], [0.4444444444444444, \"#26828e\"], [0.5555555555555556, \"#1f9e89\"], [0.6666666666666666, \"#35b779\"], [0.7777777777777778, \"#6ece58\"], [0.8888888888888888, \"#b5de2b\"], [1.0, \"#fde725\"]], \"type\": \"surface\", \"x\": [-11.1, -10.871428571428572, -10.642857142857142, -10.414285714285715, -10.185714285714285, -9.957142857142857, -9.728571428571428, -9.5, -9.27142857142857, -9.042857142857143, -8.814285714285713, -8.585714285714285, -8.357142857142858, -8.128571428571428, -7.9, -7.671428571428571, -7.442857142857143, -7.2142857142857135, -6.985714285714286, -6.757142857142857, -6.5285714285714285, -6.3, -6.071428571428571, -5.8428571428571425, -5.614285714285714, -5.385714285714285, -5.157142857142857, -4.928571428571429, -4.7, -4.4714285714285715, -4.242857142857143, -4.014285714285714, -3.7857142857142856, -3.557142857142857, -3.3285714285714283, -3.0999999999999996, -2.871428571428572, -2.6428571428571423, -2.4142857142857146, -2.185714285714285, -1.9571428571428573, -1.7285714285714278, -1.5, -1.2714285714285722, -1.0428571428571427, -0.814285714285715, -0.5857142857142854, -0.35714285714285765, -0.12857142857142811, 0.1], \"y\": [-0.1, -0.08979591836734695, -0.07959183673469389, -0.06938775510204082, -0.059183673469387764, -0.048979591836734705, -0.03877551020408164, -0.02857142857142858, -0.018367346938775522, -0.008163265306122464, 0.002040816326530595, 0.012244897959183654, 0.022448979591836726, 0.03265306122448977, 0.042857142857142844, 0.05306122448979589, 0.06326530612244896, 0.07346938775510203, 0.08367346938775508, 0.09387755102040815, 0.1040816326530612, 0.11428571428571427, 0.12448979591836731, 0.13469387755102039, 0.14489795918367346, 0.15510204081632653, 0.16530612244897955, 0.17551020408163262, 0.1857142857142857, 0.19591836734693877, 0.20612244897959178, 0.21632653061224486, 0.22653061224489793, 0.236734693877551, 0.24693877551020407, 0.2571428571428571, 0.2673469387755102, 0.27755102040816326, 0.28775510204081634, 0.2979591836734693, 0.30816326530612237, 0.31836734693877544, 0.3285714285714285, 0.3387755102040816, 0.34897959183673466, 0.35918367346938773, 0.3693877551020408, 0.3795918367346939, 0.38979591836734695, 0.4], \"z\": [[11.40390243949893, 11.28961672533508, 11.175331011202523, 11.061045297109299, 10.946759583065505, 10.832473869083838, 10.718188155180252, 10.6039024413748, 10.489616727692676, 10.375331014165559, 10.261045300833251, 10.146759587745784, 10.032473874966028, 9.918188162573006, 9.803902450666037, 9.689616739369935, 9.575331028841576, 9.461045319278119, 9.346759610927354, 9.232473904100699, 9.118188199189559, 9.00390249668584, 8.88961679720777, 8.775331101532355, 8.661045410636124, 8.546759725746387, 8.432474048405629, 8.318188380552451, 8.203902724623285, 8.08961708368026, 7.97533146157185, 7.861045863134829, 7.746760294448064, 7.6324747631514755, 7.518189278846922, 7.403903853602005, 7.289618502583277, 7.17533324485201, 7.061048104364324, 6.946763111228122, 6.8324783032827385, 6.718193728084191, 6.603909445400117, 6.489625530345218, 6.375342077321595, 6.261059204970482, 6.1467770623948175, 6.03249583697859, 5.918215764212272, 5.8039371400384265], [10.806565456731503, 10.69227974277476, 10.577994028902502, 10.463708315136417, 10.349422601503775, 10.235136888038843, 10.120851174784693, 10.006565461795454, 9.892279749139151, 9.777994036901287, 9.663708325189317, 9.549422614138294, 9.435136903917948, 9.320851194741604, 9.206565486877363, 9.092279780662178, 8.97799407651953, 8.863708374981652, 8.749422676717463, 8.635136982567653, 8.520851293588809, 8.406565611108848, 8.292279936796705, 8.177994272749899, 8.0637086216046, 7.949422986673956, 7.835137372121924, 7.720851783181788, 7.606566226430747, 7.492280710135022, 7.377995244683616, 7.263709843133419, 7.149424521894323, 7.035139301590251, 6.920854208141265, 6.806569274123586, 6.692284540478755, 6.57800005866171, 6.463715893340317, 6.349432125788021, 6.235148858147413, 6.120866218788266, 6.0065843690408105, 5.892303511656992, 5.77802390144284, 5.663745858618416, 5.549469785604215, 5.435196188111299, 5.320925701636357, 5.206659124743234], [10.20922847538323, 10.094942761998041, 9.98065704884411, 9.866371335980824, 9.752085623482824, 9.637799911443913, 9.52351419998199, 9.409228489245226, 9.29494277941984, 9.180657070739887, 9.066371363499508, 8.952085658068397, 8.837799954911173, 8.723514254611786, 8.60922855790413, 8.494942865710577, 8.380657179190361, 8.266371499800416, 8.152085829371815, 8.037800170205857, 7.923514525194826, 7.809228897973745, 7.6949432931111215, 7.580657716348669, 7.46637217490258, 7.3520866778421725, 7.237801236565782, 7.123515865398834, 7.009230582345514, 6.894945410033466, 6.78066037690105, 6.666375518689476, 6.552090880318085, 6.437806518241123, 6.323522503409647, 6.209238924993858, 6.094955895061089, 5.980673554454651, 5.866392080181715, 5.752111694697289, 5.6378326775706595, 5.52355538014503, 5.409280243957495, 5.295007823882468, 5.1807388172076285, 5.066474100159608, 4.952214773782692, 4.83796222155682, 4.723718181745106, 4.609484838214703], [9.611891498039611, 9.497605786254384, 9.383320075111289, 9.269034364775228, 9.154748655453451, 9.040462947406434, 8.92617724096153, 8.811891536530174, 8.69760583462945, 8.583320135909233, 8.469034441186283, 8.354748751487115, 8.240463068101853, 8.126177392651924, 8.01189172717515, 7.897606074232666, 7.783320437043316, 7.6690348196525475, 7.554749227144696, 7.440463665909757, 7.326178143978698, 7.211892671444845, 7.097607260993503, 6.983321928567572, 6.869036694204086, 6.754751583085566, 6.6404666268613575, 6.52618186530824, 6.411897348417469, 6.29761313901767, 6.183329316071234, 6.069045978816998, 5.954763251976556, 5.84048129229707, 5.726200296773608, 5.611920512981888, 5.497642252062715, 5.383365905038074, 5.269091963312838, 5.15482104443438, 5.0405539244563435, 4.9262915785961106, 4.8120352323057825, 4.697786425414989, 4.583547092677358, 4.4693196648936, 4.355107195833025, 4.240913521480387, 4.126743459754566, 4.012603060848993], [9.014554532162633, 8.900268824922035, 8.78598311949065, 8.671697416333085, 8.557411716033261, 8.443126019325064, 8.328840327130829, 8.21455464060976, 8.100268961218736, 7.985983290788786, 7.871697631621134, 7.757411986607973, 7.643126359384224, 7.528840754518254, 7.414555177751607, 7.300269636300268, 7.185984139233294, 7.0716986979486975, 6.957413326771512, 6.843128043705452, 6.728842871377584, 6.614557838225589, 6.500272979989888, 6.385988341588939, 6.271703979476031, 6.157419964601275, 6.043136386134091, 5.928853356141467, 5.814571015467286, 5.700289541121027, 5.586009155563116, 5.4717301383736086, 5.357452840915517, 5.2431777047607095, 5.128905284842935, 5.0146362785490926, 4.900371562269442, 4.786112237315332, 4.671859687599291, 4.557615652080999, 4.443382315744193, 4.329162423820786, 4.214959425165246, 4.100777652159513, 3.9866225463632303, 3.8725009413949203, 3.758421417328939, 3.644394744325818, 3.5304344373941405, 3.4165574492283675], [8.417217599610915, 8.302931905472986, 8.188646216509074, 8.074360534047887, 7.960074859759335, 7.845789195742185, 7.7315035446341644, 7.6172179097503765, 7.502932295257249, 7.38864670639117, 7.274361149733233, 7.160075633554578, 7.045790168250391, 6.931504766885351, 6.817219445879179, 6.702934225868173, 6.588649132788051, 6.474364199234793, 6.360079466174975, 6.245794985095259, 6.131510820703845, 6.017227054325556, 5.902943788168671, 5.788661150687268, 5.674379303320289, 5.560098448960676, 5.445818842598547, 5.331540804696216, 5.2172647379958015, 5.102991148639707, 4.988720672709551, 4.874454109571888, 4.760192463773886, 4.645936997676834, 4.531689297572767, 4.417451356727457, 4.303225679666048, 4.189015413108503, 4.074824510322838, 3.9606579373584716, 3.8465219317263335, 3.7324243266975516, 3.6183749576047917, 3.5043861704702186, 3.3904734580837848, 3.2766562544506237, 3.1629589254407344, 3.0494120015928514, 2.936053708347281, 2.822931859351213], [7.81988076539271, 7.705595109609811, 7.591309468850623, 7.477023846973277, 7.362738248826694, 7.248452680504995, 7.134167149667299, 7.019881665939597, 6.905596241419858, 6.791310891312828, 6.677025634727849, 6.562740495681554, 6.44845550435805, 6.3341706986926924, 6.219886126362573, 6.105601847288097, 5.991317936776939, 5.877034489475256, 5.762751624333422, 5.648469490846716, 5.53418827689824, 5.419908218615256, 5.305629612755644, 5.191352832273621, 5.077078345880208, 4.96280674262286, 4.848538762770805, 4.734275336621753, 4.6200176332583185, 4.5057671218000666, 4.391525648345485, 4.277295532610095, 4.163079689282359, 4.048881780387655, 3.93470640653279, 3.8205593468729795, 3.7064478600883946, 3.5923810616832346, 3.47837039664898, 3.364430231103331, 3.250578592077656, 3.1368380913306617, 3.023237077049951, 2.9098110666500974, 2.7966045245624738, 2.683673060714795, 2.5710861377524683, 2.4589303868406094, 2.3473136411285807, 2.2363697994116634], [7.2225442258472565, 7.10825868409226, 6.99397318664367, 6.879687744879494, 6.765402373099627, 6.651117089276199, 6.536831915996607, 6.422546881648701, 6.308262021910321, 6.193977381621339, 6.079693017136402, 5.965408999281827, 5.851125417071735, 5.736842382378387, 5.622560035801659, 5.508278554045483, 5.393998159188076, 5.279719130331952, 5.16544181824442, 5.051166663755724, 4.93689422087868, 4.822625185860356, 4.708360433686256, 4.594101063946101, 4.479848458457943, 4.3656043536584574, 4.251370931533019, 4.137150933817481, 4.0229478054019845, 3.9087658743634313, 3.794610577918567, 3.6804887459098166, 3.566408956313961, 3.452381980821138, 3.338421342908592, 3.2245440161874415, 3.1107712972989616, 2.9971298954437975, 2.883653289878643, 2.770383417471615, 2.6573727645827194, 2.5446869507742798, 2.4324079053502627, 2.3206377499385122, 2.2095035086119172, 2.0991627670891866, 1.9898103877429552, 1.8816863478051848, 1.7750846909833828, 1.670363450684572], [6.625208583332239, 6.510923385964976, 6.3966383213436755, 6.282353423557707, 6.168068735450564, 6.0537843108678855, 5.939500217482708, 5.8252165403462035, 5.710933386350123, 5.596650889835059, 5.482369219638627, 5.368088587953206, 5.253809261457684, 5.139531575306755, 5.025255950710984, 4.910982917028719, 4.796713139526939, 4.68244745426429, 4.568186911921368, 4.45393283286958, 4.339686876354836, 4.22545112740505, 4.111228205988277, 3.9970214040964516, 3.8828348578643914, 3.768673763623993, 3.6545446490227502, 3.540455713105215, 3.426417252685672, 3.312442196570589, 3.1985467743802194, 3.0847513530454007, 2.971081481698056, 2.857569194797235, 2.7442546340484792, 2.63118806197923, 2.5184323537037105, 2.4060660678415666, 2.29418721150849, 2.182917825539161, 2.0724095208848747, 1.9628500895032914, 1.8544712840507926, 1.7475577974415282, 1.642457358554346, 1.5395916727064138, 1.4394676520866054, 1.342687984086118, 1.2499595734346804, 1.162097803123284], [6.027875715574193, 5.913591575156566, 5.799307838909898, 5.685024610624564, 5.570742020743457, 5.456460233205755, 5.342179454047777, 5.227899942211953, 5.113622023130553, 4.999346105796212, 4.885072704213701, 4.770802464356659, 4.656536198040698, 4.542274925485385, 4.428019928790813, 4.313772819122598, 4.199535621111576, 4.085310878866526, 3.971101789114917, 3.8569123683824285, 3.742747662864465, 3.6286140118142014, 3.5145193779712405, 3.4004737619016683, 3.2864897212537305, 3.1725830210142294, 3.058773447057255, 2.9450858227968135, 2.831551277767426, 2.7182088276003324, 2.60510733717792, 2.4923079525844396, 2.3798871023339667, 2.267940183180174, 2.1565860586092036, 2.045972505480058, 1.936282740700677, 1.827743136845358, 1.7206321808406564, 1.6152906261470068, 1.5121326142861822, 1.4116572710164175, 1.3144598929439428, 1.2212413221614058, 1.1328134826161267, 1.0500984059992275, 0.9741175820000176, 0.905968410299029, 0.8467852701148187, 0.7976845832667359], [5.430551571997554, 5.316270728881539, 5.201991136664274, 5.087713116561162, 4.9734370722654715, 4.85916351112237, 4.744893070736715, 4.63062655240784, 4.516364963140987, 4.402109568432503, 4.287861958586787, 4.173624132026356, 4.05939859993729, 3.9451885176949664, 3.8309978498935053, 3.7168315775235126, 3.6026959579879096, 3.488598851313405, 3.374550129223468, 3.260562187826459, 3.1466505896999166, 3.032834867297481, 2.9191395270575944, 2.8055953025359672, 2.692240715462474, 2.5791240158914053, 2.466305586443448, 2.353860910572093, 2.241884219816978, 2.1304929482306725, 2.0198331303013397, 1.910085876405811, 1.8014750388645864, 1.6942761298826876, 1.5888264531265928, 1.4855362414815845, 1.384900329166793, 1.2875095026465941, 1.194060159405804, 1.1053602753735434, 1.0223290184267673, 0.9459868162146418, 0.8774325722990327, 0.8178053942253676, 0.7682300007428287, 0.7297480337470034, 0.7032414414934027, 0.6893579018266821, 0.6884504208003602, 0.7005424116089072], [4.833255318675941, 4.718984934691498, 4.604718487237302, 4.490456987029332, 4.3762017042240435, 4.261954234977096, 4.147716585056065, 4.033491274864399, 3.919281471339901, 3.8050911535736835, 3.6909253207214503, 3.5767902529296864, 3.462693838673018, 3.3486459852135333, 3.2346591329861556, 3.120748899745156, 3.006934886451746, 2.8932416843264677, 2.7797001314095344, 2.66634887750262, 2.5532363285449926, 2.440423055152582, 2.3279847647286314, 2.2160159511781883, 2.104634348853951, 1.9939863245546767, 1.8842533377481245, 1.7756595763494312, 1.668480821167634, 1.5630544897522975, 1.4597906384059867, 1.359183435258857, 1.261822235535298, 1.1684008837766062, 1.0797232602424203, 0.9967024622461669, 0.9203505355312659, 0.8517556172944293, 0.7920440641781965, 0.7423269228214681, 0.7036330333201958, 0.6768347532254811, 0.6625757918757347, 0.6612125979883046, 0.6727799466090572, 0.6969874827927708, 0.7332479264448375, 0.7807313539943606, 0.8384354910170082, 0.9052604724961089], [4.236049756516971, 4.1218131161558125, 4.007589074421191, 3.893380864527465, 3.7791925487413374, 3.6650292305629577, 3.5508973209780432, 3.436804872425387, 3.322761997488937, 3.2087813934728753, 3.094878999107612, 2.98107481583484, 2.867393933605192, 2.7538678100508256, 2.640535862372005, 2.5274474432904435, 2.4146642857436214, 2.302263515016503, 2.1903413405020404, 2.0790175500454047, 1.968440934183324, 1.8587957597409466, 1.7503093835003511, 1.6432610346481706, 1.5379916829779043, 1.4349147283065864, 1.3345269741752628, 1.2374189696914684, 1.1442833181081669, 1.0559189948928807, 0.9732291844436031, 0.8972098030570637, 0.8289259734411532, 0.7694745352971261, 0.719932429953739, 0.6812934672517909, 0.6543991649575505, 0.6398722113186518, 0.638062565755692, 0.6490153943090747, 0.6724667319771577, 0.7078677144806442, 0.754432907359958, 0.8112042801363732, 0.8771207555820172, 0.9510840999087832, 1.032014485624085, 1.1188922750226051, 1.2107854859222376, 1.306864463073216], [3.6391442356558312, 3.525018327388148, 3.4109334141937153, 3.2968999984936302, 3.18293126517371, 3.0690437620342936, 2.9552582501440243, 2.8416007649646557, 2.728103938043901, 2.6148086394262373, 2.5017660126025882, 2.3890399864379543, 2.27671036126511, 2.164876577690809, 2.053662284033614, 1.9432208175469885, 1.8337416993784252, 1.7254582045152198, 1.6186559935102514, 1.513682667236072, 1.4109579122620526, 1.3109836275984437, 1.2143530573903147, 1.1217575128664463, 1.0339888000632675, 0.9519350779280349, 0.8765677128069872, 0.8089169726582289, 0.7500353151820988, 0.7009486715989486, 0.6625984096204082, 0.6357791849951292, 0.6210800004458624, 0.618836721652059, 0.6291034832408852, 0.651647777384916, 0.6859701025260427, 0.7313448878288137, 0.7868761246332429, 0.851559519647512, 0.9243432298296261, 1.0041809598212457, 1.0900736770627997, 1.1810986844244702, 1.2764267580238797, 1.3753292829902968, 1.4771778325926486, 1.5814386139545453, 1.687663863992604, 1.7954818091238578], [3.0432482784085515, 2.9294915464799027, 2.8158701055362094, 2.702418380504227, 2.5891794547259357, 2.476207190304721, 2.363568835384535, 2.251348212099635, 2.139649586732775, 2.0286023256297856, 1.91836643198444, 1.8091390330656936, 1.7011618358165084, 1.5947294797367382, 1.4901985768568655, 1.3879970274911475, 1.288632930539346, 1.1927020737394143, 1.100892619440836, 1.0139852539675542, 0.9328468407713156, 0.8584156415010485, 0.7916765898800714, 0.7336260333460013, 0.6852268118336939, 0.64735637531753, 0.6207525151955076, 0.6059627171182779, 0.603303637502575, 0.6128364360275913, 0.6343616678368112, 0.6674345432204994, 0.711398274075604, 0.765430680814997, 0.8285977808269148, 0.8999079243745385, 0.9783610259392347, 1.0629891427743556, 1.15288657700833, 1.2472293946801591, 1.3452855028987578, 1.4464171267812813, 1.5500777446064742, 1.6558054111371843, 1.7632140769395417, 1.8719841211462733, 1.9818529403115603, 2.0926061209373477, 2.2040694825291833, 2.316102108311322], [2.4507941466116514, 2.338279181507881, 2.226211525317182, 2.1147019120977513, 2.0038872649795088, 1.8939362473323058, 1.7850556635932988, 1.677497673703879, 1.5715676837356283, 1.467632628536827, 1.366129164579615, 1.2675710447160948, 1.1725546666835192, 1.0817615088008896, 0.9959559481880577, 0.9159768815812676, 0.8427217336368129, 0.7771219323175512, 0.720109802352247, 0.6725780380414703, 0.6353343130332411, 0.6090549014008958, 0.5942420914537289, 0.5911903677882744, 0.5999656482449529, 0.6204003356051532, 0.6521048535402298, 0.6944941174419107, 0.7468255081383351, 0.8082437271643679, 0.8778275762648788, 0.954634169619554, 1.0377371410117369, 1.1262567554568952, 1.2193811839740185, 1.3163793257867034, 1.416606338585813, 1.5195034402578456, 1.6245936279808446, 1.7314748174337113, 1.839811637276832, 1.9493268062277642, 2.059792729050188, 2.171023704104571, 2.28286894891412, 2.3952065188355314, 2.5079381084280143, 2.620984674655776, 2.7342827954789435, 2.8477816683191253], [1.8700067285504998, 1.761578046093562, 1.6545613018933534, 1.549273424249581, 1.4460916987804013, 1.3454605992115947, 1.2478974242934417, 1.1539957952289868, 1.0644258851278265, 0.979930148475685, 0.9013133579678434, 0.8294260043085724, 0.7651406195221692, 0.7093213488872094, 0.6627880566549988, 0.6262772689983502, 0.6004031405656198, 0.5856221673321717, 0.5822053831270434, 0.5902211885450095, 0.6095308217742769, 0.6397969821171693, 0.6805045424404413, 0.7309909322332095, 0.7904828638478842, 0.8581357164770763, 0.9330720675690846, 1.0144164591986617, 1.1013243477058658, 1.1930041387324646, 1.2887321050683567, 1.387860708134174, 1.489821332360358, 1.5941226846824599, 1.7003461421936763, 1.808139209395516, 1.9172080388197343, 2.027309732539165, 2.1382449178644642, 2.2498509011350434, 2.3619955573086586, 2.474572008841487, 2.5874940788940815, 2.700692463211616, 2.814111544359231, 2.927706764799299, 3.0414424765234283, 3.155290190960275, 3.2692271612021537, 3.3832352376543926], [1.326094664831831, 1.2297021720250934, 1.1370946468302692, 1.0489260053096616, 0.9659115552417773, 0.8888170027696675, 0.8184418395328328, 0.7555970293922724, 0.7010775504610024, 0.6556310739779134, 0.6199247705376504, 0.5945128002159288, 0.5798073400210875, 0.576055929970958, 0.5833274364353102, 0.6015080821126838, 0.6303079094215029, 0.6692769207520313, 0.7178291714082704, 0.7752724243476137, 0.8408406737082071, 0.9137268916093253, 0.9931136815694901, 1.0782000409303236, 1.1682230517486418, 1.2624739517804038, 1.3603086137025746, 1.461152925705569, 1.5645038842224677, 1.669927369426596, 1.7770535917080954, 1.8855711074638475, 1.9952201482043401, 2.1057858283698403, 2.2170916246382073, 2.3289933711181976, 2.441373898290609, 2.554138359071345, 2.6672102288890813, 2.780527932444329, 2.894042031986879, 3.0077129053922556, 3.1215088429668083, 3.2354044967592204, 3.349379623114696, 3.4634180669121397, 3.5775069435393885, 3.6916359817215874, 3.805796996603056, 3.919983467924355], [0.878423201144393, 0.8096613795190063, 0.7483404194336558, 0.695187513262179, 0.6508810398459524, 0.6160226086575313, 0.5911101587469181, 0.5765142806230705, 0.5724598318511738, 0.5790145339267054, 0.5960855998999416, 0.6234246453445366, 0.6606403182759931, 0.7072173854499162, 0.7625405313445377, 0.8259208993689227, 0.8966234141379131, 0.9738931168148929, 1.056979060627456, 1.1451546957599688, 1.237734079826478, 1.334083650000122, 1.4336296576136636, 1.5358616684430946, 1.6403327483125258, 1.746657070824606, 1.8545057043228872, 1.9636012764199755, 2.073712103852756, 2.1846462417222203, 2.296245772898809, 2.4083815409238434, 2.5209484354850873, 2.633861269779525, 2.74705124139814, 2.8604629386923466, 2.97405183849164, 3.0877822345282495, 3.2016255357076764, 3.3155588769477102, 3.4295639909105056, 3.5436262953687523, 3.657734157418503, 3.7718783018356477, 3.8860513363452434, 4.000247371347389, 4.1144617157187735, 4.228690633736075, 4.342931151005553, 4.457180899630799], [0.614330308801031, 0.5899392814414468, 0.5754788956396008, 0.5711526819343616, 0.5770260468540976, 0.5930234701207443, 0.6189323166480717, 0.6544128209790016, 0.6990132872364011, 0.7521891995834021, 0.8133247782762812, 0.8817555242973546, 0.9567904273626301, 1.037732719533636, 1.1238983000896237, 1.2146312110597655, 1.309315793993054, 1.4073854012052036, 1.5083277622113596, 1.6116873058776358, 1.7170648938061646, 1.8241155151941482, 1.9325445216420858, 2.0421029483893425, 2.1525823926178353, 2.2638098204135266, 2.375642570628989, 2.4879637298260495, 2.6006779750565534, 2.7137079226449057, 2.8269909801688597, 2.9404766726068248, 3.0541243987583044, 3.1679015673831463, 3.2817820613897792, 3.395744980763503, 3.509773619245798, 3.623854634992453, 3.73797738086133, 3.8521333651822456, 3.9663158186094565, 4.080519346847219, 4.194739652648626, 4.308973313541461, 4.423217604284444, 4.537470355164276, 4.65172983896747, 4.765994680870824, 4.880263786633573, 4.994536285387823], [0.592094016413646, 0.6166207195380359, 0.6504085438940919, 0.6930618172218163, 0.7440997298874154, 0.802973861883664, 0.8690867051532297, 0.9418101860809198, 1.0205033453887395, 1.104528502142655, 1.1932653952466397, 1.2861229511536194, 1.382548471431102, 1.482034173937435, 1.5841211603480285, 1.6884010164822112, 1.7945153676476577, 1.9021537930800456, 2.011050540083503, 2.120980468161902, 2.231754604872489, 2.343215622989304, 2.4552334682548667, 2.5677012907801235, 2.680531768497731, 2.79365386096347, 2.907009995997672, 3.0205536681541894, 3.134247414157253, 3.2480611236814667, 3.3619706419743474, 3.4759566221099814, 3.5900035878309278, 3.704099172060043, 3.8182335006305594, 3.932398695172095, 4.046588473186084, 4.160797827005987, 4.27502276653445, 4.389260113380112, 4.503507336311266, 4.617762419854412, 4.732023759439195, 4.846290077774882, 4.960560358190199, 5.074833791517545, 5.189109733775322, 5.303387672476447, 5.417667199788756, 5.531947991178507], [0.7947681819988558, 0.8585534604139435, 0.9289268526337399, 1.0053026274473775, 1.0870912905256622, 1.173712099974964, 1.2646039176060586, 1.3592342022574273, 1.4571060278939998, 1.5577630838063252, 1.6607926957135324, 1.7658269961185982, 1.8725424611509724, 1.9806581042567588, 2.089932660315365, 2.200161100358956, 2.3111707898923464, 2.4228175528477967, 2.534981841026827, 2.647565146597562, 2.760486740384558, 2.873680775001826, 2.98709375997021, 3.100682394562546, 3.214411731139412, 3.328253634992004, 3.442185504300841, 3.556189214267217, 3.6702502516792412, 3.784357009346625, 3.8985002134385356, 4.012672460412064, 4.126867843706739, 4.241081653559864, 4.355310136117326, 4.469550300449367, 4.583799764153893, 4.698056629967225, 4.812319387240419, 4.926586833328175, 5.040858010896562, 5.155132157955089, 5.2694086680410885, 5.383687058504277, 5.497966945242823, 5.612248022600694, 5.726530047339899, 5.840812825917083, 5.955096204308005, 6.069380059978706], [1.1560189182838656, 1.2448333644269094, 1.3375388465108635, 1.4336550354307553, 1.5327341076705612, 1.6343646441303186, 1.7381740079048122, 1.843829268196266, 1.951036806471984, 2.0595408068495473, 2.1691208803928492, 2.27958909241433, 2.3907866514679905, 2.5025804846619013, 2.614859876342645, 2.7275332961624112, 2.8405254955366233, 2.9537749127710473, 3.0672313980940524, 3.180854249925463, 3.294610541369488, 3.4084737092501216, 3.5224223752886528, 3.636439368897283, 3.750510922538512, 3.864626013000727, 3.978775824787394, 4.092953314814724, 4.207152860535543, 4.3213699763365625, 4.435601085520899, 4.549843337346787, 4.664094460455025, 4.778352645619359, 4.892616452032421, 5.00688473249087, 5.121156573688722, 5.235431248616616, 5.349708178613073, 5.463986903122494, 5.578267055608964, 5.692548344382274, 5.806830537335463, 5.921113449728847, 6.035396934598843, 6.149680874982233, 6.263965177819785, 6.378249769029148, 6.492534589720659, 6.606819592999302], [1.6092333223719018, 1.7116766146118578, 1.8161337218516513, 1.922301915491519, 2.029913353915278, 2.1387338633251076, 2.248560963554518, 2.359221350840034, 2.4705680523099764, 2.5824774465727343, 2.6948463091984634, 2.8075890001693393, 2.920634869891528, 3.0339259256893665, 3.1474147738323746, 3.261062833205911, 3.3748388046923092, 3.488717373638133, 3.6026781198675555, 3.716704609220632, 3.830783641601963, 3.9449046323559203, 4.059059106053715, 4.173240284192671, 4.28744275074138, 4.401662181759142, 4.515895127455447, 4.630138836934084, 4.7443911175567015, 4.858650222254657, 4.972914759383872, 5.0871836206548915, 5.201455923617871, 5.315730965719862, 5.430008187706159, 5.544287144448338, 5.65856748165506, 5.772848917366062, 5.887131227199392, 6.001414232590038, 6.11569779143391, 6.2299817906815775, 6.344266140347215, 6.458550768814512, 6.572835619132708, 6.687120646085281, 6.801405813293171, 6.915691092391282, 7.029976460482667, 7.1442618991311635], [2.1091054516049104, 2.2181840233211654, 2.3282105299084375, 2.4390242766908514, 2.550488455985246, 2.6624875560948857, 2.774924760566021, 2.8877194475175867, 3.0008048639449783, 3.1141260187607243, 3.2276378133347934, 3.3413034100205032, 3.455092827096286, 3.568981741611279, 3.6829504784206737, 3.7969831629790463, 3.9110670161722982, 4.0251917709778935, 4.139349192591874, 4.253532685670625, 4.367736974306077, 4.481957842307977, 4.596191923146644, 4.710436530559457, 4.824689522270173, 4.938949190615097, 5.053214174847817, 5.16748339099659, 5.281755975774913, 5.3960312417548355, 5.510308641650899, 5.624587739806304, 5.738868189445533, 5.8531497145594695, 5.967432095490796, 6.081715157432797, 6.195998761273034, 6.3102827962943815, 6.4245671744620285, 6.538851825603141, 6.6531366938643055, 6.767421735047052, 6.88170691392594, 6.99599220187274, 7.110277577236516, 7.22456302192198, 7.3388485214533175, 7.453134064593375, 7.567419642561521, 7.681705249341601], [2.6305270457277814, 2.7425944997307163, 2.855082509713639, 2.967914766132074, 3.081027848592488, 3.19436931598819, 3.3078960010089524, 3.4215725136963444, 3.5353699465527972, 3.649264766286101, 3.7632378735742784, 3.8772738111810745, 3.99136010123709, 4.105486693860399, 4.219645510915198, 4.333830070455998, 4.448035179078185, 4.5622566810050245, 4.676491254298617, 4.790736245873179, 4.904989538330758, 5.01924944282737, 5.133514612953092, 5.247783975745075, 5.362056676369829, 5.476332034014829, 5.590609506532741, 5.70488866225819, 5.819169157564409, 5.933450718938903, 6.047733128645864, 6.1620162134952565, 6.276299835500485, 6.39058388497719, 6.504868274544551, 6.619152934729684, 6.73343781061923, 6.8477228572278825, 6.962008040834896, 7.076293332536008, 7.190578710516791, 7.304864157438889, 7.419149658831789, 7.533435203645538, 7.647720783708472, 7.7620063920068905, 7.876292017222771, 7.990577664639559, 8.10486332447416, 8.219148997354646], [3.161297968249758, 3.274651380193973, 3.388185995871306, 3.5018676411529426, 3.6156682938070364, 3.7295650535523874, 3.8435392649331246, 3.957575775556938, 4.071662312398029, 4.185788960063898, 4.2999477265083526, 4.4141321833239004, 4.528337169230876, 4.64255854680622, 4.756793003838307, 4.87103789173023, 4.985291094530238, 5.099550923078868, 5.213816029815468, 5.328085340295769, 5.442357998129151, 5.556633320934455, 5.670910765260911, 5.7851898983134715, 5.899470375252584, 6.013751921995608, 6.1280343199603395, 6.242317395463444, 6.356601009914111, 6.470885053407242, 6.585169438371409, 6.699454094502626, 6.813738967479747, 6.928024011281658, 7.0423091933191895, 7.156594482635762, 7.27087986034895, 7.385165305392516, 7.499450806754479, 7.613736350200258, 7.728021930154923, 7.8423075395883375, 7.956593165964886, 8.070878814406957, 8.1851644687369, 8.299450136266865, 8.413735823545831, 8.528021513047733, 8.642307188224173, 8.756592894923541], [3.6959866052764414, 3.809881716072279, 3.923854036378319, 4.037888632302821, 4.151973360241018, 4.266098372921328, 4.3802557061002565, 4.494438933990126, 4.6086428834706075, 4.72286339792601, 4.837097143112047, 4.951341448364507, 5.065594177058513, 5.179853621591572, 5.294118418509242, 5.408387479726485, 5.522659937436328, 5.636935099897368, 5.751212415884671, 5.865491446356001, 5.979771841374347, 6.094053322773129, 6.208335668460965, 6.322618702528676, 6.436902283927612, 6.55118630087709, 6.665470665097446, 6.779755305295745, 6.894040163748603, 7.008325198049198, 7.12261037218889, 7.236895655824683, 7.351181026978808, 7.465466467493361, 7.579751963880708, 7.694037509655033, 7.808323081453621, 7.92260868868214, 8.036894311804703, 8.151179960829465, 8.26546561629226, 8.379751285694507, 8.49403698641361, 8.608322676987358, 8.722608342287447, 8.836894037176222, 8.951179761040668, 9.065465502942317, 9.179751176380794, 9.294036827842966], [4.232293198703071, 4.346414941939552, 4.460569489687528, 4.574750376685124, 4.6889523802114335, 4.803171291033348, 4.917403724008657, 5.03164696142732, 5.145898825133462, 5.26015757154091, 5.3744218065947695, 5.48869041667413, 5.602962512621763, 5.717237385707372, 5.831514470437565, 5.945793316404402, 6.060073563704259, 6.17435492747976, 6.288637180205883, 6.402920139168167, 6.517203661037485, 6.631487631489171, 6.7457719570192465, 6.8600565666753015, 6.974341401854832, 7.088626416058712, 7.202911574731973, 7.3171968436385555, 7.431482208531534, 7.545767640034605, 7.6600531365383, 7.774338672239942, 7.888624249347079, 8.002909834762853, 8.117195460522414, 8.23148110561976, 8.345766779065295, 8.460052462812985, 8.5743381157288, 8.68862377956476, 8.802909512285934, 8.917195243499975, 9.031480952699047, 9.14576655460591, 9.260052458035592, 9.374338156487127, 9.48862351961254, 9.602909260384967, 9.717194895901553, 9.831481249456068], [4.769265827269988, 4.883482374420055, 4.997712874306606, 5.1119545391912835, 5.226205129238044, 5.340462847693895, 5.45472625532904, 5.568994201101788, 5.683265764497996, 5.7975402115385934, 5.911816955368077, 6.0260955292276375, 6.140375559654774, 6.254656750328454, 6.368938864459472, 6.483221712977061, 6.59750514722604, 6.711789047733369, 6.826073318848454, 6.940357882761859, 7.05464268111963, 7.168927669501073, 7.283212810563833, 7.3974980635536545, 7.51178340678542, 7.626068838509812, 7.740354300941951, 7.854639827677084, 7.968925409669582, 8.083211010487029, 8.197496611595682, 8.311782305032303, 8.426067913824744, 8.540353556723607, 8.654639324917124, 8.768924916346862, 8.883210684856705, 8.997496361302892, 9.111782142272766, 9.226067459658571, 9.340353278756554, 9.454639502529236, 9.56892457820117, 9.683210971027657, 9.797495654072922, 9.91178266635317, 10.026067388719484, 10.140352442020417, 10.254640802319507, 10.368922471864703], [5.306513231092099, 5.420769567024661, 5.535031860833987, 5.6492989105391045, 5.763569756264855, 5.877843627789019, 5.99211991211878, 6.106398117987445, 6.220677854427867, 6.334958811684509, 6.4492407388916195, 6.563523440939712, 6.677806754230241, 6.792090560789491, 6.906374754153397, 7.020659260156922, 7.134944017700434, 7.249228966211527, 7.36351407751406, 7.4777993027105305, 7.592084639208631, 7.706370056432978, 7.82065553032283, 7.9349410048283024, 8.049226590844928, 8.163512219162815, 8.277797819836211, 8.392083411818094, 8.50636905890835, 8.6206548515859, 8.734940412408786, 8.849226133039751, 8.963511751820624, 9.07779748704647, 9.192083315081407, 9.306368701314044, 9.42065435993204, 9.534940192550742, 9.64922569148239, 9.763511786902313, 9.877798695915674, 9.992083514657834, 10.106369558570314, 10.220655788104756, 10.334943690245316, 10.449229724265413, 10.56351527360086, 10.67779631202526, 10.792079654205942, 10.906364133219924], [5.843874574359059, 5.958147705646175, 6.072423396724378, 6.186701129912327, 6.300980486838559, 6.415261142760274, 6.529542826237579, 6.64382533544395, 6.758108498084573, 6.872392181642436, 6.986676278814107, 7.100960710782457, 7.21524540814013, 7.329530300233142, 7.443815380854749, 7.55810054755573, 7.6723858465103145, 7.786671219589046, 7.9009566928073705, 8.01524225765107, 8.129527743426884, 8.243813237285446, 8.358099099659267, 8.472384612867419, 8.586670073944754, 8.700955718106238, 8.815241812697685, 8.929527029414299, 9.043812495131029, 9.158098414057912, 9.27238362732057, 9.386669283722329, 9.50095448231984, 9.61524198620991, 9.72952753189593, 9.843812059408526, 9.95809545429086, 10.072387788156671, 10.186666823041612, 10.300955344619304, 10.41523915489546, 10.529527913007565, 10.643816187388548, 10.758101719710995, 10.872365156366337, 10.986650674407718, 11.100962063841475, 11.215218905637233, 11.329463394790926, 11.443654258227633], [6.381283502086895, 6.4955637762452625, 6.6098451620613075, 6.7241274344355935, 6.838410396053741, 6.952693924139613, 7.0669778922518045, 7.181262233144641, 7.29554686328939, 7.409831698470101, 7.524116747661722, 7.638401863590221, 7.752687085413345, 7.866972516784964, 7.981257815122496, 8.095543485676005, 8.209829064552089, 8.324114449945256, 8.438400046013301, 8.552685622825123, 8.666971647744743, 8.781257083344865, 8.895543445886764, 9.009828028430539, 9.124113674702366, 9.238400579676227, 9.352686339907134, 9.466971504435811, 9.581255224797271, 9.695542654318416, 9.809831615115398, 9.924115008557498, 10.038396026854093, 10.152682514885996, 10.266974651764238, 10.381269951847402, 10.495525067885248, 10.609836643241556, 10.72413023834337, 10.838389365826858, 10.952652511515835, 11.066883897650163, 11.181081024726389, 11.2952775100849, 11.409471617164932, 11.523664266610721, 11.637851528199027, 11.75205478536936, 11.866222352115095, 11.980414543394126], [6.918712456263746, 7.032995788741297, 7.147279633426557, 7.261563888440864, 7.375848311374012, 7.490133144406346, 7.604418154367082, 7.718703141145096, 7.832988583842261, 7.947273605009551, 8.061559009846404, 8.175844804623228, 8.290130369429997, 8.404416204968394, 8.518701462963692, 8.632986419978472, 8.74727329332248, 8.861559097755986, 8.975844994268945, 9.090131416263212, 9.20441663035087, 9.318699008541927, 9.432983959544972, 9.547276500568854, 9.661553383713876, 9.775836710549989, 9.890128317622024, 10.004426245082806, 10.118697173133233, 10.232989432025011, 10.347263086718225, 10.461558954567339, 10.575810756108407, 10.690120465254438, 10.804312093420206, 10.918505881294404, 11.032701212243264, 11.14688700000656, 11.261080834956076, 11.375271512043971, 11.489455789149618, 11.603640624221917, 11.717816146966086, 11.8320785913641, 11.946239517452586, 12.060401616039663, 12.17465758698427, 12.288841956429568, 12.402896292277036, 12.516949433819635], [7.4561499877247055, 7.57043472210039, 7.684719471731279, 7.799004608591191, 7.913289721111041, 8.02757480953113, 8.141859993154972, 8.256145686378526, 8.370431879319327, 8.484717555935832, 8.59900290258333, 8.713286903516236, 8.827573463151309, 8.941858020303961, 9.056143909756008, 9.170433340765566, 9.284713358651475, 9.39900425984634, 9.513293100835615, 9.62757304720528, 9.741851107872025, 9.856154576315387, 9.970414984786094, 10.084735152972177, 10.198984124847534, 10.313313357223054, 10.427551353103615, 10.541741466656458, 10.655938057115407, 10.770121767646344, 10.884319996180938, 10.998513022490497, 11.112703529531885, 11.226901483120379, 11.341072572193927, 11.455289077070997, 11.569459725468482, 11.683671689645466, 11.797832488561506, 11.91202369555911, 12.026314508901732, 12.140388220472934, 12.254420507745161, 12.368345879398376, 12.482206293497235, 12.596051092686267, 12.709883761181384, 12.823618707074212, 12.937229744588704, 13.050798794002775], [7.9935913817075335, 8.107877090221146, 8.222160950103572, 8.33644777582888, 8.45073298663392, 8.565016354337208, 8.679304972998036, 8.793589520240815, 8.907875900543313, 9.022159756679786, 9.136443195679147, 9.250735428309817, 9.36501940278822, 9.479303782533432, 9.593579993969009, 9.707879100705949, 9.822162654758547, 9.93647213965907, 10.050739302165843, 10.164973848430293, 10.27916860233922, 10.393360936068069, 10.507549508376256, 10.6217408847961, 10.735949024913424, 10.850122463311116, 10.96432745979587, 11.07851309640306, 11.192700717930371, 11.306891878212031, 11.42109384639398, 11.535244348240239, 11.649427406665263, 11.76367314997599, 11.877889395889381, 11.991948332882517, 12.105881494956291, 12.21977070089175, 12.333629026144196, 12.447469664610319, 12.561306565869955, 12.674877638298462, 12.788532671045568, 12.902152072060069, 13.015504595366748, 13.128684667362625, 13.241880780091103, 13.35500387663204, 13.467955495373495, 13.580841552745744], [8.53103627336005, 8.645319593989639, 8.759607400240212, 8.873896197363015, 8.988179280518635, 9.10246744331101, 9.216755841592137, 9.331039392089718, 9.445305749859097, 9.559589734075043, 9.673900170008004, 9.788167772070478, 9.902403405984275, 10.016591571666037, 10.130786059593206, 10.244978493308963, 10.359171831178582, 10.473374090211353, 10.587550145533845, 10.701760392181466, 10.815965139116923, 10.930142377683575, 11.044312094690927, 11.158540341798759, 11.272669646941143, 11.386941187009173, 11.501076099258539, 11.61533847021385, 11.729418721531683, 11.843386187605882, 11.957372262106531, 12.071253926707197, 12.185163140550594, 12.298909572747169, 12.412675921380497, 12.526272141436559, 12.639848842478347, 12.75337520715079, 12.86673587376286, 12.980108907198447, 13.093129912621906, 13.2062763199202, 13.319186886147245, 13.432120166732124, 13.544763754745302, 13.657115656273456, 13.769373487516694, 13.88136026325952, 13.99363614956191, 14.105254879582231], [9.06846602097227, 9.182775619860228, 9.297071462942682, 9.411325075562058, 9.525593781299436, 9.639831163651008, 9.754022921195741, 9.8682117732896, 9.982409268889281, 10.09659817291286, 10.210791787918525, 10.324985321166393, 10.439171694773572, 10.55338062105578, 10.667564440827775, 10.78178339598998, 10.895937327750625, 11.010119668662673, 11.124377888109331, 11.23854365157523, 11.352664727500539, 11.466846129797247, 11.58093088707335, 11.69487428681321, 11.808892528158315, 11.922678497184613, 12.036551886625086, 12.150355186977043, 12.26399249058842, 12.377704110851566, 12.49122404745129, 12.60462158563973, 12.718011568340367, 12.831363097075089, 12.944497080967176, 13.057703644768253, 13.170404027598396, 13.283324928304744, 13.395937092380251, 13.508560285835921, 13.620732773974627, 13.733304788954106, 13.844836980906484, 13.956370453628685, 14.068009922902238, 14.178451688307005, 14.288836836712827, 14.398258854239312, 14.507500164407091, 14.6159703380635], [9.605641367664754, 9.719833334806227, 9.834029546945379, 9.948217889573963, 10.062410964854811, 10.176614268657275, 10.290804683637582, 10.404979627725908, 10.519203781443005, 10.633388692578583, 10.747567435098443, 10.86178423391848, 10.975988525271502, 11.090089587832846, 11.204353890499679, 11.31850588037022, 11.432410311798641, 11.54636174100429, 11.660232340449541, 11.774165731398634, 11.887922750405533, 12.001748414080815, 12.115434713381054, 12.22897338018214, 12.342646950634164, 12.455988493535623, 12.569347254890465, 12.682634597216836, 12.795757841162585, 12.908823331450666, 13.0216869192343, 13.13461041317184, 13.247366856150954, 13.35979854002933, 13.472016378556887, 13.584059749362924, 13.696230774025741, 13.808110990271244, 13.919343234434983, 14.030256448403895, 14.140349166255374, 14.250381290970996, 14.36056320904967, 14.468870303535434, 14.57670098315254, 14.684058167574173, 14.79027190961557, 14.89682066489895, 15.001855645289387, 15.106210278431671], [10.142426156157098, 10.256603032535411, 10.370798706941494, 10.485017355393897, 10.599228928368587, 10.713386591331455, 10.82756513268282, 10.941720742135093, 11.055896053978318, 11.169967724925367, 11.283918440719633, 11.397843443025154, 11.511732056808397, 11.62558680308084, 11.739391267519537, 11.853199766360603, 11.966762850624871, 12.080430418189591, 12.193928772651297, 12.307270089077713, 12.420612472377297, 12.53393178332403, 12.64701433196104, 12.760235231412025, 12.872948934544942, 12.98594202191472, 13.098521201666566, 13.210975172304494, 13.323305787515642, 13.435498173794253, 13.547441624795738, 13.659466442231194, 13.771150296732822, 13.88151806394187, 13.99256409961942, 14.102323650488733, 14.212094497087538, 14.32097798867433, 14.429581345251098, 14.536228630522658, 14.64491411992864, 14.749229491562064, 14.855356871458502, 14.959928068333063, 15.064312107814953, 15.16725987502455, 15.266645817371916, 15.366711354314216, 15.464773776192814, 15.56088027399645], [10.679199608898092, 10.793394123627769, 10.907498022718269, 11.0214655486402, 11.135395511575487, 11.249356631377164, 11.363201268169089, 11.47699401778167, 11.59076639658655, 11.704467597333803, 11.81809273636402, 11.931784555567607, 12.045209981003158, 12.158538637255948, 12.27185374590449, 12.385203012361991, 12.498245398680371, 12.611500602618317, 12.72425793914525, 12.837218703236228, 12.949715850268413, 13.062310785118779, 13.174573708691193, 13.287219848776253, 13.399050859911304, 13.511151183608163, 13.621992361304368, 13.733031387441306, 13.84403031202006, 13.954682219984756, 14.064125275986335, 14.173065347990304, 14.282085720794708, 14.390640753507869, 14.497064636201868, 14.604063942231798, 14.710285733882944, 14.814206897886148, 14.919835194254768, 15.022694483000823, 15.123209306977952, 15.223889486023783, 15.324167806673358, 15.421062344871384, 15.517196883336055, 15.610797353444248, 15.70501765058767, 15.790744630042765, 15.881226703012155, 15.963315784748017], [11.214602699659316, 11.328406364414887, 11.44223437561094, 11.555808353100778, 11.669543945340672, 11.783030130782867, 11.896526540624821, 12.00987932049761, 12.123203706594984, 12.236544478789487, 12.349553875295282, 12.462630156865593, 12.575524126157017, 12.688244793576125, 12.801057351576853, 12.913787344847197, 13.026173005869852, 13.138324306951532, 13.25050835909963, 13.362000826083765, 13.474159557424107, 13.584843209082683, 13.69643314223913, 13.806375276778633, 13.916267716431383, 14.025850635507858, 14.133863593634748, 14.243078501649432, 14.350271106963689, 14.457887967266648, 14.563890423695527, 14.66967753982731, 14.774409533058556, 14.876851993115272, 14.98104754615712, 15.080654195751546, 15.182074290345028, 15.279926881325881, 15.3776433473996, 15.472878930538664, 15.566686435018482, 15.659858499163123, 15.748236735065877, 15.836690131278495, 15.919086138616581, 16.0016655224764, 16.080415297425656, 16.157442979004937, 16.231052294086947, 16.298596304538282], [11.747794759132438, 11.861131051988213, 11.974565318338193, 12.087771233106434, 12.200798120661064, 12.31390991753361, 12.426779066720208, 12.539453963878543, 12.652276165525484, 12.764558714244922, 12.877255612356931, 12.989639916843952, 13.101810998965094, 13.213526565414586, 13.324977561303657, 13.436782247688928, 13.547318417229311, 13.658192266020368, 13.768148108904853, 13.877660896482865, 13.987205568864512, 14.09556753777779, 14.203542068184003, 14.310918132597845, 14.417028328252036, 14.52456960863707, 14.629335093793632, 14.732494367561712, 14.836624277556098, 14.938412360527762, 15.038781015354868, 15.139265436497489, 15.235624952351314, 15.334899695537784, 15.43066929083454, 15.525142469741443, 15.615467507715714, 15.702789206359668, 15.793610383492279, 15.875571564907009, 15.958645451744855, 16.036564026364115, 16.111670310478647, 16.186748487477946, 16.256474503210796, 16.325242493246822, 16.391005366842172, 16.45035199032139, 16.51358456234567, 16.568320539258306], [12.27807333286747, 12.390778568858558, 12.50348380859714, 12.615979406874015, 12.728224168021878, 12.840698033080356, 12.952770474882962, 13.065331171289985, 13.176889086785001, 13.288045349288767, 13.399405300034461, 13.509708506656215, 13.619762957674544, 13.730164865760235, 13.839007552672093, 13.947890616856254, 14.056357433627662, 14.163278375336429, 14.270715999694293, 14.376781064482255, 14.48307449755826, 14.588234825627238, 14.693002844589302, 14.7946348770856, 14.896529421375954, 14.997643271251487, 15.09669356066739, 15.194927733034099, 15.292812292616805, 15.386648192394471, 15.481524783316585, 15.572176983955794, 15.659607769905028, 15.749689351882106, 15.831667829653322, 15.912223154953622, 15.995415105355441, 16.069576809229996, 16.143181673166183, 16.21595281478276, 16.282433792130345, 16.34703812672417, 16.4112977099765, 16.469821999669747, 16.52684761769198, 16.583035860262353, 16.633386573111956, 16.683903630356674, 16.730022859537446, 16.772361560561844], [12.804265288720163, 12.916310654382116, 13.028197011073907, 13.13975007155611, 13.250287458842266, 13.36130430365505, 13.47185610973964, 13.581539670009933, 13.691750667401529, 13.800650001305279, 13.90843185090373, 14.016425714779801, 14.124627244671933, 14.23074971476898, 14.336581145296066, 14.443033273229078, 14.546997253871211, 14.650606872916327, 14.753685230140908, 14.855785636932362, 14.955376949765261, 15.054679162825058, 15.15221893513185, 15.248758473695986, 15.34216005122149, 15.437828996321871, 15.52777855708375, 15.61517840203451, 15.70512689943785, 15.788633777462087, 15.869968599795257, 15.949017999996945, 16.027052012466246, 16.09750200196904, 16.170824768846824, 16.23973995166682, 16.304237283517136, 16.369008340234597, 16.430538478832982, 16.486942151878516, 16.541461442149043, 16.59756483117474, 16.646514124771635, 16.692718765422725, 16.739987747005816, 16.782670961746845, 16.82284128936412, 16.863210215351867, 16.899719218654006, 16.932543704961404], [13.323431772241866, 13.433598530772644, 13.543364782437711, 13.652432950890246, 13.761597057351688, 13.869889907186296, 13.97732384065356, 14.08449666472275, 14.191315496972852, 14.297162042824096, 14.401760363241262, 14.505530612961735, 14.608844676000183, 14.710818386113498, 14.811672195346306, 14.912522551942704, 15.011657488264573, 15.109056826279737, 15.205476577470318, 15.301386271994538, 15.39424640143314, 15.48408453617441, 15.571142406104846, 15.65969691354387, 15.743423181323376, 15.824089393526663, 15.905416703138876, 15.98239388010262, 16.05629269427503, 16.127763335151993, 16.199040907662337, 16.2652884516122, 16.327793973816455, 16.387216476954755, 16.447519777024013, 16.50362390351347, 16.556536425630586, 16.609663947840556, 16.657986968496793, 16.703945273956872, 16.747642057672188, 16.79150237164454, 16.830828876017218, 16.866965820511723, 16.900616553518233, 16.935422377360748, 16.965680860379532, 16.993876635016296, 17.023023155536144, 17.048421498368864], [13.82962459388658, 13.938264764776351, 14.044556047047335, 14.150629055734068, 14.255376587512663, 14.361804541850956, 14.464645198734841, 14.56778074877291, 14.668339177867916, 14.77148259566967, 14.870033100085974, 14.968233517185729, 15.064978512545036, 15.163833374478807, 15.257595574955142, 15.349887528387635, 15.440480758478413, 15.52555937166326, 15.615751287703679, 15.700346198541276, 15.781071132398527, 15.85895101068454, 15.941081029317235, 16.0135552935433, 16.085079129405447, 16.152723746812587, 16.222964342247742, 16.286174097292665, 16.348414278599822, 16.40586160098939, 16.467179161141026, 16.520122761138296, 16.571082811044104, 16.619804031037464, 16.66936809005406, 16.71399645299939, 16.756640893081293, 16.79694069997432, 16.832538431976303, 16.871775718942825, 16.90593725323159, 16.937590534655197, 16.967160165273466, 16.99868123736662, 17.024395542863584, 17.0482614284911, 17.069697373157705, 17.092354359756577, 17.110685063094277, 17.128421506157963], [14.320069063351763, 14.423629189262112, 14.525018514613487, 14.627950052327485, 14.728839783321826, 14.828253387071896, 14.925451026132865, 15.02113019360019, 15.119726464496093, 15.213289599211532, 15.306017067537828, 15.395743059128112, 15.48222192193667, 15.572666175861448, 15.656072557501199, 15.739024107272222, 15.815876891079611, 15.892822230822974, 15.969556268292472, 16.041388397973837, 16.11225512855598, 16.177413148623643, 16.24343839321472, 16.30638871999679, 16.366671410705642, 16.425101418645927, 16.479567752515692, 16.532232356203476, 16.583074370214355, 16.630798663875847, 16.677252391336324, 16.720898425522492, 16.765516649631476, 16.802375973212154, 16.840003581874132, 16.875455427743333, 16.908838905866926, 16.94275171848608, 16.969917350100353, 16.997518826003848, 17.023684050224958, 17.04752409752732, 17.07198424032016, 17.091698153722476, 17.109010321186645, 17.12660063904058, 17.142842145318316, 17.160000062354474, 17.17355612823833, 17.184869340619972], [14.784535059288352, 14.883220328882157, 14.980986987062206, 15.075570728695235, 15.16937615605589, 15.261850708677569, 15.352216536757885, 15.441052023794617, 15.528594355269947, 15.613654116598308, 15.693697290948377, 15.77082061579253, 15.848589204634683, 15.92627373915442, 16.000872241946265, 16.07056837893007, 16.13587079802407, 16.202672400773483, 16.26465337088499, 16.32433931100941, 16.38447338258283, 16.44128287445121, 16.4939097357869, 16.546507490810964, 16.59215567452042, 16.641905771992622, 16.686865199176655, 16.729204501642478, 16.768191446452807, 16.807704843988358, 16.846206857494003, 16.881942781916916, 16.913034830365483, 16.943547371847174, 16.97267416724574, 16.99878325981138, 17.02489999808513, 17.04910633456557, 17.071102934830343, 17.090034473898598, 17.108603266385874, 17.12513271256973, 17.142805298046795, 17.158511705739272, 17.172009088433413, 17.183623564488723, 17.19540503628124, 17.20518205554703, 17.21586389042175, 17.223195502984197], [15.217379336119656, 15.308544763424205, 15.395283712825146, 15.48392440999923, 15.568613331129193, 15.650097238943502, 15.728238917850026, 15.805821031899786, 15.882002069037217, 15.953874482832576, 16.026032668789465, 16.09501731708632, 16.161032204750782, 16.22320873929441, 16.284604962777575, 16.344238831875472, 16.400244019390943, 16.456483224981824, 16.509037396767233, 16.558392952549468, 16.604610629928008, 16.65035463857916, 16.69469834928634, 16.73530998995159, 16.776272365502873, 16.814847580569868, 16.850612893922772, 16.883039755835153, 16.91504315466578, 16.94572585223582, 16.972428143296074, 17.000754175526218, 17.026296218597338, 17.049028645437183, 17.069440261497043, 17.08901192967616, 17.10776892394823, 17.124110025561663, 17.14131005092059, 17.156546603723182, 17.17026593886685, 17.1819460220584, 17.193595501640544, 17.203955716576814, 17.21304393964176, 17.221693042774177, 17.228909391136195, 17.234721280285424, 17.239376255851706, 17.243875789386024]]}],\n",
       "                        {\"autosize\": true, \"height\": 700, \"scene\": {\"aspectmode\": \"manual\", \"aspectratio\": {\"x\": 1, \"y\": 1, \"z\": 0.7}, \"camera\": {\"eye\": {\"x\": -1.7428, \"y\": 1.0707, \"z\": 0.71}, \"up\": {\"x\": 0, \"y\": 0, \"z\": 1}}, \"xaxis\": {\"gridcolor\": \"rgb(255, 255, 255)\", \"showbackground\": true, \"zerolinecolor\": \"rgb(255, 255, 255)\"}, \"yaxis\": {\"gridcolor\": \"rgb(255, 255, 255)\", \"showbackground\": true, \"zerolinecolor\": \"rgb(255, 255, 255)\"}, \"zaxis\": {\"gridcolor\": \"rgb(255, 255, 255)\", \"showbackground\": true, \"zerolinecolor\": \"rgb(255, 255, 255)\"}}, \"template\": {\"data\": {\"bar\": [{\"error_x\": {\"color\": \"#2a3f5f\"}, \"error_y\": {\"color\": \"#2a3f5f\"}, \"marker\": {\"line\": {\"color\": \"#E5ECF6\", \"width\": 0.5}}, \"type\": \"bar\"}], \"barpolar\": [{\"marker\": {\"line\": {\"color\": \"#E5ECF6\", \"width\": 0.5}}, \"type\": \"barpolar\"}], \"carpet\": [{\"aaxis\": {\"endlinecolor\": \"#2a3f5f\", \"gridcolor\": \"white\", \"linecolor\": \"white\", \"minorgridcolor\": \"white\", \"startlinecolor\": \"#2a3f5f\"}, \"baxis\": {\"endlinecolor\": \"#2a3f5f\", \"gridcolor\": \"white\", \"linecolor\": \"white\", \"minorgridcolor\": \"white\", \"startlinecolor\": \"#2a3f5f\"}, \"type\": \"carpet\"}], \"choropleth\": [{\"colorbar\": {\"outlinewidth\": 0, \"ticks\": \"\"}, \"type\": \"choropleth\"}], \"contour\": [{\"colorbar\": {\"outlinewidth\": 0, \"ticks\": \"\"}, \"colorscale\": [[0.0, \"#0d0887\"], [0.1111111111111111, \"#46039f\"], [0.2222222222222222, \"#7201a8\"], [0.3333333333333333, \"#9c179e\"], [0.4444444444444444, \"#bd3786\"], [0.5555555555555556, \"#d8576b\"], [0.6666666666666666, \"#ed7953\"], [0.7777777777777778, \"#fb9f3a\"], [0.8888888888888888, \"#fdca26\"], [1.0, \"#f0f921\"]], \"type\": \"contour\"}], \"contourcarpet\": [{\"colorbar\": {\"outlinewidth\": 0, \"ticks\": \"\"}, \"type\": \"contourcarpet\"}], \"heatmap\": [{\"colorbar\": {\"outlinewidth\": 0, \"ticks\": \"\"}, \"colorscale\": [[0.0, \"#0d0887\"], [0.1111111111111111, \"#46039f\"], [0.2222222222222222, \"#7201a8\"], [0.3333333333333333, \"#9c179e\"], [0.4444444444444444, \"#bd3786\"], [0.5555555555555556, \"#d8576b\"], [0.6666666666666666, \"#ed7953\"], [0.7777777777777778, \"#fb9f3a\"], [0.8888888888888888, \"#fdca26\"], [1.0, \"#f0f921\"]], \"type\": \"heatmap\"}], \"heatmapgl\": [{\"colorbar\": {\"outlinewidth\": 0, \"ticks\": \"\"}, \"colorscale\": [[0.0, \"#0d0887\"], [0.1111111111111111, \"#46039f\"], [0.2222222222222222, \"#7201a8\"], [0.3333333333333333, \"#9c179e\"], [0.4444444444444444, \"#bd3786\"], [0.5555555555555556, \"#d8576b\"], [0.6666666666666666, \"#ed7953\"], [0.7777777777777778, \"#fb9f3a\"], [0.8888888888888888, \"#fdca26\"], [1.0, \"#f0f921\"]], \"type\": \"heatmapgl\"}], \"histogram\": [{\"marker\": {\"colorbar\": {\"outlinewidth\": 0, \"ticks\": \"\"}}, \"type\": \"histogram\"}], \"histogram2d\": [{\"colorbar\": {\"outlinewidth\": 0, \"ticks\": \"\"}, \"colorscale\": [[0.0, \"#0d0887\"], [0.1111111111111111, \"#46039f\"], [0.2222222222222222, \"#7201a8\"], [0.3333333333333333, \"#9c179e\"], [0.4444444444444444, \"#bd3786\"], [0.5555555555555556, \"#d8576b\"], [0.6666666666666666, \"#ed7953\"], [0.7777777777777778, \"#fb9f3a\"], [0.8888888888888888, \"#fdca26\"], [1.0, \"#f0f921\"]], \"type\": \"histogram2d\"}], \"histogram2dcontour\": [{\"colorbar\": {\"outlinewidth\": 0, \"ticks\": \"\"}, \"colorscale\": [[0.0, \"#0d0887\"], [0.1111111111111111, \"#46039f\"], [0.2222222222222222, \"#7201a8\"], [0.3333333333333333, \"#9c179e\"], [0.4444444444444444, \"#bd3786\"], [0.5555555555555556, \"#d8576b\"], [0.6666666666666666, \"#ed7953\"], [0.7777777777777778, \"#fb9f3a\"], [0.8888888888888888, \"#fdca26\"], [1.0, \"#f0f921\"]], \"type\": \"histogram2dcontour\"}], \"mesh3d\": [{\"colorbar\": {\"outlinewidth\": 0, \"ticks\": \"\"}, \"type\": \"mesh3d\"}], \"parcoords\": [{\"line\": {\"colorbar\": {\"outlinewidth\": 0, \"ticks\": \"\"}}, \"type\": \"parcoords\"}], \"scatter\": [{\"marker\": {\"colorbar\": {\"outlinewidth\": 0, \"ticks\": \"\"}}, \"type\": \"scatter\"}], \"scatter3d\": [{\"line\": {\"colorbar\": {\"outlinewidth\": 0, \"ticks\": \"\"}}, \"marker\": {\"colorbar\": {\"outlinewidth\": 0, \"ticks\": \"\"}}, \"type\": \"scatter3d\"}], \"scattercarpet\": [{\"marker\": {\"colorbar\": {\"outlinewidth\": 0, \"ticks\": \"\"}}, \"type\": \"scattercarpet\"}], \"scattergeo\": [{\"marker\": {\"colorbar\": {\"outlinewidth\": 0, \"ticks\": \"\"}}, \"type\": \"scattergeo\"}], \"scattergl\": [{\"marker\": {\"colorbar\": {\"outlinewidth\": 0, \"ticks\": \"\"}}, \"type\": \"scattergl\"}], \"scattermapbox\": [{\"marker\": {\"colorbar\": {\"outlinewidth\": 0, \"ticks\": \"\"}}, \"type\": \"scattermapbox\"}], \"scatterpolar\": [{\"marker\": {\"colorbar\": {\"outlinewidth\": 0, \"ticks\": \"\"}}, \"type\": \"scatterpolar\"}], \"scatterpolargl\": [{\"marker\": {\"colorbar\": {\"outlinewidth\": 0, \"ticks\": \"\"}}, \"type\": \"scatterpolargl\"}], \"scatterternary\": [{\"marker\": {\"colorbar\": {\"outlinewidth\": 0, \"ticks\": \"\"}}, \"type\": \"scatterternary\"}], \"surface\": [{\"colorbar\": {\"outlinewidth\": 0, \"ticks\": \"\"}, \"colorscale\": [[0.0, \"#0d0887\"], [0.1111111111111111, \"#46039f\"], [0.2222222222222222, \"#7201a8\"], [0.3333333333333333, \"#9c179e\"], [0.4444444444444444, \"#bd3786\"], [0.5555555555555556, \"#d8576b\"], [0.6666666666666666, \"#ed7953\"], [0.7777777777777778, \"#fb9f3a\"], [0.8888888888888888, \"#fdca26\"], [1.0, \"#f0f921\"]], \"type\": \"surface\"}], \"table\": [{\"cells\": {\"fill\": {\"color\": \"#EBF0F8\"}, \"line\": {\"color\": \"white\"}}, \"header\": {\"fill\": {\"color\": \"#C8D4E3\"}, \"line\": {\"color\": \"white\"}}, \"type\": \"table\"}]}, \"layout\": {\"annotationdefaults\": {\"arrowcolor\": \"#2a3f5f\", \"arrowhead\": 0, \"arrowwidth\": 1}, \"colorscale\": {\"diverging\": [[0, \"#8e0152\"], [0.1, \"#c51b7d\"], [0.2, \"#de77ae\"], [0.3, \"#f1b6da\"], [0.4, \"#fde0ef\"], [0.5, \"#f7f7f7\"], [0.6, \"#e6f5d0\"], [0.7, \"#b8e186\"], [0.8, \"#7fbc41\"], [0.9, \"#4d9221\"], [1, \"#276419\"]], \"sequential\": [[0.0, \"#0d0887\"], [0.1111111111111111, \"#46039f\"], [0.2222222222222222, \"#7201a8\"], [0.3333333333333333, \"#9c179e\"], [0.4444444444444444, \"#bd3786\"], [0.5555555555555556, \"#d8576b\"], [0.6666666666666666, \"#ed7953\"], [0.7777777777777778, \"#fb9f3a\"], [0.8888888888888888, \"#fdca26\"], [1.0, \"#f0f921\"]], \"sequentialminus\": [[0.0, \"#0d0887\"], [0.1111111111111111, \"#46039f\"], [0.2222222222222222, \"#7201a8\"], [0.3333333333333333, \"#9c179e\"], [0.4444444444444444, \"#bd3786\"], [0.5555555555555556, \"#d8576b\"], [0.6666666666666666, \"#ed7953\"], [0.7777777777777778, \"#fb9f3a\"], [0.8888888888888888, \"#fdca26\"], [1.0, \"#f0f921\"]]}, \"colorway\": [\"#636efa\", \"#EF553B\", \"#00cc96\", \"#ab63fa\", \"#FFA15A\", \"#19d3f3\", \"#FF6692\", \"#B6E880\", \"#FF97FF\", \"#FECB52\"], \"font\": {\"color\": \"#2a3f5f\"}, \"geo\": {\"bgcolor\": \"white\", \"lakecolor\": \"white\", \"landcolor\": \"#E5ECF6\", \"showlakes\": true, \"showland\": true, \"subunitcolor\": \"white\"}, \"hoverlabel\": {\"align\": \"left\"}, \"hovermode\": \"closest\", \"mapbox\": {\"style\": \"light\"}, \"paper_bgcolor\": \"white\", \"plot_bgcolor\": \"#E5ECF6\", \"polar\": {\"angularaxis\": {\"gridcolor\": \"white\", \"linecolor\": \"white\", \"ticks\": \"\"}, \"bgcolor\": \"#E5ECF6\", \"radialaxis\": {\"gridcolor\": \"white\", \"linecolor\": \"white\", \"ticks\": \"\"}}, \"scene\": {\"xaxis\": {\"backgroundcolor\": \"#E5ECF6\", \"gridcolor\": \"white\", \"gridwidth\": 2, \"linecolor\": \"white\", \"showbackground\": true, \"ticks\": \"\", \"zerolinecolor\": \"white\"}, \"yaxis\": {\"backgroundcolor\": \"#E5ECF6\", \"gridcolor\": \"white\", \"gridwidth\": 2, \"linecolor\": \"white\", \"showbackground\": true, \"ticks\": \"\", \"zerolinecolor\": \"white\"}, \"zaxis\": {\"backgroundcolor\": \"#E5ECF6\", \"gridcolor\": \"white\", \"gridwidth\": 2, \"linecolor\": \"white\", \"showbackground\": true, \"ticks\": \"\", \"zerolinecolor\": \"white\"}}, \"shapedefaults\": {\"line\": {\"color\": \"#2a3f5f\"}}, \"ternary\": {\"aaxis\": {\"gridcolor\": \"white\", \"linecolor\": \"white\", \"ticks\": \"\"}, \"baxis\": {\"gridcolor\": \"white\", \"linecolor\": \"white\", \"ticks\": \"\"}, \"bgcolor\": \"#E5ECF6\", \"caxis\": {\"gridcolor\": \"white\", \"linecolor\": \"white\", \"ticks\": \"\"}}, \"title\": {\"x\": 0.05}, \"xaxis\": {\"automargin\": true, \"gridcolor\": \"white\", \"linecolor\": \"white\", \"ticks\": \"\", \"zerolinecolor\": \"white\", \"zerolinewidth\": 2}, \"yaxis\": {\"automargin\": true, \"gridcolor\": \"white\", \"linecolor\": \"white\", \"ticks\": \"\", \"zerolinecolor\": \"white\", \"zerolinewidth\": 2}}}, \"title\": {\"text\": \"Loss Surface\"}, \"width\": 800},\n",
       "                        {\"responsive\": true}\n",
       "                    ).then(function(){\n",
       "                            \n",
       "var gd = document.getElementById('2af4e02d-b5aa-4796-a1a0-14b44c9a6049');\n",
       "var x = new MutationObserver(function (mutations, observer) {{\n",
       "        var display = window.getComputedStyle(gd).display;\n",
       "        if (!display || display === 'none') {{\n",
       "            console.log([gd, 'removed!']);\n",
       "            Plotly.purge(gd);\n",
       "            observer.disconnect();\n",
       "        }}\n",
       "}});\n",
       "\n",
       "// Listen for the removal of the full notebook cells\n",
       "var notebookContainer = gd.closest('#notebook-container');\n",
       "if (notebookContainer) {{\n",
       "    x.observe(notebookContainer, {childList: true});\n",
       "}}\n",
       "\n",
       "// Listen for the clearing of the current output cell\n",
       "var outputEl = gd.closest('.output');\n",
       "if (outputEl) {{\n",
       "    x.observe(outputEl, {childList: true});\n",
       "}}\n",
       "\n",
       "                        })\n",
       "                };\n",
       "                });\n",
       "            </script>\n",
       "        </div>"
      ]
     },
     "metadata": {},
     "output_type": "display_data"
    }
   ],
   "source": [
    "theta0s = np.linspace(-11, 0, 10)\n",
    "theta1s = np.linspace(0, 0.3, 10)\n",
    "loss_plot_3d(theta0s, theta1s, mean_ce_loss, nba[\"PTS\"], nba[\"WON\"])"
   ]
  },
  {
   "cell_type": "code",
   "execution_count": 268,
   "metadata": {},
   "outputs": [
    {
     "data": {
      "application/vnd.plotly.v1+json": {
       "config": {
        "linkText": "Export to plot.ly",
        "plotlyServerURL": "https://plot.ly",
        "showLink": false
       },
       "data": [
        {
         "colorscale": [
          [
           0,
           "#440154"
          ],
          [
           0.1111111111111111,
           "#482878"
          ],
          [
           0.2222222222222222,
           "#3e4989"
          ],
          [
           0.3333333333333333,
           "#31688e"
          ],
          [
           0.4444444444444444,
           "#26828e"
          ],
          [
           0.5555555555555556,
           "#1f9e89"
          ],
          [
           0.6666666666666666,
           "#35b779"
          ],
          [
           0.7777777777777778,
           "#6ece58"
          ],
          [
           0.8888888888888888,
           "#b5de2b"
          ],
          [
           1,
           "#fde725"
          ]
         ],
         "type": "contour",
         "x": [
          -0.1,
          -0.08979591836734695,
          -0.07959183673469389,
          -0.06938775510204082,
          -0.059183673469387764,
          -0.048979591836734705,
          -0.03877551020408164,
          -0.02857142857142858,
          -0.018367346938775522,
          -0.008163265306122464,
          0.002040816326530595,
          0.012244897959183654,
          0.022448979591836726,
          0.03265306122448977,
          0.042857142857142844,
          0.05306122448979589,
          0.06326530612244896,
          0.07346938775510203,
          0.08367346938775508,
          0.09387755102040815,
          0.1040816326530612,
          0.11428571428571427,
          0.12448979591836731,
          0.13469387755102039,
          0.14489795918367346,
          0.15510204081632653,
          0.16530612244897955,
          0.17551020408163262,
          0.1857142857142857,
          0.19591836734693877,
          0.20612244897959178,
          0.21632653061224486,
          0.22653061224489793,
          0.236734693877551,
          0.24693877551020407,
          0.2571428571428571,
          0.2673469387755102,
          0.27755102040816326,
          0.28775510204081634,
          0.2979591836734693,
          0.30816326530612237,
          0.31836734693877544,
          0.3285714285714285,
          0.3387755102040816,
          0.34897959183673466,
          0.35918367346938773,
          0.3693877551020408,
          0.3795918367346939,
          0.38979591836734695,
          0.4
         ],
         "y": [
          -11.1,
          -10.871428571428572,
          -10.642857142857142,
          -10.414285714285715,
          -10.185714285714285,
          -9.957142857142857,
          -9.728571428571428,
          -9.5,
          -9.27142857142857,
          -9.042857142857143,
          -8.814285714285713,
          -8.585714285714285,
          -8.357142857142858,
          -8.128571428571428,
          -7.9,
          -7.671428571428571,
          -7.442857142857143,
          -7.2142857142857135,
          -6.985714285714286,
          -6.757142857142857,
          -6.5285714285714285,
          -6.3,
          -6.071428571428571,
          -5.8428571428571425,
          -5.614285714285714,
          -5.385714285714285,
          -5.157142857142857,
          -4.928571428571429,
          -4.7,
          -4.4714285714285715,
          -4.242857142857143,
          -4.014285714285714,
          -3.7857142857142856,
          -3.557142857142857,
          -3.3285714285714283,
          -3.0999999999999996,
          -2.871428571428572,
          -2.6428571428571423,
          -2.4142857142857146,
          -2.185714285714285,
          -1.9571428571428573,
          -1.7285714285714278,
          -1.5,
          -1.2714285714285722,
          -1.0428571428571427,
          -0.814285714285715,
          -0.5857142857142854,
          -0.35714285714285765,
          -0.12857142857142811,
          0.1
         ],
         "z": [
          [
           11.40390243949893,
           10.806565456731503,
           10.20922847538323,
           9.611891498039611,
           9.014554532162633,
           8.417217599610915,
           7.81988076539271,
           7.2225442258472565,
           6.625208583332239,
           6.027875715574193,
           5.430551571997554,
           4.833255318675941,
           4.236049756516971,
           3.6391442356558312,
           3.0432482784085515,
           2.4507941466116514,
           1.8700067285504998,
           1.326094664831831,
           0.878423201144393,
           0.614330308801031,
           0.592094016413646,
           0.7947681819988558,
           1.1560189182838656,
           1.6092333223719018,
           2.1091054516049104,
           2.6305270457277814,
           3.161297968249758,
           3.6959866052764414,
           4.232293198703071,
           4.769265827269988,
           5.306513231092099,
           5.843874574359059,
           6.381283502086895,
           6.918712456263746,
           7.4561499877247055,
           7.9935913817075335,
           8.53103627336005,
           9.06846602097227,
           9.605641367664754,
           10.142426156157098,
           10.679199608898092,
           11.214602699659316,
           11.747794759132438,
           12.27807333286747,
           12.804265288720163,
           13.323431772241866,
           13.82962459388658,
           14.320069063351763,
           14.784535059288352,
           15.217379336119656
          ],
          [
           11.28961672533508,
           10.69227974277476,
           10.094942761998041,
           9.497605786254384,
           8.900268824922035,
           8.302931905472986,
           7.705595109609811,
           7.10825868409226,
           6.510923385964976,
           5.913591575156566,
           5.316270728881539,
           4.718984934691498,
           4.1218131161558125,
           3.525018327388148,
           2.9294915464799027,
           2.338279181507881,
           1.761578046093562,
           1.2297021720250934,
           0.8096613795190063,
           0.5899392814414468,
           0.6166207195380359,
           0.8585534604139435,
           1.2448333644269094,
           1.7116766146118578,
           2.2181840233211654,
           2.7425944997307163,
           3.274651380193973,
           3.809881716072279,
           4.346414941939552,
           4.883482374420055,
           5.420769567024661,
           5.958147705646175,
           6.4955637762452625,
           7.032995788741297,
           7.57043472210039,
           8.107877090221146,
           8.645319593989639,
           9.182775619860228,
           9.719833334806227,
           10.256603032535411,
           10.793394123627769,
           11.328406364414887,
           11.861131051988213,
           12.390778568858558,
           12.916310654382116,
           13.433598530772644,
           13.938264764776351,
           14.423629189262112,
           14.883220328882157,
           15.308544763424205
          ],
          [
           11.175331011202523,
           10.577994028902502,
           9.98065704884411,
           9.383320075111289,
           8.78598311949065,
           8.188646216509074,
           7.591309468850623,
           6.99397318664367,
           6.3966383213436755,
           5.799307838909898,
           5.201991136664274,
           4.604718487237302,
           4.007589074421191,
           3.4109334141937153,
           2.8158701055362094,
           2.226211525317182,
           1.6545613018933534,
           1.1370946468302692,
           0.7483404194336558,
           0.5754788956396008,
           0.6504085438940919,
           0.9289268526337399,
           1.3375388465108635,
           1.8161337218516513,
           2.3282105299084375,
           2.855082509713639,
           3.388185995871306,
           3.923854036378319,
           4.460569489687528,
           4.997712874306606,
           5.535031860833987,
           6.072423396724378,
           6.6098451620613075,
           7.147279633426557,
           7.684719471731279,
           8.222160950103572,
           8.759607400240212,
           9.297071462942682,
           9.834029546945379,
           10.370798706941494,
           10.907498022718269,
           11.44223437561094,
           11.974565318338193,
           12.50348380859714,
           13.028197011073907,
           13.543364782437711,
           14.044556047047335,
           14.525018514613487,
           14.980986987062206,
           15.395283712825146
          ],
          [
           11.061045297109299,
           10.463708315136417,
           9.866371335980824,
           9.269034364775228,
           8.671697416333085,
           8.074360534047887,
           7.477023846973277,
           6.879687744879494,
           6.282353423557707,
           5.685024610624564,
           5.087713116561162,
           4.490456987029332,
           3.893380864527465,
           3.2968999984936302,
           2.702418380504227,
           2.1147019120977513,
           1.549273424249581,
           1.0489260053096616,
           0.695187513262179,
           0.5711526819343616,
           0.6930618172218163,
           1.0053026274473775,
           1.4336550354307553,
           1.922301915491519,
           2.4390242766908514,
           2.967914766132074,
           3.5018676411529426,
           4.037888632302821,
           4.574750376685124,
           5.1119545391912835,
           5.6492989105391045,
           6.186701129912327,
           6.7241274344355935,
           7.261563888440864,
           7.799004608591191,
           8.33644777582888,
           8.873896197363015,
           9.411325075562058,
           9.948217889573963,
           10.485017355393897,
           11.0214655486402,
           11.555808353100778,
           12.087771233106434,
           12.615979406874015,
           13.13975007155611,
           13.652432950890246,
           14.150629055734068,
           14.627950052327485,
           15.075570728695235,
           15.48392440999923
          ],
          [
           10.946759583065505,
           10.349422601503775,
           9.752085623482824,
           9.154748655453451,
           8.557411716033261,
           7.960074859759335,
           7.362738248826694,
           6.765402373099627,
           6.168068735450564,
           5.570742020743457,
           4.9734370722654715,
           4.3762017042240435,
           3.7791925487413374,
           3.18293126517371,
           2.5891794547259357,
           2.0038872649795088,
           1.4460916987804013,
           0.9659115552417773,
           0.6508810398459524,
           0.5770260468540976,
           0.7440997298874154,
           1.0870912905256622,
           1.5327341076705612,
           2.029913353915278,
           2.550488455985246,
           3.081027848592488,
           3.6156682938070364,
           4.151973360241018,
           4.6889523802114335,
           5.226205129238044,
           5.763569756264855,
           6.300980486838559,
           6.838410396053741,
           7.375848311374012,
           7.913289721111041,
           8.45073298663392,
           8.988179280518635,
           9.525593781299436,
           10.062410964854811,
           10.599228928368587,
           11.135395511575487,
           11.669543945340672,
           12.200798120661064,
           12.728224168021878,
           13.250287458842266,
           13.761597057351688,
           14.255376587512663,
           14.728839783321826,
           15.16937615605589,
           15.568613331129193
          ],
          [
           10.832473869083838,
           10.235136888038843,
           9.637799911443913,
           9.040462947406434,
           8.443126019325064,
           7.845789195742185,
           7.248452680504995,
           6.651117089276199,
           6.0537843108678855,
           5.456460233205755,
           4.85916351112237,
           4.261954234977096,
           3.6650292305629577,
           3.0690437620342936,
           2.476207190304721,
           1.8939362473323058,
           1.3454605992115947,
           0.8888170027696675,
           0.6160226086575313,
           0.5930234701207443,
           0.802973861883664,
           1.173712099974964,
           1.6343646441303186,
           2.1387338633251076,
           2.6624875560948857,
           3.19436931598819,
           3.7295650535523874,
           4.266098372921328,
           4.803171291033348,
           5.340462847693895,
           5.877843627789019,
           6.415261142760274,
           6.952693924139613,
           7.490133144406346,
           8.02757480953113,
           8.565016354337208,
           9.10246744331101,
           9.639831163651008,
           10.176614268657275,
           10.713386591331455,
           11.249356631377164,
           11.783030130782867,
           12.31390991753361,
           12.840698033080356,
           13.36130430365505,
           13.869889907186296,
           14.361804541850956,
           14.828253387071896,
           15.261850708677569,
           15.650097238943502
          ],
          [
           10.718188155180252,
           10.120851174784693,
           9.52351419998199,
           8.92617724096153,
           8.328840327130829,
           7.7315035446341644,
           7.134167149667299,
           6.536831915996607,
           5.939500217482708,
           5.342179454047777,
           4.744893070736715,
           4.147716585056065,
           3.5508973209780432,
           2.9552582501440243,
           2.363568835384535,
           1.7850556635932988,
           1.2478974242934417,
           0.8184418395328328,
           0.5911101587469181,
           0.6189323166480717,
           0.8690867051532297,
           1.2646039176060586,
           1.7381740079048122,
           2.248560963554518,
           2.774924760566021,
           3.3078960010089524,
           3.8435392649331246,
           4.3802557061002565,
           4.917403724008657,
           5.45472625532904,
           5.99211991211878,
           6.529542826237579,
           7.0669778922518045,
           7.604418154367082,
           8.141859993154972,
           8.679304972998036,
           9.216755841592137,
           9.754022921195741,
           10.290804683637582,
           10.82756513268282,
           11.363201268169089,
           11.896526540624821,
           12.426779066720208,
           12.952770474882962,
           13.47185610973964,
           13.97732384065356,
           14.464645198734841,
           14.925451026132865,
           15.352216536757885,
           15.728238917850026
          ],
          [
           10.6039024413748,
           10.006565461795454,
           9.409228489245226,
           8.811891536530174,
           8.21455464060976,
           7.6172179097503765,
           7.019881665939597,
           6.422546881648701,
           5.8252165403462035,
           5.227899942211953,
           4.63062655240784,
           4.033491274864399,
           3.436804872425387,
           2.8416007649646557,
           2.251348212099635,
           1.677497673703879,
           1.1539957952289868,
           0.7555970293922724,
           0.5765142806230705,
           0.6544128209790016,
           0.9418101860809198,
           1.3592342022574273,
           1.843829268196266,
           2.359221350840034,
           2.8877194475175867,
           3.4215725136963444,
           3.957575775556938,
           4.494438933990126,
           5.03164696142732,
           5.568994201101788,
           6.106398117987445,
           6.64382533544395,
           7.181262233144641,
           7.718703141145096,
           8.256145686378526,
           8.793589520240815,
           9.331039392089718,
           9.8682117732896,
           10.404979627725908,
           10.941720742135093,
           11.47699401778167,
           12.00987932049761,
           12.539453963878543,
           13.065331171289985,
           13.581539670009933,
           14.08449666472275,
           14.56778074877291,
           15.02113019360019,
           15.441052023794617,
           15.805821031899786
          ],
          [
           10.489616727692676,
           9.892279749139151,
           9.29494277941984,
           8.69760583462945,
           8.100268961218736,
           7.502932295257249,
           6.905596241419858,
           6.308262021910321,
           5.710933386350123,
           5.113622023130553,
           4.516364963140987,
           3.919281471339901,
           3.322761997488937,
           2.728103938043901,
           2.139649586732775,
           1.5715676837356283,
           1.0644258851278265,
           0.7010775504610024,
           0.5724598318511738,
           0.6990132872364011,
           1.0205033453887395,
           1.4571060278939998,
           1.951036806471984,
           2.4705680523099764,
           3.0008048639449783,
           3.5353699465527972,
           4.071662312398029,
           4.6086428834706075,
           5.145898825133462,
           5.683265764497996,
           6.220677854427867,
           6.758108498084573,
           7.29554686328939,
           7.832988583842261,
           8.370431879319327,
           8.907875900543313,
           9.445305749859097,
           9.982409268889281,
           10.519203781443005,
           11.055896053978318,
           11.59076639658655,
           12.123203706594984,
           12.652276165525484,
           13.176889086785001,
           13.691750667401529,
           14.191315496972852,
           14.668339177867916,
           15.119726464496093,
           15.528594355269947,
           15.882002069037217
          ],
          [
           10.375331014165559,
           9.777994036901287,
           9.180657070739887,
           8.583320135909233,
           7.985983290788786,
           7.38864670639117,
           6.791310891312828,
           6.193977381621339,
           5.596650889835059,
           4.999346105796212,
           4.402109568432503,
           3.8050911535736835,
           3.2087813934728753,
           2.6148086394262373,
           2.0286023256297856,
           1.467632628536827,
           0.979930148475685,
           0.6556310739779134,
           0.5790145339267054,
           0.7521891995834021,
           1.104528502142655,
           1.5577630838063252,
           2.0595408068495473,
           2.5824774465727343,
           3.1141260187607243,
           3.649264766286101,
           4.185788960063898,
           4.72286339792601,
           5.26015757154091,
           5.7975402115385934,
           6.334958811684509,
           6.872392181642436,
           7.409831698470101,
           7.947273605009551,
           8.484717555935832,
           9.022159756679786,
           9.559589734075043,
           10.09659817291286,
           10.633388692578583,
           11.169967724925367,
           11.704467597333803,
           12.236544478789487,
           12.764558714244922,
           13.288045349288767,
           13.800650001305279,
           14.297162042824096,
           14.77148259566967,
           15.213289599211532,
           15.613654116598308,
           15.953874482832576
          ],
          [
           10.261045300833251,
           9.663708325189317,
           9.066371363499508,
           8.469034441186283,
           7.871697631621134,
           7.274361149733233,
           6.677025634727849,
           6.079693017136402,
           5.482369219638627,
           4.885072704213701,
           4.287861958586787,
           3.6909253207214503,
           3.094878999107612,
           2.5017660126025882,
           1.91836643198444,
           1.366129164579615,
           0.9013133579678434,
           0.6199247705376504,
           0.5960855998999416,
           0.8133247782762812,
           1.1932653952466397,
           1.6607926957135324,
           2.1691208803928492,
           2.6948463091984634,
           3.2276378133347934,
           3.7632378735742784,
           4.2999477265083526,
           4.837097143112047,
           5.3744218065947695,
           5.911816955368077,
           6.4492407388916195,
           6.986676278814107,
           7.524116747661722,
           8.061559009846404,
           8.59900290258333,
           9.136443195679147,
           9.673900170008004,
           10.210791787918525,
           10.747567435098443,
           11.283918440719633,
           11.81809273636402,
           12.349553875295282,
           12.877255612356931,
           13.399405300034461,
           13.90843185090373,
           14.401760363241262,
           14.870033100085974,
           15.306017067537828,
           15.693697290948377,
           16.026032668789465
          ],
          [
           10.146759587745784,
           9.549422614138294,
           8.952085658068397,
           8.354748751487115,
           7.757411986607973,
           7.160075633554578,
           6.562740495681554,
           5.965408999281827,
           5.368088587953206,
           4.770802464356659,
           4.173624132026356,
           3.5767902529296864,
           2.98107481583484,
           2.3890399864379543,
           1.8091390330656936,
           1.2675710447160948,
           0.8294260043085724,
           0.5945128002159288,
           0.6234246453445366,
           0.8817555242973546,
           1.2861229511536194,
           1.7658269961185982,
           2.27958909241433,
           2.8075890001693393,
           3.3413034100205032,
           3.8772738111810745,
           4.4141321833239004,
           4.951341448364507,
           5.48869041667413,
           6.0260955292276375,
           6.563523440939712,
           7.100960710782457,
           7.638401863590221,
           8.175844804623228,
           8.713286903516236,
           9.250735428309817,
           9.788167772070478,
           10.324985321166393,
           10.86178423391848,
           11.397843443025154,
           11.931784555567607,
           12.462630156865593,
           12.989639916843952,
           13.509708506656215,
           14.016425714779801,
           14.505530612961735,
           14.968233517185729,
           15.395743059128112,
           15.77082061579253,
           16.09501731708632
          ],
          [
           10.032473874966028,
           9.435136903917948,
           8.837799954911173,
           8.240463068101853,
           7.643126359384224,
           7.045790168250391,
           6.44845550435805,
           5.851125417071735,
           5.253809261457684,
           4.656536198040698,
           4.05939859993729,
           3.462693838673018,
           2.867393933605192,
           2.27671036126511,
           1.7011618358165084,
           1.1725546666835192,
           0.7651406195221692,
           0.5798073400210875,
           0.6606403182759931,
           0.9567904273626301,
           1.382548471431102,
           1.8725424611509724,
           2.3907866514679905,
           2.920634869891528,
           3.455092827096286,
           3.99136010123709,
           4.528337169230876,
           5.065594177058513,
           5.602962512621763,
           6.140375559654774,
           6.677806754230241,
           7.21524540814013,
           7.752687085413345,
           8.290130369429997,
           8.827573463151309,
           9.36501940278822,
           9.902403405984275,
           10.439171694773572,
           10.975988525271502,
           11.511732056808397,
           12.045209981003158,
           12.575524126157017,
           13.101810998965094,
           13.619762957674544,
           14.124627244671933,
           14.608844676000183,
           15.064978512545036,
           15.48222192193667,
           15.848589204634683,
           16.161032204750782
          ],
          [
           9.918188162573006,
           9.320851194741604,
           8.723514254611786,
           8.126177392651924,
           7.528840754518254,
           6.931504766885351,
           6.3341706986926924,
           5.736842382378387,
           5.139531575306755,
           4.542274925485385,
           3.9451885176949664,
           3.3486459852135333,
           2.7538678100508256,
           2.164876577690809,
           1.5947294797367382,
           1.0817615088008896,
           0.7093213488872094,
           0.576055929970958,
           0.7072173854499162,
           1.037732719533636,
           1.482034173937435,
           1.9806581042567588,
           2.5025804846619013,
           3.0339259256893665,
           3.568981741611279,
           4.105486693860399,
           4.64255854680622,
           5.179853621591572,
           5.717237385707372,
           6.254656750328454,
           6.792090560789491,
           7.329530300233142,
           7.866972516784964,
           8.404416204968394,
           8.941858020303961,
           9.479303782533432,
           10.016591571666037,
           10.55338062105578,
           11.090089587832846,
           11.62558680308084,
           12.158538637255948,
           12.688244793576125,
           13.213526565414586,
           13.730164865760235,
           14.23074971476898,
           14.710818386113498,
           15.163833374478807,
           15.572666175861448,
           15.92627373915442,
           16.22320873929441
          ],
          [
           9.803902450666037,
           9.206565486877363,
           8.60922855790413,
           8.01189172717515,
           7.414555177751607,
           6.817219445879179,
           6.219886126362573,
           5.622560035801659,
           5.025255950710984,
           4.428019928790813,
           3.8309978498935053,
           3.2346591329861556,
           2.640535862372005,
           2.053662284033614,
           1.4901985768568655,
           0.9959559481880577,
           0.6627880566549988,
           0.5833274364353102,
           0.7625405313445377,
           1.1238983000896237,
           1.5841211603480285,
           2.089932660315365,
           2.614859876342645,
           3.1474147738323746,
           3.6829504784206737,
           4.219645510915198,
           4.756793003838307,
           5.294118418509242,
           5.831514470437565,
           6.368938864459472,
           6.906374754153397,
           7.443815380854749,
           7.981257815122496,
           8.518701462963692,
           9.056143909756008,
           9.593579993969009,
           10.130786059593206,
           10.667564440827775,
           11.204353890499679,
           11.739391267519537,
           12.27185374590449,
           12.801057351576853,
           13.324977561303657,
           13.839007552672093,
           14.336581145296066,
           14.811672195346306,
           15.257595574955142,
           15.656072557501199,
           16.000872241946265,
           16.284604962777575
          ],
          [
           9.689616739369935,
           9.092279780662178,
           8.494942865710577,
           7.897606074232666,
           7.300269636300268,
           6.702934225868173,
           6.105601847288097,
           5.508278554045483,
           4.910982917028719,
           4.313772819122598,
           3.7168315775235126,
           3.120748899745156,
           2.5274474432904435,
           1.9432208175469885,
           1.3879970274911475,
           0.9159768815812676,
           0.6262772689983502,
           0.6015080821126838,
           0.8259208993689227,
           1.2146312110597655,
           1.6884010164822112,
           2.200161100358956,
           2.7275332961624112,
           3.261062833205911,
           3.7969831629790463,
           4.333830070455998,
           4.87103789173023,
           5.408387479726485,
           5.945793316404402,
           6.483221712977061,
           7.020659260156922,
           7.55810054755573,
           8.095543485676005,
           8.632986419978472,
           9.170433340765566,
           9.707879100705949,
           10.244978493308963,
           10.78178339598998,
           11.31850588037022,
           11.853199766360603,
           12.385203012361991,
           12.913787344847197,
           13.436782247688928,
           13.947890616856254,
           14.443033273229078,
           14.912522551942704,
           15.349887528387635,
           15.739024107272222,
           16.07056837893007,
           16.344238831875472
          ],
          [
           9.575331028841576,
           8.97799407651953,
           8.380657179190361,
           7.783320437043316,
           7.185984139233294,
           6.588649132788051,
           5.991317936776939,
           5.393998159188076,
           4.796713139526939,
           4.199535621111576,
           3.6026959579879096,
           3.006934886451746,
           2.4146642857436214,
           1.8337416993784252,
           1.288632930539346,
           0.8427217336368129,
           0.6004031405656198,
           0.6303079094215029,
           0.8966234141379131,
           1.309315793993054,
           1.7945153676476577,
           2.3111707898923464,
           2.8405254955366233,
           3.3748388046923092,
           3.9110670161722982,
           4.448035179078185,
           4.985291094530238,
           5.522659937436328,
           6.060073563704259,
           6.59750514722604,
           7.134944017700434,
           7.6723858465103145,
           8.209829064552089,
           8.74727329332248,
           9.284713358651475,
           9.822162654758547,
           10.359171831178582,
           10.895937327750625,
           11.432410311798641,
           11.966762850624871,
           12.498245398680371,
           13.026173005869852,
           13.547318417229311,
           14.056357433627662,
           14.546997253871211,
           15.011657488264573,
           15.440480758478413,
           15.815876891079611,
           16.13587079802407,
           16.400244019390943
          ],
          [
           9.461045319278119,
           8.863708374981652,
           8.266371499800416,
           7.6690348196525475,
           7.0716986979486975,
           6.474364199234793,
           5.877034489475256,
           5.279719130331952,
           4.68244745426429,
           4.085310878866526,
           3.488598851313405,
           2.8932416843264677,
           2.302263515016503,
           1.7254582045152198,
           1.1927020737394143,
           0.7771219323175512,
           0.5856221673321717,
           0.6692769207520313,
           0.9738931168148929,
           1.4073854012052036,
           1.9021537930800456,
           2.4228175528477967,
           2.9537749127710473,
           3.488717373638133,
           4.0251917709778935,
           4.5622566810050245,
           5.099550923078868,
           5.636935099897368,
           6.17435492747976,
           6.711789047733369,
           7.249228966211527,
           7.786671219589046,
           8.324114449945256,
           8.861559097755986,
           9.39900425984634,
           9.93647213965907,
           10.473374090211353,
           11.010119668662673,
           11.54636174100429,
           12.080430418189591,
           12.611500602618317,
           13.138324306951532,
           13.658192266020368,
           14.163278375336429,
           14.650606872916327,
           15.109056826279737,
           15.52555937166326,
           15.892822230822974,
           16.202672400773483,
           16.456483224981824
          ],
          [
           9.346759610927354,
           8.749422676717463,
           8.152085829371815,
           7.554749227144696,
           6.957413326771512,
           6.360079466174975,
           5.762751624333422,
           5.16544181824442,
           4.568186911921368,
           3.971101789114917,
           3.374550129223468,
           2.7797001314095344,
           2.1903413405020404,
           1.6186559935102514,
           1.100892619440836,
           0.720109802352247,
           0.5822053831270434,
           0.7178291714082704,
           1.056979060627456,
           1.5083277622113596,
           2.011050540083503,
           2.534981841026827,
           3.0672313980940524,
           3.6026781198675555,
           4.139349192591874,
           4.676491254298617,
           5.213816029815468,
           5.751212415884671,
           6.288637180205883,
           6.826073318848454,
           7.36351407751406,
           7.9009566928073705,
           8.438400046013301,
           8.975844994268945,
           9.513293100835615,
           10.050739302165843,
           10.587550145533845,
           11.124377888109331,
           11.660232340449541,
           12.193928772651297,
           12.72425793914525,
           13.25050835909963,
           13.768148108904853,
           14.270715999694293,
           14.753685230140908,
           15.205476577470318,
           15.615751287703679,
           15.969556268292472,
           16.26465337088499,
           16.509037396767233
          ],
          [
           9.232473904100699,
           8.635136982567653,
           8.037800170205857,
           7.440463665909757,
           6.843128043705452,
           6.245794985095259,
           5.648469490846716,
           5.051166663755724,
           4.45393283286958,
           3.8569123683824285,
           3.260562187826459,
           2.66634887750262,
           2.0790175500454047,
           1.513682667236072,
           1.0139852539675542,
           0.6725780380414703,
           0.5902211885450095,
           0.7752724243476137,
           1.1451546957599688,
           1.6116873058776358,
           2.120980468161902,
           2.647565146597562,
           3.180854249925463,
           3.716704609220632,
           4.253532685670625,
           4.790736245873179,
           5.328085340295769,
           5.865491446356001,
           6.402920139168167,
           6.940357882761859,
           7.4777993027105305,
           8.01524225765107,
           8.552685622825123,
           9.090131416263212,
           9.62757304720528,
           10.164973848430293,
           10.701760392181466,
           11.23854365157523,
           11.774165731398634,
           12.307270089077713,
           12.837218703236228,
           13.362000826083765,
           13.877660896482865,
           14.376781064482255,
           14.855785636932362,
           15.301386271994538,
           15.700346198541276,
           16.041388397973837,
           16.32433931100941,
           16.558392952549468
          ],
          [
           9.118188199189559,
           8.520851293588809,
           7.923514525194826,
           7.326178143978698,
           6.728842871377584,
           6.131510820703845,
           5.53418827689824,
           4.93689422087868,
           4.339686876354836,
           3.742747662864465,
           3.1466505896999166,
           2.5532363285449926,
           1.968440934183324,
           1.4109579122620526,
           0.9328468407713156,
           0.6353343130332411,
           0.6095308217742769,
           0.8408406737082071,
           1.237734079826478,
           1.7170648938061646,
           2.231754604872489,
           2.760486740384558,
           3.294610541369488,
           3.830783641601963,
           4.367736974306077,
           4.904989538330758,
           5.442357998129151,
           5.979771841374347,
           6.517203661037485,
           7.05464268111963,
           7.592084639208631,
           8.129527743426884,
           8.666971647744743,
           9.20441663035087,
           9.741851107872025,
           10.27916860233922,
           10.815965139116923,
           11.352664727500539,
           11.887922750405533,
           12.420612472377297,
           12.949715850268413,
           13.474159557424107,
           13.987205568864512,
           14.48307449755826,
           14.955376949765261,
           15.39424640143314,
           15.781071132398527,
           16.11225512855598,
           16.38447338258283,
           16.604610629928008
          ],
          [
           9.00390249668584,
           8.406565611108848,
           7.809228897973745,
           7.211892671444845,
           6.614557838225589,
           6.017227054325556,
           5.419908218615256,
           4.822625185860356,
           4.22545112740505,
           3.6286140118142014,
           3.032834867297481,
           2.440423055152582,
           1.8587957597409466,
           1.3109836275984437,
           0.8584156415010485,
           0.6090549014008958,
           0.6397969821171693,
           0.9137268916093253,
           1.334083650000122,
           1.8241155151941482,
           2.343215622989304,
           2.873680775001826,
           3.4084737092501216,
           3.9449046323559203,
           4.481957842307977,
           5.01924944282737,
           5.556633320934455,
           6.094053322773129,
           6.631487631489171,
           7.168927669501073,
           7.706370056432978,
           8.243813237285446,
           8.781257083344865,
           9.318699008541927,
           9.856154576315387,
           10.393360936068069,
           10.930142377683575,
           11.466846129797247,
           12.001748414080815,
           12.53393178332403,
           13.062310785118779,
           13.584843209082683,
           14.09556753777779,
           14.588234825627238,
           15.054679162825058,
           15.48408453617441,
           15.85895101068454,
           16.177413148623643,
           16.44128287445121,
           16.65035463857916
          ],
          [
           8.88961679720777,
           8.292279936796705,
           7.6949432931111215,
           7.097607260993503,
           6.500272979989888,
           5.902943788168671,
           5.305629612755644,
           4.708360433686256,
           4.111228205988277,
           3.5145193779712405,
           2.9191395270575944,
           2.3279847647286314,
           1.7503093835003511,
           1.2143530573903147,
           0.7916765898800714,
           0.5942420914537289,
           0.6805045424404413,
           0.9931136815694901,
           1.4336296576136636,
           1.9325445216420858,
           2.4552334682548667,
           2.98709375997021,
           3.5224223752886528,
           4.059059106053715,
           4.596191923146644,
           5.133514612953092,
           5.670910765260911,
           6.208335668460965,
           6.7457719570192465,
           7.283212810563833,
           7.82065553032283,
           8.358099099659267,
           8.895543445886764,
           9.432983959544972,
           9.970414984786094,
           10.507549508376256,
           11.044312094690927,
           11.58093088707335,
           12.115434713381054,
           12.64701433196104,
           13.174573708691193,
           13.69643314223913,
           14.203542068184003,
           14.693002844589302,
           15.15221893513185,
           15.571142406104846,
           15.941081029317235,
           16.24343839321472,
           16.4939097357869,
           16.69469834928634
          ],
          [
           8.775331101532355,
           8.177994272749899,
           7.580657716348669,
           6.983321928567572,
           6.385988341588939,
           5.788661150687268,
           5.191352832273621,
           4.594101063946101,
           3.9970214040964516,
           3.4004737619016683,
           2.8055953025359672,
           2.2160159511781883,
           1.6432610346481706,
           1.1217575128664463,
           0.7336260333460013,
           0.5911903677882744,
           0.7309909322332095,
           1.0782000409303236,
           1.5358616684430946,
           2.0421029483893425,
           2.5677012907801235,
           3.100682394562546,
           3.636439368897283,
           4.173240284192671,
           4.710436530559457,
           5.247783975745075,
           5.7851898983134715,
           6.322618702528676,
           6.8600565666753015,
           7.3974980635536545,
           7.9349410048283024,
           8.472384612867419,
           9.009828028430539,
           9.547276500568854,
           10.084735152972177,
           10.6217408847961,
           11.158540341798759,
           11.69487428681321,
           12.22897338018214,
           12.760235231412025,
           13.287219848776253,
           13.806375276778633,
           14.310918132597845,
           14.7946348770856,
           15.248758473695986,
           15.65969691354387,
           16.0135552935433,
           16.30638871999679,
           16.546507490810964,
           16.73530998995159
          ],
          [
           8.661045410636124,
           8.0637086216046,
           7.46637217490258,
           6.869036694204086,
           6.271703979476031,
           5.674379303320289,
           5.077078345880208,
           4.479848458457943,
           3.8828348578643914,
           3.2864897212537305,
           2.692240715462474,
           2.104634348853951,
           1.5379916829779043,
           1.0339888000632675,
           0.6852268118336939,
           0.5999656482449529,
           0.7904828638478842,
           1.1682230517486418,
           1.6403327483125258,
           2.1525823926178353,
           2.680531768497731,
           3.214411731139412,
           3.750510922538512,
           4.28744275074138,
           4.824689522270173,
           5.362056676369829,
           5.899470375252584,
           6.436902283927612,
           6.974341401854832,
           7.51178340678542,
           8.049226590844928,
           8.586670073944754,
           9.124113674702366,
           9.661553383713876,
           10.198984124847534,
           10.735949024913424,
           11.272669646941143,
           11.808892528158315,
           12.342646950634164,
           12.872948934544942,
           13.399050859911304,
           13.916267716431383,
           14.417028328252036,
           14.896529421375954,
           15.34216005122149,
           15.743423181323376,
           16.085079129405447,
           16.366671410705642,
           16.59215567452042,
           16.776272365502873
          ],
          [
           8.546759725746387,
           7.949422986673956,
           7.3520866778421725,
           6.754751583085566,
           6.157419964601275,
           5.560098448960676,
           4.96280674262286,
           4.3656043536584574,
           3.768673763623993,
           3.1725830210142294,
           2.5791240158914053,
           1.9939863245546767,
           1.4349147283065864,
           0.9519350779280349,
           0.64735637531753,
           0.6204003356051532,
           0.8581357164770763,
           1.2624739517804038,
           1.746657070824606,
           2.2638098204135266,
           2.79365386096347,
           3.328253634992004,
           3.864626013000727,
           4.401662181759142,
           4.938949190615097,
           5.476332034014829,
           6.013751921995608,
           6.55118630087709,
           7.088626416058712,
           7.626068838509812,
           8.163512219162815,
           8.700955718106238,
           9.238400579676227,
           9.775836710549989,
           10.313313357223054,
           10.850122463311116,
           11.386941187009173,
           11.922678497184613,
           12.455988493535623,
           12.98594202191472,
           13.511151183608163,
           14.025850635507858,
           14.52456960863707,
           14.997643271251487,
           15.437828996321871,
           15.824089393526663,
           16.152723746812587,
           16.425101418645927,
           16.641905771992622,
           16.814847580569868
          ],
          [
           8.432474048405629,
           7.835137372121924,
           7.237801236565782,
           6.6404666268613575,
           6.043136386134091,
           5.445818842598547,
           4.848538762770805,
           4.251370931533019,
           3.6545446490227502,
           3.058773447057255,
           2.466305586443448,
           1.8842533377481245,
           1.3345269741752628,
           0.8765677128069872,
           0.6207525151955076,
           0.6521048535402298,
           0.9330720675690846,
           1.3603086137025746,
           1.8545057043228872,
           2.375642570628989,
           2.907009995997672,
           3.442185504300841,
           3.978775824787394,
           4.515895127455447,
           5.053214174847817,
           5.590609506532741,
           6.1280343199603395,
           6.665470665097446,
           7.202911574731973,
           7.740354300941951,
           8.277797819836211,
           8.815241812697685,
           9.352686339907134,
           9.890128317622024,
           10.427551353103615,
           10.96432745979587,
           11.501076099258539,
           12.036551886625086,
           12.569347254890465,
           13.098521201666566,
           13.621992361304368,
           14.133863593634748,
           14.629335093793632,
           15.09669356066739,
           15.52777855708375,
           15.905416703138876,
           16.222964342247742,
           16.479567752515692,
           16.686865199176655,
           16.850612893922772
          ],
          [
           8.318188380552451,
           7.720851783181788,
           7.123515865398834,
           6.52618186530824,
           5.928853356141467,
           5.331540804696216,
           4.734275336621753,
           4.137150933817481,
           3.540455713105215,
           2.9450858227968135,
           2.353860910572093,
           1.7756595763494312,
           1.2374189696914684,
           0.8089169726582289,
           0.6059627171182779,
           0.6944941174419107,
           1.0144164591986617,
           1.461152925705569,
           1.9636012764199755,
           2.4879637298260495,
           3.0205536681541894,
           3.556189214267217,
           4.092953314814724,
           4.630138836934084,
           5.16748339099659,
           5.70488866225819,
           6.242317395463444,
           6.779755305295745,
           7.3171968436385555,
           7.854639827677084,
           8.392083411818094,
           8.929527029414299,
           9.466971504435811,
           10.004426245082806,
           10.541741466656458,
           11.07851309640306,
           11.61533847021385,
           12.150355186977043,
           12.682634597216836,
           13.210975172304494,
           13.733031387441306,
           14.243078501649432,
           14.732494367561712,
           15.194927733034099,
           15.61517840203451,
           15.98239388010262,
           16.286174097292665,
           16.532232356203476,
           16.729204501642478,
           16.883039755835153
          ],
          [
           8.203902724623285,
           7.606566226430747,
           7.009230582345514,
           6.411897348417469,
           5.814571015467286,
           5.2172647379958015,
           4.6200176332583185,
           4.0229478054019845,
           3.426417252685672,
           2.831551277767426,
           2.241884219816978,
           1.668480821167634,
           1.1442833181081669,
           0.7500353151820988,
           0.603303637502575,
           0.7468255081383351,
           1.1013243477058658,
           1.5645038842224677,
           2.073712103852756,
           2.6006779750565534,
           3.134247414157253,
           3.6702502516792412,
           4.207152860535543,
           4.7443911175567015,
           5.281755975774913,
           5.819169157564409,
           6.356601009914111,
           6.894040163748603,
           7.431482208531534,
           7.968925409669582,
           8.50636905890835,
           9.043812495131029,
           9.581255224797271,
           10.118697173133233,
           10.655938057115407,
           11.192700717930371,
           11.729418721531683,
           12.26399249058842,
           12.795757841162585,
           13.323305787515642,
           13.84403031202006,
           14.350271106963689,
           14.836624277556098,
           15.292812292616805,
           15.70512689943785,
           16.05629269427503,
           16.348414278599822,
           16.583074370214355,
           16.768191446452807,
           16.91504315466578
          ],
          [
           8.08961708368026,
           7.492280710135022,
           6.894945410033466,
           6.29761313901767,
           5.700289541121027,
           5.102991148639707,
           4.5057671218000666,
           3.9087658743634313,
           3.312442196570589,
           2.7182088276003324,
           2.1304929482306725,
           1.5630544897522975,
           1.0559189948928807,
           0.7009486715989486,
           0.6128364360275913,
           0.8082437271643679,
           1.1930041387324646,
           1.669927369426596,
           2.1846462417222203,
           2.7137079226449057,
           3.2480611236814667,
           3.784357009346625,
           4.3213699763365625,
           4.858650222254657,
           5.3960312417548355,
           5.933450718938903,
           6.470885053407242,
           7.008325198049198,
           7.545767640034605,
           8.083211010487029,
           8.6206548515859,
           9.158098414057912,
           9.695542654318416,
           10.232989432025011,
           10.770121767646344,
           11.306891878212031,
           11.843386187605882,
           12.377704110851566,
           12.908823331450666,
           13.435498173794253,
           13.954682219984756,
           14.457887967266648,
           14.938412360527762,
           15.386648192394471,
           15.788633777462087,
           16.127763335151993,
           16.40586160098939,
           16.630798663875847,
           16.807704843988358,
           16.94572585223582
          ],
          [
           7.97533146157185,
           7.377995244683616,
           6.78066037690105,
           6.183329316071234,
           5.586009155563116,
           4.988720672709551,
           4.391525648345485,
           3.794610577918567,
           3.1985467743802194,
           2.60510733717792,
           2.0198331303013397,
           1.4597906384059867,
           0.9732291844436031,
           0.6625984096204082,
           0.6343616678368112,
           0.8778275762648788,
           1.2887321050683567,
           1.7770535917080954,
           2.296245772898809,
           2.8269909801688597,
           3.3619706419743474,
           3.8985002134385356,
           4.435601085520899,
           4.972914759383872,
           5.510308641650899,
           6.047733128645864,
           6.585169438371409,
           7.12261037218889,
           7.6600531365383,
           8.197496611595682,
           8.734940412408786,
           9.27238362732057,
           9.809831615115398,
           10.347263086718225,
           10.884319996180938,
           11.42109384639398,
           11.957372262106531,
           12.49122404745129,
           13.0216869192343,
           13.547441624795738,
           14.064125275986335,
           14.563890423695527,
           15.038781015354868,
           15.481524783316585,
           15.869968599795257,
           16.199040907662337,
           16.467179161141026,
           16.677252391336324,
           16.846206857494003,
           16.972428143296074
          ],
          [
           7.861045863134829,
           7.263709843133419,
           6.666375518689476,
           6.069045978816998,
           5.4717301383736086,
           4.874454109571888,
           4.277295532610095,
           3.6804887459098166,
           3.0847513530454007,
           2.4923079525844396,
           1.910085876405811,
           1.359183435258857,
           0.8972098030570637,
           0.6357791849951292,
           0.6674345432204994,
           0.954634169619554,
           1.387860708134174,
           1.8855711074638475,
           2.4083815409238434,
           2.9404766726068248,
           3.4759566221099814,
           4.012672460412064,
           4.549843337346787,
           5.0871836206548915,
           5.624587739806304,
           6.1620162134952565,
           6.699454094502626,
           7.236895655824683,
           7.774338672239942,
           8.311782305032303,
           8.849226133039751,
           9.386669283722329,
           9.924115008557498,
           10.461558954567339,
           10.998513022490497,
           11.535244348240239,
           12.071253926707197,
           12.60462158563973,
           13.13461041317184,
           13.659466442231194,
           14.173065347990304,
           14.66967753982731,
           15.139265436497489,
           15.572176983955794,
           15.949017999996945,
           16.2652884516122,
           16.520122761138296,
           16.720898425522492,
           16.881942781916916,
           17.000754175526218
          ],
          [
           7.746760294448064,
           7.149424521894323,
           6.552090880318085,
           5.954763251976556,
           5.357452840915517,
           4.760192463773886,
           4.163079689282359,
           3.566408956313961,
           2.971081481698056,
           2.3798871023339667,
           1.8014750388645864,
           1.261822235535298,
           0.8289259734411532,
           0.6210800004458624,
           0.711398274075604,
           1.0377371410117369,
           1.489821332360358,
           1.9952201482043401,
           2.5209484354850873,
           3.0541243987583044,
           3.5900035878309278,
           4.126867843706739,
           4.664094460455025,
           5.201455923617871,
           5.738868189445533,
           6.276299835500485,
           6.813738967479747,
           7.351181026978808,
           7.888624249347079,
           8.426067913824744,
           8.963511751820624,
           9.50095448231984,
           10.038396026854093,
           10.575810756108407,
           11.112703529531885,
           11.649427406665263,
           12.185163140550594,
           12.718011568340367,
           13.247366856150954,
           13.771150296732822,
           14.282085720794708,
           14.774409533058556,
           15.235624952351314,
           15.659607769905028,
           16.027052012466246,
           16.327793973816455,
           16.571082811044104,
           16.765516649631476,
           16.913034830365483,
           17.026296218597338
          ],
          [
           7.6324747631514755,
           7.035139301590251,
           6.437806518241123,
           5.84048129229707,
           5.2431777047607095,
           4.645936997676834,
           4.048881780387655,
           3.452381980821138,
           2.857569194797235,
           2.267940183180174,
           1.6942761298826876,
           1.1684008837766062,
           0.7694745352971261,
           0.618836721652059,
           0.765430680814997,
           1.1262567554568952,
           1.5941226846824599,
           2.1057858283698403,
           2.633861269779525,
           3.1679015673831463,
           3.704099172060043,
           4.241081653559864,
           4.778352645619359,
           5.315730965719862,
           5.8531497145594695,
           6.39058388497719,
           6.928024011281658,
           7.465466467493361,
           8.002909834762853,
           8.540353556723607,
           9.07779748704647,
           9.61524198620991,
           10.152682514885996,
           10.690120465254438,
           11.226901483120379,
           11.76367314997599,
           12.298909572747169,
           12.831363097075089,
           13.35979854002933,
           13.88151806394187,
           14.390640753507869,
           14.876851993115272,
           15.334899695537784,
           15.749689351882106,
           16.09750200196904,
           16.387216476954755,
           16.619804031037464,
           16.802375973212154,
           16.943547371847174,
           17.049028645437183
          ],
          [
           7.518189278846922,
           6.920854208141265,
           6.323522503409647,
           5.726200296773608,
           5.128905284842935,
           4.531689297572767,
           3.93470640653279,
           3.338421342908592,
           2.7442546340484792,
           2.1565860586092036,
           1.5888264531265928,
           1.0797232602424203,
           0.719932429953739,
           0.6291034832408852,
           0.8285977808269148,
           1.2193811839740185,
           1.7003461421936763,
           2.2170916246382073,
           2.74705124139814,
           3.2817820613897792,
           3.8182335006305594,
           4.355310136117326,
           4.892616452032421,
           5.430008187706159,
           5.967432095490796,
           6.504868274544551,
           7.0423091933191895,
           7.579751963880708,
           8.117195460522414,
           8.654639324917124,
           9.192083315081407,
           9.72952753189593,
           10.266974651764238,
           10.804312093420206,
           11.341072572193927,
           11.877889395889381,
           12.412675921380497,
           12.944497080967176,
           13.472016378556887,
           13.99256409961942,
           14.497064636201868,
           14.98104754615712,
           15.43066929083454,
           15.831667829653322,
           16.170824768846824,
           16.447519777024013,
           16.66936809005406,
           16.840003581874132,
           16.97267416724574,
           17.069440261497043
          ],
          [
           7.403903853602005,
           6.806569274123586,
           6.209238924993858,
           5.611920512981888,
           5.0146362785490926,
           4.417451356727457,
           3.8205593468729795,
           3.2245440161874415,
           2.63118806197923,
           2.045972505480058,
           1.4855362414815845,
           0.9967024622461669,
           0.6812934672517909,
           0.651647777384916,
           0.8999079243745385,
           1.3163793257867034,
           1.808139209395516,
           2.3289933711181976,
           2.8604629386923466,
           3.395744980763503,
           3.932398695172095,
           4.469550300449367,
           5.00688473249087,
           5.544287144448338,
           6.081715157432797,
           6.619152934729684,
           7.156594482635762,
           7.694037509655033,
           8.23148110561976,
           8.768924916346862,
           9.306368701314044,
           9.843812059408526,
           10.381269951847402,
           10.918505881294404,
           11.455289077070997,
           11.991948332882517,
           12.526272141436559,
           13.057703644768253,
           13.584059749362924,
           14.102323650488733,
           14.604063942231798,
           15.080654195751546,
           15.525142469741443,
           15.912223154953622,
           16.23973995166682,
           16.50362390351347,
           16.71399645299939,
           16.875455427743333,
           16.99878325981138,
           17.08901192967616
          ],
          [
           7.289618502583277,
           6.692284540478755,
           6.094955895061089,
           5.497642252062715,
           4.900371562269442,
           4.303225679666048,
           3.7064478600883946,
           3.1107712972989616,
           2.5184323537037105,
           1.936282740700677,
           1.384900329166793,
           0.9203505355312659,
           0.6543991649575505,
           0.6859701025260427,
           0.9783610259392347,
           1.416606338585813,
           1.9172080388197343,
           2.441373898290609,
           2.97405183849164,
           3.509773619245798,
           4.046588473186084,
           4.583799764153893,
           5.121156573688722,
           5.65856748165506,
           6.195998761273034,
           6.73343781061923,
           7.27087986034895,
           7.808323081453621,
           8.345766779065295,
           8.883210684856705,
           9.42065435993204,
           9.95809545429086,
           10.495525067885248,
           11.032701212243264,
           11.569459725468482,
           12.105881494956291,
           12.639848842478347,
           13.170404027598396,
           13.696230774025741,
           14.212094497087538,
           14.710285733882944,
           15.182074290345028,
           15.615467507715714,
           15.995415105355441,
           16.304237283517136,
           16.556536425630586,
           16.756640893081293,
           16.908838905866926,
           17.02489999808513,
           17.10776892394823
          ],
          [
           7.17533324485201,
           6.57800005866171,
           5.980673554454651,
           5.383365905038074,
           4.786112237315332,
           4.189015413108503,
           3.5923810616832346,
           2.9971298954437975,
           2.4060660678415666,
           1.827743136845358,
           1.2875095026465941,
           0.8517556172944293,
           0.6398722113186518,
           0.7313448878288137,
           1.0629891427743556,
           1.5195034402578456,
           2.027309732539165,
           2.554138359071345,
           3.0877822345282495,
           3.623854634992453,
           4.160797827005987,
           4.698056629967225,
           5.235431248616616,
           5.772848917366062,
           6.3102827962943815,
           6.8477228572278825,
           7.385165305392516,
           7.92260868868214,
           8.460052462812985,
           8.997496361302892,
           9.534940192550742,
           10.072387788156671,
           10.609836643241556,
           11.14688700000656,
           11.683671689645466,
           12.21977070089175,
           12.75337520715079,
           13.283324928304744,
           13.808110990271244,
           14.32097798867433,
           14.814206897886148,
           15.279926881325881,
           15.702789206359668,
           16.069576809229996,
           16.369008340234597,
           16.609663947840556,
           16.79694069997432,
           16.94275171848608,
           17.04910633456557,
           17.124110025561663
          ],
          [
           7.061048104364324,
           6.463715893340317,
           5.866392080181715,
           5.269091963312838,
           4.671859687599291,
           4.074824510322838,
           3.47837039664898,
           2.883653289878643,
           2.29418721150849,
           1.7206321808406564,
           1.194060159405804,
           0.7920440641781965,
           0.638062565755692,
           0.7868761246332429,
           1.15288657700833,
           1.6245936279808446,
           2.1382449178644642,
           2.6672102288890813,
           3.2016255357076764,
           3.73797738086133,
           4.27502276653445,
           4.812319387240419,
           5.349708178613073,
           5.887131227199392,
           6.4245671744620285,
           6.962008040834896,
           7.499450806754479,
           8.036894311804703,
           8.5743381157288,
           9.111782142272766,
           9.64922569148239,
           10.186666823041612,
           10.72413023834337,
           11.261080834956076,
           11.797832488561506,
           12.333629026144196,
           12.86673587376286,
           13.395937092380251,
           13.919343234434983,
           14.429581345251098,
           14.919835194254768,
           15.3776433473996,
           15.793610383492279,
           16.143181673166183,
           16.430538478832982,
           16.657986968496793,
           16.832538431976303,
           16.969917350100353,
           17.071102934830343,
           17.14131005092059
          ],
          [
           6.946763111228122,
           6.349432125788021,
           5.752111694697289,
           5.15482104443438,
           4.557615652080999,
           3.9606579373584716,
           3.364430231103331,
           2.770383417471615,
           2.182917825539161,
           1.6152906261470068,
           1.1053602753735434,
           0.7423269228214681,
           0.6490153943090747,
           0.851559519647512,
           1.2472293946801591,
           1.7314748174337113,
           2.2498509011350434,
           2.780527932444329,
           3.3155588769477102,
           3.8521333651822456,
           4.389260113380112,
           4.926586833328175,
           5.463986903122494,
           6.001414232590038,
           6.538851825603141,
           7.076293332536008,
           7.613736350200258,
           8.151179960829465,
           8.68862377956476,
           9.226067459658571,
           9.763511786902313,
           10.300955344619304,
           10.838389365826858,
           11.375271512043971,
           11.91202369555911,
           12.447469664610319,
           12.980108907198447,
           13.508560285835921,
           14.030256448403895,
           14.536228630522658,
           15.022694483000823,
           15.472878930538664,
           15.875571564907009,
           16.21595281478276,
           16.486942151878516,
           16.703945273956872,
           16.871775718942825,
           16.997518826003848,
           17.090034473898598,
           17.156546603723182
          ],
          [
           6.8324783032827385,
           6.235148858147413,
           5.6378326775706595,
           5.0405539244563435,
           4.443382315744193,
           3.8465219317263335,
           3.250578592077656,
           2.6573727645827194,
           2.0724095208848747,
           1.5121326142861822,
           1.0223290184267673,
           0.7036330333201958,
           0.6724667319771577,
           0.9243432298296261,
           1.3452855028987578,
           1.839811637276832,
           2.3619955573086586,
           2.894042031986879,
           3.4295639909105056,
           3.9663158186094565,
           4.503507336311266,
           5.040858010896562,
           5.578267055608964,
           6.11569779143391,
           6.6531366938643055,
           7.190578710516791,
           7.728021930154923,
           8.26546561629226,
           8.802909512285934,
           9.340353278756554,
           9.877798695915674,
           10.41523915489546,
           10.952652511515835,
           11.489455789149618,
           12.026314508901732,
           12.561306565869955,
           13.093129912621906,
           13.620732773974627,
           14.140349166255374,
           14.64491411992864,
           15.123209306977952,
           15.566686435018482,
           15.958645451744855,
           16.282433792130345,
           16.541461442149043,
           16.747642057672188,
           16.90593725323159,
           17.023684050224958,
           17.108603266385874,
           17.17026593886685
          ],
          [
           6.718193728084191,
           6.120866218788266,
           5.52355538014503,
           4.9262915785961106,
           4.329162423820786,
           3.7324243266975516,
           3.1368380913306617,
           2.5446869507742798,
           1.9628500895032914,
           1.4116572710164175,
           0.9459868162146418,
           0.6768347532254811,
           0.7078677144806442,
           1.0041809598212457,
           1.4464171267812813,
           1.9493268062277642,
           2.474572008841487,
           3.0077129053922556,
           3.5436262953687523,
           4.080519346847219,
           4.617762419854412,
           5.155132157955089,
           5.692548344382274,
           6.2299817906815775,
           6.767421735047052,
           7.304864157438889,
           7.8423075395883375,
           8.379751285694507,
           8.917195243499975,
           9.454639502529236,
           9.992083514657834,
           10.529527913007565,
           11.066883897650163,
           11.603640624221917,
           12.140388220472934,
           12.674877638298462,
           13.2062763199202,
           13.733304788954106,
           14.250381290970996,
           14.749229491562064,
           15.223889486023783,
           15.659858499163123,
           16.036564026364115,
           16.34703812672417,
           16.59756483117474,
           16.79150237164454,
           16.937590534655197,
           17.04752409752732,
           17.12513271256973,
           17.1819460220584
          ],
          [
           6.603909445400117,
           6.0065843690408105,
           5.409280243957495,
           4.8120352323057825,
           4.214959425165246,
           3.6183749576047917,
           3.023237077049951,
           2.4324079053502627,
           1.8544712840507926,
           1.3144598929439428,
           0.8774325722990327,
           0.6625757918757347,
           0.754432907359958,
           1.0900736770627997,
           1.5500777446064742,
           2.059792729050188,
           2.5874940788940815,
           3.1215088429668083,
           3.657734157418503,
           4.194739652648626,
           4.732023759439195,
           5.2694086680410885,
           5.806830537335463,
           6.344266140347215,
           6.88170691392594,
           7.419149658831789,
           7.956593165964886,
           8.49403698641361,
           9.031480952699047,
           9.56892457820117,
           10.106369558570314,
           10.643816187388548,
           11.181081024726389,
           11.717816146966086,
           12.254420507745161,
           12.788532671045568,
           13.319186886147245,
           13.844836980906484,
           14.36056320904967,
           14.855356871458502,
           15.324167806673358,
           15.748236735065877,
           16.111670310478647,
           16.4112977099765,
           16.646514124771635,
           16.830828876017218,
           16.967160165273466,
           17.07198424032016,
           17.142805298046795,
           17.193595501640544
          ],
          [
           6.489625530345218,
           5.892303511656992,
           5.295007823882468,
           4.697786425414989,
           4.100777652159513,
           3.5043861704702186,
           2.9098110666500974,
           2.3206377499385122,
           1.7475577974415282,
           1.2212413221614058,
           0.8178053942253676,
           0.6612125979883046,
           0.8112042801363732,
           1.1810986844244702,
           1.6558054111371843,
           2.171023704104571,
           2.700692463211616,
           3.2354044967592204,
           3.7718783018356477,
           4.308973313541461,
           4.846290077774882,
           5.383687058504277,
           5.921113449728847,
           6.458550768814512,
           6.99599220187274,
           7.533435203645538,
           8.070878814406957,
           8.608322676987358,
           9.14576655460591,
           9.683210971027657,
           10.220655788104756,
           10.758101719710995,
           11.2952775100849,
           11.8320785913641,
           12.368345879398376,
           12.902152072060069,
           13.432120166732124,
           13.956370453628685,
           14.468870303535434,
           14.959928068333063,
           15.421062344871384,
           15.836690131278495,
           16.186748487477946,
           16.469821999669747,
           16.692718765422725,
           16.866965820511723,
           16.99868123736662,
           17.091698153722476,
           17.158511705739272,
           17.203955716576814
          ],
          [
           6.375342077321595,
           5.77802390144284,
           5.1807388172076285,
           4.583547092677358,
           3.9866225463632303,
           3.3904734580837848,
           2.7966045245624738,
           2.2095035086119172,
           1.642457358554346,
           1.1328134826161267,
           0.7682300007428287,
           0.6727799466090572,
           0.8771207555820172,
           1.2764267580238797,
           1.7632140769395417,
           2.28286894891412,
           2.814111544359231,
           3.349379623114696,
           3.8860513363452434,
           4.423217604284444,
           4.960560358190199,
           5.497966945242823,
           6.035396934598843,
           6.572835619132708,
           7.110277577236516,
           7.647720783708472,
           8.1851644687369,
           8.722608342287447,
           9.260052458035592,
           9.797495654072922,
           10.334943690245316,
           10.872365156366337,
           11.409471617164932,
           11.946239517452586,
           12.482206293497235,
           13.015504595366748,
           13.544763754745302,
           14.068009922902238,
           14.57670098315254,
           15.064312107814953,
           15.517196883336055,
           15.919086138616581,
           16.256474503210796,
           16.52684761769198,
           16.739987747005816,
           16.900616553518233,
           17.024395542863584,
           17.109010321186645,
           17.172009088433413,
           17.21304393964176
          ],
          [
           6.261059204970482,
           5.663745858618416,
           5.066474100159608,
           4.4693196648936,
           3.8725009413949203,
           3.2766562544506237,
           2.683673060714795,
           2.0991627670891866,
           1.5395916727064138,
           1.0500984059992275,
           0.7297480337470034,
           0.6969874827927708,
           0.9510840999087832,
           1.3753292829902968,
           1.8719841211462733,
           2.3952065188355314,
           2.927706764799299,
           3.4634180669121397,
           4.000247371347389,
           4.537470355164276,
           5.074833791517545,
           5.612248022600694,
           6.149680874982233,
           6.687120646085281,
           7.22456302192198,
           7.7620063920068905,
           8.299450136266865,
           8.836894037176222,
           9.374338156487127,
           9.91178266635317,
           10.449229724265413,
           10.986650674407718,
           11.523664266610721,
           12.060401616039663,
           12.596051092686267,
           13.128684667362625,
           13.657115656273456,
           14.178451688307005,
           14.684058167574173,
           15.16725987502455,
           15.610797353444248,
           16.0016655224764,
           16.325242493246822,
           16.583035860262353,
           16.782670961746845,
           16.935422377360748,
           17.0482614284911,
           17.12660063904058,
           17.183623564488723,
           17.221693042774177
          ],
          [
           6.1467770623948175,
           5.549469785604215,
           4.952214773782692,
           4.355107195833025,
           3.758421417328939,
           3.1629589254407344,
           2.5710861377524683,
           1.9898103877429552,
           1.4394676520866054,
           0.9741175820000176,
           0.7032414414934027,
           0.7332479264448375,
           1.032014485624085,
           1.4771778325926486,
           1.9818529403115603,
           2.5079381084280143,
           3.0414424765234283,
           3.5775069435393885,
           4.1144617157187735,
           4.65172983896747,
           5.189109733775322,
           5.726530047339899,
           6.263965177819785,
           6.801405813293171,
           7.3388485214533175,
           7.876292017222771,
           8.413735823545831,
           8.951179761040668,
           9.48862351961254,
           10.026067388719484,
           10.56351527360086,
           11.100962063841475,
           11.637851528199027,
           12.17465758698427,
           12.709883761181384,
           13.241880780091103,
           13.769373487516694,
           14.288836836712827,
           14.79027190961557,
           15.266645817371916,
           15.70501765058767,
           16.080415297425656,
           16.391005366842172,
           16.633386573111956,
           16.82284128936412,
           16.965680860379532,
           17.069697373157705,
           17.142842145318316,
           17.19540503628124,
           17.228909391136195
          ],
          [
           6.03249583697859,
           5.435196188111299,
           4.83796222155682,
           4.240913521480387,
           3.644394744325818,
           3.0494120015928514,
           2.4589303868406094,
           1.8816863478051848,
           1.342687984086118,
           0.905968410299029,
           0.6893579018266821,
           0.7807313539943606,
           1.1188922750226051,
           1.5814386139545453,
           2.0926061209373477,
           2.620984674655776,
           3.155290190960275,
           3.6916359817215874,
           4.228690633736075,
           4.765994680870824,
           5.303387672476447,
           5.840812825917083,
           6.378249769029148,
           6.915691092391282,
           7.453134064593375,
           7.990577664639559,
           8.528021513047733,
           9.065465502942317,
           9.602909260384967,
           10.140352442020417,
           10.67779631202526,
           11.215218905637233,
           11.75205478536936,
           12.288841956429568,
           12.823618707074212,
           13.35500387663204,
           13.88136026325952,
           14.398258854239312,
           14.89682066489895,
           15.366711354314216,
           15.790744630042765,
           16.157442979004937,
           16.45035199032139,
           16.683903630356674,
           16.863210215351867,
           16.993876635016296,
           17.092354359756577,
           17.160000062354474,
           17.20518205554703,
           17.234721280285424
          ],
          [
           5.918215764212272,
           5.320925701636357,
           4.723718181745106,
           4.126743459754566,
           3.5304344373941405,
           2.936053708347281,
           2.3473136411285807,
           1.7750846909833828,
           1.2499595734346804,
           0.8467852701148187,
           0.6884504208003602,
           0.8384354910170082,
           1.2107854859222376,
           1.687663863992604,
           2.2040694825291833,
           2.7342827954789435,
           3.2692271612021537,
           3.805796996603056,
           4.342931151005553,
           4.880263786633573,
           5.417667199788756,
           5.955096204308005,
           6.492534589720659,
           7.029976460482667,
           7.567419642561521,
           8.10486332447416,
           8.642307188224173,
           9.179751176380794,
           9.717194895901553,
           10.254640802319507,
           10.792079654205942,
           11.329463394790926,
           11.866222352115095,
           12.402896292277036,
           12.937229744588704,
           13.467955495373495,
           13.99363614956191,
           14.507500164407091,
           15.001855645289387,
           15.464773776192814,
           15.881226703012155,
           16.231052294086947,
           16.51358456234567,
           16.730022859537446,
           16.899719218654006,
           17.023023155536144,
           17.110685063094277,
           17.17355612823833,
           17.21586389042175,
           17.239376255851706
          ],
          [
           5.8039371400384265,
           5.206659124743234,
           4.609484838214703,
           4.012603060848993,
           3.4165574492283675,
           2.822931859351213,
           2.2363697994116634,
           1.670363450684572,
           1.162097803123284,
           0.7976845832667359,
           0.7005424116089072,
           0.9052604724961089,
           1.306864463073216,
           1.7954818091238578,
           2.316102108311322,
           2.8477816683191253,
           3.3832352376543926,
           3.919983467924355,
           4.457180899630799,
           4.994536285387823,
           5.531947991178507,
           6.069380059978706,
           6.606819592999302,
           7.1442618991311635,
           7.681705249341601,
           8.219148997354646,
           8.756592894923541,
           9.294036827842966,
           9.831481249456068,
           10.368922471864703,
           10.906364133219924,
           11.443654258227633,
           11.980414543394126,
           12.516949433819635,
           13.050798794002775,
           13.580841552745744,
           14.105254879582231,
           14.6159703380635,
           15.106210278431671,
           15.56088027399645,
           15.963315784748017,
           16.298596304538282,
           16.568320539258306,
           16.772361560561844,
           16.932543704961404,
           17.048421498368864,
           17.128421506157963,
           17.184869340619972,
           17.223195502984197,
           17.243875789386024
          ]
         ]
        }
       ],
       "layout": {
        "template": {
         "data": {
          "bar": [
           {
            "error_x": {
             "color": "#2a3f5f"
            },
            "error_y": {
             "color": "#2a3f5f"
            },
            "marker": {
             "line": {
              "color": "#E5ECF6",
              "width": 0.5
             }
            },
            "type": "bar"
           }
          ],
          "barpolar": [
           {
            "marker": {
             "line": {
              "color": "#E5ECF6",
              "width": 0.5
             }
            },
            "type": "barpolar"
           }
          ],
          "carpet": [
           {
            "aaxis": {
             "endlinecolor": "#2a3f5f",
             "gridcolor": "white",
             "linecolor": "white",
             "minorgridcolor": "white",
             "startlinecolor": "#2a3f5f"
            },
            "baxis": {
             "endlinecolor": "#2a3f5f",
             "gridcolor": "white",
             "linecolor": "white",
             "minorgridcolor": "white",
             "startlinecolor": "#2a3f5f"
            },
            "type": "carpet"
           }
          ],
          "choropleth": [
           {
            "colorbar": {
             "outlinewidth": 0,
             "ticks": ""
            },
            "type": "choropleth"
           }
          ],
          "contour": [
           {
            "colorbar": {
             "outlinewidth": 0,
             "ticks": ""
            },
            "colorscale": [
             [
              0,
              "#0d0887"
             ],
             [
              0.1111111111111111,
              "#46039f"
             ],
             [
              0.2222222222222222,
              "#7201a8"
             ],
             [
              0.3333333333333333,
              "#9c179e"
             ],
             [
              0.4444444444444444,
              "#bd3786"
             ],
             [
              0.5555555555555556,
              "#d8576b"
             ],
             [
              0.6666666666666666,
              "#ed7953"
             ],
             [
              0.7777777777777778,
              "#fb9f3a"
             ],
             [
              0.8888888888888888,
              "#fdca26"
             ],
             [
              1,
              "#f0f921"
             ]
            ],
            "type": "contour"
           }
          ],
          "contourcarpet": [
           {
            "colorbar": {
             "outlinewidth": 0,
             "ticks": ""
            },
            "type": "contourcarpet"
           }
          ],
          "heatmap": [
           {
            "colorbar": {
             "outlinewidth": 0,
             "ticks": ""
            },
            "colorscale": [
             [
              0,
              "#0d0887"
             ],
             [
              0.1111111111111111,
              "#46039f"
             ],
             [
              0.2222222222222222,
              "#7201a8"
             ],
             [
              0.3333333333333333,
              "#9c179e"
             ],
             [
              0.4444444444444444,
              "#bd3786"
             ],
             [
              0.5555555555555556,
              "#d8576b"
             ],
             [
              0.6666666666666666,
              "#ed7953"
             ],
             [
              0.7777777777777778,
              "#fb9f3a"
             ],
             [
              0.8888888888888888,
              "#fdca26"
             ],
             [
              1,
              "#f0f921"
             ]
            ],
            "type": "heatmap"
           }
          ],
          "heatmapgl": [
           {
            "colorbar": {
             "outlinewidth": 0,
             "ticks": ""
            },
            "colorscale": [
             [
              0,
              "#0d0887"
             ],
             [
              0.1111111111111111,
              "#46039f"
             ],
             [
              0.2222222222222222,
              "#7201a8"
             ],
             [
              0.3333333333333333,
              "#9c179e"
             ],
             [
              0.4444444444444444,
              "#bd3786"
             ],
             [
              0.5555555555555556,
              "#d8576b"
             ],
             [
              0.6666666666666666,
              "#ed7953"
             ],
             [
              0.7777777777777778,
              "#fb9f3a"
             ],
             [
              0.8888888888888888,
              "#fdca26"
             ],
             [
              1,
              "#f0f921"
             ]
            ],
            "type": "heatmapgl"
           }
          ],
          "histogram": [
           {
            "marker": {
             "colorbar": {
              "outlinewidth": 0,
              "ticks": ""
             }
            },
            "type": "histogram"
           }
          ],
          "histogram2d": [
           {
            "colorbar": {
             "outlinewidth": 0,
             "ticks": ""
            },
            "colorscale": [
             [
              0,
              "#0d0887"
             ],
             [
              0.1111111111111111,
              "#46039f"
             ],
             [
              0.2222222222222222,
              "#7201a8"
             ],
             [
              0.3333333333333333,
              "#9c179e"
             ],
             [
              0.4444444444444444,
              "#bd3786"
             ],
             [
              0.5555555555555556,
              "#d8576b"
             ],
             [
              0.6666666666666666,
              "#ed7953"
             ],
             [
              0.7777777777777778,
              "#fb9f3a"
             ],
             [
              0.8888888888888888,
              "#fdca26"
             ],
             [
              1,
              "#f0f921"
             ]
            ],
            "type": "histogram2d"
           }
          ],
          "histogram2dcontour": [
           {
            "colorbar": {
             "outlinewidth": 0,
             "ticks": ""
            },
            "colorscale": [
             [
              0,
              "#0d0887"
             ],
             [
              0.1111111111111111,
              "#46039f"
             ],
             [
              0.2222222222222222,
              "#7201a8"
             ],
             [
              0.3333333333333333,
              "#9c179e"
             ],
             [
              0.4444444444444444,
              "#bd3786"
             ],
             [
              0.5555555555555556,
              "#d8576b"
             ],
             [
              0.6666666666666666,
              "#ed7953"
             ],
             [
              0.7777777777777778,
              "#fb9f3a"
             ],
             [
              0.8888888888888888,
              "#fdca26"
             ],
             [
              1,
              "#f0f921"
             ]
            ],
            "type": "histogram2dcontour"
           }
          ],
          "mesh3d": [
           {
            "colorbar": {
             "outlinewidth": 0,
             "ticks": ""
            },
            "type": "mesh3d"
           }
          ],
          "parcoords": [
           {
            "line": {
             "colorbar": {
              "outlinewidth": 0,
              "ticks": ""
             }
            },
            "type": "parcoords"
           }
          ],
          "scatter": [
           {
            "marker": {
             "colorbar": {
              "outlinewidth": 0,
              "ticks": ""
             }
            },
            "type": "scatter"
           }
          ],
          "scatter3d": [
           {
            "line": {
             "colorbar": {
              "outlinewidth": 0,
              "ticks": ""
             }
            },
            "marker": {
             "colorbar": {
              "outlinewidth": 0,
              "ticks": ""
             }
            },
            "type": "scatter3d"
           }
          ],
          "scattercarpet": [
           {
            "marker": {
             "colorbar": {
              "outlinewidth": 0,
              "ticks": ""
             }
            },
            "type": "scattercarpet"
           }
          ],
          "scattergeo": [
           {
            "marker": {
             "colorbar": {
              "outlinewidth": 0,
              "ticks": ""
             }
            },
            "type": "scattergeo"
           }
          ],
          "scattergl": [
           {
            "marker": {
             "colorbar": {
              "outlinewidth": 0,
              "ticks": ""
             }
            },
            "type": "scattergl"
           }
          ],
          "scattermapbox": [
           {
            "marker": {
             "colorbar": {
              "outlinewidth": 0,
              "ticks": ""
             }
            },
            "type": "scattermapbox"
           }
          ],
          "scatterpolar": [
           {
            "marker": {
             "colorbar": {
              "outlinewidth": 0,
              "ticks": ""
             }
            },
            "type": "scatterpolar"
           }
          ],
          "scatterpolargl": [
           {
            "marker": {
             "colorbar": {
              "outlinewidth": 0,
              "ticks": ""
             }
            },
            "type": "scatterpolargl"
           }
          ],
          "scatterternary": [
           {
            "marker": {
             "colorbar": {
              "outlinewidth": 0,
              "ticks": ""
             }
            },
            "type": "scatterternary"
           }
          ],
          "surface": [
           {
            "colorbar": {
             "outlinewidth": 0,
             "ticks": ""
            },
            "colorscale": [
             [
              0,
              "#0d0887"
             ],
             [
              0.1111111111111111,
              "#46039f"
             ],
             [
              0.2222222222222222,
              "#7201a8"
             ],
             [
              0.3333333333333333,
              "#9c179e"
             ],
             [
              0.4444444444444444,
              "#bd3786"
             ],
             [
              0.5555555555555556,
              "#d8576b"
             ],
             [
              0.6666666666666666,
              "#ed7953"
             ],
             [
              0.7777777777777778,
              "#fb9f3a"
             ],
             [
              0.8888888888888888,
              "#fdca26"
             ],
             [
              1,
              "#f0f921"
             ]
            ],
            "type": "surface"
           }
          ],
          "table": [
           {
            "cells": {
             "fill": {
              "color": "#EBF0F8"
             },
             "line": {
              "color": "white"
             }
            },
            "header": {
             "fill": {
              "color": "#C8D4E3"
             },
             "line": {
              "color": "white"
             }
            },
            "type": "table"
           }
          ]
         },
         "layout": {
          "annotationdefaults": {
           "arrowcolor": "#2a3f5f",
           "arrowhead": 0,
           "arrowwidth": 1
          },
          "colorscale": {
           "diverging": [
            [
             0,
             "#8e0152"
            ],
            [
             0.1,
             "#c51b7d"
            ],
            [
             0.2,
             "#de77ae"
            ],
            [
             0.3,
             "#f1b6da"
            ],
            [
             0.4,
             "#fde0ef"
            ],
            [
             0.5,
             "#f7f7f7"
            ],
            [
             0.6,
             "#e6f5d0"
            ],
            [
             0.7,
             "#b8e186"
            ],
            [
             0.8,
             "#7fbc41"
            ],
            [
             0.9,
             "#4d9221"
            ],
            [
             1,
             "#276419"
            ]
           ],
           "sequential": [
            [
             0,
             "#0d0887"
            ],
            [
             0.1111111111111111,
             "#46039f"
            ],
            [
             0.2222222222222222,
             "#7201a8"
            ],
            [
             0.3333333333333333,
             "#9c179e"
            ],
            [
             0.4444444444444444,
             "#bd3786"
            ],
            [
             0.5555555555555556,
             "#d8576b"
            ],
            [
             0.6666666666666666,
             "#ed7953"
            ],
            [
             0.7777777777777778,
             "#fb9f3a"
            ],
            [
             0.8888888888888888,
             "#fdca26"
            ],
            [
             1,
             "#f0f921"
            ]
           ],
           "sequentialminus": [
            [
             0,
             "#0d0887"
            ],
            [
             0.1111111111111111,
             "#46039f"
            ],
            [
             0.2222222222222222,
             "#7201a8"
            ],
            [
             0.3333333333333333,
             "#9c179e"
            ],
            [
             0.4444444444444444,
             "#bd3786"
            ],
            [
             0.5555555555555556,
             "#d8576b"
            ],
            [
             0.6666666666666666,
             "#ed7953"
            ],
            [
             0.7777777777777778,
             "#fb9f3a"
            ],
            [
             0.8888888888888888,
             "#fdca26"
            ],
            [
             1,
             "#f0f921"
            ]
           ]
          },
          "colorway": [
           "#636efa",
           "#EF553B",
           "#00cc96",
           "#ab63fa",
           "#FFA15A",
           "#19d3f3",
           "#FF6692",
           "#B6E880",
           "#FF97FF",
           "#FECB52"
          ],
          "font": {
           "color": "#2a3f5f"
          },
          "geo": {
           "bgcolor": "white",
           "lakecolor": "white",
           "landcolor": "#E5ECF6",
           "showlakes": true,
           "showland": true,
           "subunitcolor": "white"
          },
          "hoverlabel": {
           "align": "left"
          },
          "hovermode": "closest",
          "mapbox": {
           "style": "light"
          },
          "paper_bgcolor": "white",
          "plot_bgcolor": "#E5ECF6",
          "polar": {
           "angularaxis": {
            "gridcolor": "white",
            "linecolor": "white",
            "ticks": ""
           },
           "bgcolor": "#E5ECF6",
           "radialaxis": {
            "gridcolor": "white",
            "linecolor": "white",
            "ticks": ""
           }
          },
          "scene": {
           "xaxis": {
            "backgroundcolor": "#E5ECF6",
            "gridcolor": "white",
            "gridwidth": 2,
            "linecolor": "white",
            "showbackground": true,
            "ticks": "",
            "zerolinecolor": "white"
           },
           "yaxis": {
            "backgroundcolor": "#E5ECF6",
            "gridcolor": "white",
            "gridwidth": 2,
            "linecolor": "white",
            "showbackground": true,
            "ticks": "",
            "zerolinecolor": "white"
           },
           "zaxis": {
            "backgroundcolor": "#E5ECF6",
            "gridcolor": "white",
            "gridwidth": 2,
            "linecolor": "white",
            "showbackground": true,
            "ticks": "",
            "zerolinecolor": "white"
           }
          },
          "shapedefaults": {
           "line": {
            "color": "#2a3f5f"
           }
          },
          "ternary": {
           "aaxis": {
            "gridcolor": "white",
            "linecolor": "white",
            "ticks": ""
           },
           "baxis": {
            "gridcolor": "white",
            "linecolor": "white",
            "ticks": ""
           },
           "bgcolor": "#E5ECF6",
           "caxis": {
            "gridcolor": "white",
            "linecolor": "white",
            "ticks": ""
           }
          },
          "title": {
           "x": 0.05
          },
          "xaxis": {
           "automargin": true,
           "gridcolor": "white",
           "linecolor": "white",
           "ticks": "",
           "zerolinecolor": "white",
           "zerolinewidth": 2
          },
          "yaxis": {
           "automargin": true,
           "gridcolor": "white",
           "linecolor": "white",
           "ticks": "",
           "zerolinecolor": "white",
           "zerolinewidth": 2
          }
         }
        },
        "yaxis": {
         "autorange": "reversed"
        }
       }
      },
      "text/html": [
       "<div>\n",
       "        \n",
       "        \n",
       "            <div id=\"8d003da9-3478-4549-9235-31b53c5e57a9\" class=\"plotly-graph-div\" style=\"height:525px; width:100%;\"></div>\n",
       "            <script type=\"text/javascript\">\n",
       "                require([\"plotly\"], function(Plotly) {\n",
       "                    window.PLOTLYENV=window.PLOTLYENV || {};\n",
       "                    \n",
       "                if (document.getElementById(\"8d003da9-3478-4549-9235-31b53c5e57a9\")) {\n",
       "                    Plotly.newPlot(\n",
       "                        '8d003da9-3478-4549-9235-31b53c5e57a9',\n",
       "                        [{\"colorscale\": [[0.0, \"#440154\"], [0.1111111111111111, \"#482878\"], [0.2222222222222222, \"#3e4989\"], [0.3333333333333333, \"#31688e\"], [0.4444444444444444, \"#26828e\"], [0.5555555555555556, \"#1f9e89\"], [0.6666666666666666, \"#35b779\"], [0.7777777777777778, \"#6ece58\"], [0.8888888888888888, \"#b5de2b\"], [1.0, \"#fde725\"]], \"type\": \"contour\", \"x\": [-0.1, -0.08979591836734695, -0.07959183673469389, -0.06938775510204082, -0.059183673469387764, -0.048979591836734705, -0.03877551020408164, -0.02857142857142858, -0.018367346938775522, -0.008163265306122464, 0.002040816326530595, 0.012244897959183654, 0.022448979591836726, 0.03265306122448977, 0.042857142857142844, 0.05306122448979589, 0.06326530612244896, 0.07346938775510203, 0.08367346938775508, 0.09387755102040815, 0.1040816326530612, 0.11428571428571427, 0.12448979591836731, 0.13469387755102039, 0.14489795918367346, 0.15510204081632653, 0.16530612244897955, 0.17551020408163262, 0.1857142857142857, 0.19591836734693877, 0.20612244897959178, 0.21632653061224486, 0.22653061224489793, 0.236734693877551, 0.24693877551020407, 0.2571428571428571, 0.2673469387755102, 0.27755102040816326, 0.28775510204081634, 0.2979591836734693, 0.30816326530612237, 0.31836734693877544, 0.3285714285714285, 0.3387755102040816, 0.34897959183673466, 0.35918367346938773, 0.3693877551020408, 0.3795918367346939, 0.38979591836734695, 0.4], \"y\": [-11.1, -10.871428571428572, -10.642857142857142, -10.414285714285715, -10.185714285714285, -9.957142857142857, -9.728571428571428, -9.5, -9.27142857142857, -9.042857142857143, -8.814285714285713, -8.585714285714285, -8.357142857142858, -8.128571428571428, -7.9, -7.671428571428571, -7.442857142857143, -7.2142857142857135, -6.985714285714286, -6.757142857142857, -6.5285714285714285, -6.3, -6.071428571428571, -5.8428571428571425, -5.614285714285714, -5.385714285714285, -5.157142857142857, -4.928571428571429, -4.7, -4.4714285714285715, -4.242857142857143, -4.014285714285714, -3.7857142857142856, -3.557142857142857, -3.3285714285714283, -3.0999999999999996, -2.871428571428572, -2.6428571428571423, -2.4142857142857146, -2.185714285714285, -1.9571428571428573, -1.7285714285714278, -1.5, -1.2714285714285722, -1.0428571428571427, -0.814285714285715, -0.5857142857142854, -0.35714285714285765, -0.12857142857142811, 0.1], \"z\": [[11.40390243949893, 10.806565456731503, 10.20922847538323, 9.611891498039611, 9.014554532162633, 8.417217599610915, 7.81988076539271, 7.2225442258472565, 6.625208583332239, 6.027875715574193, 5.430551571997554, 4.833255318675941, 4.236049756516971, 3.6391442356558312, 3.0432482784085515, 2.4507941466116514, 1.8700067285504998, 1.326094664831831, 0.878423201144393, 0.614330308801031, 0.592094016413646, 0.7947681819988558, 1.1560189182838656, 1.6092333223719018, 2.1091054516049104, 2.6305270457277814, 3.161297968249758, 3.6959866052764414, 4.232293198703071, 4.769265827269988, 5.306513231092099, 5.843874574359059, 6.381283502086895, 6.918712456263746, 7.4561499877247055, 7.9935913817075335, 8.53103627336005, 9.06846602097227, 9.605641367664754, 10.142426156157098, 10.679199608898092, 11.214602699659316, 11.747794759132438, 12.27807333286747, 12.804265288720163, 13.323431772241866, 13.82962459388658, 14.320069063351763, 14.784535059288352, 15.217379336119656], [11.28961672533508, 10.69227974277476, 10.094942761998041, 9.497605786254384, 8.900268824922035, 8.302931905472986, 7.705595109609811, 7.10825868409226, 6.510923385964976, 5.913591575156566, 5.316270728881539, 4.718984934691498, 4.1218131161558125, 3.525018327388148, 2.9294915464799027, 2.338279181507881, 1.761578046093562, 1.2297021720250934, 0.8096613795190063, 0.5899392814414468, 0.6166207195380359, 0.8585534604139435, 1.2448333644269094, 1.7116766146118578, 2.2181840233211654, 2.7425944997307163, 3.274651380193973, 3.809881716072279, 4.346414941939552, 4.883482374420055, 5.420769567024661, 5.958147705646175, 6.4955637762452625, 7.032995788741297, 7.57043472210039, 8.107877090221146, 8.645319593989639, 9.182775619860228, 9.719833334806227, 10.256603032535411, 10.793394123627769, 11.328406364414887, 11.861131051988213, 12.390778568858558, 12.916310654382116, 13.433598530772644, 13.938264764776351, 14.423629189262112, 14.883220328882157, 15.308544763424205], [11.175331011202523, 10.577994028902502, 9.98065704884411, 9.383320075111289, 8.78598311949065, 8.188646216509074, 7.591309468850623, 6.99397318664367, 6.3966383213436755, 5.799307838909898, 5.201991136664274, 4.604718487237302, 4.007589074421191, 3.4109334141937153, 2.8158701055362094, 2.226211525317182, 1.6545613018933534, 1.1370946468302692, 0.7483404194336558, 0.5754788956396008, 0.6504085438940919, 0.9289268526337399, 1.3375388465108635, 1.8161337218516513, 2.3282105299084375, 2.855082509713639, 3.388185995871306, 3.923854036378319, 4.460569489687528, 4.997712874306606, 5.535031860833987, 6.072423396724378, 6.6098451620613075, 7.147279633426557, 7.684719471731279, 8.222160950103572, 8.759607400240212, 9.297071462942682, 9.834029546945379, 10.370798706941494, 10.907498022718269, 11.44223437561094, 11.974565318338193, 12.50348380859714, 13.028197011073907, 13.543364782437711, 14.044556047047335, 14.525018514613487, 14.980986987062206, 15.395283712825146], [11.061045297109299, 10.463708315136417, 9.866371335980824, 9.269034364775228, 8.671697416333085, 8.074360534047887, 7.477023846973277, 6.879687744879494, 6.282353423557707, 5.685024610624564, 5.087713116561162, 4.490456987029332, 3.893380864527465, 3.2968999984936302, 2.702418380504227, 2.1147019120977513, 1.549273424249581, 1.0489260053096616, 0.695187513262179, 0.5711526819343616, 0.6930618172218163, 1.0053026274473775, 1.4336550354307553, 1.922301915491519, 2.4390242766908514, 2.967914766132074, 3.5018676411529426, 4.037888632302821, 4.574750376685124, 5.1119545391912835, 5.6492989105391045, 6.186701129912327, 6.7241274344355935, 7.261563888440864, 7.799004608591191, 8.33644777582888, 8.873896197363015, 9.411325075562058, 9.948217889573963, 10.485017355393897, 11.0214655486402, 11.555808353100778, 12.087771233106434, 12.615979406874015, 13.13975007155611, 13.652432950890246, 14.150629055734068, 14.627950052327485, 15.075570728695235, 15.48392440999923], [10.946759583065505, 10.349422601503775, 9.752085623482824, 9.154748655453451, 8.557411716033261, 7.960074859759335, 7.362738248826694, 6.765402373099627, 6.168068735450564, 5.570742020743457, 4.9734370722654715, 4.3762017042240435, 3.7791925487413374, 3.18293126517371, 2.5891794547259357, 2.0038872649795088, 1.4460916987804013, 0.9659115552417773, 0.6508810398459524, 0.5770260468540976, 0.7440997298874154, 1.0870912905256622, 1.5327341076705612, 2.029913353915278, 2.550488455985246, 3.081027848592488, 3.6156682938070364, 4.151973360241018, 4.6889523802114335, 5.226205129238044, 5.763569756264855, 6.300980486838559, 6.838410396053741, 7.375848311374012, 7.913289721111041, 8.45073298663392, 8.988179280518635, 9.525593781299436, 10.062410964854811, 10.599228928368587, 11.135395511575487, 11.669543945340672, 12.200798120661064, 12.728224168021878, 13.250287458842266, 13.761597057351688, 14.255376587512663, 14.728839783321826, 15.16937615605589, 15.568613331129193], [10.832473869083838, 10.235136888038843, 9.637799911443913, 9.040462947406434, 8.443126019325064, 7.845789195742185, 7.248452680504995, 6.651117089276199, 6.0537843108678855, 5.456460233205755, 4.85916351112237, 4.261954234977096, 3.6650292305629577, 3.0690437620342936, 2.476207190304721, 1.8939362473323058, 1.3454605992115947, 0.8888170027696675, 0.6160226086575313, 0.5930234701207443, 0.802973861883664, 1.173712099974964, 1.6343646441303186, 2.1387338633251076, 2.6624875560948857, 3.19436931598819, 3.7295650535523874, 4.266098372921328, 4.803171291033348, 5.340462847693895, 5.877843627789019, 6.415261142760274, 6.952693924139613, 7.490133144406346, 8.02757480953113, 8.565016354337208, 9.10246744331101, 9.639831163651008, 10.176614268657275, 10.713386591331455, 11.249356631377164, 11.783030130782867, 12.31390991753361, 12.840698033080356, 13.36130430365505, 13.869889907186296, 14.361804541850956, 14.828253387071896, 15.261850708677569, 15.650097238943502], [10.718188155180252, 10.120851174784693, 9.52351419998199, 8.92617724096153, 8.328840327130829, 7.7315035446341644, 7.134167149667299, 6.536831915996607, 5.939500217482708, 5.342179454047777, 4.744893070736715, 4.147716585056065, 3.5508973209780432, 2.9552582501440243, 2.363568835384535, 1.7850556635932988, 1.2478974242934417, 0.8184418395328328, 0.5911101587469181, 0.6189323166480717, 0.8690867051532297, 1.2646039176060586, 1.7381740079048122, 2.248560963554518, 2.774924760566021, 3.3078960010089524, 3.8435392649331246, 4.3802557061002565, 4.917403724008657, 5.45472625532904, 5.99211991211878, 6.529542826237579, 7.0669778922518045, 7.604418154367082, 8.141859993154972, 8.679304972998036, 9.216755841592137, 9.754022921195741, 10.290804683637582, 10.82756513268282, 11.363201268169089, 11.896526540624821, 12.426779066720208, 12.952770474882962, 13.47185610973964, 13.97732384065356, 14.464645198734841, 14.925451026132865, 15.352216536757885, 15.728238917850026], [10.6039024413748, 10.006565461795454, 9.409228489245226, 8.811891536530174, 8.21455464060976, 7.6172179097503765, 7.019881665939597, 6.422546881648701, 5.8252165403462035, 5.227899942211953, 4.63062655240784, 4.033491274864399, 3.436804872425387, 2.8416007649646557, 2.251348212099635, 1.677497673703879, 1.1539957952289868, 0.7555970293922724, 0.5765142806230705, 0.6544128209790016, 0.9418101860809198, 1.3592342022574273, 1.843829268196266, 2.359221350840034, 2.8877194475175867, 3.4215725136963444, 3.957575775556938, 4.494438933990126, 5.03164696142732, 5.568994201101788, 6.106398117987445, 6.64382533544395, 7.181262233144641, 7.718703141145096, 8.256145686378526, 8.793589520240815, 9.331039392089718, 9.8682117732896, 10.404979627725908, 10.941720742135093, 11.47699401778167, 12.00987932049761, 12.539453963878543, 13.065331171289985, 13.581539670009933, 14.08449666472275, 14.56778074877291, 15.02113019360019, 15.441052023794617, 15.805821031899786], [10.489616727692676, 9.892279749139151, 9.29494277941984, 8.69760583462945, 8.100268961218736, 7.502932295257249, 6.905596241419858, 6.308262021910321, 5.710933386350123, 5.113622023130553, 4.516364963140987, 3.919281471339901, 3.322761997488937, 2.728103938043901, 2.139649586732775, 1.5715676837356283, 1.0644258851278265, 0.7010775504610024, 0.5724598318511738, 0.6990132872364011, 1.0205033453887395, 1.4571060278939998, 1.951036806471984, 2.4705680523099764, 3.0008048639449783, 3.5353699465527972, 4.071662312398029, 4.6086428834706075, 5.145898825133462, 5.683265764497996, 6.220677854427867, 6.758108498084573, 7.29554686328939, 7.832988583842261, 8.370431879319327, 8.907875900543313, 9.445305749859097, 9.982409268889281, 10.519203781443005, 11.055896053978318, 11.59076639658655, 12.123203706594984, 12.652276165525484, 13.176889086785001, 13.691750667401529, 14.191315496972852, 14.668339177867916, 15.119726464496093, 15.528594355269947, 15.882002069037217], [10.375331014165559, 9.777994036901287, 9.180657070739887, 8.583320135909233, 7.985983290788786, 7.38864670639117, 6.791310891312828, 6.193977381621339, 5.596650889835059, 4.999346105796212, 4.402109568432503, 3.8050911535736835, 3.2087813934728753, 2.6148086394262373, 2.0286023256297856, 1.467632628536827, 0.979930148475685, 0.6556310739779134, 0.5790145339267054, 0.7521891995834021, 1.104528502142655, 1.5577630838063252, 2.0595408068495473, 2.5824774465727343, 3.1141260187607243, 3.649264766286101, 4.185788960063898, 4.72286339792601, 5.26015757154091, 5.7975402115385934, 6.334958811684509, 6.872392181642436, 7.409831698470101, 7.947273605009551, 8.484717555935832, 9.022159756679786, 9.559589734075043, 10.09659817291286, 10.633388692578583, 11.169967724925367, 11.704467597333803, 12.236544478789487, 12.764558714244922, 13.288045349288767, 13.800650001305279, 14.297162042824096, 14.77148259566967, 15.213289599211532, 15.613654116598308, 15.953874482832576], [10.261045300833251, 9.663708325189317, 9.066371363499508, 8.469034441186283, 7.871697631621134, 7.274361149733233, 6.677025634727849, 6.079693017136402, 5.482369219638627, 4.885072704213701, 4.287861958586787, 3.6909253207214503, 3.094878999107612, 2.5017660126025882, 1.91836643198444, 1.366129164579615, 0.9013133579678434, 0.6199247705376504, 0.5960855998999416, 0.8133247782762812, 1.1932653952466397, 1.6607926957135324, 2.1691208803928492, 2.6948463091984634, 3.2276378133347934, 3.7632378735742784, 4.2999477265083526, 4.837097143112047, 5.3744218065947695, 5.911816955368077, 6.4492407388916195, 6.986676278814107, 7.524116747661722, 8.061559009846404, 8.59900290258333, 9.136443195679147, 9.673900170008004, 10.210791787918525, 10.747567435098443, 11.283918440719633, 11.81809273636402, 12.349553875295282, 12.877255612356931, 13.399405300034461, 13.90843185090373, 14.401760363241262, 14.870033100085974, 15.306017067537828, 15.693697290948377, 16.026032668789465], [10.146759587745784, 9.549422614138294, 8.952085658068397, 8.354748751487115, 7.757411986607973, 7.160075633554578, 6.562740495681554, 5.965408999281827, 5.368088587953206, 4.770802464356659, 4.173624132026356, 3.5767902529296864, 2.98107481583484, 2.3890399864379543, 1.8091390330656936, 1.2675710447160948, 0.8294260043085724, 0.5945128002159288, 0.6234246453445366, 0.8817555242973546, 1.2861229511536194, 1.7658269961185982, 2.27958909241433, 2.8075890001693393, 3.3413034100205032, 3.8772738111810745, 4.4141321833239004, 4.951341448364507, 5.48869041667413, 6.0260955292276375, 6.563523440939712, 7.100960710782457, 7.638401863590221, 8.175844804623228, 8.713286903516236, 9.250735428309817, 9.788167772070478, 10.324985321166393, 10.86178423391848, 11.397843443025154, 11.931784555567607, 12.462630156865593, 12.989639916843952, 13.509708506656215, 14.016425714779801, 14.505530612961735, 14.968233517185729, 15.395743059128112, 15.77082061579253, 16.09501731708632], [10.032473874966028, 9.435136903917948, 8.837799954911173, 8.240463068101853, 7.643126359384224, 7.045790168250391, 6.44845550435805, 5.851125417071735, 5.253809261457684, 4.656536198040698, 4.05939859993729, 3.462693838673018, 2.867393933605192, 2.27671036126511, 1.7011618358165084, 1.1725546666835192, 0.7651406195221692, 0.5798073400210875, 0.6606403182759931, 0.9567904273626301, 1.382548471431102, 1.8725424611509724, 2.3907866514679905, 2.920634869891528, 3.455092827096286, 3.99136010123709, 4.528337169230876, 5.065594177058513, 5.602962512621763, 6.140375559654774, 6.677806754230241, 7.21524540814013, 7.752687085413345, 8.290130369429997, 8.827573463151309, 9.36501940278822, 9.902403405984275, 10.439171694773572, 10.975988525271502, 11.511732056808397, 12.045209981003158, 12.575524126157017, 13.101810998965094, 13.619762957674544, 14.124627244671933, 14.608844676000183, 15.064978512545036, 15.48222192193667, 15.848589204634683, 16.161032204750782], [9.918188162573006, 9.320851194741604, 8.723514254611786, 8.126177392651924, 7.528840754518254, 6.931504766885351, 6.3341706986926924, 5.736842382378387, 5.139531575306755, 4.542274925485385, 3.9451885176949664, 3.3486459852135333, 2.7538678100508256, 2.164876577690809, 1.5947294797367382, 1.0817615088008896, 0.7093213488872094, 0.576055929970958, 0.7072173854499162, 1.037732719533636, 1.482034173937435, 1.9806581042567588, 2.5025804846619013, 3.0339259256893665, 3.568981741611279, 4.105486693860399, 4.64255854680622, 5.179853621591572, 5.717237385707372, 6.254656750328454, 6.792090560789491, 7.329530300233142, 7.866972516784964, 8.404416204968394, 8.941858020303961, 9.479303782533432, 10.016591571666037, 10.55338062105578, 11.090089587832846, 11.62558680308084, 12.158538637255948, 12.688244793576125, 13.213526565414586, 13.730164865760235, 14.23074971476898, 14.710818386113498, 15.163833374478807, 15.572666175861448, 15.92627373915442, 16.22320873929441], [9.803902450666037, 9.206565486877363, 8.60922855790413, 8.01189172717515, 7.414555177751607, 6.817219445879179, 6.219886126362573, 5.622560035801659, 5.025255950710984, 4.428019928790813, 3.8309978498935053, 3.2346591329861556, 2.640535862372005, 2.053662284033614, 1.4901985768568655, 0.9959559481880577, 0.6627880566549988, 0.5833274364353102, 0.7625405313445377, 1.1238983000896237, 1.5841211603480285, 2.089932660315365, 2.614859876342645, 3.1474147738323746, 3.6829504784206737, 4.219645510915198, 4.756793003838307, 5.294118418509242, 5.831514470437565, 6.368938864459472, 6.906374754153397, 7.443815380854749, 7.981257815122496, 8.518701462963692, 9.056143909756008, 9.593579993969009, 10.130786059593206, 10.667564440827775, 11.204353890499679, 11.739391267519537, 12.27185374590449, 12.801057351576853, 13.324977561303657, 13.839007552672093, 14.336581145296066, 14.811672195346306, 15.257595574955142, 15.656072557501199, 16.000872241946265, 16.284604962777575], [9.689616739369935, 9.092279780662178, 8.494942865710577, 7.897606074232666, 7.300269636300268, 6.702934225868173, 6.105601847288097, 5.508278554045483, 4.910982917028719, 4.313772819122598, 3.7168315775235126, 3.120748899745156, 2.5274474432904435, 1.9432208175469885, 1.3879970274911475, 0.9159768815812676, 0.6262772689983502, 0.6015080821126838, 0.8259208993689227, 1.2146312110597655, 1.6884010164822112, 2.200161100358956, 2.7275332961624112, 3.261062833205911, 3.7969831629790463, 4.333830070455998, 4.87103789173023, 5.408387479726485, 5.945793316404402, 6.483221712977061, 7.020659260156922, 7.55810054755573, 8.095543485676005, 8.632986419978472, 9.170433340765566, 9.707879100705949, 10.244978493308963, 10.78178339598998, 11.31850588037022, 11.853199766360603, 12.385203012361991, 12.913787344847197, 13.436782247688928, 13.947890616856254, 14.443033273229078, 14.912522551942704, 15.349887528387635, 15.739024107272222, 16.07056837893007, 16.344238831875472], [9.575331028841576, 8.97799407651953, 8.380657179190361, 7.783320437043316, 7.185984139233294, 6.588649132788051, 5.991317936776939, 5.393998159188076, 4.796713139526939, 4.199535621111576, 3.6026959579879096, 3.006934886451746, 2.4146642857436214, 1.8337416993784252, 1.288632930539346, 0.8427217336368129, 0.6004031405656198, 0.6303079094215029, 0.8966234141379131, 1.309315793993054, 1.7945153676476577, 2.3111707898923464, 2.8405254955366233, 3.3748388046923092, 3.9110670161722982, 4.448035179078185, 4.985291094530238, 5.522659937436328, 6.060073563704259, 6.59750514722604, 7.134944017700434, 7.6723858465103145, 8.209829064552089, 8.74727329332248, 9.284713358651475, 9.822162654758547, 10.359171831178582, 10.895937327750625, 11.432410311798641, 11.966762850624871, 12.498245398680371, 13.026173005869852, 13.547318417229311, 14.056357433627662, 14.546997253871211, 15.011657488264573, 15.440480758478413, 15.815876891079611, 16.13587079802407, 16.400244019390943], [9.461045319278119, 8.863708374981652, 8.266371499800416, 7.6690348196525475, 7.0716986979486975, 6.474364199234793, 5.877034489475256, 5.279719130331952, 4.68244745426429, 4.085310878866526, 3.488598851313405, 2.8932416843264677, 2.302263515016503, 1.7254582045152198, 1.1927020737394143, 0.7771219323175512, 0.5856221673321717, 0.6692769207520313, 0.9738931168148929, 1.4073854012052036, 1.9021537930800456, 2.4228175528477967, 2.9537749127710473, 3.488717373638133, 4.0251917709778935, 4.5622566810050245, 5.099550923078868, 5.636935099897368, 6.17435492747976, 6.711789047733369, 7.249228966211527, 7.786671219589046, 8.324114449945256, 8.861559097755986, 9.39900425984634, 9.93647213965907, 10.473374090211353, 11.010119668662673, 11.54636174100429, 12.080430418189591, 12.611500602618317, 13.138324306951532, 13.658192266020368, 14.163278375336429, 14.650606872916327, 15.109056826279737, 15.52555937166326, 15.892822230822974, 16.202672400773483, 16.456483224981824], [9.346759610927354, 8.749422676717463, 8.152085829371815, 7.554749227144696, 6.957413326771512, 6.360079466174975, 5.762751624333422, 5.16544181824442, 4.568186911921368, 3.971101789114917, 3.374550129223468, 2.7797001314095344, 2.1903413405020404, 1.6186559935102514, 1.100892619440836, 0.720109802352247, 0.5822053831270434, 0.7178291714082704, 1.056979060627456, 1.5083277622113596, 2.011050540083503, 2.534981841026827, 3.0672313980940524, 3.6026781198675555, 4.139349192591874, 4.676491254298617, 5.213816029815468, 5.751212415884671, 6.288637180205883, 6.826073318848454, 7.36351407751406, 7.9009566928073705, 8.438400046013301, 8.975844994268945, 9.513293100835615, 10.050739302165843, 10.587550145533845, 11.124377888109331, 11.660232340449541, 12.193928772651297, 12.72425793914525, 13.25050835909963, 13.768148108904853, 14.270715999694293, 14.753685230140908, 15.205476577470318, 15.615751287703679, 15.969556268292472, 16.26465337088499, 16.509037396767233], [9.232473904100699, 8.635136982567653, 8.037800170205857, 7.440463665909757, 6.843128043705452, 6.245794985095259, 5.648469490846716, 5.051166663755724, 4.45393283286958, 3.8569123683824285, 3.260562187826459, 2.66634887750262, 2.0790175500454047, 1.513682667236072, 1.0139852539675542, 0.6725780380414703, 0.5902211885450095, 0.7752724243476137, 1.1451546957599688, 1.6116873058776358, 2.120980468161902, 2.647565146597562, 3.180854249925463, 3.716704609220632, 4.253532685670625, 4.790736245873179, 5.328085340295769, 5.865491446356001, 6.402920139168167, 6.940357882761859, 7.4777993027105305, 8.01524225765107, 8.552685622825123, 9.090131416263212, 9.62757304720528, 10.164973848430293, 10.701760392181466, 11.23854365157523, 11.774165731398634, 12.307270089077713, 12.837218703236228, 13.362000826083765, 13.877660896482865, 14.376781064482255, 14.855785636932362, 15.301386271994538, 15.700346198541276, 16.041388397973837, 16.32433931100941, 16.558392952549468], [9.118188199189559, 8.520851293588809, 7.923514525194826, 7.326178143978698, 6.728842871377584, 6.131510820703845, 5.53418827689824, 4.93689422087868, 4.339686876354836, 3.742747662864465, 3.1466505896999166, 2.5532363285449926, 1.968440934183324, 1.4109579122620526, 0.9328468407713156, 0.6353343130332411, 0.6095308217742769, 0.8408406737082071, 1.237734079826478, 1.7170648938061646, 2.231754604872489, 2.760486740384558, 3.294610541369488, 3.830783641601963, 4.367736974306077, 4.904989538330758, 5.442357998129151, 5.979771841374347, 6.517203661037485, 7.05464268111963, 7.592084639208631, 8.129527743426884, 8.666971647744743, 9.20441663035087, 9.741851107872025, 10.27916860233922, 10.815965139116923, 11.352664727500539, 11.887922750405533, 12.420612472377297, 12.949715850268413, 13.474159557424107, 13.987205568864512, 14.48307449755826, 14.955376949765261, 15.39424640143314, 15.781071132398527, 16.11225512855598, 16.38447338258283, 16.604610629928008], [9.00390249668584, 8.406565611108848, 7.809228897973745, 7.211892671444845, 6.614557838225589, 6.017227054325556, 5.419908218615256, 4.822625185860356, 4.22545112740505, 3.6286140118142014, 3.032834867297481, 2.440423055152582, 1.8587957597409466, 1.3109836275984437, 0.8584156415010485, 0.6090549014008958, 0.6397969821171693, 0.9137268916093253, 1.334083650000122, 1.8241155151941482, 2.343215622989304, 2.873680775001826, 3.4084737092501216, 3.9449046323559203, 4.481957842307977, 5.01924944282737, 5.556633320934455, 6.094053322773129, 6.631487631489171, 7.168927669501073, 7.706370056432978, 8.243813237285446, 8.781257083344865, 9.318699008541927, 9.856154576315387, 10.393360936068069, 10.930142377683575, 11.466846129797247, 12.001748414080815, 12.53393178332403, 13.062310785118779, 13.584843209082683, 14.09556753777779, 14.588234825627238, 15.054679162825058, 15.48408453617441, 15.85895101068454, 16.177413148623643, 16.44128287445121, 16.65035463857916], [8.88961679720777, 8.292279936796705, 7.6949432931111215, 7.097607260993503, 6.500272979989888, 5.902943788168671, 5.305629612755644, 4.708360433686256, 4.111228205988277, 3.5145193779712405, 2.9191395270575944, 2.3279847647286314, 1.7503093835003511, 1.2143530573903147, 0.7916765898800714, 0.5942420914537289, 0.6805045424404413, 0.9931136815694901, 1.4336296576136636, 1.9325445216420858, 2.4552334682548667, 2.98709375997021, 3.5224223752886528, 4.059059106053715, 4.596191923146644, 5.133514612953092, 5.670910765260911, 6.208335668460965, 6.7457719570192465, 7.283212810563833, 7.82065553032283, 8.358099099659267, 8.895543445886764, 9.432983959544972, 9.970414984786094, 10.507549508376256, 11.044312094690927, 11.58093088707335, 12.115434713381054, 12.64701433196104, 13.174573708691193, 13.69643314223913, 14.203542068184003, 14.693002844589302, 15.15221893513185, 15.571142406104846, 15.941081029317235, 16.24343839321472, 16.4939097357869, 16.69469834928634], [8.775331101532355, 8.177994272749899, 7.580657716348669, 6.983321928567572, 6.385988341588939, 5.788661150687268, 5.191352832273621, 4.594101063946101, 3.9970214040964516, 3.4004737619016683, 2.8055953025359672, 2.2160159511781883, 1.6432610346481706, 1.1217575128664463, 0.7336260333460013, 0.5911903677882744, 0.7309909322332095, 1.0782000409303236, 1.5358616684430946, 2.0421029483893425, 2.5677012907801235, 3.100682394562546, 3.636439368897283, 4.173240284192671, 4.710436530559457, 5.247783975745075, 5.7851898983134715, 6.322618702528676, 6.8600565666753015, 7.3974980635536545, 7.9349410048283024, 8.472384612867419, 9.009828028430539, 9.547276500568854, 10.084735152972177, 10.6217408847961, 11.158540341798759, 11.69487428681321, 12.22897338018214, 12.760235231412025, 13.287219848776253, 13.806375276778633, 14.310918132597845, 14.7946348770856, 15.248758473695986, 15.65969691354387, 16.0135552935433, 16.30638871999679, 16.546507490810964, 16.73530998995159], [8.661045410636124, 8.0637086216046, 7.46637217490258, 6.869036694204086, 6.271703979476031, 5.674379303320289, 5.077078345880208, 4.479848458457943, 3.8828348578643914, 3.2864897212537305, 2.692240715462474, 2.104634348853951, 1.5379916829779043, 1.0339888000632675, 0.6852268118336939, 0.5999656482449529, 0.7904828638478842, 1.1682230517486418, 1.6403327483125258, 2.1525823926178353, 2.680531768497731, 3.214411731139412, 3.750510922538512, 4.28744275074138, 4.824689522270173, 5.362056676369829, 5.899470375252584, 6.436902283927612, 6.974341401854832, 7.51178340678542, 8.049226590844928, 8.586670073944754, 9.124113674702366, 9.661553383713876, 10.198984124847534, 10.735949024913424, 11.272669646941143, 11.808892528158315, 12.342646950634164, 12.872948934544942, 13.399050859911304, 13.916267716431383, 14.417028328252036, 14.896529421375954, 15.34216005122149, 15.743423181323376, 16.085079129405447, 16.366671410705642, 16.59215567452042, 16.776272365502873], [8.546759725746387, 7.949422986673956, 7.3520866778421725, 6.754751583085566, 6.157419964601275, 5.560098448960676, 4.96280674262286, 4.3656043536584574, 3.768673763623993, 3.1725830210142294, 2.5791240158914053, 1.9939863245546767, 1.4349147283065864, 0.9519350779280349, 0.64735637531753, 0.6204003356051532, 0.8581357164770763, 1.2624739517804038, 1.746657070824606, 2.2638098204135266, 2.79365386096347, 3.328253634992004, 3.864626013000727, 4.401662181759142, 4.938949190615097, 5.476332034014829, 6.013751921995608, 6.55118630087709, 7.088626416058712, 7.626068838509812, 8.163512219162815, 8.700955718106238, 9.238400579676227, 9.775836710549989, 10.313313357223054, 10.850122463311116, 11.386941187009173, 11.922678497184613, 12.455988493535623, 12.98594202191472, 13.511151183608163, 14.025850635507858, 14.52456960863707, 14.997643271251487, 15.437828996321871, 15.824089393526663, 16.152723746812587, 16.425101418645927, 16.641905771992622, 16.814847580569868], [8.432474048405629, 7.835137372121924, 7.237801236565782, 6.6404666268613575, 6.043136386134091, 5.445818842598547, 4.848538762770805, 4.251370931533019, 3.6545446490227502, 3.058773447057255, 2.466305586443448, 1.8842533377481245, 1.3345269741752628, 0.8765677128069872, 0.6207525151955076, 0.6521048535402298, 0.9330720675690846, 1.3603086137025746, 1.8545057043228872, 2.375642570628989, 2.907009995997672, 3.442185504300841, 3.978775824787394, 4.515895127455447, 5.053214174847817, 5.590609506532741, 6.1280343199603395, 6.665470665097446, 7.202911574731973, 7.740354300941951, 8.277797819836211, 8.815241812697685, 9.352686339907134, 9.890128317622024, 10.427551353103615, 10.96432745979587, 11.501076099258539, 12.036551886625086, 12.569347254890465, 13.098521201666566, 13.621992361304368, 14.133863593634748, 14.629335093793632, 15.09669356066739, 15.52777855708375, 15.905416703138876, 16.222964342247742, 16.479567752515692, 16.686865199176655, 16.850612893922772], [8.318188380552451, 7.720851783181788, 7.123515865398834, 6.52618186530824, 5.928853356141467, 5.331540804696216, 4.734275336621753, 4.137150933817481, 3.540455713105215, 2.9450858227968135, 2.353860910572093, 1.7756595763494312, 1.2374189696914684, 0.8089169726582289, 0.6059627171182779, 0.6944941174419107, 1.0144164591986617, 1.461152925705569, 1.9636012764199755, 2.4879637298260495, 3.0205536681541894, 3.556189214267217, 4.092953314814724, 4.630138836934084, 5.16748339099659, 5.70488866225819, 6.242317395463444, 6.779755305295745, 7.3171968436385555, 7.854639827677084, 8.392083411818094, 8.929527029414299, 9.466971504435811, 10.004426245082806, 10.541741466656458, 11.07851309640306, 11.61533847021385, 12.150355186977043, 12.682634597216836, 13.210975172304494, 13.733031387441306, 14.243078501649432, 14.732494367561712, 15.194927733034099, 15.61517840203451, 15.98239388010262, 16.286174097292665, 16.532232356203476, 16.729204501642478, 16.883039755835153], [8.203902724623285, 7.606566226430747, 7.009230582345514, 6.411897348417469, 5.814571015467286, 5.2172647379958015, 4.6200176332583185, 4.0229478054019845, 3.426417252685672, 2.831551277767426, 2.241884219816978, 1.668480821167634, 1.1442833181081669, 0.7500353151820988, 0.603303637502575, 0.7468255081383351, 1.1013243477058658, 1.5645038842224677, 2.073712103852756, 2.6006779750565534, 3.134247414157253, 3.6702502516792412, 4.207152860535543, 4.7443911175567015, 5.281755975774913, 5.819169157564409, 6.356601009914111, 6.894040163748603, 7.431482208531534, 7.968925409669582, 8.50636905890835, 9.043812495131029, 9.581255224797271, 10.118697173133233, 10.655938057115407, 11.192700717930371, 11.729418721531683, 12.26399249058842, 12.795757841162585, 13.323305787515642, 13.84403031202006, 14.350271106963689, 14.836624277556098, 15.292812292616805, 15.70512689943785, 16.05629269427503, 16.348414278599822, 16.583074370214355, 16.768191446452807, 16.91504315466578], [8.08961708368026, 7.492280710135022, 6.894945410033466, 6.29761313901767, 5.700289541121027, 5.102991148639707, 4.5057671218000666, 3.9087658743634313, 3.312442196570589, 2.7182088276003324, 2.1304929482306725, 1.5630544897522975, 1.0559189948928807, 0.7009486715989486, 0.6128364360275913, 0.8082437271643679, 1.1930041387324646, 1.669927369426596, 2.1846462417222203, 2.7137079226449057, 3.2480611236814667, 3.784357009346625, 4.3213699763365625, 4.858650222254657, 5.3960312417548355, 5.933450718938903, 6.470885053407242, 7.008325198049198, 7.545767640034605, 8.083211010487029, 8.6206548515859, 9.158098414057912, 9.695542654318416, 10.232989432025011, 10.770121767646344, 11.306891878212031, 11.843386187605882, 12.377704110851566, 12.908823331450666, 13.435498173794253, 13.954682219984756, 14.457887967266648, 14.938412360527762, 15.386648192394471, 15.788633777462087, 16.127763335151993, 16.40586160098939, 16.630798663875847, 16.807704843988358, 16.94572585223582], [7.97533146157185, 7.377995244683616, 6.78066037690105, 6.183329316071234, 5.586009155563116, 4.988720672709551, 4.391525648345485, 3.794610577918567, 3.1985467743802194, 2.60510733717792, 2.0198331303013397, 1.4597906384059867, 0.9732291844436031, 0.6625984096204082, 0.6343616678368112, 0.8778275762648788, 1.2887321050683567, 1.7770535917080954, 2.296245772898809, 2.8269909801688597, 3.3619706419743474, 3.8985002134385356, 4.435601085520899, 4.972914759383872, 5.510308641650899, 6.047733128645864, 6.585169438371409, 7.12261037218889, 7.6600531365383, 8.197496611595682, 8.734940412408786, 9.27238362732057, 9.809831615115398, 10.347263086718225, 10.884319996180938, 11.42109384639398, 11.957372262106531, 12.49122404745129, 13.0216869192343, 13.547441624795738, 14.064125275986335, 14.563890423695527, 15.038781015354868, 15.481524783316585, 15.869968599795257, 16.199040907662337, 16.467179161141026, 16.677252391336324, 16.846206857494003, 16.972428143296074], [7.861045863134829, 7.263709843133419, 6.666375518689476, 6.069045978816998, 5.4717301383736086, 4.874454109571888, 4.277295532610095, 3.6804887459098166, 3.0847513530454007, 2.4923079525844396, 1.910085876405811, 1.359183435258857, 0.8972098030570637, 0.6357791849951292, 0.6674345432204994, 0.954634169619554, 1.387860708134174, 1.8855711074638475, 2.4083815409238434, 2.9404766726068248, 3.4759566221099814, 4.012672460412064, 4.549843337346787, 5.0871836206548915, 5.624587739806304, 6.1620162134952565, 6.699454094502626, 7.236895655824683, 7.774338672239942, 8.311782305032303, 8.849226133039751, 9.386669283722329, 9.924115008557498, 10.461558954567339, 10.998513022490497, 11.535244348240239, 12.071253926707197, 12.60462158563973, 13.13461041317184, 13.659466442231194, 14.173065347990304, 14.66967753982731, 15.139265436497489, 15.572176983955794, 15.949017999996945, 16.2652884516122, 16.520122761138296, 16.720898425522492, 16.881942781916916, 17.000754175526218], [7.746760294448064, 7.149424521894323, 6.552090880318085, 5.954763251976556, 5.357452840915517, 4.760192463773886, 4.163079689282359, 3.566408956313961, 2.971081481698056, 2.3798871023339667, 1.8014750388645864, 1.261822235535298, 0.8289259734411532, 0.6210800004458624, 0.711398274075604, 1.0377371410117369, 1.489821332360358, 1.9952201482043401, 2.5209484354850873, 3.0541243987583044, 3.5900035878309278, 4.126867843706739, 4.664094460455025, 5.201455923617871, 5.738868189445533, 6.276299835500485, 6.813738967479747, 7.351181026978808, 7.888624249347079, 8.426067913824744, 8.963511751820624, 9.50095448231984, 10.038396026854093, 10.575810756108407, 11.112703529531885, 11.649427406665263, 12.185163140550594, 12.718011568340367, 13.247366856150954, 13.771150296732822, 14.282085720794708, 14.774409533058556, 15.235624952351314, 15.659607769905028, 16.027052012466246, 16.327793973816455, 16.571082811044104, 16.765516649631476, 16.913034830365483, 17.026296218597338], [7.6324747631514755, 7.035139301590251, 6.437806518241123, 5.84048129229707, 5.2431777047607095, 4.645936997676834, 4.048881780387655, 3.452381980821138, 2.857569194797235, 2.267940183180174, 1.6942761298826876, 1.1684008837766062, 0.7694745352971261, 0.618836721652059, 0.765430680814997, 1.1262567554568952, 1.5941226846824599, 2.1057858283698403, 2.633861269779525, 3.1679015673831463, 3.704099172060043, 4.241081653559864, 4.778352645619359, 5.315730965719862, 5.8531497145594695, 6.39058388497719, 6.928024011281658, 7.465466467493361, 8.002909834762853, 8.540353556723607, 9.07779748704647, 9.61524198620991, 10.152682514885996, 10.690120465254438, 11.226901483120379, 11.76367314997599, 12.298909572747169, 12.831363097075089, 13.35979854002933, 13.88151806394187, 14.390640753507869, 14.876851993115272, 15.334899695537784, 15.749689351882106, 16.09750200196904, 16.387216476954755, 16.619804031037464, 16.802375973212154, 16.943547371847174, 17.049028645437183], [7.518189278846922, 6.920854208141265, 6.323522503409647, 5.726200296773608, 5.128905284842935, 4.531689297572767, 3.93470640653279, 3.338421342908592, 2.7442546340484792, 2.1565860586092036, 1.5888264531265928, 1.0797232602424203, 0.719932429953739, 0.6291034832408852, 0.8285977808269148, 1.2193811839740185, 1.7003461421936763, 2.2170916246382073, 2.74705124139814, 3.2817820613897792, 3.8182335006305594, 4.355310136117326, 4.892616452032421, 5.430008187706159, 5.967432095490796, 6.504868274544551, 7.0423091933191895, 7.579751963880708, 8.117195460522414, 8.654639324917124, 9.192083315081407, 9.72952753189593, 10.266974651764238, 10.804312093420206, 11.341072572193927, 11.877889395889381, 12.412675921380497, 12.944497080967176, 13.472016378556887, 13.99256409961942, 14.497064636201868, 14.98104754615712, 15.43066929083454, 15.831667829653322, 16.170824768846824, 16.447519777024013, 16.66936809005406, 16.840003581874132, 16.97267416724574, 17.069440261497043], [7.403903853602005, 6.806569274123586, 6.209238924993858, 5.611920512981888, 5.0146362785490926, 4.417451356727457, 3.8205593468729795, 3.2245440161874415, 2.63118806197923, 2.045972505480058, 1.4855362414815845, 0.9967024622461669, 0.6812934672517909, 0.651647777384916, 0.8999079243745385, 1.3163793257867034, 1.808139209395516, 2.3289933711181976, 2.8604629386923466, 3.395744980763503, 3.932398695172095, 4.469550300449367, 5.00688473249087, 5.544287144448338, 6.081715157432797, 6.619152934729684, 7.156594482635762, 7.694037509655033, 8.23148110561976, 8.768924916346862, 9.306368701314044, 9.843812059408526, 10.381269951847402, 10.918505881294404, 11.455289077070997, 11.991948332882517, 12.526272141436559, 13.057703644768253, 13.584059749362924, 14.102323650488733, 14.604063942231798, 15.080654195751546, 15.525142469741443, 15.912223154953622, 16.23973995166682, 16.50362390351347, 16.71399645299939, 16.875455427743333, 16.99878325981138, 17.08901192967616], [7.289618502583277, 6.692284540478755, 6.094955895061089, 5.497642252062715, 4.900371562269442, 4.303225679666048, 3.7064478600883946, 3.1107712972989616, 2.5184323537037105, 1.936282740700677, 1.384900329166793, 0.9203505355312659, 0.6543991649575505, 0.6859701025260427, 0.9783610259392347, 1.416606338585813, 1.9172080388197343, 2.441373898290609, 2.97405183849164, 3.509773619245798, 4.046588473186084, 4.583799764153893, 5.121156573688722, 5.65856748165506, 6.195998761273034, 6.73343781061923, 7.27087986034895, 7.808323081453621, 8.345766779065295, 8.883210684856705, 9.42065435993204, 9.95809545429086, 10.495525067885248, 11.032701212243264, 11.569459725468482, 12.105881494956291, 12.639848842478347, 13.170404027598396, 13.696230774025741, 14.212094497087538, 14.710285733882944, 15.182074290345028, 15.615467507715714, 15.995415105355441, 16.304237283517136, 16.556536425630586, 16.756640893081293, 16.908838905866926, 17.02489999808513, 17.10776892394823], [7.17533324485201, 6.57800005866171, 5.980673554454651, 5.383365905038074, 4.786112237315332, 4.189015413108503, 3.5923810616832346, 2.9971298954437975, 2.4060660678415666, 1.827743136845358, 1.2875095026465941, 0.8517556172944293, 0.6398722113186518, 0.7313448878288137, 1.0629891427743556, 1.5195034402578456, 2.027309732539165, 2.554138359071345, 3.0877822345282495, 3.623854634992453, 4.160797827005987, 4.698056629967225, 5.235431248616616, 5.772848917366062, 6.3102827962943815, 6.8477228572278825, 7.385165305392516, 7.92260868868214, 8.460052462812985, 8.997496361302892, 9.534940192550742, 10.072387788156671, 10.609836643241556, 11.14688700000656, 11.683671689645466, 12.21977070089175, 12.75337520715079, 13.283324928304744, 13.808110990271244, 14.32097798867433, 14.814206897886148, 15.279926881325881, 15.702789206359668, 16.069576809229996, 16.369008340234597, 16.609663947840556, 16.79694069997432, 16.94275171848608, 17.04910633456557, 17.124110025561663], [7.061048104364324, 6.463715893340317, 5.866392080181715, 5.269091963312838, 4.671859687599291, 4.074824510322838, 3.47837039664898, 2.883653289878643, 2.29418721150849, 1.7206321808406564, 1.194060159405804, 0.7920440641781965, 0.638062565755692, 0.7868761246332429, 1.15288657700833, 1.6245936279808446, 2.1382449178644642, 2.6672102288890813, 3.2016255357076764, 3.73797738086133, 4.27502276653445, 4.812319387240419, 5.349708178613073, 5.887131227199392, 6.4245671744620285, 6.962008040834896, 7.499450806754479, 8.036894311804703, 8.5743381157288, 9.111782142272766, 9.64922569148239, 10.186666823041612, 10.72413023834337, 11.261080834956076, 11.797832488561506, 12.333629026144196, 12.86673587376286, 13.395937092380251, 13.919343234434983, 14.429581345251098, 14.919835194254768, 15.3776433473996, 15.793610383492279, 16.143181673166183, 16.430538478832982, 16.657986968496793, 16.832538431976303, 16.969917350100353, 17.071102934830343, 17.14131005092059], [6.946763111228122, 6.349432125788021, 5.752111694697289, 5.15482104443438, 4.557615652080999, 3.9606579373584716, 3.364430231103331, 2.770383417471615, 2.182917825539161, 1.6152906261470068, 1.1053602753735434, 0.7423269228214681, 0.6490153943090747, 0.851559519647512, 1.2472293946801591, 1.7314748174337113, 2.2498509011350434, 2.780527932444329, 3.3155588769477102, 3.8521333651822456, 4.389260113380112, 4.926586833328175, 5.463986903122494, 6.001414232590038, 6.538851825603141, 7.076293332536008, 7.613736350200258, 8.151179960829465, 8.68862377956476, 9.226067459658571, 9.763511786902313, 10.300955344619304, 10.838389365826858, 11.375271512043971, 11.91202369555911, 12.447469664610319, 12.980108907198447, 13.508560285835921, 14.030256448403895, 14.536228630522658, 15.022694483000823, 15.472878930538664, 15.875571564907009, 16.21595281478276, 16.486942151878516, 16.703945273956872, 16.871775718942825, 16.997518826003848, 17.090034473898598, 17.156546603723182], [6.8324783032827385, 6.235148858147413, 5.6378326775706595, 5.0405539244563435, 4.443382315744193, 3.8465219317263335, 3.250578592077656, 2.6573727645827194, 2.0724095208848747, 1.5121326142861822, 1.0223290184267673, 0.7036330333201958, 0.6724667319771577, 0.9243432298296261, 1.3452855028987578, 1.839811637276832, 2.3619955573086586, 2.894042031986879, 3.4295639909105056, 3.9663158186094565, 4.503507336311266, 5.040858010896562, 5.578267055608964, 6.11569779143391, 6.6531366938643055, 7.190578710516791, 7.728021930154923, 8.26546561629226, 8.802909512285934, 9.340353278756554, 9.877798695915674, 10.41523915489546, 10.952652511515835, 11.489455789149618, 12.026314508901732, 12.561306565869955, 13.093129912621906, 13.620732773974627, 14.140349166255374, 14.64491411992864, 15.123209306977952, 15.566686435018482, 15.958645451744855, 16.282433792130345, 16.541461442149043, 16.747642057672188, 16.90593725323159, 17.023684050224958, 17.108603266385874, 17.17026593886685], [6.718193728084191, 6.120866218788266, 5.52355538014503, 4.9262915785961106, 4.329162423820786, 3.7324243266975516, 3.1368380913306617, 2.5446869507742798, 1.9628500895032914, 1.4116572710164175, 0.9459868162146418, 0.6768347532254811, 0.7078677144806442, 1.0041809598212457, 1.4464171267812813, 1.9493268062277642, 2.474572008841487, 3.0077129053922556, 3.5436262953687523, 4.080519346847219, 4.617762419854412, 5.155132157955089, 5.692548344382274, 6.2299817906815775, 6.767421735047052, 7.304864157438889, 7.8423075395883375, 8.379751285694507, 8.917195243499975, 9.454639502529236, 9.992083514657834, 10.529527913007565, 11.066883897650163, 11.603640624221917, 12.140388220472934, 12.674877638298462, 13.2062763199202, 13.733304788954106, 14.250381290970996, 14.749229491562064, 15.223889486023783, 15.659858499163123, 16.036564026364115, 16.34703812672417, 16.59756483117474, 16.79150237164454, 16.937590534655197, 17.04752409752732, 17.12513271256973, 17.1819460220584], [6.603909445400117, 6.0065843690408105, 5.409280243957495, 4.8120352323057825, 4.214959425165246, 3.6183749576047917, 3.023237077049951, 2.4324079053502627, 1.8544712840507926, 1.3144598929439428, 0.8774325722990327, 0.6625757918757347, 0.754432907359958, 1.0900736770627997, 1.5500777446064742, 2.059792729050188, 2.5874940788940815, 3.1215088429668083, 3.657734157418503, 4.194739652648626, 4.732023759439195, 5.2694086680410885, 5.806830537335463, 6.344266140347215, 6.88170691392594, 7.419149658831789, 7.956593165964886, 8.49403698641361, 9.031480952699047, 9.56892457820117, 10.106369558570314, 10.643816187388548, 11.181081024726389, 11.717816146966086, 12.254420507745161, 12.788532671045568, 13.319186886147245, 13.844836980906484, 14.36056320904967, 14.855356871458502, 15.324167806673358, 15.748236735065877, 16.111670310478647, 16.4112977099765, 16.646514124771635, 16.830828876017218, 16.967160165273466, 17.07198424032016, 17.142805298046795, 17.193595501640544], [6.489625530345218, 5.892303511656992, 5.295007823882468, 4.697786425414989, 4.100777652159513, 3.5043861704702186, 2.9098110666500974, 2.3206377499385122, 1.7475577974415282, 1.2212413221614058, 0.8178053942253676, 0.6612125979883046, 0.8112042801363732, 1.1810986844244702, 1.6558054111371843, 2.171023704104571, 2.700692463211616, 3.2354044967592204, 3.7718783018356477, 4.308973313541461, 4.846290077774882, 5.383687058504277, 5.921113449728847, 6.458550768814512, 6.99599220187274, 7.533435203645538, 8.070878814406957, 8.608322676987358, 9.14576655460591, 9.683210971027657, 10.220655788104756, 10.758101719710995, 11.2952775100849, 11.8320785913641, 12.368345879398376, 12.902152072060069, 13.432120166732124, 13.956370453628685, 14.468870303535434, 14.959928068333063, 15.421062344871384, 15.836690131278495, 16.186748487477946, 16.469821999669747, 16.692718765422725, 16.866965820511723, 16.99868123736662, 17.091698153722476, 17.158511705739272, 17.203955716576814], [6.375342077321595, 5.77802390144284, 5.1807388172076285, 4.583547092677358, 3.9866225463632303, 3.3904734580837848, 2.7966045245624738, 2.2095035086119172, 1.642457358554346, 1.1328134826161267, 0.7682300007428287, 0.6727799466090572, 0.8771207555820172, 1.2764267580238797, 1.7632140769395417, 2.28286894891412, 2.814111544359231, 3.349379623114696, 3.8860513363452434, 4.423217604284444, 4.960560358190199, 5.497966945242823, 6.035396934598843, 6.572835619132708, 7.110277577236516, 7.647720783708472, 8.1851644687369, 8.722608342287447, 9.260052458035592, 9.797495654072922, 10.334943690245316, 10.872365156366337, 11.409471617164932, 11.946239517452586, 12.482206293497235, 13.015504595366748, 13.544763754745302, 14.068009922902238, 14.57670098315254, 15.064312107814953, 15.517196883336055, 15.919086138616581, 16.256474503210796, 16.52684761769198, 16.739987747005816, 16.900616553518233, 17.024395542863584, 17.109010321186645, 17.172009088433413, 17.21304393964176], [6.261059204970482, 5.663745858618416, 5.066474100159608, 4.4693196648936, 3.8725009413949203, 3.2766562544506237, 2.683673060714795, 2.0991627670891866, 1.5395916727064138, 1.0500984059992275, 0.7297480337470034, 0.6969874827927708, 0.9510840999087832, 1.3753292829902968, 1.8719841211462733, 2.3952065188355314, 2.927706764799299, 3.4634180669121397, 4.000247371347389, 4.537470355164276, 5.074833791517545, 5.612248022600694, 6.149680874982233, 6.687120646085281, 7.22456302192198, 7.7620063920068905, 8.299450136266865, 8.836894037176222, 9.374338156487127, 9.91178266635317, 10.449229724265413, 10.986650674407718, 11.523664266610721, 12.060401616039663, 12.596051092686267, 13.128684667362625, 13.657115656273456, 14.178451688307005, 14.684058167574173, 15.16725987502455, 15.610797353444248, 16.0016655224764, 16.325242493246822, 16.583035860262353, 16.782670961746845, 16.935422377360748, 17.0482614284911, 17.12660063904058, 17.183623564488723, 17.221693042774177], [6.1467770623948175, 5.549469785604215, 4.952214773782692, 4.355107195833025, 3.758421417328939, 3.1629589254407344, 2.5710861377524683, 1.9898103877429552, 1.4394676520866054, 0.9741175820000176, 0.7032414414934027, 0.7332479264448375, 1.032014485624085, 1.4771778325926486, 1.9818529403115603, 2.5079381084280143, 3.0414424765234283, 3.5775069435393885, 4.1144617157187735, 4.65172983896747, 5.189109733775322, 5.726530047339899, 6.263965177819785, 6.801405813293171, 7.3388485214533175, 7.876292017222771, 8.413735823545831, 8.951179761040668, 9.48862351961254, 10.026067388719484, 10.56351527360086, 11.100962063841475, 11.637851528199027, 12.17465758698427, 12.709883761181384, 13.241880780091103, 13.769373487516694, 14.288836836712827, 14.79027190961557, 15.266645817371916, 15.70501765058767, 16.080415297425656, 16.391005366842172, 16.633386573111956, 16.82284128936412, 16.965680860379532, 17.069697373157705, 17.142842145318316, 17.19540503628124, 17.228909391136195], [6.03249583697859, 5.435196188111299, 4.83796222155682, 4.240913521480387, 3.644394744325818, 3.0494120015928514, 2.4589303868406094, 1.8816863478051848, 1.342687984086118, 0.905968410299029, 0.6893579018266821, 0.7807313539943606, 1.1188922750226051, 1.5814386139545453, 2.0926061209373477, 2.620984674655776, 3.155290190960275, 3.6916359817215874, 4.228690633736075, 4.765994680870824, 5.303387672476447, 5.840812825917083, 6.378249769029148, 6.915691092391282, 7.453134064593375, 7.990577664639559, 8.528021513047733, 9.065465502942317, 9.602909260384967, 10.140352442020417, 10.67779631202526, 11.215218905637233, 11.75205478536936, 12.288841956429568, 12.823618707074212, 13.35500387663204, 13.88136026325952, 14.398258854239312, 14.89682066489895, 15.366711354314216, 15.790744630042765, 16.157442979004937, 16.45035199032139, 16.683903630356674, 16.863210215351867, 16.993876635016296, 17.092354359756577, 17.160000062354474, 17.20518205554703, 17.234721280285424], [5.918215764212272, 5.320925701636357, 4.723718181745106, 4.126743459754566, 3.5304344373941405, 2.936053708347281, 2.3473136411285807, 1.7750846909833828, 1.2499595734346804, 0.8467852701148187, 0.6884504208003602, 0.8384354910170082, 1.2107854859222376, 1.687663863992604, 2.2040694825291833, 2.7342827954789435, 3.2692271612021537, 3.805796996603056, 4.342931151005553, 4.880263786633573, 5.417667199788756, 5.955096204308005, 6.492534589720659, 7.029976460482667, 7.567419642561521, 8.10486332447416, 8.642307188224173, 9.179751176380794, 9.717194895901553, 10.254640802319507, 10.792079654205942, 11.329463394790926, 11.866222352115095, 12.402896292277036, 12.937229744588704, 13.467955495373495, 13.99363614956191, 14.507500164407091, 15.001855645289387, 15.464773776192814, 15.881226703012155, 16.231052294086947, 16.51358456234567, 16.730022859537446, 16.899719218654006, 17.023023155536144, 17.110685063094277, 17.17355612823833, 17.21586389042175, 17.239376255851706], [5.8039371400384265, 5.206659124743234, 4.609484838214703, 4.012603060848993, 3.4165574492283675, 2.822931859351213, 2.2363697994116634, 1.670363450684572, 1.162097803123284, 0.7976845832667359, 0.7005424116089072, 0.9052604724961089, 1.306864463073216, 1.7954818091238578, 2.316102108311322, 2.8477816683191253, 3.3832352376543926, 3.919983467924355, 4.457180899630799, 4.994536285387823, 5.531947991178507, 6.069380059978706, 6.606819592999302, 7.1442618991311635, 7.681705249341601, 8.219148997354646, 8.756592894923541, 9.294036827842966, 9.831481249456068, 10.368922471864703, 10.906364133219924, 11.443654258227633, 11.980414543394126, 12.516949433819635, 13.050798794002775, 13.580841552745744, 14.105254879582231, 14.6159703380635, 15.106210278431671, 15.56088027399645, 15.963315784748017, 16.298596304538282, 16.568320539258306, 16.772361560561844, 16.932543704961404, 17.048421498368864, 17.128421506157963, 17.184869340619972, 17.223195502984197, 17.243875789386024]]}],\n",
       "                        {\"template\": {\"data\": {\"bar\": [{\"error_x\": {\"color\": \"#2a3f5f\"}, \"error_y\": {\"color\": \"#2a3f5f\"}, \"marker\": {\"line\": {\"color\": \"#E5ECF6\", \"width\": 0.5}}, \"type\": \"bar\"}], \"barpolar\": [{\"marker\": {\"line\": {\"color\": \"#E5ECF6\", \"width\": 0.5}}, \"type\": \"barpolar\"}], \"carpet\": [{\"aaxis\": {\"endlinecolor\": \"#2a3f5f\", \"gridcolor\": \"white\", \"linecolor\": \"white\", \"minorgridcolor\": \"white\", \"startlinecolor\": \"#2a3f5f\"}, \"baxis\": {\"endlinecolor\": \"#2a3f5f\", \"gridcolor\": \"white\", \"linecolor\": \"white\", \"minorgridcolor\": \"white\", \"startlinecolor\": \"#2a3f5f\"}, \"type\": \"carpet\"}], \"choropleth\": [{\"colorbar\": {\"outlinewidth\": 0, \"ticks\": \"\"}, \"type\": \"choropleth\"}], \"contour\": [{\"colorbar\": {\"outlinewidth\": 0, \"ticks\": \"\"}, \"colorscale\": [[0.0, \"#0d0887\"], [0.1111111111111111, \"#46039f\"], [0.2222222222222222, \"#7201a8\"], [0.3333333333333333, \"#9c179e\"], [0.4444444444444444, \"#bd3786\"], [0.5555555555555556, \"#d8576b\"], [0.6666666666666666, \"#ed7953\"], [0.7777777777777778, \"#fb9f3a\"], [0.8888888888888888, \"#fdca26\"], [1.0, \"#f0f921\"]], \"type\": \"contour\"}], \"contourcarpet\": [{\"colorbar\": {\"outlinewidth\": 0, \"ticks\": \"\"}, \"type\": \"contourcarpet\"}], \"heatmap\": [{\"colorbar\": {\"outlinewidth\": 0, \"ticks\": \"\"}, \"colorscale\": [[0.0, \"#0d0887\"], [0.1111111111111111, \"#46039f\"], [0.2222222222222222, \"#7201a8\"], [0.3333333333333333, \"#9c179e\"], [0.4444444444444444, \"#bd3786\"], [0.5555555555555556, \"#d8576b\"], [0.6666666666666666, \"#ed7953\"], [0.7777777777777778, \"#fb9f3a\"], [0.8888888888888888, \"#fdca26\"], [1.0, \"#f0f921\"]], \"type\": \"heatmap\"}], \"heatmapgl\": [{\"colorbar\": {\"outlinewidth\": 0, \"ticks\": \"\"}, \"colorscale\": [[0.0, \"#0d0887\"], [0.1111111111111111, \"#46039f\"], [0.2222222222222222, \"#7201a8\"], [0.3333333333333333, \"#9c179e\"], [0.4444444444444444, \"#bd3786\"], [0.5555555555555556, \"#d8576b\"], [0.6666666666666666, \"#ed7953\"], [0.7777777777777778, \"#fb9f3a\"], [0.8888888888888888, \"#fdca26\"], [1.0, \"#f0f921\"]], \"type\": \"heatmapgl\"}], \"histogram\": [{\"marker\": {\"colorbar\": {\"outlinewidth\": 0, \"ticks\": \"\"}}, \"type\": \"histogram\"}], \"histogram2d\": [{\"colorbar\": {\"outlinewidth\": 0, \"ticks\": \"\"}, \"colorscale\": [[0.0, \"#0d0887\"], [0.1111111111111111, \"#46039f\"], [0.2222222222222222, \"#7201a8\"], [0.3333333333333333, \"#9c179e\"], [0.4444444444444444, \"#bd3786\"], [0.5555555555555556, \"#d8576b\"], [0.6666666666666666, \"#ed7953\"], [0.7777777777777778, \"#fb9f3a\"], [0.8888888888888888, \"#fdca26\"], [1.0, \"#f0f921\"]], \"type\": \"histogram2d\"}], \"histogram2dcontour\": [{\"colorbar\": {\"outlinewidth\": 0, \"ticks\": \"\"}, \"colorscale\": [[0.0, \"#0d0887\"], [0.1111111111111111, \"#46039f\"], [0.2222222222222222, \"#7201a8\"], [0.3333333333333333, \"#9c179e\"], [0.4444444444444444, \"#bd3786\"], [0.5555555555555556, \"#d8576b\"], [0.6666666666666666, \"#ed7953\"], [0.7777777777777778, \"#fb9f3a\"], [0.8888888888888888, \"#fdca26\"], [1.0, \"#f0f921\"]], \"type\": \"histogram2dcontour\"}], \"mesh3d\": [{\"colorbar\": {\"outlinewidth\": 0, \"ticks\": \"\"}, \"type\": \"mesh3d\"}], \"parcoords\": [{\"line\": {\"colorbar\": {\"outlinewidth\": 0, \"ticks\": \"\"}}, \"type\": \"parcoords\"}], \"scatter\": [{\"marker\": {\"colorbar\": {\"outlinewidth\": 0, \"ticks\": \"\"}}, \"type\": \"scatter\"}], \"scatter3d\": [{\"line\": {\"colorbar\": {\"outlinewidth\": 0, \"ticks\": \"\"}}, \"marker\": {\"colorbar\": {\"outlinewidth\": 0, \"ticks\": \"\"}}, \"type\": \"scatter3d\"}], \"scattercarpet\": [{\"marker\": {\"colorbar\": {\"outlinewidth\": 0, \"ticks\": \"\"}}, \"type\": \"scattercarpet\"}], \"scattergeo\": [{\"marker\": {\"colorbar\": {\"outlinewidth\": 0, \"ticks\": \"\"}}, \"type\": \"scattergeo\"}], \"scattergl\": [{\"marker\": {\"colorbar\": {\"outlinewidth\": 0, \"ticks\": \"\"}}, \"type\": \"scattergl\"}], \"scattermapbox\": [{\"marker\": {\"colorbar\": {\"outlinewidth\": 0, \"ticks\": \"\"}}, \"type\": \"scattermapbox\"}], \"scatterpolar\": [{\"marker\": {\"colorbar\": {\"outlinewidth\": 0, \"ticks\": \"\"}}, \"type\": \"scatterpolar\"}], \"scatterpolargl\": [{\"marker\": {\"colorbar\": {\"outlinewidth\": 0, \"ticks\": \"\"}}, \"type\": \"scatterpolargl\"}], \"scatterternary\": [{\"marker\": {\"colorbar\": {\"outlinewidth\": 0, \"ticks\": \"\"}}, \"type\": \"scatterternary\"}], \"surface\": [{\"colorbar\": {\"outlinewidth\": 0, \"ticks\": \"\"}, \"colorscale\": [[0.0, \"#0d0887\"], [0.1111111111111111, \"#46039f\"], [0.2222222222222222, \"#7201a8\"], [0.3333333333333333, \"#9c179e\"], [0.4444444444444444, \"#bd3786\"], [0.5555555555555556, \"#d8576b\"], [0.6666666666666666, \"#ed7953\"], [0.7777777777777778, \"#fb9f3a\"], [0.8888888888888888, \"#fdca26\"], [1.0, \"#f0f921\"]], \"type\": \"surface\"}], \"table\": [{\"cells\": {\"fill\": {\"color\": \"#EBF0F8\"}, \"line\": {\"color\": \"white\"}}, \"header\": {\"fill\": {\"color\": \"#C8D4E3\"}, \"line\": {\"color\": \"white\"}}, \"type\": \"table\"}]}, \"layout\": {\"annotationdefaults\": {\"arrowcolor\": \"#2a3f5f\", \"arrowhead\": 0, \"arrowwidth\": 1}, \"colorscale\": {\"diverging\": [[0, \"#8e0152\"], [0.1, \"#c51b7d\"], [0.2, \"#de77ae\"], [0.3, \"#f1b6da\"], [0.4, \"#fde0ef\"], [0.5, \"#f7f7f7\"], [0.6, \"#e6f5d0\"], [0.7, \"#b8e186\"], [0.8, \"#7fbc41\"], [0.9, \"#4d9221\"], [1, \"#276419\"]], \"sequential\": [[0.0, \"#0d0887\"], [0.1111111111111111, \"#46039f\"], [0.2222222222222222, \"#7201a8\"], [0.3333333333333333, \"#9c179e\"], [0.4444444444444444, \"#bd3786\"], [0.5555555555555556, \"#d8576b\"], [0.6666666666666666, \"#ed7953\"], [0.7777777777777778, \"#fb9f3a\"], [0.8888888888888888, \"#fdca26\"], [1.0, \"#f0f921\"]], \"sequentialminus\": [[0.0, \"#0d0887\"], [0.1111111111111111, \"#46039f\"], [0.2222222222222222, \"#7201a8\"], [0.3333333333333333, \"#9c179e\"], [0.4444444444444444, \"#bd3786\"], [0.5555555555555556, \"#d8576b\"], [0.6666666666666666, \"#ed7953\"], [0.7777777777777778, \"#fb9f3a\"], [0.8888888888888888, \"#fdca26\"], [1.0, \"#f0f921\"]]}, \"colorway\": [\"#636efa\", \"#EF553B\", \"#00cc96\", \"#ab63fa\", \"#FFA15A\", \"#19d3f3\", \"#FF6692\", \"#B6E880\", \"#FF97FF\", \"#FECB52\"], \"font\": {\"color\": \"#2a3f5f\"}, \"geo\": {\"bgcolor\": \"white\", \"lakecolor\": \"white\", \"landcolor\": \"#E5ECF6\", \"showlakes\": true, \"showland\": true, \"subunitcolor\": \"white\"}, \"hoverlabel\": {\"align\": \"left\"}, \"hovermode\": \"closest\", \"mapbox\": {\"style\": \"light\"}, \"paper_bgcolor\": \"white\", \"plot_bgcolor\": \"#E5ECF6\", \"polar\": {\"angularaxis\": {\"gridcolor\": \"white\", \"linecolor\": \"white\", \"ticks\": \"\"}, \"bgcolor\": \"#E5ECF6\", \"radialaxis\": {\"gridcolor\": \"white\", \"linecolor\": \"white\", \"ticks\": \"\"}}, \"scene\": {\"xaxis\": {\"backgroundcolor\": \"#E5ECF6\", \"gridcolor\": \"white\", \"gridwidth\": 2, \"linecolor\": \"white\", \"showbackground\": true, \"ticks\": \"\", \"zerolinecolor\": \"white\"}, \"yaxis\": {\"backgroundcolor\": \"#E5ECF6\", \"gridcolor\": \"white\", \"gridwidth\": 2, \"linecolor\": \"white\", \"showbackground\": true, \"ticks\": \"\", \"zerolinecolor\": \"white\"}, \"zaxis\": {\"backgroundcolor\": \"#E5ECF6\", \"gridcolor\": \"white\", \"gridwidth\": 2, \"linecolor\": \"white\", \"showbackground\": true, \"ticks\": \"\", \"zerolinecolor\": \"white\"}}, \"shapedefaults\": {\"line\": {\"color\": \"#2a3f5f\"}}, \"ternary\": {\"aaxis\": {\"gridcolor\": \"white\", \"linecolor\": \"white\", \"ticks\": \"\"}, \"baxis\": {\"gridcolor\": \"white\", \"linecolor\": \"white\", \"ticks\": \"\"}, \"bgcolor\": \"#E5ECF6\", \"caxis\": {\"gridcolor\": \"white\", \"linecolor\": \"white\", \"ticks\": \"\"}}, \"title\": {\"x\": 0.05}, \"xaxis\": {\"automargin\": true, \"gridcolor\": \"white\", \"linecolor\": \"white\", \"ticks\": \"\", \"zerolinecolor\": \"white\", \"zerolinewidth\": 2}, \"yaxis\": {\"automargin\": true, \"gridcolor\": \"white\", \"linecolor\": \"white\", \"ticks\": \"\", \"zerolinecolor\": \"white\", \"zerolinewidth\": 2}}}, \"yaxis\": {\"autorange\": \"reversed\"}},\n",
       "                        {\"responsive\": true}\n",
       "                    ).then(function(){\n",
       "                            \n",
       "var gd = document.getElementById('8d003da9-3478-4549-9235-31b53c5e57a9');\n",
       "var x = new MutationObserver(function (mutations, observer) {{\n",
       "        var display = window.getComputedStyle(gd).display;\n",
       "        if (!display || display === 'none') {{\n",
       "            console.log([gd, 'removed!']);\n",
       "            Plotly.purge(gd);\n",
       "            observer.disconnect();\n",
       "        }}\n",
       "}});\n",
       "\n",
       "// Listen for the removal of the full notebook cells\n",
       "var notebookContainer = gd.closest('#notebook-container');\n",
       "if (notebookContainer) {{\n",
       "    x.observe(notebookContainer, {childList: true});\n",
       "}}\n",
       "\n",
       "// Listen for the clearing of the current output cell\n",
       "var outputEl = gd.closest('.output');\n",
       "if (outputEl) {{\n",
       "    x.observe(outputEl, {childList: true});\n",
       "}}\n",
       "\n",
       "                        })\n",
       "                };\n",
       "                });\n",
       "            </script>\n",
       "        </div>"
      ]
     },
     "metadata": {},
     "output_type": "display_data"
    }
   ],
   "source": [
    "theta0s = np.linspace(-11, 0, 20)\n",
    "theta1s = np.linspace(0, 0.3, 20)\n",
    "loss_contour_plot(theta0s, theta1s, mean_ce_loss, nba[\"PTS\"], nba[\"WON\"], flip_axes = True)"
   ]
  },
  {
   "cell_type": "code",
   "execution_count": 269,
   "metadata": {},
   "outputs": [],
   "source": [
    "def get_train_and_validation_ce_loss(C, degree):\n",
    "    c_model = Pipeline([        \n",
    "        ('scale', StandardScaler()),        \n",
    "        ('poly', PolynomialFeatures(degree = degree)),\n",
    "        ('model', LogisticRegression(fit_intercept = False, C = C, max_iter=10000))\n",
    "    ])   \n",
    "    c_model.fit(p3_train[[\"fare\", \"age\", \"pclass\",  \"sex\"]], p3_train[\"survived\"])\n",
    "    \n",
    "    training_predictions = c_model.predict_proba(p3_train[[\"fare\", \"age\", \"pclass\",  \"sex\"]])\n",
    "    train_ce = log_loss(p3_train[\"survived\"], training_predictions)\n",
    "    \n",
    "    validation_predictions = c_model.predict_proba(p3_validation[[\"fare\", \"age\", \"pclass\",  \"sex\"]])\n",
    "    validation_ce = log_loss(p3_validation[\"survived\"], validation_predictions)    \n",
    "    \n",
    "    return train_ce, validation_ce"
   ]
  },
  {
   "cell_type": "code",
   "execution_count": 270,
   "metadata": {},
   "outputs": [
    {
     "data": {
      "text/plain": [
       "Text(0.5,0,'C')"
      ]
     },
     "execution_count": 270,
     "metadata": {},
     "output_type": "execute_result"
    },
    {
     "data": {
      "image/png": "[encoded data removed]",
      "text/plain": [
       "<Figure size 600x600 with 1 Axes>"
      ]
     },
     "metadata": {},
     "output_type": "display_data"
    }
   ],
   "source": [
    "ce_losses = [get_train_and_validation_ce_loss(C, 2) for C in 10**np.linspace(-7, 5, 100)]\n",
    "plt.semilogx(10**np.linspace(-7, 5, 100), ce_losses)\n",
    "plt.legend(['train', 'validation'])\n",
    "plt.ylabel('Mean Cross Entropy Loss')\n",
    "plt.xlabel('C')\n",
    "#plt.savefig(\"cross-entropy-loss-vs-c-degree-2.png\", dpi = 300, bbox_inches = \"tight\")"
   ]
  },
  {
   "cell_type": "code",
   "execution_count": 271,
   "metadata": {},
   "outputs": [
    {
     "data": {
      "text/plain": [
       "Text(0.5,0,'C')"
      ]
     },
     "execution_count": 271,
     "metadata": {},
     "output_type": "execute_result"
    },
    {
     "data": {
      "image/png": "[encoded data removed]",
      "text/plain": [
       "<Figure size 600x600 with 1 Axes>"
      ]
     },
     "metadata": {},
     "output_type": "display_data"
    }
   ],
   "source": [
    "ce_losses = [get_train_and_validation_ce_loss(C, 4) for C in 10**np.linspace(-7, 5, 100)]\n",
    "plt.semilogx(10**np.linspace(-7, 5, 100), ce_losses)\n",
    "plt.legend(['train', 'validation'])\n",
    "plt.ylabel('Mean Cross Entropy Loss')\n",
    "plt.xlabel('C')\n",
    "#plt.savefig(\"cross-entropy-loss-vs-c-degree-4.png\", dpi = 300, bbox_inches = \"tight\")"
   ]
  },
  {
   "cell_type": "markdown",
   "metadata": {},
   "source": [
    "#### Intercept Regularization"
   ]
  },
  {
   "cell_type": "markdown",
   "metadata": {},
   "source": [
    "Throughout the code above, we've ben setting `fit_intercept = False`. The reason for this is that we are using the `PolynomialFeatures` module, which automatically creates a feature that is always equal to 1."
   ]
  },
  {
   "cell_type": "markdown",
   "metadata": {},
   "source": [
    "For example, if we pick degree = 2 and use the features \"fare\", \"age\", \"pclass\", and \"sex\", we'll get the following features:"
   ]
  },
  {
   "cell_type": "code",
   "execution_count": 272,
   "metadata": {},
   "outputs": [
    {
     "data": {
      "text/plain": [
       "['1',\n",
       " 'fare',\n",
       " 'age',\n",
       " 'pclass',\n",
       " 'sex',\n",
       " 'fare^2',\n",
       " 'fare age',\n",
       " 'fare pclass',\n",
       " 'fare sex',\n",
       " 'age^2',\n",
       " 'age pclass',\n",
       " 'age sex',\n",
       " 'pclass^2',\n",
       " 'pclass sex',\n",
       " 'sex^2']"
      ]
     },
     "execution_count": 272,
     "metadata": {},
     "output_type": "execute_result"
    }
   ],
   "source": [
    "pf = PolynomialFeatures(degree=2)\n",
    "pf.fit(p3_train[[\"fare\", \"age\", \"pclass\", \"sex\"]])\n",
    "feature_names = pf.get_feature_names([\"fare\", \"age\", \"pclass\", \"sex\"])\n",
    "feature_names"
   ]
  },
  {
   "cell_type": "code",
   "execution_count": 273,
   "metadata": {},
   "outputs": [
    {
     "data": {
      "text/html": [
       "<div>\n",
       "<style scoped>\n",
       "    .dataframe tbody tr th:only-of-type {\n",
       "        vertical-align: middle;\n",
       "    }\n",
       "\n",
       "    .dataframe tbody tr th {\n",
       "        vertical-align: top;\n",
       "    }\n",
       "\n",
       "    .dataframe thead th {\n",
       "        text-align: right;\n",
       "    }\n",
       "</style>\n",
       "<table border=\"1\" class=\"dataframe\">\n",
       "  <thead>\n",
       "    <tr style=\"text-align: right;\">\n",
       "      <th></th>\n",
       "      <th>1</th>\n",
       "      <th>fare</th>\n",
       "      <th>age</th>\n",
       "      <th>pclass</th>\n",
       "      <th>sex</th>\n",
       "      <th>fare^2</th>\n",
       "      <th>fare age</th>\n",
       "      <th>fare pclass</th>\n",
       "      <th>fare sex</th>\n",
       "      <th>age^2</th>\n",
       "      <th>age pclass</th>\n",
       "      <th>age sex</th>\n",
       "      <th>pclass^2</th>\n",
       "      <th>pclass sex</th>\n",
       "      <th>sex^2</th>\n",
       "    </tr>\n",
       "  </thead>\n",
       "  <tbody>\n",
       "    <tr>\n",
       "      <td>0</td>\n",
       "      <td>1.0</td>\n",
       "      <td>7.2500</td>\n",
       "      <td>22.0</td>\n",
       "      <td>3.0</td>\n",
       "      <td>0.0</td>\n",
       "      <td>52.562500</td>\n",
       "      <td>159.5000</td>\n",
       "      <td>21.7500</td>\n",
       "      <td>0.0000</td>\n",
       "      <td>484.0</td>\n",
       "      <td>66.0</td>\n",
       "      <td>0.0</td>\n",
       "      <td>9.0</td>\n",
       "      <td>0.0</td>\n",
       "      <td>0.0</td>\n",
       "    </tr>\n",
       "    <tr>\n",
       "      <td>1</td>\n",
       "      <td>1.0</td>\n",
       "      <td>71.2833</td>\n",
       "      <td>38.0</td>\n",
       "      <td>1.0</td>\n",
       "      <td>1.0</td>\n",
       "      <td>5081.308859</td>\n",
       "      <td>2708.7654</td>\n",
       "      <td>71.2833</td>\n",
       "      <td>71.2833</td>\n",
       "      <td>1444.0</td>\n",
       "      <td>38.0</td>\n",
       "      <td>38.0</td>\n",
       "      <td>1.0</td>\n",
       "      <td>1.0</td>\n",
       "      <td>1.0</td>\n",
       "    </tr>\n",
       "    <tr>\n",
       "      <td>2</td>\n",
       "      <td>1.0</td>\n",
       "      <td>7.9250</td>\n",
       "      <td>26.0</td>\n",
       "      <td>3.0</td>\n",
       "      <td>1.0</td>\n",
       "      <td>62.805625</td>\n",
       "      <td>206.0500</td>\n",
       "      <td>23.7750</td>\n",
       "      <td>7.9250</td>\n",
       "      <td>676.0</td>\n",
       "      <td>78.0</td>\n",
       "      <td>26.0</td>\n",
       "      <td>9.0</td>\n",
       "      <td>3.0</td>\n",
       "      <td>1.0</td>\n",
       "    </tr>\n",
       "    <tr>\n",
       "      <td>3</td>\n",
       "      <td>1.0</td>\n",
       "      <td>53.1000</td>\n",
       "      <td>35.0</td>\n",
       "      <td>1.0</td>\n",
       "      <td>1.0</td>\n",
       "      <td>2819.610000</td>\n",
       "      <td>1858.5000</td>\n",
       "      <td>53.1000</td>\n",
       "      <td>53.1000</td>\n",
       "      <td>1225.0</td>\n",
       "      <td>35.0</td>\n",
       "      <td>35.0</td>\n",
       "      <td>1.0</td>\n",
       "      <td>1.0</td>\n",
       "      <td>1.0</td>\n",
       "    </tr>\n",
       "    <tr>\n",
       "      <td>4</td>\n",
       "      <td>1.0</td>\n",
       "      <td>8.0500</td>\n",
       "      <td>35.0</td>\n",
       "      <td>3.0</td>\n",
       "      <td>0.0</td>\n",
       "      <td>64.802500</td>\n",
       "      <td>281.7500</td>\n",
       "      <td>24.1500</td>\n",
       "      <td>0.0000</td>\n",
       "      <td>1225.0</td>\n",
       "      <td>105.0</td>\n",
       "      <td>0.0</td>\n",
       "      <td>9.0</td>\n",
       "      <td>0.0</td>\n",
       "      <td>0.0</td>\n",
       "    </tr>\n",
       "    <tr>\n",
       "      <td>...</td>\n",
       "      <td>...</td>\n",
       "      <td>...</td>\n",
       "      <td>...</td>\n",
       "      <td>...</td>\n",
       "      <td>...</td>\n",
       "      <td>...</td>\n",
       "      <td>...</td>\n",
       "      <td>...</td>\n",
       "      <td>...</td>\n",
       "      <td>...</td>\n",
       "      <td>...</td>\n",
       "      <td>...</td>\n",
       "      <td>...</td>\n",
       "      <td>...</td>\n",
       "      <td>...</td>\n",
       "    </tr>\n",
       "    <tr>\n",
       "      <td>595</td>\n",
       "      <td>1.0</td>\n",
       "      <td>53.1000</td>\n",
       "      <td>19.0</td>\n",
       "      <td>1.0</td>\n",
       "      <td>0.0</td>\n",
       "      <td>2819.610000</td>\n",
       "      <td>1008.9000</td>\n",
       "      <td>53.1000</td>\n",
       "      <td>0.0000</td>\n",
       "      <td>361.0</td>\n",
       "      <td>19.0</td>\n",
       "      <td>0.0</td>\n",
       "      <td>1.0</td>\n",
       "      <td>0.0</td>\n",
       "      <td>0.0</td>\n",
       "    </tr>\n",
       "    <tr>\n",
       "      <td>596</td>\n",
       "      <td>1.0</td>\n",
       "      <td>7.7500</td>\n",
       "      <td>31.0</td>\n",
       "      <td>3.0</td>\n",
       "      <td>0.0</td>\n",
       "      <td>60.062500</td>\n",
       "      <td>240.2500</td>\n",
       "      <td>23.2500</td>\n",
       "      <td>0.0000</td>\n",
       "      <td>961.0</td>\n",
       "      <td>93.0</td>\n",
       "      <td>0.0</td>\n",
       "      <td>9.0</td>\n",
       "      <td>0.0</td>\n",
       "      <td>0.0</td>\n",
       "    </tr>\n",
       "    <tr>\n",
       "      <td>597</td>\n",
       "      <td>1.0</td>\n",
       "      <td>23.0000</td>\n",
       "      <td>4.0</td>\n",
       "      <td>2.0</td>\n",
       "      <td>1.0</td>\n",
       "      <td>529.000000</td>\n",
       "      <td>92.0000</td>\n",
       "      <td>46.0000</td>\n",
       "      <td>23.0000</td>\n",
       "      <td>16.0</td>\n",
       "      <td>8.0</td>\n",
       "      <td>4.0</td>\n",
       "      <td>4.0</td>\n",
       "      <td>2.0</td>\n",
       "      <td>1.0</td>\n",
       "    </tr>\n",
       "    <tr>\n",
       "      <td>598</td>\n",
       "      <td>1.0</td>\n",
       "      <td>12.4750</td>\n",
       "      <td>6.0</td>\n",
       "      <td>3.0</td>\n",
       "      <td>0.0</td>\n",
       "      <td>155.625625</td>\n",
       "      <td>74.8500</td>\n",
       "      <td>37.4250</td>\n",
       "      <td>0.0000</td>\n",
       "      <td>36.0</td>\n",
       "      <td>18.0</td>\n",
       "      <td>0.0</td>\n",
       "      <td>9.0</td>\n",
       "      <td>0.0</td>\n",
       "      <td>0.0</td>\n",
       "    </tr>\n",
       "    <tr>\n",
       "      <td>599</td>\n",
       "      <td>1.0</td>\n",
       "      <td>9.5000</td>\n",
       "      <td>33.0</td>\n",
       "      <td>3.0</td>\n",
       "      <td>0.0</td>\n",
       "      <td>90.250000</td>\n",
       "      <td>313.5000</td>\n",
       "      <td>28.5000</td>\n",
       "      <td>0.0000</td>\n",
       "      <td>1089.0</td>\n",
       "      <td>99.0</td>\n",
       "      <td>0.0</td>\n",
       "      <td>9.0</td>\n",
       "      <td>0.0</td>\n",
       "      <td>0.0</td>\n",
       "    </tr>\n",
       "  </tbody>\n",
       "</table>\n",
       "<p>600 rows × 15 columns</p>\n",
       "</div>"
      ],
      "text/plain": [
       "       1     fare   age  pclass  sex       fare^2   fare age  fare pclass  \\\n",
       "0    1.0   7.2500  22.0     3.0  0.0    52.562500   159.5000      21.7500   \n",
       "1    1.0  71.2833  38.0     1.0  1.0  5081.308859  2708.7654      71.2833   \n",
       "2    1.0   7.9250  26.0     3.0  1.0    62.805625   206.0500      23.7750   \n",
       "3    1.0  53.1000  35.0     1.0  1.0  2819.610000  1858.5000      53.1000   \n",
       "4    1.0   8.0500  35.0     3.0  0.0    64.802500   281.7500      24.1500   \n",
       "..   ...      ...   ...     ...  ...          ...        ...          ...   \n",
       "595  1.0  53.1000  19.0     1.0  0.0  2819.610000  1008.9000      53.1000   \n",
       "596  1.0   7.7500  31.0     3.0  0.0    60.062500   240.2500      23.2500   \n",
       "597  1.0  23.0000   4.0     2.0  1.0   529.000000    92.0000      46.0000   \n",
       "598  1.0  12.4750   6.0     3.0  0.0   155.625625    74.8500      37.4250   \n",
       "599  1.0   9.5000  33.0     3.0  0.0    90.250000   313.5000      28.5000   \n",
       "\n",
       "     fare sex   age^2  age pclass  age sex  pclass^2  pclass sex  sex^2  \n",
       "0      0.0000   484.0        66.0      0.0       9.0         0.0    0.0  \n",
       "1     71.2833  1444.0        38.0     38.0       1.0         1.0    1.0  \n",
       "2      7.9250   676.0        78.0     26.0       9.0         3.0    1.0  \n",
       "3     53.1000  1225.0        35.0     35.0       1.0         1.0    1.0  \n",
       "4      0.0000  1225.0       105.0      0.0       9.0         0.0    0.0  \n",
       "..        ...     ...         ...      ...       ...         ...    ...  \n",
       "595    0.0000   361.0        19.0      0.0       1.0         0.0    0.0  \n",
       "596    0.0000   961.0        93.0      0.0       9.0         0.0    0.0  \n",
       "597   23.0000    16.0         8.0      4.0       4.0         2.0    1.0  \n",
       "598    0.0000    36.0        18.0      0.0       9.0         0.0    0.0  \n",
       "599    0.0000  1089.0        99.0      0.0       9.0         0.0    0.0  \n",
       "\n",
       "[600 rows x 15 columns]"
      ]
     },
     "execution_count": 273,
     "metadata": {},
     "output_type": "execute_result"
    }
   ],
   "source": [
    "pd.DataFrame(pf.transform(p3_train[[\"fare\", \"age\", \"pclass\", \"sex\"]]),\n",
    "            columns = feature_names)"
   ]
  },
  {
   "cell_type": "markdown",
   "metadata": {},
   "source": [
    "If we set `fit_intercept = False`, then our first coefficient is our intercept."
   ]
  },
  {
   "cell_type": "code",
   "execution_count": 274,
   "metadata": {},
   "outputs": [],
   "source": [
    "unregularized_model_intercept_false = Pipeline([        \n",
    "    ('scale', StandardScaler()),        \n",
    "    ('poly', PolynomialFeatures(degree=1)),\n",
    "    ('model', LogisticRegression(fit_intercept=False, penalty = 'none'))\n",
    "])   \n",
    "unregularized_model_intercept_false.fit(p3_train[[\"fare\", \"age\", \"pclass\",  \"sex\"]], \n",
    "                                        p3_train[\"survived\"]);"
   ]
  },
  {
   "cell_type": "code",
   "execution_count": 275,
   "metadata": {},
   "outputs": [
    {
     "data": {
      "text/plain": [
       "array([[-0.5120583 , -0.00927245, -0.47776382, -1.06434141,  1.19627839]])"
      ]
     },
     "execution_count": 275,
     "metadata": {},
     "output_type": "execute_result"
    }
   ],
   "source": [
    "unregularized_model_intercept_false.named_steps['model'].coef_"
   ]
  },
  {
   "cell_type": "code",
   "execution_count": 276,
   "metadata": {},
   "outputs": [
    {
     "data": {
      "text/plain": [
       "array([0.])"
      ]
     },
     "execution_count": 276,
     "metadata": {},
     "output_type": "execute_result"
    }
   ],
   "source": [
    "unregularized_model_intercept_false.named_steps['model'].intercept_"
   ]
  },
  {
   "cell_type": "markdown",
   "metadata": {},
   "source": [
    "The model also has a variable called `intercept_`, but it's equal to zero. This is because we set `fit_intercept = False`. Note that even though the `intercept_` is zero, we actually do have an intercept of 0.51 because of the bias feature we created that is always equal to 1."
   ]
  },
  {
   "cell_type": "markdown",
   "metadata": {},
   "source": [
    "Thus, our model makes a prediction equal to $\\sigma(0 - 0.51 \\times 1 - 0.009 \\times \\text{fare} - 0.478 \\times \\text{age} - 1.06 \\times \\text{pclass} + 1.196 \\times \\text{sex}$."
   ]
  },
  {
   "cell_type": "markdown",
   "metadata": {},
   "source": [
    "Let's see what happens when we set `fit_intercept = True`."
   ]
  },
  {
   "cell_type": "code",
   "execution_count": 277,
   "metadata": {},
   "outputs": [],
   "source": [
    "unregularized_model_intercept_true = Pipeline([        \n",
    "    ('scale', StandardScaler()),        \n",
    "    ('poly', PolynomialFeatures(degree=1)),\n",
    "    ('model', LogisticRegression(fit_intercept=True, penalty = 'none'))\n",
    "])   \n",
    "unregularized_model_intercept_true.fit(p3_train[[\"fare\", \"age\", \"pclass\",  \"sex\"]], \n",
    "                                       p3_train[\"survived\"]);"
   ]
  },
  {
   "cell_type": "code",
   "execution_count": 278,
   "metadata": {},
   "outputs": [
    {
     "data": {
      "text/plain": [
       "array([[-0.25602854, -0.00927195, -0.47776545, -1.06434099,  1.19627759]])"
      ]
     },
     "execution_count": 278,
     "metadata": {},
     "output_type": "execute_result"
    }
   ],
   "source": [
    "unregularized_model_intercept_true.named_steps[\"model\"].coef_"
   ]
  },
  {
   "cell_type": "markdown",
   "metadata": {},
   "source": [
    "This time, we see that our model is exactly the same, except that the weight of our bias feature is only -0.256. However, if we look at our `intercept_`, we see that it is also -0.256. Effectively, we have two redundant intercepts which, when added, are equal to 0.51."
   ]
  },
  {
   "cell_type": "code",
   "execution_count": 279,
   "metadata": {},
   "outputs": [
    {
     "data": {
      "text/plain": [
       "array([-0.25602854])"
      ]
     },
     "execution_count": 279,
     "metadata": {},
     "output_type": "execute_result"
    }
   ],
   "source": [
    "unregularized_model_intercept_true.named_steps[\"model\"].intercept_"
   ]
  },
  {
   "cell_type": "markdown",
   "metadata": {},
   "source": [
    "In other words:\n",
    "\n",
    "`unregularized_model_intercept_false` was equal to $\\sigma(0 - 0.51 \\times 1 - 0.009 \\times \\text{fare} - 0.478 \\times \\text{age} - 1.06 \\times \\text{pclass} + 1.196 \\times \\text{sex}$\n",
    "\n",
    "and `unreularized_model_intercept_true` was equal to $\\sigma(0.256 - 0.256 \\times 1 - 0.009 \\times \\text{fare} - 0.478 \\times \\text{age} - 1.06 \\times \\text{pclass} + 1.196 \\times \\text{sex}$"
   ]
  },
  {
   "cell_type": "markdown",
   "metadata": {},
   "source": [
    "There is no difference between these models. However, things get more complicated when we have a regularized model. To understand why, let's see what happens when we remove `penalty = 'none'`, and let's pick a very small `C`."
   ]
  },
  {
   "cell_type": "code",
   "execution_count": 280,
   "metadata": {},
   "outputs": [],
   "source": [
    "tiny_c_model_intercept_true = Pipeline([        \n",
    "    ('scale', StandardScaler()),        \n",
    "    ('poly', PolynomialFeatures(degree=1)),\n",
    "    ('model', LogisticRegression(fit_intercept=True, C = 1e-7))\n",
    "])   \n",
    "tiny_c_model_intercept_true.fit(p3_train[[\"fare\", \"age\", \"pclass\",  \"sex\"]], \n",
    "                                p3_train[\"survived\"]);"
   ]
  },
  {
   "cell_type": "markdown",
   "metadata": {},
   "source": [
    "As you'd expect, the thetas generated by our model are very small, because `C` is very small."
   ]
  },
  {
   "cell_type": "code",
   "execution_count": 281,
   "metadata": {
    "scrolled": true
   },
   "outputs": [
    {
     "data": {
      "text/plain": [
       "array([[ 1.49126451e-13,  7.51210438e-06, -2.65108958e-06,\n",
       "        -1.03239147e-05,  1.56655731e-05]])"
      ]
     },
     "execution_count": 281,
     "metadata": {},
     "output_type": "execute_result"
    }
   ],
   "source": [
    "tiny_c_model_intercept_true.named_steps[\"model\"].coef_"
   ]
  },
  {
   "cell_type": "markdown",
   "metadata": {},
   "source": [
    "However, the `intercept_` is NOT regularized. As you can see below, the `intercept_` is -0.377, which is enormous compared to our other coefficients."
   ]
  },
  {
   "cell_type": "code",
   "execution_count": 282,
   "metadata": {
    "scrolled": true
   },
   "outputs": [
    {
     "data": {
      "text/plain": [
       "array([-0.37776248])"
      ]
     },
     "execution_count": 282,
     "metadata": {},
     "output_type": "execute_result"
    }
   ],
   "source": [
    "tiny_c_model_intercept_true.named_steps[\"model\"].intercept_"
   ]
  },
  {
   "cell_type": "markdown",
   "metadata": {},
   "source": [
    "In effect, we have two intercepts, one of which is subject to regularization (and is almost equal to 0), and one of which is not."
   ]
  },
  {
   "cell_type": "markdown",
   "metadata": {},
   "source": [
    "Common convention in machine learning is to include an unregularized intercept. This gives your model additional freedom to select an intercept which minimizes the cross entropy loss.\n",
    "\n",
    "**Bottom line:** I recommend always setting `fit_intercept = True` when using a regularized model."
   ]
  },
  {
   "cell_type": "markdown",
   "metadata": {},
   "source": [
    "We can compare the performance of a model with regularized and unregularized intercept using the `log_loss`."
   ]
  },
  {
   "cell_type": "code",
   "execution_count": 283,
   "metadata": {},
   "outputs": [],
   "source": [
    "tiny_c_model_intercept_false = Pipeline([        \n",
    "    ('scale', StandardScaler()),        \n",
    "    ('poly', PolynomialFeatures(degree=1)),\n",
    "    ('model', LogisticRegression(fit_intercept=False, C = 1e-7))\n",
    "])   \n",
    "tiny_c_model_intercept_false.fit(p3_train[[\"fare\", \"age\", \"pclass\",  \"sex\"]], \n",
    "                                 p3_train[\"survived\"]);"
   ]
  },
  {
   "cell_type": "code",
   "execution_count": 284,
   "metadata": {
    "scrolled": true
   },
   "outputs": [
    {
     "data": {
      "text/plain": [
       "array([0.])"
      ]
     },
     "execution_count": 284,
     "metadata": {},
     "output_type": "execute_result"
    }
   ],
   "source": [
    "tiny_c_model_intercept_false.named_steps[\"model\"].intercept_"
   ]
  },
  {
   "cell_type": "code",
   "execution_count": 285,
   "metadata": {},
   "outputs": [
    {
     "data": {
      "text/plain": [
       "array([[-5.59991600e-06,  7.51223534e-06, -2.65118506e-06,\n",
       "        -1.03236932e-05,  1.56656209e-05]])"
      ]
     },
     "execution_count": 285,
     "metadata": {},
     "output_type": "execute_result"
    }
   ],
   "source": [
    "tiny_c_model_intercept_false.named_steps[\"model\"].coef_"
   ]
  },
  {
   "cell_type": "markdown",
   "metadata": {},
   "source": [
    "We see that cross entropy loss is slightly better when we include an unregularized intercept. We will explore this more fully on hw6."
   ]
  },
  {
   "cell_type": "code",
   "execution_count": 286,
   "metadata": {},
   "outputs": [
    {
     "data": {
      "text/plain": [
       "0.6756154189994156"
      ]
     },
     "execution_count": 286,
     "metadata": {},
     "output_type": "execute_result"
    }
   ],
   "source": [
    "log_loss(p3_train[\"survived\"],\n",
    "         tiny_c_model_intercept_true.predict_proba(p3_train[[\"fare\", \"age\", \"pclass\",  \"sex\"]]))"
   ]
  },
  {
   "cell_type": "code",
   "execution_count": 287,
   "metadata": {},
   "outputs": [
    {
     "data": {
      "text/plain": [
       "0.693139733620562"
      ]
     },
     "execution_count": 287,
     "metadata": {},
     "output_type": "execute_result"
    }
   ],
   "source": [
    "log_loss(p3_train[\"survived\"],\n",
    "         tiny_c_model_intercept_false.predict_proba(p3_train[[\"fare\", \"age\", \"pclass\",  \"sex\"]]))"
   ]
  }
 ],
 "metadata": {
  "kernelspec": {
   "display_name": "Python 3",
   "language": "python",
   "name": "python3"
  },
  "language_info": {
   "codemirror_mode": {
    "name": "ipython",
    "version": 3
   },
   "file_extension": ".py",
   "mimetype": "text/x-python",
   "name": "python",
   "nbconvert_exporter": "python",
   "pygments_lexer": "ipython3",
   "version": "3.6.4"
  }
 },
 "nbformat": 4,
 "nbformat_minor": 2
}
